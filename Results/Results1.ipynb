{
 "cells": [
  {
   "cell_type": "markdown",
   "id": "29e5069c",
   "metadata": {},
   "source": [
    "### Manual scoring results"
   ]
  },
  {
   "cell_type": "code",
   "execution_count": 1,
   "id": "1d02370f",
   "metadata": {},
   "outputs": [],
   "source": [
    "from LoadData import LoadData\n",
    "from FilterBasic import Filter\n",
    "from FrequencyDomainFeatures import FrequencyDomainFeatures\n",
    "from TimeDomainFeatures import TimeDomainFeatures\n",
    "from FeaturesData import FeaturesData"
   ]
  },
  {
   "cell_type": "code",
   "execution_count": 194,
   "id": "5fb12e09",
   "metadata": {},
   "outputs": [],
   "source": [
    "import pandas as pd\n",
    "import numpy as np\n",
    "from sklearn.naive_bayes import GaussianNB\n",
    "from sklearn.preprocessing import StandardScaler \n",
    "from sklearn.preprocessing import MinMaxScaler \n",
    "from sklearn.naive_bayes import ComplementNB\n",
    "from sklearn.model_selection import GridSearchCV\n",
    "from sklearn.ensemble import RandomForestClassifier\n",
    "import time\n",
    "from sklearn.model_selection import cross_validate\n",
    "from sklearn.model_selection import cross_val_score\n",
    "from sklearn.metrics import balanced_accuracy_score\n",
    "from sklearn.metrics import roc_auc_score\n",
    "from sklearn import metrics\n",
    "import matplotlib.pyplot as plt\n",
    "from sklearn.metrics import precision_recall_fscore_support\n",
    "from sklearn.metrics import multilabel_confusion_matrix\n",
    "from sklearn.metrics import classification_report"
   ]
  },
  {
   "cell_type": "markdown",
   "id": "59dc08e0",
   "metadata": {},
   "source": [
    "- relativePower = False\n",
    "- removeNoise = True\n",
    "- applyPCA = False \n",
    "\n",
    "Train/Validation animals = ['S7074', 'S7072', 'S7071', 'S7070', 'S7069', 'S7068', 'S7064']  \n",
    "Baseline 1"
   ]
  },
  {
   "cell_type": "code",
   "execution_count": 5,
   "id": "2c44c106",
   "metadata": {},
   "outputs": [],
   "source": [
    "directory = \"/Volumes/Macintosh HD/Users/gokceuzun/Desktop/4. SENE/Honors Project\"\n",
    "filename = \"S7074_WT.npy\"\n",
    "data = LoadData(directory=directory, filename=filename, start=35862289, end=57496848)\n",
    "unfiltered_data = data.get_dat()\n",
    "unfiltered_data = data.slice_data(unfiltered_data)\n",
    "\n",
    "fltr_instance = Filter(unfiltered_data, channels=[3,12,5,9,4,11,1])\n",
    "\n",
    "features = FeaturesData(\n",
    "    fltr_instance,\n",
    "    relativePower=False,\n",
    "    removeNoise=True,\n",
    "    applyPCA=False,\n",
    "    brainstatefile=\"S7074_BL1.npy\")\n",
    "\n",
    "animal = ['S7074' for i in range(len(features))]\n",
    "features['animal'] = animal\n",
    "\n",
    "Xy_S7074 = features"
   ]
  },
  {
   "cell_type": "code",
   "execution_count": 15,
   "id": "8653a7ec",
   "metadata": {},
   "outputs": [],
   "source": [
    "filename = \"S7072_GAP.npy\"\n",
    "data = LoadData(directory=directory, filename=filename, start=16481329, end=38115888)\n",
    "unfiltered_data = data.get_dat()\n",
    "unfiltered_data = data.slice_data(unfiltered_data)\n",
    "\n",
    "fltr_instance = Filter(unfiltered_data, channels=[3,12,5,9,4,11,1])\n",
    "\n",
    "features = FeaturesData(\n",
    "    fltr_instance,\n",
    "    relativePower=False,\n",
    "    removeNoise=True,\n",
    "    applyPCA=False,\n",
    "    brainstatefile=\"S7072_BL1.npy\")\n",
    "\n",
    "animal = ['S7072' for i in range(len(features))]\n",
    "features['animal'] = animal\n",
    "\n",
    "Xy_S7072 = features"
   ]
  },
  {
   "cell_type": "code",
   "execution_count": 16,
   "id": "ea4b95cc",
   "metadata": {},
   "outputs": [],
   "source": [
    "filename = \"S7071_WT.npy\"\n",
    "data = LoadData(directory=directory, filename=filename, start=16481329, end=38115888)\n",
    "unfiltered_data = data.get_dat()\n",
    "unfiltered_data = data.slice_data(unfiltered_data)\n",
    "\n",
    "fltr_instance = Filter(unfiltered_data, channels=[3,12,5,9,4,11,1])\n",
    "\n",
    "features = FeaturesData(\n",
    "    fltr_instance,\n",
    "    relativePower=False,\n",
    "    removeNoise=True,\n",
    "    applyPCA=False,\n",
    "    brainstatefile=\"S7071_BL1.npy\")\n",
    "\n",
    "animal = ['S7071' for i in range(len(features))]\n",
    "features['animal'] = animal\n",
    "\n",
    "Xy_S7071 = features"
   ]
  },
  {
   "cell_type": "code",
   "execution_count": 17,
   "id": "2f8bbb8f",
   "metadata": {},
   "outputs": [],
   "source": [
    "filename = \"S7064_GAP.npy\"\n",
    "data = LoadData(directory=directory, filename=filename, start=15324481, end=36959040)\n",
    "unfiltered_data = data.get_dat()\n",
    "unfiltered_data = data.slice_data(unfiltered_data)\n",
    "\n",
    "fltr_instance = Filter(unfiltered_data, channels=[3,12,5,9,4,11,1])\n",
    "\n",
    "features = FeaturesData(\n",
    "    fltr_instance,\n",
    "    relativePower=False,\n",
    "    removeNoise=True,\n",
    "    applyPCA=False,\n",
    "    brainstatefile=\"S7064_BL1.npy\")\n",
    "\n",
    "animal = ['S7064' for i in range(len(features))]\n",
    "features['animal'] = animal\n",
    "\n",
    "Xy_S7064 = features"
   ]
  },
  {
   "cell_type": "code",
   "execution_count": 18,
   "id": "bfb3cbf6",
   "metadata": {},
   "outputs": [],
   "source": [
    "filename = \"S7069_GAP.npy\"\n",
    "data = LoadData(directory=directory, filename=filename, start=12214513, end=33849072)\n",
    "unfiltered_data = data.get_dat()\n",
    "unfiltered_data = data.slice_data(unfiltered_data)\n",
    "\n",
    "fltr_instance = Filter(unfiltered_data, channels=[3,12,5,9,4,11,1])\n",
    "\n",
    "features = FeaturesData(\n",
    "    fltr_instance,\n",
    "    relativePower=False,\n",
    "    removeNoise=True,\n",
    "    applyPCA=False,\n",
    "    brainstatefile=\"S7069_BL1.npy\")\n",
    "\n",
    "animal = ['S7069' for i in range(len(features))]\n",
    "features['animal'] = animal\n",
    "\n",
    "Xy_S7069 = features"
   ]
  },
  {
   "cell_type": "code",
   "execution_count": 19,
   "id": "c37c4519",
   "metadata": {},
   "outputs": [],
   "source": [
    "filename = \"S7068_WT.npy\"\n",
    "data = LoadData(directory=directory, filename=filename, start=12214513, end=33849072)\n",
    "unfiltered_data = data.get_dat()\n",
    "unfiltered_data = data.slice_data(unfiltered_data)\n",
    "\n",
    "fltr_instance = Filter(unfiltered_data, channels=[3,12,5,9,4,11,1])\n",
    "\n",
    "features = FeaturesData(\n",
    "    fltr_instance,\n",
    "    relativePower=False,\n",
    "    removeNoise=True,\n",
    "    applyPCA=False,\n",
    "    brainstatefile=\"S7068_BL1.npy\")\n",
    "\n",
    "animal = ['S7068' for i in range(len(features))]\n",
    "features['animal'] = animal\n",
    "\n",
    "Xy_S7068 = features"
   ]
  },
  {
   "cell_type": "code",
   "execution_count": 20,
   "id": "faed64b8",
   "metadata": {},
   "outputs": [],
   "source": [
    "filename = \"S7070_WT.npy\"\n",
    "data = LoadData(directory=directory, filename=filename, start=16481329, end=38115888)\n",
    "unfiltered_data = data.get_dat()\n",
    "unfiltered_data = data.slice_data(unfiltered_data)\n",
    "\n",
    "fltr_instance = Filter(unfiltered_data, channels=[3,12,5,9,4,11,1])\n",
    "\n",
    "features = FeaturesData(\n",
    "    fltr_instance,\n",
    "    relativePower=False,\n",
    "    removeNoise=True,\n",
    "    applyPCA=False,\n",
    "    brainstatefile=\"S7070_BL1.npy\")\n",
    "\n",
    "animal = ['S7070' for i in range(len(features))]\n",
    "features['animal'] = animal\n",
    "\n",
    "Xy_S7070 = features"
   ]
  },
  {
   "cell_type": "markdown",
   "id": "a4451b1c",
   "metadata": {},
   "source": [
    "Test = ['S7075', 'S7063']"
   ]
  },
  {
   "cell_type": "code",
   "execution_count": 21,
   "id": "e1dd25e8",
   "metadata": {},
   "outputs": [],
   "source": [
    "filename = \"S7075_GAP.npy\"\n",
    "data = LoadData(directory=directory, filename=filename, start=14227729, end=35862288)\n",
    "unfiltered_data = data.get_dat()\n",
    "unfiltered_data = data.slice_data(unfiltered_data)\n",
    "\n",
    "fltr_instance = Filter(unfiltered_data, channels=[3,12,5,9,4,11,1])\n",
    "\n",
    "features = FeaturesData(\n",
    "    fltr_instance,\n",
    "    relativePower=False,\n",
    "    removeNoise=True,\n",
    "    applyPCA=False,\n",
    "    brainstatefile=\"S7075_BL1.npy\")\n",
    "\n",
    "animal = ['S7075' for i in range(len(features))]\n",
    "features['animal'] = animal\n",
    "\n",
    "Xy_S7075 = features"
   ]
  },
  {
   "cell_type": "code",
   "execution_count": 22,
   "id": "801b7a18",
   "metadata": {},
   "outputs": [],
   "source": [
    "filename = \"S7063_GAP.npy\"\n",
    "data = LoadData(directory=directory, filename=filename, start=15324481, end=36959040)\n",
    "unfiltered_data = data.get_dat()\n",
    "unfiltered_data = data.slice_data(unfiltered_data)\n",
    "\n",
    "fltr_instance = Filter(unfiltered_data, channels=[3,12,5,9,4,11,1])\n",
    "\n",
    "features = FeaturesData(\n",
    "    fltr_instance,\n",
    "    relativePower=False,\n",
    "    removeNoise=True,\n",
    "    applyPCA=False,\n",
    "    brainstatefile=\"S7063_BL1.npy\")\n",
    "\n",
    "animal = ['S7063' for i in range(len(features))]\n",
    "features['animal'] = animal\n",
    "\n",
    "Xy_S7063 = features"
   ]
  },
  {
   "cell_type": "markdown",
   "id": "d63b064a",
   "metadata": {},
   "source": [
    "## First two classes"
   ]
  },
  {
   "cell_type": "code",
   "execution_count": 33,
   "id": "9406000f",
   "metadata": {},
   "outputs": [],
   "source": [
    "Xy1 = pd.concat([Xy_S7074, Xy_S7072, Xy_S7071, Xy_S7070, Xy_S7069, Xy_S7068, Xy_S7064], axis=0)\n",
    "Xy1 = Xy1.loc[(Xy1['brainstate'] != 2) & (Xy1['brainstate'] != 4)].reset_index() # disregard seizure and rem\n",
    "\n",
    "groups_train1 = Xy1.animal\n",
    "y_train1 = Xy1.brainstate.astype('int')\n",
    "X_train1 = Xy1.loc[:, ~Xy1.columns.isin(['animal', 'brainstate', 'index'])]"
   ]
  },
  {
   "cell_type": "code",
   "execution_count": 34,
   "id": "5aae485f",
   "metadata": {},
   "outputs": [],
   "source": [
    "Xy_test1 = pd.concat([Xy_S7075, Xy_S7063], axis=0)\n",
    "\n",
    "Xy_test1 = Xy_test1.loc[(Xy_test1['brainstate'] != 4) & (Xy_test1['brainstate'] != 2)].reset_index() # disregard seizure and rem\n",
    "\n",
    "groups_test1 = Xy_test1.animal\n",
    "y_test1 = Xy_test1.brainstate.astype('int')\n",
    "X_test1 = Xy_test1.loc[:, ~Xy_test1.columns.isin(['animal', 'brainstate', 'index'])]"
   ]
  },
  {
   "cell_type": "markdown",
   "id": "058a482f",
   "metadata": {},
   "source": [
    "### Naive Bayes\n",
    "#### GAUSSIAN NAIVE BAYES"
   ]
  },
  {
   "cell_type": "code",
   "execution_count": 42,
   "id": "03a8caf0",
   "metadata": {},
   "outputs": [
    {
     "data": {
      "text/plain": [
       "{'fit_time': array([0.20759702, 0.31295395, 0.29578209, 0.29081702, 0.27427387]),\n",
       " 'score_time': array([0.03317809, 0.04177904, 0.03814888, 0.04644203, 0.04438019]),\n",
       " 'test_score': array([0.47483171, 0.46810007, 0.45516202, 0.45867872, 0.46787239]),\n",
       " 'train_score': array([0.46277992, 0.47388252, 0.46650423, 0.45999849, 0.46374118])}"
      ]
     },
     "execution_count": 42,
     "metadata": {},
     "output_type": "execute_result"
    }
   ],
   "source": [
    "cross_validate(GaussianNB(), X_train1, y_train1, cv=5, scoring='accuracy', \n",
    "               groups=groups_train1, n_jobs=-1, return_train_score=True)"
   ]
  },
  {
   "cell_type": "code",
   "execution_count": 43,
   "id": "cfed5f58",
   "metadata": {},
   "outputs": [
    {
     "name": "stdout",
     "output_type": "stream",
     "text": [
      "Accuracy: 0.42287498226195547\n",
      "Execution time: 0.23643898963928223\n"
     ]
    }
   ],
   "source": [
    "gnb = GaussianNB()\n",
    "start = time.time()\n",
    "gnb.fit(X_train1, y_train1)\n",
    "accuracy = gnb.score(X_test1, y_test1) # Baseline\n",
    "end = time.time()\n",
    "\n",
    "print(\"Accuracy: \" + str(accuracy))\n",
    "print(\"Execution time: \" + str(end-start))"
   ]
  },
  {
   "cell_type": "code",
   "execution_count": 44,
   "id": "36e5b41d",
   "metadata": {},
   "outputs": [
    {
     "data": {
      "text/plain": [
       "{'fit_time': array([0.32675719, 0.33604097, 0.33738804, 0.34319806, 0.36526418]),\n",
       " 'score_time': array([0.04215598, 0.04807615, 0.05151486, 0.05448389, 0.05595398]),\n",
       " 'test_score': array([0.48251783, 0.47749422, 0.45742276, 0.46119066, 0.47053504]),\n",
       " 'train_score': array([0.46628402, 0.48283744, 0.47000829, 0.46414308, 0.46769737])}"
      ]
     },
     "execution_count": 44,
     "metadata": {},
     "output_type": "execute_result"
    }
   ],
   "source": [
    "# Standardize data mean=0 and stdev=1\n",
    "stand_scaler = StandardScaler()\n",
    "stand_X_train1 = stand_scaler.fit_transform(X_train1)\n",
    "stand_X_test1 = stand_scaler.transform(X_test1)\n",
    "\n",
    "cross_validate(GaussianNB(), stand_X_train1, y_train1, cv=5, scoring='accuracy', \n",
    "               groups=groups_train1, n_jobs=-1, return_train_score=True)"
   ]
  },
  {
   "cell_type": "code",
   "execution_count": 45,
   "id": "b9f2af4f",
   "metadata": {},
   "outputs": [
    {
     "name": "stdout",
     "output_type": "stream",
     "text": [
      "Accuracy: 0.42564211721299844\n",
      "Execution time: 0.23202300071716309\n"
     ]
    }
   ],
   "source": [
    "gnb = GaussianNB()\n",
    "start = time.time()\n",
    "gnb.fit(stand_X_train1, y_train1)\n",
    "accuracy = gnb.score(stand_X_test1, y_test1) # Standardized\n",
    "end = time.time()\n",
    "\n",
    "print(\"Accuracy: \" + str(accuracy))\n",
    "print(\"Execution time: \" + str(end-start))"
   ]
  },
  {
   "cell_type": "code",
   "execution_count": 46,
   "id": "14fd2ea6",
   "metadata": {},
   "outputs": [
    {
     "data": {
      "text/plain": [
       "{'fit_time': array([0.36662674, 0.36690593, 0.34495401, 0.37214804, 0.3856051 ]),\n",
       " 'score_time': array([0.04745603, 0.05417609, 0.04778504, 0.06007099, 0.04597092]),\n",
       " 'test_score': array([0.48256807, 0.47749422, 0.45742276, 0.46119066, 0.47053504]),\n",
       " 'train_score': array([0.46628402, 0.48283744, 0.47000829, 0.46414308, 0.46769737])}"
      ]
     },
     "execution_count": 46,
     "metadata": {},
     "output_type": "execute_result"
    }
   ],
   "source": [
    "# Normalize data between 0 and 1\n",
    "norm_scaler = MinMaxScaler()\n",
    "norm_X_train1 = norm_scaler.fit_transform(X_train1)\n",
    "norm_X_test1 = norm_scaler.transform(X_test1)\n",
    "\n",
    "cross_validate(GaussianNB(), norm_X_train1, y_train1, cv=5, scoring='accuracy', \n",
    "               groups=groups_train1, n_jobs=-1, return_train_score=True)"
   ]
  },
  {
   "cell_type": "code",
   "execution_count": 47,
   "id": "a261b4b1",
   "metadata": {},
   "outputs": [
    {
     "name": "stdout",
     "output_type": "stream",
     "text": [
      "Accuracy: 0.42564211721299844\n",
      "Execution time: 0.23267102241516113\n"
     ]
    }
   ],
   "source": [
    "gnb = GaussianNB()\n",
    "start = time.time()\n",
    "gnb.fit(norm_X_train1, y_train1)\n",
    "accuracy = gnb.score(norm_X_test1, y_test1) # Normalized\n",
    "end = time.time()\n",
    "\n",
    "print(\"Accuracy: \" + str(accuracy))\n",
    "print(\"Execution time: \" + str(end-start))"
   ]
  },
  {
   "cell_type": "code",
   "execution_count": 48,
   "id": "6f0fd636",
   "metadata": {},
   "outputs": [],
   "source": [
    "# Standardized and normalized data performed the same, greater accuracy compared to baseline Gaussian."
   ]
  },
  {
   "cell_type": "markdown",
   "id": "21bb44a8",
   "metadata": {},
   "source": [
    "#### COMPLEMENT NAIVE BAYES"
   ]
  },
  {
   "cell_type": "code",
   "execution_count": 49,
   "id": "822e7091",
   "metadata": {},
   "outputs": [
    {
     "data": {
      "text/plain": [
       "{'fit_time': array([0.2013576 , 0.20280671, 0.1999259 , 0.19372678, 0.19509983]),\n",
       " 'score_time': array([0.00963211, 0.01119304, 0.01148295, 0.01205015, 0.01237512]),\n",
       " 'test_score': array([0.64382598, 0.70958505, 0.69675961, 0.62617433, 0.59718664]),\n",
       " 'train_score': array([0.66439758, 0.64410143, 0.64347793, 0.66482882, 0.67899575])}"
      ]
     },
     "execution_count": 49,
     "metadata": {},
     "output_type": "execute_result"
    }
   ],
   "source": [
    "cross_validate(ComplementNB(), norm_X_train1, y_train1, cv=5, scoring='accuracy', \n",
    "               groups=groups_train1, n_jobs=-1, return_train_score=True)"
   ]
  },
  {
   "cell_type": "code",
   "execution_count": 50,
   "id": "39501a5f",
   "metadata": {},
   "outputs": [
    {
     "name": "stdout",
     "output_type": "stream",
     "text": [
      "Accuracy: 0.7139917695473251\n",
      "Execution time: 0.04318690299987793\n"
     ]
    }
   ],
   "source": [
    "cnb = ComplementNB()\n",
    "start = time.time()\n",
    "cnb.fit(norm_X_train1, y_train1)\n",
    "accuracy = cnb.score(norm_X_test1, y_test1) # Baseline\n",
    "end = time.time()\n",
    "\n",
    "print(\"Accuracy: \" + str(accuracy))\n",
    "print(\"Execution time: \" + str(end-start))"
   ]
  },
  {
   "cell_type": "code",
   "execution_count": 51,
   "id": "84f5df73",
   "metadata": {},
   "outputs": [],
   "source": [
    "# Complement Naive Bayes performed better than Gaussian Naive Bayes - imbalanced classes.\n",
    "# Performed on normalized data. "
   ]
  },
  {
   "cell_type": "markdown",
   "id": "1ea7745d",
   "metadata": {},
   "source": [
    "##### Hyperparameter Tuning"
   ]
  },
  {
   "cell_type": "code",
   "execution_count": 349,
   "id": "05bc0d2b",
   "metadata": {},
   "outputs": [
    {
     "data": {
      "text/plain": [
       "{'alpha': 300,\n",
       " 'class_prior': [0.0002, 5e-05],\n",
       " 'fit_prior': True,\n",
       " 'force_alpha': True,\n",
       " 'norm': False}"
      ]
     },
     "execution_count": 349,
     "metadata": {},
     "output_type": "execute_result"
    }
   ],
   "source": [
    "param_grid = dict()\n",
    "param_grid['alpha'] = [120, 130, 150, 200, 300, 350, 400, 305]\n",
    "param_grid['fit_prior'] = [True, False]\n",
    "param_grid['class_prior'] = [[0.0002,0.00005], [2,0.5], [0.0002,3e-05], [0.0001,5e-05], [0.0003,5e-05]]\n",
    "param_grid['force_alpha'] = [True, False]\n",
    "param_grid['norm'] = [True, False]\n",
    "\n",
    "start = time.time()\n",
    "grd1 = GridSearchCV(ComplementNB(), param_grid, scoring='accuracy', n_jobs=-1, cv=5) # 5-fold stratified cv\n",
    "grd1.fit(norm_X_train1, y_train1)\n",
    "end = time.time()\n",
    "\n",
    "grd1.best_params_"
   ]
  },
  {
   "cell_type": "code",
   "execution_count": 350,
   "id": "af22c074",
   "metadata": {},
   "outputs": [
    {
     "name": "stdout",
     "output_type": "stream",
     "text": [
      "Hyperparameter tuning computation time: 59.98082518577576\n"
     ]
    }
   ],
   "source": [
    "print(\"Hyperparameter tuning computation time: \" + str(end-start))"
   ]
  },
  {
   "cell_type": "code",
   "execution_count": 351,
   "id": "2a88b475",
   "metadata": {},
   "outputs": [
    {
     "data": {
      "text/plain": [
       "{'fit_time': array([0.17424607, 0.17661214, 0.17770004, 0.17733574, 0.17350602]),\n",
       " 'score_time': array([0.01296282, 0.01050186, 0.00834084, 0.0089643 , 0.00799608]),\n",
       " 'test_score': array([0.65839445, 0.72083794, 0.72107511, 0.65380558, 0.63506657]),\n",
       " 'train_score': array([0.68336243, 0.66932091, 0.67075683, 0.68719701, 0.68945769])}"
      ]
     },
     "execution_count": 351,
     "metadata": {},
     "output_type": "execute_result"
    }
   ],
   "source": [
    "# Evaluation of the model\n",
    "cross_validate(grd1.best_estimator_, norm_X_train1, y_train1, cv=5, scoring='accuracy', \n",
    "               groups=groups_train1, n_jobs=-1, return_train_score=True)"
   ]
  },
  {
   "cell_type": "code",
   "execution_count": 352,
   "id": "ae52a67b",
   "metadata": {},
   "outputs": [
    {
     "name": "stdout",
     "output_type": "stream",
     "text": [
      "Accuracy: 0.7416276429686391\n",
      "Execution time: 0.04653501510620117\n"
     ]
    }
   ],
   "source": [
    "cnb1 = grd1.best_estimator_\n",
    "start = time.time()\n",
    "cnb1.fit(norm_X_train1, y_train1)\n",
    "accuracy = cnb1.score(norm_X_test1, y_test1)\n",
    "end = time.time()\n",
    "\n",
    "print(\"Accuracy: \" + str(accuracy))\n",
    "print(\"Execution time: \" + str(end-start))"
   ]
  },
  {
   "cell_type": "code",
   "execution_count": 383,
   "id": "613b6176",
   "metadata": {},
   "outputs": [],
   "source": [
    "# Increased from 0.7139917695473251"
   ]
  },
  {
   "cell_type": "markdown",
   "id": "edcc7a33",
   "metadata": {},
   "source": [
    "### Random Forest"
   ]
  },
  {
   "cell_type": "code",
   "execution_count": 353,
   "id": "3d1ff01a",
   "metadata": {},
   "outputs": [
    {
     "data": {
      "text/plain": [
       "{'fit_time': array([112.57677889, 112.98176312, 110.79057598, 115.08217096,\n",
       "        112.52134085]),\n",
       " 'score_time': array([0.4825089 , 0.45892096, 0.53324509, 0.42759514, 0.46329403]),\n",
       " 'test_score': array([0.73098563, 0.66994876, 0.74760111, 0.48726451, 0.55609143]),\n",
       " 'train_score': array([1.        , 0.99998744, 0.99998744, 0.99997488, 0.99998744])}"
      ]
     },
     "execution_count": 353,
     "metadata": {},
     "output_type": "execute_result"
    }
   ],
   "source": [
    "cross_validate(RandomForestClassifier(random_state=42), X_train1, y_train1, cv=5, scoring='accuracy', \n",
    "               groups=groups_train1, n_jobs=-1, return_train_score=True)"
   ]
  },
  {
   "cell_type": "code",
   "execution_count": 354,
   "id": "05c34434",
   "metadata": {},
   "outputs": [
    {
     "name": "stdout",
     "output_type": "stream",
     "text": [
      "Accuracy: 0.737831701433234\n",
      "Execution time: 97.71651792526245\n"
     ]
    }
   ],
   "source": [
    "rf = RandomForestClassifier(random_state=42)\n",
    "start = time.time()\n",
    "rf.fit(X_train1, y_train1)\n",
    "accuracy = rf.score(X_test1, y_test1) # Baseline\n",
    "end = time.time()\n",
    "\n",
    "print(\"Accuracy: \" + str(accuracy))\n",
    "print(\"Execution time: \" + str(end-start))"
   ]
  },
  {
   "cell_type": "code",
   "execution_count": 355,
   "id": "588c4364",
   "metadata": {},
   "outputs": [
    {
     "data": {
      "text/plain": [
       "{'fit_time': array([94.10213375, 92.07770228, 91.69428802, 93.69028783, 91.41947699]),\n",
       " 'score_time': array([0.35378718, 0.38221884, 0.40373588, 0.42540002, 0.43052292]),\n",
       " 'test_score': array([0.72756958, 0.66577916, 0.74353178, 0.50710877, 0.5456418 ]),\n",
       " 'train_score': array([0.99997488, 0.99998744, 1.        , 0.99997488, 0.99998744])}"
      ]
     },
     "execution_count": 355,
     "metadata": {},
     "output_type": "execute_result"
    }
   ],
   "source": [
    "cross_validate(RandomForestClassifier(random_state=42), norm_X_train1, y_train1, cv=5, scoring='accuracy', \n",
    "               groups=groups_train1, n_jobs=-1, return_train_score=True)"
   ]
  },
  {
   "cell_type": "code",
   "execution_count": 356,
   "id": "2c195530",
   "metadata": {},
   "outputs": [
    {
     "name": "stdout",
     "output_type": "stream",
     "text": [
      "Accuracy: 0.7449269192564212\n",
      "Execution time: 83.95456790924072\n"
     ]
    }
   ],
   "source": [
    "rf = RandomForestClassifier(random_state=42)\n",
    "start = time.time()\n",
    "rf.fit(norm_X_train1, y_train1)\n",
    "accuracy = rf.score(norm_X_test1, y_test1) # Normalized\n",
    "end = time.time()\n",
    "\n",
    "print(\"Accuracy: \" + str(accuracy))\n",
    "print(\"Execution time: \" + str(end-start))"
   ]
  },
  {
   "cell_type": "code",
   "execution_count": 357,
   "id": "450e5dd4",
   "metadata": {},
   "outputs": [
    {
     "data": {
      "text/plain": [
       "{'fit_time': array([100.41760588, 100.87862897,  98.95914602, 102.69497418,\n",
       "        100.81261587]),\n",
       " 'score_time': array([0.41770387, 0.35328507, 0.42978597, 0.36118984, 0.39310908]),\n",
       " 'test_score': array([0.73048327, 0.6694464 , 0.75172067, 0.4844009 , 0.55131876]),\n",
       " 'train_score': array([1.        , 0.99998744, 1.        , 0.99997488, 0.99998744])}"
      ]
     },
     "execution_count": 357,
     "metadata": {},
     "output_type": "execute_result"
    }
   ],
   "source": [
    "cross_validate(RandomForestClassifier(random_state=42), stand_X_train1, y_train1, cv=5, scoring='accuracy', \n",
    "               groups=groups_train1, n_jobs=-1, return_train_score=True)"
   ]
  },
  {
   "cell_type": "code",
   "execution_count": 358,
   "id": "89f2b874",
   "metadata": {},
   "outputs": [
    {
     "name": "stdout",
     "output_type": "stream",
     "text": [
      "Accuracy: 0.7415212147012913\n",
      "Execution time: 95.65084600448608\n"
     ]
    }
   ],
   "source": [
    "rf = RandomForestClassifier(random_state=42)\n",
    "start = time.time()\n",
    "rf.fit(stand_X_train1, y_train1)\n",
    "accuracy = rf.score(stand_X_test1, y_test1) # Standardized\n",
    "end = time.time()\n",
    "\n",
    "print(\"Accuracy: \" + str(accuracy))\n",
    "print(\"Execution time: \" + str(end-start))"
   ]
  },
  {
   "cell_type": "code",
   "execution_count": 106,
   "id": "f9b6f3ed",
   "metadata": {},
   "outputs": [],
   "source": [
    "# Normalized data performed the best for RF. \n",
    "# RF performed better than NB. "
   ]
  },
  {
   "cell_type": "code",
   "execution_count": 359,
   "id": "142ab2c4",
   "metadata": {},
   "outputs": [
    {
     "data": {
      "text/plain": [
       "{'bootstrap': True,\n",
       " 'ccp_alpha': 0.0,\n",
       " 'class_weight': None,\n",
       " 'criterion': 'gini',\n",
       " 'max_depth': None,\n",
       " 'max_features': 'sqrt',\n",
       " 'max_leaf_nodes': None,\n",
       " 'max_samples': None,\n",
       " 'min_impurity_decrease': 0.0,\n",
       " 'min_samples_leaf': 1,\n",
       " 'min_samples_split': 2,\n",
       " 'min_weight_fraction_leaf': 0.0,\n",
       " 'n_estimators': 100,\n",
       " 'n_jobs': None,\n",
       " 'oob_score': False,\n",
       " 'random_state': 42,\n",
       " 'verbose': 0,\n",
       " 'warm_start': False}"
      ]
     },
     "execution_count": 359,
     "metadata": {},
     "output_type": "execute_result"
    }
   ],
   "source": [
    "rf.get_params()"
   ]
  },
  {
   "cell_type": "markdown",
   "id": "4736e427",
   "metadata": {},
   "source": [
    "##### Hyperparameter Tuning"
   ]
  },
  {
   "cell_type": "code",
   "execution_count": 157,
   "id": "00238417",
   "metadata": {},
   "outputs": [
    {
     "data": {
      "text/plain": [
       "{'bootstrap': True,\n",
       " 'class_weight': {0: 0.8, 1: 1.2},\n",
       " 'criterion': 'entropy',\n",
       " 'max_depth': 5,\n",
       " 'max_features': 'sqrt',\n",
       " 'min_samples_leaf': 70,\n",
       " 'n_estimators': 40,\n",
       " 'n_jobs': -1,\n",
       " 'random_state': 10}"
      ]
     },
     "execution_count": 157,
     "metadata": {},
     "output_type": "execute_result"
    }
   ],
   "source": [
    "param_grid = dict()\n",
    "param_grid['n_estimators'] = [40] # 50\n",
    "param_grid['criterion'] = ['entropy']\n",
    "param_grid['max_depth'] = [5]\n",
    "#param_grid['min_samples_split'] = [5]\n",
    "param_grid['min_samples_leaf'] = [70] # 60\n",
    "#param_grid['min_weight_fraction_leaf'] = [0.0, 2.0, 5.0]\n",
    "param_grid['max_features'] = ['sqrt']\n",
    "#param_grid['max_leaf_nodes'] = [2, 5, 10]\n",
    "#param_grid['min_impurity_decrease'] = [0.0, 2.0, 5.0]\n",
    "param_grid['bootstrap'] = [True]\n",
    "#param_grid['oob_score'] = [True, False]\n",
    "param_grid['n_jobs'] = [-1]\n",
    "param_grid['random_state'] = [42]\n",
    "#param_grid['verbose'] = [0, 2, 5]\n",
    "#param_grid['warm_start'] = [True, False]\n",
    "param_grid['class_weight'] = [{0:0.8, 1:1.2}]\n",
    "#param_grid['ccp_alpha'] = [0.0, 2.0]\n",
    "#param_grid['max_samples'] = [100, 10]\n",
    "\n",
    "start = time.time()\n",
    "grd1 = GridSearchCV(RandomForestClassifier(), param_grid, scoring='accuracy', n_jobs=-1, cv=5) # 5-fold stratified cv\n",
    "grd1.fit(norm_X_train1, y_train1)\n",
    "end = time.time()\n",
    "\n",
    "grd1.best_params_"
   ]
  },
  {
   "cell_type": "code",
   "execution_count": 158,
   "id": "58ed1e30",
   "metadata": {},
   "outputs": [
    {
     "name": "stdout",
     "output_type": "stream",
     "text": [
      "Hyperparameter tuning computation time: 14.011017799377441\n"
     ]
    }
   ],
   "source": [
    "print(\"Hyperparameter tuning computation time: \" + str(end-start))"
   ]
  },
  {
   "cell_type": "code",
   "execution_count": 159,
   "id": "76ed34ea",
   "metadata": {},
   "outputs": [
    {
     "data": {
      "text/plain": [
       "{'fit_time': array([11.87910008, 11.88014388, 11.89080906, 11.92995381, 11.89204884]),\n",
       " 'score_time': array([0.04143715, 0.04176617, 0.04593515, 0.06471586, 0.06631613]),\n",
       " 'test_score': array([0.69893499, 0.68828494, 0.73890982, 0.57387591, 0.64285355]),\n",
       " 'train_score': array([0.72975722, 0.71083006, 0.71446334, 0.73496019, 0.74105147])}"
      ]
     },
     "execution_count": 159,
     "metadata": {},
     "output_type": "execute_result"
    }
   ],
   "source": [
    "# Evaluation of the model\n",
    "cross_validate(grd1.best_estimator_, norm_X_train1, y_train1, cv=5, scoring='accuracy', \n",
    "               groups=groups_train1, n_jobs=-1, return_train_score=True)"
   ]
  },
  {
   "cell_type": "code",
   "execution_count": 382,
   "id": "9eb2e7b5",
   "metadata": {},
   "outputs": [
    {
     "name": "stdout",
     "output_type": "stream",
     "text": [
      "Accuracy: 0.7712856534695615\n",
      "Execution time: 23.30828022956848\n"
     ]
    }
   ],
   "source": [
    "rf1 = RandomForestClassifier(random_state=42, min_samples_leaf=60, min_samples_split=4, max_depth=5)\n",
    "start = time.time()\n",
    "rf1.fit(norm_X_train1, y_train1)\n",
    "accuracy = rf1.score(norm_X_test1, y_test1) # Threshold\n",
    "end = time.time()\n",
    "\n",
    "print(\"Accuracy: \" + str(accuracy))\n",
    "print(\"Execution time: \" + str(end-start))"
   ]
  },
  {
   "cell_type": "code",
   "execution_count": 384,
   "id": "489f0756",
   "metadata": {},
   "outputs": [],
   "source": [
    "# Increased from 0.7449269192564212"
   ]
  },
  {
   "cell_type": "markdown",
   "id": "b0b649a0",
   "metadata": {},
   "source": [
    "## Introduce the third class"
   ]
  },
  {
   "cell_type": "code",
   "execution_count": 130,
   "id": "14512772",
   "metadata": {},
   "outputs": [],
   "source": [
    "Xy2 = pd.concat([Xy_S7074, Xy_S7072, Xy_S7071, Xy_S7070, Xy_S7069, Xy_S7068, Xy_S7064], axis=0)\n",
    "Xy2 = Xy2.loc[(Xy2['brainstate'] != 4)].reset_index() # disregard seizure \n",
    "\n",
    "groups_train2 = Xy2.animal\n",
    "y_train2 = Xy2.brainstate.astype('int')\n",
    "X_train2 = Xy2.loc[:, ~Xy2.columns.isin(['animal', 'brainstate', 'index'])]"
   ]
  },
  {
   "cell_type": "code",
   "execution_count": 131,
   "id": "a0463fd1",
   "metadata": {},
   "outputs": [],
   "source": [
    "Xy_test2 = pd.concat([Xy_S7075, Xy_S7063], axis=0)\n",
    "\n",
    "Xy_test2 = Xy_test2.loc[(Xy_test2['brainstate'] != 4)].reset_index() # disregard seizure \n",
    "\n",
    "groups_test2 = Xy_test2.animal\n",
    "y_test2 = Xy_test2.brainstate.astype('int')\n",
    "X_test2 = Xy_test2.loc[:, ~Xy_test2.columns.isin(['animal', 'brainstate', 'index'])]"
   ]
  },
  {
   "cell_type": "markdown",
   "id": "88f884ab",
   "metadata": {},
   "source": [
    "### Naive Bayes\n",
    "#### GAUSSIAN NAIVE BAYES"
   ]
  },
  {
   "cell_type": "code",
   "execution_count": 329,
   "id": "d96d1834",
   "metadata": {},
   "outputs": [
    {
     "data": {
      "text/plain": [
       "{'fit_time': array([0.31612992, 0.35778403, 0.35234618, 0.38211989, 0.44328213]),\n",
       " 'score_time': array([0.07392406, 0.07559514, 0.07202601, 0.07326627, 0.12007785]),\n",
       " 'test_score': array([0.26295511, 0.17116987, 0.30116072, 0.06728315, 0.12165872]),\n",
       " 'train_score': array([0.2351298 , 0.13901966, 0.30685225, 0.09692606, 0.12965215])}"
      ]
     },
     "execution_count": 329,
     "metadata": {},
     "output_type": "execute_result"
    }
   ],
   "source": [
    "cross_validate(GaussianNB(), X_train2, y_train2, cv=5, scoring='accuracy', \n",
    "               groups=groups_train2, n_jobs=-1, return_train_score=True)"
   ]
  },
  {
   "cell_type": "code",
   "execution_count": 330,
   "id": "ec5ce237",
   "metadata": {},
   "outputs": [
    {
     "name": "stdout",
     "output_type": "stream",
     "text": [
      "Accuracy: 0.06571820363387042\n",
      "Execution time: 0.33738088607788086\n"
     ]
    }
   ],
   "source": [
    "gnb = GaussianNB()\n",
    "start = time.time()\n",
    "gnb.fit(X_train2, y_train2)\n",
    "accuracy = gnb.score(X_test2, y_test2) # Baseline\n",
    "end = time.time()\n",
    "\n",
    "print(\"Accuracy: \" + str(accuracy))\n",
    "print(\"Execution time: \" + str(end-start))"
   ]
  },
  {
   "cell_type": "code",
   "execution_count": 331,
   "id": "458309f6",
   "metadata": {},
   "outputs": [
    {
     "data": {
      "text/plain": [
       "{'fit_time': array([0.20252872, 0.27312112, 0.27773595, 0.27593017, 0.20280719]),\n",
       " 'score_time': array([0.03707099, 0.04885197, 0.04958892, 0.05446506, 0.038903  ]),\n",
       " 'test_score': array([0.22847236, 0.1739633 , 0.08861918, 0.07002842, 0.11886529]),\n",
       " 'train_score': array([0.17403554, 0.13714134, 0.1467015 , 0.10101983, 0.12866483])}"
      ]
     },
     "execution_count": 331,
     "metadata": {},
     "output_type": "execute_result"
    }
   ],
   "source": [
    "# Standardize data mean=0 and stdev=1\n",
    "stand_scaler = StandardScaler()\n",
    "stand_X_train2 = stand_scaler.fit_transform(X_train2)\n",
    "stand_X_test2 = stand_scaler.transform(X_test2)\n",
    "\n",
    "cross_validate(GaussianNB(), stand_X_train2, y_train2, cv=5, scoring='accuracy', \n",
    "               groups=groups_train2, n_jobs=-1, return_train_score=True)"
   ]
  },
  {
   "cell_type": "code",
   "execution_count": 332,
   "id": "b886b669",
   "metadata": {},
   "outputs": [
    {
     "name": "stdout",
     "output_type": "stream",
     "text": [
      "Accuracy: 0.06462118615015426\n",
      "Execution time: 0.20661616325378418\n"
     ]
    }
   ],
   "source": [
    "gnb = GaussianNB()\n",
    "start = time.time()\n",
    "gnb.fit(stand_X_train2, y_train2)\n",
    "accuracy = gnb.score(stand_X_test2, y_test2) # Standardized\n",
    "end = time.time()\n",
    "\n",
    "print(\"Accuracy: \" + str(accuracy))\n",
    "print(\"Execution time: \" + str(end-start))"
   ]
  },
  {
   "cell_type": "code",
   "execution_count": 333,
   "id": "9845e2a6",
   "metadata": {},
   "outputs": [
    {
     "data": {
      "text/plain": [
       "{'fit_time': array([0.3826251 , 0.38272095, 0.36793804, 0.36903095, 0.37733293]),\n",
       " 'score_time': array([0.07607007, 0.07548714, 0.08019257, 0.07978916, 0.0975759 ]),\n",
       " 'test_score': array([0.228665  , 0.17401146, 0.08861918, 0.07002842, 0.11891345]),\n",
       " 'train_score': array([0.1744088 , 0.13716542, 0.14667742, 0.10099575, 0.12864075])}"
      ]
     },
     "execution_count": 333,
     "metadata": {},
     "output_type": "execute_result"
    }
   ],
   "source": [
    "# Normalize data between 0 and 1\n",
    "norm_scaler = MinMaxScaler()\n",
    "norm_X_train2 = norm_scaler.fit_transform(X_train2)\n",
    "norm_X_test2 = norm_scaler.transform(X_test2)\n",
    "\n",
    "cross_validate(GaussianNB(), norm_X_train2, y_train2, cv=5, scoring='accuracy', \n",
    "               groups=groups_train2, n_jobs=-1, return_train_score=True)"
   ]
  },
  {
   "cell_type": "code",
   "execution_count": 334,
   "id": "6b656bf6",
   "metadata": {},
   "outputs": [
    {
     "name": "stdout",
     "output_type": "stream",
     "text": [
      "Accuracy: 0.06462118615015426\n",
      "Execution time: 0.21131420135498047\n"
     ]
    }
   ],
   "source": [
    "gnb = GaussianNB()\n",
    "start = time.time()\n",
    "gnb.fit(norm_X_train2, y_train2)\n",
    "accuracy = gnb.score(norm_X_test2, y_test2) # Normalized\n",
    "end = time.time()\n",
    "\n",
    "print(\"Accuracy: \" + str(accuracy))\n",
    "print(\"Execution time: \" + str(end-start))"
   ]
  },
  {
   "cell_type": "code",
   "execution_count": 335,
   "id": "c178535e",
   "metadata": {},
   "outputs": [],
   "source": [
    "# Almost ZERO ACCURACY with the test set! Model not learning at all. "
   ]
  },
  {
   "cell_type": "markdown",
   "id": "4af5566f",
   "metadata": {},
   "source": [
    "#### COMPLEMENT NAIVE BAYES"
   ]
  },
  {
   "cell_type": "code",
   "execution_count": 138,
   "id": "0d43f8e5",
   "metadata": {},
   "outputs": [
    {
     "data": {
      "text/plain": [
       "{'fit_time': array([0.19458294, 0.18554211, 0.18571305, 0.18115497, 0.18205905]),\n",
       " 'score_time': array([0.00982308, 0.00896001, 0.00911403, 0.01112199, 0.00834584]),\n",
       " 'test_score': array([0.61702947, 0.6792371 , 0.66695564, 0.60010596, 0.57250879]),\n",
       " 'train_score': array([0.63682994, 0.61684707, 0.6164377 , 0.63719553, 0.65089762])}"
      ]
     },
     "execution_count": 138,
     "metadata": {},
     "output_type": "execute_result"
    }
   ],
   "source": [
    "cross_validate(ComplementNB(), norm_X_train2, y_train2, cv=5, scoring='accuracy', \n",
    "               groups=groups_train2, n_jobs=-1, return_train_score=True)"
   ]
  },
  {
   "cell_type": "code",
   "execution_count": 139,
   "id": "3726a19f",
   "metadata": {},
   "outputs": [
    {
     "name": "stdout",
     "output_type": "stream",
     "text": [
      "Accuracy: 0.6897154610901611\n",
      "Execution time: 0.04458498954772949\n"
     ]
    }
   ],
   "source": [
    "cnb = ComplementNB()\n",
    "start = time.time()\n",
    "cnb.fit(norm_X_train2, y_train2)\n",
    "accuracy = cnb.score(norm_X_test2, y_test2) # Baseline\n",
    "end = time.time()\n",
    "\n",
    "print(\"Accuracy: \" + str(accuracy))\n",
    "print(\"Execution time: \" + str(end-start))"
   ]
  },
  {
   "cell_type": "code",
   "execution_count": 140,
   "id": "4e136199",
   "metadata": {},
   "outputs": [],
   "source": [
    "# Complement NB performes better than Gaussian NB. \n",
    "# Accuracy decreased when third class is introduced. "
   ]
  },
  {
   "cell_type": "markdown",
   "id": "19c0708e",
   "metadata": {},
   "source": [
    "##### Hyperparameter Tuning"
   ]
  },
  {
   "cell_type": "code",
   "execution_count": 451,
   "id": "95d0aefe",
   "metadata": {},
   "outputs": [
    {
     "data": {
      "text/plain": [
       "{'alpha': 360,\n",
       " 'class_prior': [0.0002, 5e-05, 0.0003],\n",
       " 'fit_prior': True,\n",
       " 'norm': False}"
      ]
     },
     "execution_count": 451,
     "metadata": {},
     "output_type": "execute_result"
    }
   ],
   "source": [
    "param_grid = dict()\n",
    "param_grid['alpha'] = [300, 320, 340, 360, 380, 400]\n",
    "param_grid['fit_prior'] = [True, False]\n",
    "param_grid['class_prior'] = [[0.0002,0.00005,0.0003], [0.00025,0.00004,0.0002], [0.0003,0.00003,0.00025], [0.01,0.2,0.008]]\n",
    "param_grid['norm'] = [True, False]\n",
    "\n",
    "start = time.time()\n",
    "grd2 = GridSearchCV(ComplementNB(), param_grid, scoring='accuracy', n_jobs=-1, cv=5) # 5-fold stratified cv\n",
    "grd2.fit(norm_X_train2, y_train2)\n",
    "end = time.time()\n",
    "\n",
    "grd2.best_params_"
   ]
  },
  {
   "cell_type": "code",
   "execution_count": 452,
   "id": "bd4898e3",
   "metadata": {},
   "outputs": [
    {
     "name": "stdout",
     "output_type": "stream",
     "text": [
      "Hyperparameter tuning computation time: 17.69139528274536\n"
     ]
    }
   ],
   "source": [
    "print(\"Hyperparameter tuning computation time: \" + str(end-start))"
   ]
  },
  {
   "cell_type": "code",
   "execution_count": 453,
   "id": "a15b948d",
   "metadata": {},
   "outputs": [
    {
     "data": {
      "text/plain": [
       "{'fit_time': array([0.16559315, 0.15779924, 0.16474605, 0.1527319 , 0.16132832]),\n",
       " 'score_time': array([0.00914693, 0.00858974, 0.00982499, 0.00762224, 0.00781274]),\n",
       " 'test_score': array([0.61823348, 0.67726244, 0.68053749, 0.62269422, 0.60058758]),\n",
       " 'train_score': array([0.64541492, 0.63184954, 0.63213851, 0.64729751, 0.65037988])}"
      ]
     },
     "execution_count": 453,
     "metadata": {},
     "output_type": "execute_result"
    }
   ],
   "source": [
    "# Evaluation of the model\n",
    "cross_validate(grd2.best_estimator_, norm_X_train2, y_train2, cv=5, scoring='accuracy', \n",
    "               groups=groups_train2, n_jobs=-1, return_train_score=True)"
   ]
  },
  {
   "cell_type": "code",
   "execution_count": 454,
   "id": "7e9cce5f",
   "metadata": {},
   "outputs": [
    {
     "name": "stdout",
     "output_type": "stream",
     "text": [
      "Accuracy: 0.7057936235858759\n",
      "Execution time: 0.05041980743408203\n"
     ]
    }
   ],
   "source": [
    "cnb2 = grd2.best_estimator_\n",
    "start = time.time()\n",
    "cnb2.fit(norm_X_train2, y_train2)\n",
    "accuracy = cnb2.score(norm_X_test2, y_test2) # Threshold\n",
    "end = time.time()\n",
    "\n",
    "y_predNB = cnb2.predict(norm_X_test2)\n",
    "\n",
    "print(\"Accuracy: \" + str(accuracy))\n",
    "print(\"Execution time: \" + str(end-start))"
   ]
  },
  {
   "cell_type": "code",
   "execution_count": 338,
   "id": "1a4e1523",
   "metadata": {},
   "outputs": [],
   "source": [
    "# Increased from 0.6897154610901611"
   ]
  },
  {
   "cell_type": "markdown",
   "id": "cfa38a06",
   "metadata": {},
   "source": [
    "### Random Forest"
   ]
  },
  {
   "cell_type": "code",
   "execution_count": 385,
   "id": "b5caa260",
   "metadata": {},
   "outputs": [
    {
     "data": {
      "text/plain": [
       "{'fit_time': array([135.40190506, 135.55015898, 133.35874581, 138.97310495,\n",
       "        135.84634805]),\n",
       " 'score_time': array([0.71311307, 0.67275405, 0.60941005, 0.57490706, 0.68548298]),\n",
       " 'test_score': array([0.70020227, 0.64287434, 0.71945287, 0.46505804, 0.52675432]),\n",
       " 'train_score': array([0.99998796, 0.99997592, 0.99998796, 0.99998796, 1.        ])}"
      ]
     },
     "execution_count": 385,
     "metadata": {},
     "output_type": "execute_result"
    }
   ],
   "source": [
    "cross_validate(RandomForestClassifier(random_state=42), X_train2, y_train2, cv=5, scoring='accuracy', \n",
    "               groups=groups_train2, n_jobs=-1, return_train_score=True)"
   ]
  },
  {
   "cell_type": "code",
   "execution_count": 387,
   "id": "0cdc651c",
   "metadata": {},
   "outputs": [
    {
     "name": "stdout",
     "output_type": "stream",
     "text": [
      "Accuracy: 0.7147068906410696\n",
      "Execution time: 117.91457200050354\n"
     ]
    }
   ],
   "source": [
    "rf = RandomForestClassifier(random_state=42)\n",
    "start = time.time()\n",
    "rf.fit(X_train2, y_train2)\n",
    "accuracy = rf.score(X_test2, y_test2) # Baseline\n",
    "end = time.time()\n",
    "\n",
    "print(\"Accuracy: \" + str(accuracy))\n",
    "print(\"Execution time: \" + str(end-start))"
   ]
  },
  {
   "cell_type": "code",
   "execution_count": 388,
   "id": "4c79650e",
   "metadata": {},
   "outputs": [
    {
     "data": {
      "text/plain": [
       "{'fit_time': array([120.85341287, 121.19176817, 119.94947529, 122.87385702,\n",
       "        120.27093673]),\n",
       " 'score_time': array([0.47506905, 0.45272684, 0.47844195, 0.4210701 , 0.46993613]),\n",
       " 'test_score': array([0.69760162, 0.63738381, 0.71280643, 0.48494919, 0.52246785]),\n",
       " 'train_score': array([0.99998796, 0.99998796, 0.99998796, 0.99998796, 1.        ])}"
      ]
     },
     "execution_count": 388,
     "metadata": {},
     "output_type": "execute_result"
    }
   ],
   "source": [
    "cross_validate(RandomForestClassifier(random_state=42), norm_X_train2, y_train2, cv=5, scoring='accuracy', \n",
    "               groups=groups_train2, n_jobs=-1, return_train_score=True)"
   ]
  },
  {
   "cell_type": "code",
   "execution_count": 389,
   "id": "8fa6a75a",
   "metadata": {},
   "outputs": [
    {
     "name": "stdout",
     "output_type": "stream",
     "text": [
      "Accuracy: 0.7196091875214261\n",
      "Execution time: 92.7767870426178\n"
     ]
    }
   ],
   "source": [
    "rf = RandomForestClassifier(random_state=42)\n",
    "start = time.time()\n",
    "rf.fit(norm_X_train2, y_train2)\n",
    "accuracy = rf.score(norm_X_test2, y_test2) # Normalized\n",
    "end = time.time()\n",
    "\n",
    "print(\"Accuracy: \" + str(accuracy))\n",
    "print(\"Execution time: \" + str(end-start))"
   ]
  },
  {
   "cell_type": "code",
   "execution_count": 390,
   "id": "a8412d8f",
   "metadata": {},
   "outputs": [
    {
     "data": {
      "text/plain": [
       "{'fit_time': array([125.28212309, 123.97270608, 123.10145116, 127.58318686,\n",
       "        124.71892881]),\n",
       " 'score_time': array([0.42333889, 0.444906  , 0.48456073, 0.37422705, 0.41376519]),\n",
       " 'test_score': array([0.70309189, 0.64292251, 0.71829697, 0.46448008, 0.53229302]),\n",
       " 'train_score': array([1.        , 0.99998796, 0.99998796, 0.99998796, 1.        ])}"
      ]
     },
     "execution_count": 390,
     "metadata": {},
     "output_type": "execute_result"
    }
   ],
   "source": [
    "cross_validate(RandomForestClassifier(random_state=42), stand_X_train2, y_train2, cv=5, scoring='accuracy', \n",
    "               groups=groups_train2, n_jobs=-1, return_train_score=True)"
   ]
  },
  {
   "cell_type": "code",
   "execution_count": 391,
   "id": "33b8a8d7",
   "metadata": {},
   "outputs": [
    {
     "name": "stdout",
     "output_type": "stream",
     "text": [
      "Accuracy: 0.716146726088447\n",
      "Execution time: 101.21672487258911\n"
     ]
    }
   ],
   "source": [
    "rf = RandomForestClassifier(random_state=42)\n",
    "start = time.time()\n",
    "rf.fit(stand_X_train2, y_train2)\n",
    "accuracy = rf.score(stand_X_test2, y_test2) # Standardized\n",
    "end = time.time()\n",
    "\n",
    "print(\"Accuracy: \" + str(accuracy))\n",
    "print(\"Execution time: \" + str(end-start))"
   ]
  },
  {
   "cell_type": "code",
   "execution_count": 168,
   "id": "fa83758a",
   "metadata": {},
   "outputs": [],
   "source": [
    "# Normalized data performed the best for RF. \n",
    "# RF performed better than NB. \n",
    "# Accuracy decreased when third class is introduced. "
   ]
  },
  {
   "cell_type": "code",
   "execution_count": 186,
   "id": "61e9d381",
   "metadata": {},
   "outputs": [
    {
     "data": {
      "text/plain": [
       "{'bootstrap': True,\n",
       " 'ccp_alpha': 0.0,\n",
       " 'class_weight': None,\n",
       " 'criterion': 'gini',\n",
       " 'max_depth': None,\n",
       " 'max_features': 'sqrt',\n",
       " 'max_leaf_nodes': None,\n",
       " 'max_samples': None,\n",
       " 'min_impurity_decrease': 0.0,\n",
       " 'min_samples_leaf': 1,\n",
       " 'min_samples_split': 2,\n",
       " 'min_weight_fraction_leaf': 0.0,\n",
       " 'n_estimators': 100,\n",
       " 'n_jobs': None,\n",
       " 'oob_score': False,\n",
       " 'random_state': None,\n",
       " 'verbose': 0,\n",
       " 'warm_start': False}"
      ]
     },
     "execution_count": 186,
     "metadata": {},
     "output_type": "execute_result"
    }
   ],
   "source": [
    "rf.get_params()"
   ]
  },
  {
   "cell_type": "markdown",
   "id": "2edd5807",
   "metadata": {},
   "source": [
    "##### Hyperparameter Tuning"
   ]
  },
  {
   "cell_type": "code",
   "execution_count": 291,
   "id": "661a8d9d",
   "metadata": {},
   "outputs": [
    {
     "data": {
      "text/plain": [
       "{'class_weight': 'balanced_subsample',\n",
       " 'min_samples_split': 5,\n",
       " 'n_estimators': 500}"
      ]
     },
     "execution_count": 291,
     "metadata": {},
     "output_type": "execute_result"
    }
   ],
   "source": [
    "param_grid = dict()\n",
    "param_grid['n_estimators'] = [500, 100] # 1000  \n",
    "#param_grid['criterion'] = ['gini']\n",
    "#param_grid['max_depth'] = [20]\n",
    "param_grid['min_samples_split'] = [2, 5]\n",
    "#param_grid['min_samples_leaf'] = [50]\n",
    "#param_grid['min_weight_fraction_leaf'] = [0.0, 2.0, 5.0]\n",
    "#param_grid['max_features'] = ['sqrt']\n",
    "#param_grid['max_leaf_nodes'] = [2, 5, 10]\n",
    "#param_grid['min_impurity_decrease'] = [0.0, 2.0, 5.0]\n",
    "#param_grid['bootstrap'] = [True, False]\n",
    "#param_grid['oob_score'] = [True, False]\n",
    "#param_grid['n_jobs'] = [-1]\n",
    "param_grid['random_state'] = [42]\n",
    "#param_grid['verbose'] = [0, 2, 5]\n",
    "#param_grid['warm_start'] = [True, False]\n",
    "param_grid['class_weight'] = ['balanced_subsample'] #[{0: 0.75, 1: 1.2, 2: 2.5}, {0: 5, 1: 0.03, 2: 100}]\n",
    "#param_grid['ccp_alpha'] = [0.0, 2.0]\n",
    "#param_grid['max_samples'] = [100, 10]\n",
    "\n",
    "start = time.time()\n",
    "grd2 = GridSearchCV(RandomForestClassifier(), param_grid, scoring='accuracy', n_jobs=-1, cv=5) # 5-fold stratified cv\n",
    "grd2.fit(norm_X_train2, y_train2)\n",
    "end = time.time()\n",
    "\n",
    "grd2.best_params_"
   ]
  },
  {
   "cell_type": "code",
   "execution_count": 292,
   "id": "5314e4d0",
   "metadata": {},
   "outputs": [
    {
     "name": "stdout",
     "output_type": "stream",
     "text": [
      "Hyperparameter tuning computation time: 1674.262413263321\n"
     ]
    }
   ],
   "source": [
    "print(\"Hyperparameter tuning computation time: \" + str(end-start))"
   ]
  },
  {
   "cell_type": "code",
   "execution_count": 293,
   "id": "c50f5b5b",
   "metadata": {},
   "outputs": [
    {
     "data": {
      "text/plain": [
       "{'fit_time': array([532.52870989, 538.07152081, 543.78045511, 540.75352097,\n",
       "        535.83509088]),\n",
       " 'score_time': array([2.43824291, 2.36939502, 2.53168297, 2.57300711, 2.36107612]),\n",
       " 'test_score': array([0.6984685 , 0.65963493, 0.7191639 , 0.5045032 , 0.52680249]),\n",
       " 'train_score': array([0.99989163, 0.99990368, 0.9999398 , 0.99990368, 0.99996388])}"
      ]
     },
     "execution_count": 293,
     "metadata": {},
     "output_type": "execute_result"
    }
   ],
   "source": [
    "# Evaluation of the model\n",
    "cross_validate(grd2.best_estimator_, norm_X_train2, y_train2, cv=5, scoring='accuracy', \n",
    "               groups=groups_train2, n_jobs=-1, return_train_score=True)"
   ]
  },
  {
   "cell_type": "code",
   "execution_count": 418,
   "id": "93b85a43",
   "metadata": {},
   "outputs": [
    {
     "name": "stdout",
     "output_type": "stream",
     "text": [
      "Accuracy: 0.7463489886870072\n",
      "Execution time: 35.15154194831848\n"
     ]
    }
   ],
   "source": [
    "rf2 = RandomForestClassifier(n_estimators=100,random_state=42, min_samples_leaf=5, max_depth=7)\n",
    "start = time.time()\n",
    "rf2.fit(norm_X_train2, y_train2)\n",
    "accuracy = rf2.score(norm_X_test2, y_test2) # Threshold\n",
    "end = time.time()\n",
    "\n",
    "y_predRF = rf2.predict(norm_X_test2)\n",
    "\n",
    "print(\"Accuracy: \" + str(accuracy))\n",
    "print(\"Execution time: \" + str(end-start))"
   ]
  },
  {
   "cell_type": "code",
   "execution_count": 399,
   "id": "0a05738f",
   "metadata": {},
   "outputs": [],
   "source": [
    "# Increased from 0.7196091875214261"
   ]
  },
  {
   "cell_type": "markdown",
   "id": "f104a79c",
   "metadata": {},
   "source": [
    "#### RF Confusion Matrix"
   ]
  },
  {
   "cell_type": "code",
   "execution_count": 400,
   "id": "9e6e08aa",
   "metadata": {},
   "outputs": [
    {
     "data": {
      "image/png": "[encoded data removed]",
      "text/plain": [
       "<Figure size 432x288 with 2 Axes>"
      ]
     },
     "metadata": {
      "needs_background": "light"
     },
     "output_type": "display_data"
    }
   ],
   "source": [
    "cm = metrics.confusion_matrix(y_test2, y_predRF)\n",
    "cm_display = metrics.ConfusionMatrixDisplay(confusion_matrix = cm, display_labels = ['0','1','2'])\n",
    "cm_display.plot()\n",
    "plt.show()"
   ]
  },
  {
   "cell_type": "code",
   "execution_count": 401,
   "id": "5546bba9",
   "metadata": {},
   "outputs": [
    {
     "name": "stdout",
     "output_type": "stream",
     "text": [
      "              precision    recall  f1-score   support\n",
      "\n",
      "           0       0.76      0.85      0.80     16799\n",
      "           1       0.72      0.66      0.69     11389\n",
      "           2       0.00      0.00      0.00       982\n",
      "\n",
      "    accuracy                           0.75     29170\n",
      "   macro avg       0.49      0.50      0.50     29170\n",
      "weighted avg       0.72      0.75      0.73     29170\n",
      "\n"
     ]
    },
    {
     "name": "stderr",
     "output_type": "stream",
     "text": [
      "/Library/Frameworks/Python.framework/Versions/3.9/lib/python3.9/site-packages/sklearn/metrics/_classification.py:1344: UndefinedMetricWarning: Precision and F-score are ill-defined and being set to 0.0 in labels with no predicted samples. Use `zero_division` parameter to control this behavior.\n",
      "  _warn_prf(average, modifier, msg_start, len(result))\n",
      "/Library/Frameworks/Python.framework/Versions/3.9/lib/python3.9/site-packages/sklearn/metrics/_classification.py:1344: UndefinedMetricWarning: Precision and F-score are ill-defined and being set to 0.0 in labels with no predicted samples. Use `zero_division` parameter to control this behavior.\n",
      "  _warn_prf(average, modifier, msg_start, len(result))\n",
      "/Library/Frameworks/Python.framework/Versions/3.9/lib/python3.9/site-packages/sklearn/metrics/_classification.py:1344: UndefinedMetricWarning: Precision and F-score are ill-defined and being set to 0.0 in labels with no predicted samples. Use `zero_division` parameter to control this behavior.\n",
      "  _warn_prf(average, modifier, msg_start, len(result))\n"
     ]
    }
   ],
   "source": [
    "print(classification_report(y_test2, y_predRF, target_names=['0', '1', '2']))"
   ]
  },
  {
   "cell_type": "code",
   "execution_count": 465,
   "id": "d7f12789",
   "metadata": {
    "scrolled": true
   },
   "outputs": [
    {
     "name": "stderr",
     "output_type": "stream",
     "text": [
      "/Library/Frameworks/Python.framework/Versions/3.9/lib/python3.9/site-packages/sklearn/metrics/_classification.py:1344: UndefinedMetricWarning: Precision and F-score are ill-defined and being set to 0.0 in labels with no predicted samples. Use `zero_division` parameter to control this behavior.\n",
      "  _warn_prf(average, modifier, msg_start, len(result))\n",
      "/Library/Frameworks/Python.framework/Versions/3.9/lib/python3.9/site-packages/sklearn/metrics/_classification.py:1344: UndefinedMetricWarning: Precision and F-score are ill-defined and being set to 0.0 in labels with no predicted samples. Use `zero_division` parameter to control this behavior.\n",
      "  _warn_prf(average, modifier, msg_start, len(result))\n",
      "/Library/Frameworks/Python.framework/Versions/3.9/lib/python3.9/site-packages/sklearn/metrics/_classification.py:1344: UndefinedMetricWarning: Precision and F-score are ill-defined and being set to 0.0 in labels with no predicted samples. Use `zero_division` parameter to control this behavior.\n",
      "  _warn_prf(average, modifier, msg_start, len(result))\n"
     ]
    },
    {
     "data": {
      "text/plain": [
       "(array([0.76113663, 0.71985069, 0.        ]),\n",
       " array([0.84826478, 0.66037405, 0.        ]),\n",
       " array([0.80234228, 0.68883088, 0.        ]),\n",
       " array([16799, 11389,   982]))"
      ]
     },
     "execution_count": 465,
     "metadata": {},
     "output_type": "execute_result"
    }
   ],
   "source": [
    "precision_recall_fscore_support(y_test2, y_predRF, average='macro')\n",
    "precision_recall_fscore_support(y_test2, y_predRF, average='micro')\n",
    "precision_recall_fscore_support(y_test2, y_predRF, average='weighted')\n",
    "precision_recall_fscore_support(y_test2, y_predRF, average=None, labels=[0,1,2]) # for each class "
   ]
  },
  {
   "cell_type": "code",
   "execution_count": 406,
   "id": "84cbc252",
   "metadata": {},
   "outputs": [
    {
     "name": "stderr",
     "output_type": "stream",
     "text": [
      "/var/folders/3n/6bmtx14d2m39gg0wnxmz4h500000gn/T/ipykernel_2501/3650387924.py:22: RuntimeWarning: invalid value encountered in long_scalars\n",
      "  d[label]['Precision'] = tp[i]/(tp[i]+fp[i]) # TP / TP+FP\n"
     ]
    },
    {
     "data": {
      "text/plain": [
       "{'0': {'TP': 14250,\n",
       "  'TN': 7899,\n",
       "  'FP': 4472,\n",
       "  'FN': 2549,\n",
       "  'Accuracy': 0.7593075077134042,\n",
       "  'Recall': 0.8482647776653373,\n",
       "  'Precision': 0.7611366307018481,\n",
       "  'F1': 0.8023422763998761,\n",
       "  'Specificity': 0.6385094171853528},\n",
       " '1': {'TP': 7521,\n",
       "  'TN': 14854,\n",
       "  'FP': 2927,\n",
       "  'FN': 3868,\n",
       "  'Accuracy': 0.7670551936921495,\n",
       "  'Recall': 0.660374045131267,\n",
       "  'Precision': 0.7198506891271057,\n",
       "  'F1': 0.6888308833630993,\n",
       "  'Specificity': 0.8353860862718632},\n",
       " '2': {'TP': 0,\n",
       "  'TN': 28188,\n",
       "  'FP': 0,\n",
       "  'FN': 982,\n",
       "  'Accuracy': 0.9663352759684607,\n",
       "  'Recall': 0.0,\n",
       "  'Precision': nan,\n",
       "  'F1': nan,\n",
       "  'Specificity': 1.0}}"
      ]
     },
     "execution_count": 406,
     "metadata": {},
     "output_type": "execute_result"
    }
   ],
   "source": [
    "mcm = multilabel_confusion_matrix(y_test2, y_predRF)\n",
    "\n",
    "tn = mcm[:, 0, 0]\n",
    "tp = mcm[:, 1, 1]\n",
    "fn = mcm[:, 1, 0]\n",
    "fp = mcm[:, 0, 1]\n",
    "recall = tp / (tp + fn) # true positive rate or sensitivity\n",
    "specificity = tn / (tn + fp) # ture negative rate\n",
    "fallout = fp / (fp + tn) # false positive rate\n",
    "missrate = fn / (fn + tp) #false negative rate\n",
    "\n",
    "d = {}\n",
    "for label in ['0', '1', '2']:\n",
    "    i = int(label)\n",
    "    d[label] = dict()\n",
    "    d[label]['TP'] = tp[i]\n",
    "    d[label]['TN'] = tn[i]\n",
    "    d[label]['FP'] = fp[i]\n",
    "    d[label]['FN'] = fn[i]\n",
    "    d[label]['Accuracy'] = (tp[i]+tn[i])/(tp[i]+tn[i]+fn[i]+fp[i]) # TP+TN / TP+TN+FP+FN\n",
    "    d[label]['Recall'] = tp[i]/(tp[i]+fn[i]) # TP / TP+FN\n",
    "    d[label]['Precision'] = tp[i]/(tp[i]+fp[i]) # TP / TP+FP\n",
    "    d[label]['F1'] = (2*d[label]['Precision']*d[label]['Recall'])/(d[label]['Precision']+d[label]['Recall'])\n",
    "    d[label]['Specificity'] = tn[i]/(tn[i]+fp[i]) # TN / TN+FP\n",
    "    #d[label]['Fallout'] = fp[i]/(fp[i]+tn[i]) # FP /FP+TN\n",
    "    #d[label]['Missrate'] = fn[i]/(fn[i]+tp[i]) # FN / FN+TP\n",
    "d"
   ]
  },
  {
   "cell_type": "code",
   "execution_count": 407,
   "id": "f6351479",
   "metadata": {},
   "outputs": [],
   "source": [
    "# Class 2 is not being classified!"
   ]
  },
  {
   "cell_type": "markdown",
   "id": "6202e31f",
   "metadata": {},
   "source": [
    "## Oversampling and Undersampling"
   ]
  },
  {
   "cell_type": "code",
   "execution_count": 408,
   "id": "54d2d525",
   "metadata": {},
   "outputs": [],
   "source": [
    "from imblearn.over_sampling import SMOTE\n",
    "from imblearn.under_sampling import RandomUnderSampler\n",
    "from imblearn.pipeline import Pipeline\n",
    "from collections import Counter\n",
    "from imblearn.over_sampling import RandomOverSampler"
   ]
  },
  {
   "cell_type": "code",
   "execution_count": 409,
   "id": "794ff5c8",
   "metadata": {},
   "outputs": [
    {
     "data": {
      "text/plain": [
       "Counter({0: 55476, 1: 44051, 2: 4289})"
      ]
     },
     "execution_count": 409,
     "metadata": {},
     "output_type": "execute_result"
    }
   ],
   "source": [
    "counter = Counter(y_train2)\n",
    "counter"
   ]
  },
  {
   "cell_type": "code",
   "execution_count": 410,
   "id": "25eef22a",
   "metadata": {},
   "outputs": [
    {
     "name": "stdout",
     "output_type": "stream",
     "text": [
      "Class 0: 53% of X_train2\n",
      "Class 1: 42% of X_train2\n",
      "Class 2: 4% of X_train2\n"
     ]
    }
   ],
   "source": [
    "print(\"Class 0: \" + str(round(100*counter.get(0)/(counter.get(0)+counter.get(1)+counter.get(2))))+\"% of X_train2\")\n",
    "print(\"Class 1: \" + str(round(100*counter.get(1)/(counter.get(0)+counter.get(1)+counter.get(2))))+\"% of X_train2\")\n",
    "print(\"Class 2: \" + str(round(100*counter.get(2)/(counter.get(0)+counter.get(1)+counter.get(2))))+\"% of X_train2\")"
   ]
  },
  {
   "cell_type": "code",
   "execution_count": 411,
   "id": "72ac3954",
   "metadata": {},
   "outputs": [],
   "source": [
    "# Current class distribution (0,1,2)\n",
    "# 0 : 53% of the data (/3)\n",
    "# 1 : 42% of the data (/2)\n",
    "# 2 : 4% of the data (*4)\n",
    "\n",
    "# Oversampling - overfit\n",
    "# Undersampling - information loss\n",
    "\n",
    "#sampler = RandomOverSampler(sampling_strategy={0: 60132, 1: 50000, 2: 10000})\n",
    "#sampler = RandomUnderSampler(sampling_strategy={0: 40132, 1: 20000, 2: 4665})\n",
    "#sampler = SMOTE(sampling_strategy={0: 60132, 1: 50000, 2: 10000})"
   ]
  },
  {
   "cell_type": "code",
   "execution_count": 426,
   "id": "c3c75988",
   "metadata": {},
   "outputs": [
    {
     "data": {
      "text/plain": [
       "Counter({0: 20000, 1: 18000, 2: 10000})"
      ]
     },
     "execution_count": 426,
     "metadata": {},
     "output_type": "execute_result"
    }
   ],
   "source": [
    "over = SMOTE(sampling_strategy={0: 55476, 1: 44051, 2: 10000})\n",
    "under = RandomUnderSampler(sampling_strategy={0: 20000, 1: 18000, 2: 10000})\n",
    "\n",
    "sampler_pipeline = Pipeline([('o', over), ('u', under)])\n",
    "\n",
    "X_sampled, y_sampled = sampler_pipeline.fit_resample(X_train2, y_train2)\n",
    "\n",
    "counter = Counter(y_sampled)\n",
    "counter"
   ]
  },
  {
   "cell_type": "code",
   "execution_count": 427,
   "id": "991f0f06",
   "metadata": {},
   "outputs": [
    {
     "name": "stdout",
     "output_type": "stream",
     "text": [
      "Class 0: 42% of X_train2\n",
      "Class 1: 38% of X_train2\n",
      "Class 2: 21% of X_train2\n"
     ]
    }
   ],
   "source": [
    "print(\"Class 0: \" + str(round(100*counter.get(0)/(counter.get(0)+counter.get(1)+counter.get(2))))+\"% of X_train2\")\n",
    "print(\"Class 1: \" + str(round(100*counter.get(1)/(counter.get(0)+counter.get(1)+counter.get(2))))+\"% of X_train2\")\n",
    "print(\"Class 2: \" + str(round(100*counter.get(2)/(counter.get(0)+counter.get(1)+counter.get(2))))+\"% of X_train2\")"
   ]
  },
  {
   "cell_type": "code",
   "execution_count": 428,
   "id": "1b547bd1",
   "metadata": {},
   "outputs": [],
   "source": [
    "# Normalize the sampled data\n",
    "norm_scaler = MinMaxScaler()\n",
    "norm_X_sampled = norm_scaler.fit_transform(X_sampled)\n",
    "norm_X_test3 = norm_scaler.transform(X_test2)"
   ]
  },
  {
   "cell_type": "markdown",
   "id": "f233a096",
   "metadata": {},
   "source": [
    "###### Complement Naive Bayes"
   ]
  },
  {
   "cell_type": "code",
   "execution_count": 429,
   "id": "abae1080",
   "metadata": {},
   "outputs": [
    {
     "data": {
      "text/plain": [
       "{'fit_time': array([0.08383298, 0.08387184, 0.08017612, 0.08435011, 0.08705926]),\n",
       " 'score_time': array([0.00650001, 0.00604916, 0.00631905, 0.00517201, 0.00602603]),\n",
       " 'test_score': array([0.52447917, 0.53208333, 0.52333333, 0.53177083, 0.52760417])}"
      ]
     },
     "execution_count": 429,
     "metadata": {},
     "output_type": "execute_result"
    }
   ],
   "source": [
    "# Hyperparameter tuned model\n",
    "cnb = ComplementNB(alpha=4e-08, class_prior=[0.0002, 5e-05, 0.0003], fit_prior=True, norm=False)\n",
    "\n",
    "# Performence evaluation\n",
    "cross_validate(cnb, norm_X_sampled, y_sampled, cv=5, scoring='accuracy', n_jobs=-1)"
   ]
  },
  {
   "cell_type": "code",
   "execution_count": 430,
   "id": "58b8b879",
   "metadata": {},
   "outputs": [
    {
     "name": "stdout",
     "output_type": "stream",
     "text": [
      "Accuracy: 0.6725745629070964\n",
      "Execution time: 0.024740934371948242\n"
     ]
    }
   ],
   "source": [
    "start = time.time()\n",
    "cnb.fit(norm_X_sampled, y_sampled)\n",
    "accuracy = cnb.score(norm_X_test3, y_test2) \n",
    "end = time.time()\n",
    "\n",
    "y_pred = cnb.predict(norm_X_test3)\n",
    "\n",
    "print(\"Accuracy: \" + str(accuracy))\n",
    "print(\"Execution time: \" + str(end-start))"
   ]
  },
  {
   "cell_type": "code",
   "execution_count": 431,
   "id": "5df14c69",
   "metadata": {},
   "outputs": [],
   "source": [
    "# Accuracy reduced from 0.7163181350702776"
   ]
  },
  {
   "cell_type": "markdown",
   "id": "4d68802d",
   "metadata": {},
   "source": [
    "###### Random Forest"
   ]
  },
  {
   "cell_type": "code",
   "execution_count": 432,
   "id": "50b0737f",
   "metadata": {},
   "outputs": [
    {
     "data": {
      "text/plain": [
       "{'fit_time': array([18.21106315, 18.4134798 , 18.14602208, 18.32920218, 18.31380987]),\n",
       " 'score_time': array([0.09372592, 0.0842979 , 0.09739709, 0.08408618, 0.08625007]),\n",
       " 'test_score': array([0.6078125 , 0.6140625 , 0.60635417, 0.61333333, 0.6090625 ])}"
      ]
     },
     "execution_count": 432,
     "metadata": {},
     "output_type": "execute_result"
    }
   ],
   "source": [
    "# Hyperparameter tuned model\n",
    "rf = RandomForestClassifier(random_state=42, min_samples_leaf=5, max_depth=7)\n",
    "\n",
    "# Performence evaluation\n",
    "cross_validate(rf, norm_X_sampled, y_sampled, cv=5, scoring='accuracy', n_jobs=-1)"
   ]
  },
  {
   "cell_type": "code",
   "execution_count": 433,
   "id": "6e640190",
   "metadata": {},
   "outputs": [
    {
     "name": "stdout",
     "output_type": "stream",
     "text": [
      "Accuracy: 0.7270483373328762\n",
      "Execution time: 16.0134220123291\n"
     ]
    }
   ],
   "source": [
    "start = time.time()\n",
    "rf.fit(norm_X_sampled, y_sampled)\n",
    "accuracy = rf.score(norm_X_test3, y_test2) \n",
    "end = time.time()\n",
    "\n",
    "y_pred = rf.predict(norm_X_test3)\n",
    "\n",
    "print(\"Accuracy: \" + str(accuracy))\n",
    "print(\"Execution time: \" + str(end-start))"
   ]
  },
  {
   "cell_type": "code",
   "execution_count": 434,
   "id": "dd538073",
   "metadata": {},
   "outputs": [],
   "source": [
    "# Accuracy reduced from 0.7463489886870072"
   ]
  },
  {
   "cell_type": "markdown",
   "id": "53debc19",
   "metadata": {},
   "source": [
    "###### RF Confusion Matrix"
   ]
  },
  {
   "cell_type": "code",
   "execution_count": 435,
   "id": "3d9c2cb2",
   "metadata": {},
   "outputs": [
    {
     "data": {
      "image/png": "[encoded data removed]",
      "text/plain": [
       "<Figure size 432x288 with 2 Axes>"
      ]
     },
     "metadata": {
      "needs_background": "light"
     },
     "output_type": "display_data"
    }
   ],
   "source": [
    "cm = metrics.confusion_matrix(y_test2, y_pred)\n",
    "cm_display = metrics.ConfusionMatrixDisplay(confusion_matrix = cm, display_labels = ['0','1','2'])\n",
    "cm_display.plot()\n",
    "plt.show()"
   ]
  },
  {
   "cell_type": "code",
   "execution_count": 436,
   "id": "f71b8e2e",
   "metadata": {},
   "outputs": [
    {
     "name": "stdout",
     "output_type": "stream",
     "text": [
      "              precision    recall  f1-score   support\n",
      "\n",
      "           0       0.80      0.77      0.79     16799\n",
      "           1       0.68      0.71      0.70     11389\n",
      "           2       0.06      0.06      0.06       982\n",
      "\n",
      "    accuracy                           0.73     29170\n",
      "   macro avg       0.51      0.52      0.51     29170\n",
      "weighted avg       0.73      0.73      0.73     29170\n",
      "\n"
     ]
    }
   ],
   "source": [
    "print(classification_report(y_test2, y_pred, target_names=['0', '1', '2']))"
   ]
  },
  {
   "cell_type": "code",
   "execution_count": 437,
   "id": "14ecdf18",
   "metadata": {},
   "outputs": [
    {
     "data": {
      "text/plain": [
       "(array([0.80044278, 0.67842549, 0.0620915 ]),\n",
       " array([0.77480802, 0.71428571, 0.05804481]),\n",
       " array([0.78741682, 0.69589393, 0.06      ]),\n",
       " array([16799, 11389,   982]))"
      ]
     },
     "execution_count": 437,
     "metadata": {},
     "output_type": "execute_result"
    }
   ],
   "source": [
    "precision_recall_fscore_support(y_test2, y_pred, average='macro')\n",
    "precision_recall_fscore_support(y_test2, y_pred, average='micro')\n",
    "precision_recall_fscore_support(y_test2, y_pred, average='weighted')\n",
    "precision_recall_fscore_support(y_test2, y_pred, average=None, labels=[0,1,2]) # for each class "
   ]
  },
  {
   "cell_type": "code",
   "execution_count": 438,
   "id": "66ca1252",
   "metadata": {},
   "outputs": [
    {
     "data": {
      "text/plain": [
       "{'0': {'TP': 13016,\n",
       "  'TN': 9126,\n",
       "  'FP': 3245,\n",
       "  'FN': 3783,\n",
       "  'Accuracy': 0.7590675351388413,\n",
       "  'Recall': 0.77480802428716,\n",
       "  'Precision': 0.8004427771969743,\n",
       "  'F1': 0.787416817906836,\n",
       "  'Specificity': 0.7376929916740764},\n",
       " '1': {'TP': 8135,\n",
       "  'TN': 13925,\n",
       "  'FP': 3856,\n",
       "  'FN': 3254,\n",
       "  'Accuracy': 0.7562564278368187,\n",
       "  'Recall': 0.7142857142857143,\n",
       "  'Precision': 0.6784254857810024,\n",
       "  'F1': 0.6958939264328485,\n",
       "  'Specificity': 0.7831393060007874},\n",
       " '2': {'TP': 57,\n",
       "  'TN': 27327,\n",
       "  'FP': 861,\n",
       "  'FN': 925,\n",
       "  'Accuracy': 0.9387727116900926,\n",
       "  'Recall': 0.05804480651731161,\n",
       "  'Precision': 0.06209150326797386,\n",
       "  'F1': 0.06,\n",
       "  'Specificity': 0.9694550872711792}}"
      ]
     },
     "execution_count": 438,
     "metadata": {},
     "output_type": "execute_result"
    }
   ],
   "source": [
    "mcm = multilabel_confusion_matrix(y_test2, y_pred)\n",
    "\n",
    "tn = mcm[:, 0, 0]\n",
    "tp = mcm[:, 1, 1]\n",
    "fn = mcm[:, 1, 0]\n",
    "fp = mcm[:, 0, 1]\n",
    "recall = tp / (tp + fn) # true positive rate or sensitivity\n",
    "specificity = tn / (tn + fp) # ture negative rate\n",
    "fallout = fp / (fp + tn) # false positive rate\n",
    "missrate = fn / (fn + tp) #false negative rate\n",
    "\n",
    "d = {}\n",
    "for label in ['0', '1', '2']:\n",
    "    i = int(label)\n",
    "    d[label] = dict()\n",
    "    d[label]['TP'] = tp[i]\n",
    "    d[label]['TN'] = tn[i]\n",
    "    d[label]['FP'] = fp[i]\n",
    "    d[label]['FN'] = fn[i]\n",
    "    d[label]['Accuracy'] = (tp[i]+tn[i])/(tp[i]+tn[i]+fn[i]+fp[i]) # TP+TN / TP+TN+FP+FN\n",
    "    d[label]['Recall'] = tp[i]/(tp[i]+fn[i]) # TP / TP+FN\n",
    "    d[label]['Precision'] = tp[i]/(tp[i]+fp[i]) # TP / TP+FP\n",
    "    d[label]['F1'] = (2*d[label]['Precision']*d[label]['Recall'])/(d[label]['Precision']+d[label]['Recall'])\n",
    "    d[label]['Specificity'] = tn[i]/(tn[i]+fp[i]) # TN / TN+FP\n",
    "    #d[label]['Fallout'] = fp[i]/(fp[i]+tn[i]) # FP /FP+TN\n",
    "    #d[label]['Missrate'] = fn[i]/(fn[i]+tp[i]) # FN / FN+TP\n",
    "d"
   ]
  },
  {
   "cell_type": "code",
   "execution_count": 439,
   "id": "80fadeae",
   "metadata": {},
   "outputs": [],
   "source": [
    "# Before over/under sampling:\n",
    "# 2': {'TP': 0,\n",
    "#  'TN': 28188,\n",
    "#  'FP': 0,\n",
    "#  'FN': 982,\n",
    "#  'Accuracy': 0.9663352759684607,\n",
    "#  'Recall': 0.0,\n",
    "#  'Precision': nan,\n",
    "#  'F1': nan,\n",
    "#  'Specificity': 1.0}\n",
    "\n",
    "\n",
    "# TP and FP increased\n",
    "# TN and FN decreased\n",
    "# Accuracy and specificity decreased BUT recall, precision and F1 increased!\n",
    "\n",
    "# Class 2 is not being classified unles I resample the data!"
   ]
  },
  {
   "cell_type": "markdown",
   "id": "2ef11335",
   "metadata": {},
   "source": [
    "### TRYING SOME DIFFERENT METHODS  \n",
    "https://machinelearningmastery.com/bagging-and-random-forest-for-imbalanced-classification/  \n",
    "- Skewed class weights"
   ]
  },
  {
   "cell_type": "code",
   "execution_count": 455,
   "id": "f52ae0e7",
   "metadata": {},
   "outputs": [
    {
     "data": {
      "text/plain": [
       "{'fit_time': array([91.20633984, 91.9170382 , 91.857059  , 92.44530678, 92.00024533]),\n",
       " 'score_time': array([0.37234616, 0.32693887, 0.3262639 , 0.30780005, 0.32379174]),\n",
       " 'test_score': array([0.69552083, 0.7015625 , 0.69447917, 0.69802083, 0.69770833])}"
      ]
     },
     "execution_count": 455,
     "metadata": {},
     "output_type": "execute_result"
    }
   ],
   "source": [
    "rf = RandomForestClassifier(random_state=42, class_weight={0: 5, 1: 0.03, 2: 100})\n",
    "\n",
    "cross_validate(rf, norm_X_sampled, y_sampled, cv=5, scoring='accuracy', n_jobs=-1)"
   ]
  },
  {
   "cell_type": "code",
   "execution_count": 456,
   "id": "9154e3a4",
   "metadata": {},
   "outputs": [
    {
     "name": "stdout",
     "output_type": "stream",
     "text": [
      "Accuracy: 0.7070963318477889\n"
     ]
    }
   ],
   "source": [
    "rf.fit(norm_X_sampled, y_sampled)\n",
    "accuracy = rf.score(norm_X_test3, y_test2) \n",
    "y_pred = rf.predict(norm_X_test3)\n",
    "\n",
    "print(\"Accuracy: \" + str(accuracy))"
   ]
  },
  {
   "cell_type": "code",
   "execution_count": 457,
   "id": "f5a42dab",
   "metadata": {},
   "outputs": [
    {
     "data": {
      "text/plain": [
       "(array([0.78589532, 0.63837581, 0.05745063]),\n",
       " array([0.73831776, 0.71920274, 0.03258656]),\n",
       " array([0.76136399, 0.67638315, 0.04158545]),\n",
       " array([16799, 11389,   982]))"
      ]
     },
     "execution_count": 457,
     "metadata": {},
     "output_type": "execute_result"
    }
   ],
   "source": [
    "precision_recall_fscore_support(y_test2, y_pred, average=None, labels=[0,1,2]) # for each class "
   ]
  },
  {
   "cell_type": "markdown",
   "id": "6df1ce2b",
   "metadata": {},
   "source": [
    "- Bagging classifier"
   ]
  },
  {
   "cell_type": "code",
   "execution_count": 458,
   "id": "86673b23",
   "metadata": {},
   "outputs": [
    {
     "data": {
      "text/plain": [
       "{'fit_time': array([36.05737209, 36.29748821, 35.8005321 , 36.13600993, 36.1260972 ]),\n",
       " 'score_time': array([0.06480408, 0.06626296, 0.07392788, 0.06822824, 0.06837988]),\n",
       " 'test_score': array([0.65114583, 0.65395833, 0.649375  , 0.65354167, 0.64854167])}"
      ]
     },
     "execution_count": 458,
     "metadata": {},
     "output_type": "execute_result"
    }
   ],
   "source": [
    "from imblearn.ensemble import BalancedBaggingClassifier\n",
    "\n",
    "model = BalancedBaggingClassifier(random_state=42)\n",
    "\n",
    "cross_validate(model, norm_X_sampled, y_sampled, cv=5, scoring='accuracy', n_jobs=-1)"
   ]
  },
  {
   "cell_type": "code",
   "execution_count": 459,
   "id": "0d9eaf24",
   "metadata": {},
   "outputs": [
    {
     "name": "stdout",
     "output_type": "stream",
     "text": [
      "Accuracy: 0.5980802194034968\n"
     ]
    }
   ],
   "source": [
    "model.fit(norm_X_sampled, y_sampled)\n",
    "accuracy = model.score(norm_X_test3, y_test2) \n",
    "y_pred = model.predict(norm_X_test3)\n",
    "\n",
    "print(\"Accuracy: \" + str(accuracy))"
   ]
  },
  {
   "cell_type": "code",
   "execution_count": 460,
   "id": "05485379",
   "metadata": {},
   "outputs": [
    {
     "data": {
      "text/plain": [
       "(array([0.77764548, 0.60249888, 0.05411973]),\n",
       " array([0.62206084, 0.59276495, 0.24949084]),\n",
       " array([0.69120614, 0.59759228, 0.08894536]),\n",
       " array([16799, 11389,   982]))"
      ]
     },
     "execution_count": 460,
     "metadata": {},
     "output_type": "execute_result"
    }
   ],
   "source": [
    "precision_recall_fscore_support(y_test2, y_pred, average=None, labels=[0,1,2]) # for each class "
   ]
  },
  {
   "cell_type": "markdown",
   "id": "d025824f",
   "metadata": {},
   "source": [
    "- Balanced subsample on non-resampled data"
   ]
  },
  {
   "cell_type": "code",
   "execution_count": 461,
   "id": "b276b23a",
   "metadata": {},
   "outputs": [
    {
     "data": {
      "text/plain": [
       "{'fit_time': array([42.2323339 , 42.52201271, 42.27826095, 42.30357027, 42.22253299]),\n",
       " 'score_time': array([0.25027323, 0.22661209, 0.25366902, 0.24828863, 0.25118613]),\n",
       " 'test_score': array([0.70427083, 0.7065625 , 0.70989583, 0.70875   , 0.70541667])}"
      ]
     },
     "execution_count": 461,
     "metadata": {},
     "output_type": "execute_result"
    }
   ],
   "source": [
    "model = RandomForestClassifier(random_state=42, class_weight='balanced_subsample')\n",
    "\n",
    "cross_validate(model, norm_X_sampled, y_sampled, cv=5, scoring='accuracy', n_jobs=-1)"
   ]
  },
  {
   "cell_type": "code",
   "execution_count": 462,
   "id": "dd3eed32",
   "metadata": {},
   "outputs": [
    {
     "name": "stdout",
     "output_type": "stream",
     "text": [
      "Accuracy: 0.712170037709976\n"
     ]
    }
   ],
   "source": [
    "model.fit(norm_X_sampled, y_sampled)\n",
    "accuracy = model.score(norm_X_test3, y_test2) \n",
    "y_pred = model.predict(norm_X_test3)\n",
    "\n",
    "print(\"Accuracy: \" + str(accuracy))"
   ]
  },
  {
   "cell_type": "code",
   "execution_count": 463,
   "id": "4535fc55",
   "metadata": {},
   "outputs": [
    {
     "data": {
      "text/plain": [
       "(array([0.79766187, 0.64853033, 0.07407407]),\n",
       " array([0.73921067, 0.72842216, 0.0610998 ]),\n",
       " array([0.76732474, 0.68615855, 0.06696429]),\n",
       " array([16799, 11389,   982]))"
      ]
     },
     "execution_count": 463,
     "metadata": {},
     "output_type": "execute_result"
    }
   ],
   "source": [
    "precision_recall_fscore_support(y_test2, y_pred, average=None, labels=[0,1,2]) # for each class "
   ]
  },
  {
   "cell_type": "markdown",
   "id": "816cc817",
   "metadata": {},
   "source": [
    "- XGBoost"
   ]
  },
  {
   "cell_type": "code",
   "execution_count": 341,
   "id": "8677b90d",
   "metadata": {},
   "outputs": [
    {
     "data": {
      "text/plain": [
       "{'fit_time': array([192.56199884, 192.17270398, 191.4849453 , 192.08793402,\n",
       "        191.55418181]),\n",
       " 'score_time': array([0.07379198, 0.0809238 , 0.09987473, 0.08292913, 0.10130525]),\n",
       " 'test_score': array([0.63119565, 0.6398913 , 0.63826087, 0.63597826, 0.6398913 ])}"
      ]
     },
     "execution_count": 341,
     "metadata": {},
     "output_type": "execute_result"
    }
   ],
   "source": [
    "import xgboost as xgb\n",
    "model = xgb.XGBRFClassifier()\n",
    "cross_validate(model, norm_X_sampled, y_sampled, cv=5, scoring='accuracy', n_jobs=-1)"
   ]
  },
  {
   "cell_type": "code",
   "execution_count": 342,
   "id": "db1c5f31",
   "metadata": {},
   "outputs": [
    {
     "name": "stdout",
     "output_type": "stream",
     "text": [
      "Accuracy: 0.6844703462461433\n",
      "Execution time: 47.30878496170044\n"
     ]
    }
   ],
   "source": [
    "start = time.time()\n",
    "model.fit(norm_X_sampled, y_sampled)\n",
    "accuracy = model.score(norm_X_test3, y_test2) \n",
    "end = time.time()\n",
    "y_pred = model.predict(norm_X_test3)\n",
    "\n",
    "print(\"Accuracy: \" + str(accuracy))\n",
    "print(\"Execution time: \" + str(end-start))"
   ]
  },
  {
   "cell_type": "code",
   "execution_count": 343,
   "id": "a40442dc",
   "metadata": {},
   "outputs": [
    {
     "data": {
      "text/plain": [
       "(array([0.79936613, 0.60890361, 0.08348968]),\n",
       " array([0.69063635, 0.72657828, 0.09063136]),\n",
       " array([0.74103408, 0.66255655, 0.08691406]),\n",
       " array([16799, 11389,   982]))"
      ]
     },
     "execution_count": 343,
     "metadata": {},
     "output_type": "execute_result"
    }
   ],
   "source": [
    "precision_recall_fscore_support(y_test2, y_pred, average=None, labels=[0,1,2]) # for each class "
   ]
  },
  {
   "cell_type": "code",
   "execution_count": 344,
   "id": "ff6cb28b",
   "metadata": {},
   "outputs": [],
   "source": [
    "# No significant improvement in accuracy. \n",
    "# But some methods slightly improve precision, recall, f1 metrics. "
   ]
  }
 ],
 "metadata": {
  "kernelspec": {
   "display_name": "Python 3 (ipykernel)",
   "language": "python",
   "name": "python3"
  },
  "language_info": {
   "codemirror_mode": {
    "name": "ipython",
    "version": 3
   },
   "file_extension": ".py",
   "mimetype": "text/x-python",
   "name": "python",
   "nbconvert_exporter": "python",
   "pygments_lexer": "ipython3",
   "version": "3.9.0"
  }
 },
 "nbformat": 4,
 "nbformat_minor": 5
}
