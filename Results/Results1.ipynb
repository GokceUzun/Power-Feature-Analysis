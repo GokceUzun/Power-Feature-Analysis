{
 "cells": [
  {
   "cell_type": "markdown",
   "id": "29e5069c",
   "metadata": {},
   "source": [
    "### Manual scoring results"
   ]
  },
  {
   "cell_type": "code",
   "execution_count": 1,
   "id": "1d02370f",
   "metadata": {},
   "outputs": [],
   "source": [
    "from LoadData import LoadData\n",
    "from FilterBasic import Filter\n",
    "from FrequencyDomainFeatures import FrequencyDomainFeatures\n",
    "from TimeDomainFeatures import TimeDomainFeatures\n",
    "from FeaturesData import FeaturesData"
   ]
  },
  {
   "cell_type": "code",
   "execution_count": 194,
   "id": "5fb12e09",
   "metadata": {},
   "outputs": [],
   "source": [
    "import pandas as pd\n",
    "import numpy as np\n",
    "from sklearn.naive_bayes import GaussianNB\n",
    "from sklearn.preprocessing import StandardScaler \n",
    "from sklearn.preprocessing import MinMaxScaler \n",
    "from sklearn.naive_bayes import ComplementNB\n",
    "from sklearn.model_selection import GridSearchCV\n",
    "from sklearn.ensemble import RandomForestClassifier\n",
    "import time\n",
    "from sklearn.model_selection import cross_validate\n",
    "from sklearn.model_selection import cross_val_score\n",
    "from sklearn.metrics import balanced_accuracy_score\n",
    "from sklearn.metrics import roc_auc_score\n",
    "from sklearn import metrics\n",
    "import matplotlib.pyplot as plt\n",
    "from sklearn.metrics import precision_recall_fscore_support\n",
    "from sklearn.metrics import multilabel_confusion_matrix\n",
    "from sklearn.metrics import classification_report"
   ]
  },
  {
   "cell_type": "markdown",
   "id": "59dc08e0",
   "metadata": {},
   "source": [
    "- relativePower = False\n",
    "- removeNoise = True\n",
    "- applyPCA = False \n",
    "\n",
    "Train/Validation animals = ['S7074', 'S7072', 'S7071', 'S7070', 'S7069', 'S7068', 'S7064']  \n",
    "Baseline 1"
   ]
  },
  {
   "cell_type": "code",
   "execution_count": 5,
   "id": "2c44c106",
   "metadata": {},
   "outputs": [],
   "source": [
    "directory = \"/Volumes/Macintosh HD/Users/gokceuzun/Desktop/4. SENE/Honors Project\"\n",
    "filename = \"S7074_WT.npy\"\n",
    "data = LoadData(directory=directory, filename=filename, start=35862289, end=57496848)\n",
    "unfiltered_data = data.get_dat()\n",
    "unfiltered_data = data.slice_data(unfiltered_data)\n",
    "\n",
    "fltr_instance = Filter(unfiltered_data, channels=[3,12,5,9,4,11,1])\n",
    "\n",
    "features = FeaturesData(\n",
    "    fltr_instance,\n",
    "    relativePower=False,\n",
    "    removeNoise=True,\n",
    "    applyPCA=False,\n",
    "    brainstatefile=\"S7074_BL1.npy\")\n",
    "\n",
    "animal = ['S7074' for i in range(len(features))]\n",
    "features['animal'] = animal\n",
    "\n",
    "Xy_S7074 = features"
   ]
  },
  {
   "cell_type": "code",
   "execution_count": 15,
   "id": "8653a7ec",
   "metadata": {},
   "outputs": [],
   "source": [
    "directory = \"/Volumes/Macintosh HD/Users/gokceuzun/Desktop/4. SENE/Honors Project\"\n",
    "filename = \"S7072_GAP.npy\"\n",
    "data = LoadData(directory=directory, filename=filename, start=16481329, end=38115888)\n",
    "unfiltered_data = data.get_dat()\n",
    "unfiltered_data = data.slice_data(unfiltered_data)\n",
    "\n",
    "fltr_instance = Filter(unfiltered_data, channels=[3,12,5,9,4,11,1])\n",
    "\n",
    "features = FeaturesData(\n",
    "    fltr_instance,\n",
    "    relativePower=False,\n",
    "    removeNoise=True,\n",
    "    applyPCA=False,\n",
    "    brainstatefile=\"S7072_BL1.npy\")\n",
    "\n",
    "animal = ['S7072' for i in range(len(features))]\n",
    "features['animal'] = animal\n",
    "\n",
    "Xy_S7072 = features"
   ]
  },
  {
   "cell_type": "code",
   "execution_count": 16,
   "id": "ea4b95cc",
   "metadata": {},
   "outputs": [],
   "source": [
    "directory = \"/Volumes/Macintosh HD/Users/gokceuzun/Desktop/4. SENE/Honors Project\"\n",
    "filename = \"S7071_WT.npy\"\n",
    "data = LoadData(directory=directory, filename=filename, start=16481329, end=38115888)\n",
    "unfiltered_data = data.get_dat()\n",
    "unfiltered_data = data.slice_data(unfiltered_data)\n",
    "\n",
    "fltr_instance = Filter(unfiltered_data, channels=[3,12,5,9,4,11,1])\n",
    "\n",
    "features = FeaturesData(\n",
    "    fltr_instance,\n",
    "    relativePower=False,\n",
    "    removeNoise=True,\n",
    "    applyPCA=False,\n",
    "    brainstatefile=\"S7071_BL1.npy\")\n",
    "\n",
    "animal = ['S7071' for i in range(len(features))]\n",
    "features['animal'] = animal\n",
    "\n",
    "Xy_S7071 = features"
   ]
  },
  {
   "cell_type": "code",
   "execution_count": 17,
   "id": "2f8bbb8f",
   "metadata": {},
   "outputs": [],
   "source": [
    "filename = \"S7064_GAP.npy\"\n",
    "data = LoadData(directory=directory, filename=filename, start=15324481, end=36959040)\n",
    "unfiltered_data = data.get_dat()\n",
    "unfiltered_data = data.slice_data(unfiltered_data)\n",
    "\n",
    "fltr_instance = Filter(unfiltered_data, channels=[3,12,5,9,4,11,1])\n",
    "\n",
    "features = FeaturesData(\n",
    "    fltr_instance,\n",
    "    relativePower=False,\n",
    "    removeNoise=True,\n",
    "    applyPCA=False,\n",
    "    brainstatefile=\"S7064_BL1.npy\")\n",
    "\n",
    "animal = ['S7064' for i in range(len(features))]\n",
    "features['animal'] = animal\n",
    "\n",
    "Xy_S7064 = features"
   ]
  },
  {
   "cell_type": "code",
   "execution_count": 18,
   "id": "bfb3cbf6",
   "metadata": {},
   "outputs": [],
   "source": [
    "filename = \"S7069_GAP.npy\"\n",
    "data = LoadData(directory=directory, filename=filename, start=12214513, end=33849072)\n",
    "unfiltered_data = data.get_dat()\n",
    "unfiltered_data = data.slice_data(unfiltered_data)\n",
    "\n",
    "fltr_instance = Filter(unfiltered_data, channels=[3,12,5,9,4,11,1])\n",
    "\n",
    "features = FeaturesData(\n",
    "    fltr_instance,\n",
    "    relativePower=False,\n",
    "    removeNoise=True,\n",
    "    applyPCA=False,\n",
    "    brainstatefile=\"S7069_BL1.npy\")\n",
    "\n",
    "animal = ['S7069' for i in range(len(features))]\n",
    "features['animal'] = animal\n",
    "\n",
    "Xy_S7069 = features"
   ]
  },
  {
   "cell_type": "code",
   "execution_count": 19,
   "id": "c37c4519",
   "metadata": {},
   "outputs": [],
   "source": [
    "filename = \"S7068_WT.npy\"\n",
    "data = LoadData(directory=directory, filename=filename, start=12214513, end=33849072)\n",
    "unfiltered_data = data.get_dat()\n",
    "unfiltered_data = data.slice_data(unfiltered_data)\n",
    "\n",
    "fltr_instance = Filter(unfiltered_data, channels=[3,12,5,9,4,11,1])\n",
    "\n",
    "features = FeaturesData(\n",
    "    fltr_instance,\n",
    "    relativePower=False,\n",
    "    removeNoise=True,\n",
    "    applyPCA=False,\n",
    "    brainstatefile=\"S7068_BL1.npy\")\n",
    "\n",
    "animal = ['S7068' for i in range(len(features))]\n",
    "features['animal'] = animal\n",
    "\n",
    "Xy_S7068 = features"
   ]
  },
  {
   "cell_type": "code",
   "execution_count": 20,
   "id": "faed64b8",
   "metadata": {},
   "outputs": [],
   "source": [
    "filename = \"S7070_WT.npy\"\n",
    "data = LoadData(directory=directory, filename=filename, start=16481329, end=38115888)\n",
    "unfiltered_data = data.get_dat()\n",
    "unfiltered_data = data.slice_data(unfiltered_data)\n",
    "\n",
    "fltr_instance = Filter(unfiltered_data, channels=[3,12,5,9,4,11,1])\n",
    "\n",
    "features = FeaturesData(\n",
    "    fltr_instance,\n",
    "    relativePower=False,\n",
    "    removeNoise=True,\n",
    "    applyPCA=False,\n",
    "    brainstatefile=\"S7070_BL1.npy\")\n",
    "\n",
    "animal = ['S7070' for i in range(len(features))]\n",
    "features['animal'] = animal\n",
    "\n",
    "Xy_S7070 = features"
   ]
  },
  {
   "cell_type": "markdown",
   "id": "a4451b1c",
   "metadata": {},
   "source": [
    "Test = ['S7075', 'S7063']"
   ]
  },
  {
   "cell_type": "code",
   "execution_count": 21,
   "id": "e1dd25e8",
   "metadata": {},
   "outputs": [],
   "source": [
    "directory = \"/Volumes/Macintosh HD/Users/gokceuzun/Desktop/4. SENE/Honors Project\"\n",
    "filename = \"S7075_GAP.npy\"\n",
    "data = LoadData(directory=directory, filename=filename, start=14227729, end=35862288)\n",
    "unfiltered_data = data.get_dat()\n",
    "unfiltered_data = data.slice_data(unfiltered_data)\n",
    "\n",
    "fltr_instance = Filter(unfiltered_data, channels=[3,12,5,9,4,11,1])\n",
    "\n",
    "features = FeaturesData(\n",
    "    fltr_instance,\n",
    "    relativePower=False,\n",
    "    removeNoise=True,\n",
    "    applyPCA=False,\n",
    "    brainstatefile=\"S7075_BL1.npy\")\n",
    "\n",
    "animal = ['S7075' for i in range(len(features))]\n",
    "features['animal'] = animal\n",
    "\n",
    "Xy_S7075 = features"
   ]
  },
  {
   "cell_type": "code",
   "execution_count": 22,
   "id": "801b7a18",
   "metadata": {},
   "outputs": [],
   "source": [
    "directory = \"/Volumes/Macintosh HD/Users/gokceuzun/Desktop/4. SENE/Honors Project\"\n",
    "filename = \"S7063_GAP.npy\"\n",
    "data = LoadData(directory=directory, filename=filename, start=15324481, end=36959040)\n",
    "unfiltered_data = data.get_dat()\n",
    "unfiltered_data = data.slice_data(unfiltered_data)\n",
    "\n",
    "fltr_instance = Filter(unfiltered_data, channels=[3,12,5,9,4,11,1])\n",
    "\n",
    "features = FeaturesData(\n",
    "    fltr_instance,\n",
    "    relativePower=False,\n",
    "    removeNoise=True,\n",
    "    applyPCA=False,\n",
    "    brainstatefile=\"S7063_BL1.npy\")\n",
    "\n",
    "animal = ['S7063' for i in range(len(features))]\n",
    "features['animal'] = animal\n",
    "\n",
    "Xy_S7063 = features"
   ]
  },
  {
   "cell_type": "markdown",
   "id": "d63b064a",
   "metadata": {},
   "source": [
    "## First two classes"
   ]
  },
  {
   "cell_type": "code",
   "execution_count": 33,
   "id": "9406000f",
   "metadata": {},
   "outputs": [],
   "source": [
    "Xy1 = pd.concat([Xy_S7074, Xy_S7072, Xy_S7071, Xy_S7070, Xy_S7069, Xy_S7068, Xy_S7064], axis=0)\n",
    "Xy1 = Xy1.loc[(Xy1['brainstate'] != 2) & (Xy1['brainstate'] != 4)].reset_index() # disregard seizure and rem\n",
    "\n",
    "groups_train1 = Xy1.animal\n",
    "y_train1 = Xy1.brainstate.astype('int')\n",
    "X_train1 = Xy1.loc[:, ~Xy1.columns.isin(['animal', 'brainstate', 'index'])]"
   ]
  },
  {
   "cell_type": "code",
   "execution_count": 34,
   "id": "5aae485f",
   "metadata": {},
   "outputs": [],
   "source": [
    "Xy_test1 = pd.concat([Xy_S7075, Xy_S7063], axis=0)\n",
    "\n",
    "Xy_test1 = Xy_test1.loc[(Xy_test1['brainstate'] != 4) & (Xy_test1['brainstate'] != 2)].reset_index() # disregard seizure and rem\n",
    "\n",
    "groups_test1 = Xy_test1.animal\n",
    "y_test1 = Xy_test1.brainstate.astype('int')\n",
    "X_test1 = Xy_test1.loc[:, ~Xy_test1.columns.isin(['animal', 'brainstate', 'index'])]"
   ]
  },
  {
   "cell_type": "markdown",
   "id": "058a482f",
   "metadata": {},
   "source": [
    "### Naive Bayes\n",
    "#### GAUSSIAN NAIVE BAYES"
   ]
  },
  {
   "cell_type": "code",
   "execution_count": 42,
   "id": "03a8caf0",
   "metadata": {},
   "outputs": [
    {
     "data": {
      "text/plain": [
       "{'fit_time': array([0.20759702, 0.31295395, 0.29578209, 0.29081702, 0.27427387]),\n",
       " 'score_time': array([0.03317809, 0.04177904, 0.03814888, 0.04644203, 0.04438019]),\n",
       " 'test_score': array([0.47483171, 0.46810007, 0.45516202, 0.45867872, 0.46787239]),\n",
       " 'train_score': array([0.46277992, 0.47388252, 0.46650423, 0.45999849, 0.46374118])}"
      ]
     },
     "execution_count": 42,
     "metadata": {},
     "output_type": "execute_result"
    }
   ],
   "source": [
    "cross_validate(GaussianNB(), X_train1, y_train1, cv=5, scoring='accuracy', \n",
    "               groups=groups_train1, n_jobs=-1, return_train_score=True)"
   ]
  },
  {
   "cell_type": "code",
   "execution_count": 43,
   "id": "cfed5f58",
   "metadata": {},
   "outputs": [
    {
     "name": "stdout",
     "output_type": "stream",
     "text": [
      "Accuracy: 0.42287498226195547\n",
      "Execution time: 0.23643898963928223\n"
     ]
    }
   ],
   "source": [
    "gnb = GaussianNB()\n",
    "start = time.time()\n",
    "gnb.fit(X_train1, y_train1)\n",
    "accuracy = gnb.score(X_test1, y_test1) # Baseline\n",
    "end = time.time()\n",
    "\n",
    "print(\"Accuracy: \" + str(accuracy))\n",
    "print(\"Execution time: \" + str(end-start))"
   ]
  },
  {
   "cell_type": "code",
   "execution_count": 44,
   "id": "36e5b41d",
   "metadata": {},
   "outputs": [
    {
     "data": {
      "text/plain": [
       "{'fit_time': array([0.32675719, 0.33604097, 0.33738804, 0.34319806, 0.36526418]),\n",
       " 'score_time': array([0.04215598, 0.04807615, 0.05151486, 0.05448389, 0.05595398]),\n",
       " 'test_score': array([0.48251783, 0.47749422, 0.45742276, 0.46119066, 0.47053504]),\n",
       " 'train_score': array([0.46628402, 0.48283744, 0.47000829, 0.46414308, 0.46769737])}"
      ]
     },
     "execution_count": 44,
     "metadata": {},
     "output_type": "execute_result"
    }
   ],
   "source": [
    "# Standardize data mean=0 and stdev=1\n",
    "stand_scaler = StandardScaler()\n",
    "stand_X_train1 = stand_scaler.fit_transform(X_train1)\n",
    "stand_X_test1 = stand_scaler.transform(X_test1)\n",
    "\n",
    "cross_validate(GaussianNB(), stand_X_train1, y_train1, cv=5, scoring='accuracy', \n",
    "               groups=groups_train1, n_jobs=-1, return_train_score=True)"
   ]
  },
  {
   "cell_type": "code",
   "execution_count": 45,
   "id": "b9f2af4f",
   "metadata": {},
   "outputs": [
    {
     "name": "stdout",
     "output_type": "stream",
     "text": [
      "Accuracy: 0.42564211721299844\n",
      "Execution time: 0.23202300071716309\n"
     ]
    }
   ],
   "source": [
    "gnb = GaussianNB()\n",
    "start = time.time()\n",
    "gnb.fit(stand_X_train1, y_train1)\n",
    "accuracy = gnb.score(stand_X_test1, y_test1) # Standardized\n",
    "end = time.time()\n",
    "\n",
    "print(\"Accuracy: \" + str(accuracy))\n",
    "print(\"Execution time: \" + str(end-start))"
   ]
  },
  {
   "cell_type": "code",
   "execution_count": 46,
   "id": "14fd2ea6",
   "metadata": {},
   "outputs": [
    {
     "data": {
      "text/plain": [
       "{'fit_time': array([0.36662674, 0.36690593, 0.34495401, 0.37214804, 0.3856051 ]),\n",
       " 'score_time': array([0.04745603, 0.05417609, 0.04778504, 0.06007099, 0.04597092]),\n",
       " 'test_score': array([0.48256807, 0.47749422, 0.45742276, 0.46119066, 0.47053504]),\n",
       " 'train_score': array([0.46628402, 0.48283744, 0.47000829, 0.46414308, 0.46769737])}"
      ]
     },
     "execution_count": 46,
     "metadata": {},
     "output_type": "execute_result"
    }
   ],
   "source": [
    "# Normalize data between 0 and 1\n",
    "norm_scaler = MinMaxScaler()\n",
    "norm_X_train1 = norm_scaler.fit_transform(X_train1)\n",
    "norm_X_test1 = norm_scaler.transform(X_test1)\n",
    "\n",
    "cross_validate(GaussianNB(), norm_X_train1, y_train1, cv=5, scoring='accuracy', \n",
    "               groups=groups_train1, n_jobs=-1, return_train_score=True)"
   ]
  },
  {
   "cell_type": "code",
   "execution_count": 47,
   "id": "a261b4b1",
   "metadata": {},
   "outputs": [
    {
     "name": "stdout",
     "output_type": "stream",
     "text": [
      "Accuracy: 0.42564211721299844\n",
      "Execution time: 0.23267102241516113\n"
     ]
    }
   ],
   "source": [
    "gnb = GaussianNB()\n",
    "start = time.time()\n",
    "gnb.fit(norm_X_train1, y_train1)\n",
    "accuracy = gnb.score(norm_X_test1, y_test1) # Normalized\n",
    "end = time.time()\n",
    "\n",
    "print(\"Accuracy: \" + str(accuracy))\n",
    "print(\"Execution time: \" + str(end-start))"
   ]
  },
  {
   "cell_type": "code",
   "execution_count": 48,
   "id": "6f0fd636",
   "metadata": {},
   "outputs": [],
   "source": [
    "# Standardized and normalized data performed the same, greater accuracy compared to baseline Gaussian."
   ]
  },
  {
   "cell_type": "markdown",
   "id": "21bb44a8",
   "metadata": {},
   "source": [
    "#### COMPLEMENT NAIVE BAYES"
   ]
  },
  {
   "cell_type": "code",
   "execution_count": 49,
   "id": "822e7091",
   "metadata": {},
   "outputs": [
    {
     "data": {
      "text/plain": [
       "{'fit_time': array([0.2013576 , 0.20280671, 0.1999259 , 0.19372678, 0.19509983]),\n",
       " 'score_time': array([0.00963211, 0.01119304, 0.01148295, 0.01205015, 0.01237512]),\n",
       " 'test_score': array([0.64382598, 0.70958505, 0.69675961, 0.62617433, 0.59718664]),\n",
       " 'train_score': array([0.66439758, 0.64410143, 0.64347793, 0.66482882, 0.67899575])}"
      ]
     },
     "execution_count": 49,
     "metadata": {},
     "output_type": "execute_result"
    }
   ],
   "source": [
    "cross_validate(ComplementNB(), norm_X_train1, y_train1, cv=5, scoring='accuracy', \n",
    "               groups=groups_train1, n_jobs=-1, return_train_score=True)"
   ]
  },
  {
   "cell_type": "code",
   "execution_count": 50,
   "id": "39501a5f",
   "metadata": {},
   "outputs": [
    {
     "name": "stdout",
     "output_type": "stream",
     "text": [
      "Accuracy: 0.7139917695473251\n",
      "Execution time: 0.04318690299987793\n"
     ]
    }
   ],
   "source": [
    "cnb = ComplementNB()\n",
    "start = time.time()\n",
    "cnb.fit(norm_X_train1, y_train1)\n",
    "accuracy = cnb.score(norm_X_test1, y_test1) # Baseline\n",
    "end = time.time()\n",
    "\n",
    "print(\"Accuracy: \" + str(accuracy))\n",
    "print(\"Execution time: \" + str(end-start))"
   ]
  },
  {
   "cell_type": "code",
   "execution_count": 51,
   "id": "84f5df73",
   "metadata": {},
   "outputs": [],
   "source": [
    "# Complement Naive Bayes performed better than Gaussian Naive Bayes - imbalanced classes.\n",
    "# Performed on normalized data. "
   ]
  },
  {
   "cell_type": "markdown",
   "id": "1ea7745d",
   "metadata": {},
   "source": [
    "##### Hyperparameter Tuning"
   ]
  },
  {
   "cell_type": "code",
   "execution_count": 96,
   "id": "05bc0d2b",
   "metadata": {},
   "outputs": [
    {
     "data": {
      "text/plain": [
       "{'alpha': 300,\n",
       " 'class_prior': [0.0002, 5e-05],\n",
       " 'fit_prior': True,\n",
       " 'force_alpha': True,\n",
       " 'norm': False}"
      ]
     },
     "execution_count": 96,
     "metadata": {},
     "output_type": "execute_result"
    }
   ],
   "source": [
    "param_grid = dict()\n",
    "param_grid['alpha'] = [120, 130, 150, 200, 300, 350, 400, 305]\n",
    "param_grid['fit_prior'] = [True, False]\n",
    "param_grid['class_prior'] = [[0.0002,0.00005], [2,0.5], [0.0002,3e-05], [0.0001,5e-05], [0.0003,5e-05]]\n",
    "param_grid['force_alpha'] = [True, False]\n",
    "param_grid['norm'] = [True, False]\n",
    "\n",
    "start = time.time()\n",
    "grd1 = GridSearchCV(ComplementNB(), param_grid, scoring='accuracy', n_jobs=-1, cv=5) # 5-fold stratified cv\n",
    "grd1.fit(norm_X_train1, y_train1)\n",
    "end = time.time()\n",
    "\n",
    "grd1.best_params_"
   ]
  },
  {
   "cell_type": "code",
   "execution_count": 97,
   "id": "af22c074",
   "metadata": {},
   "outputs": [
    {
     "name": "stdout",
     "output_type": "stream",
     "text": [
      "Hyperparameter tuning computation time: 49.7681999206543\n"
     ]
    }
   ],
   "source": [
    "print(\"Hyperparameter tuning computation time: \" + str(end-start))"
   ]
  },
  {
   "cell_type": "code",
   "execution_count": 98,
   "id": "2a88b475",
   "metadata": {},
   "outputs": [
    {
     "data": {
      "text/plain": [
       "{'fit_time': array([0.14659572, 0.13536572, 0.13491702, 0.14143372, 0.15277624]),\n",
       " 'score_time': array([0.0099442 , 0.00736117, 0.01027298, 0.00887823, 0.00794196]),\n",
       " 'test_score': array([0.65839445, 0.72083794, 0.72107511, 0.65380558, 0.63506657]),\n",
       " 'train_score': array([0.68336243, 0.66932091, 0.67075683, 0.68719701, 0.68945769])}"
      ]
     },
     "execution_count": 98,
     "metadata": {},
     "output_type": "execute_result"
    }
   ],
   "source": [
    "# Evaluation of the model\n",
    "cross_validate(grd1.best_estimator_, norm_X_train1, y_train1, cv=5, scoring='accuracy', \n",
    "               groups=groups_train1, n_jobs=-1, return_train_score=True)"
   ]
  },
  {
   "cell_type": "code",
   "execution_count": 99,
   "id": "ae52a67b",
   "metadata": {},
   "outputs": [
    {
     "name": "stdout",
     "output_type": "stream",
     "text": [
      "Accuracy: 0.7416276429686391\n",
      "Execution time: 0.03548383712768555\n"
     ]
    }
   ],
   "source": [
    "cnb1 = grd1.best_estimator_\n",
    "start = time.time()\n",
    "cnb1.fit(norm_X_train1, y_train1)\n",
    "accuracy = cnb1.score(norm_X_test1, y_test1)\n",
    "end = time.time()\n",
    "\n",
    "print(\"Accuracy: \" + str(accuracy))\n",
    "print(\"Execution time: \" + str(end-start))"
   ]
  },
  {
   "cell_type": "markdown",
   "id": "edcc7a33",
   "metadata": {},
   "source": [
    "### Random Forest"
   ]
  },
  {
   "cell_type": "code",
   "execution_count": 100,
   "id": "3d1ff01a",
   "metadata": {},
   "outputs": [
    {
     "data": {
      "text/plain": [
       "{'fit_time': array([109.23872399, 110.29281187, 107.18145609, 112.30430794,\n",
       "        109.54559898]),\n",
       " 'score_time': array([0.52273107, 0.43067598, 0.51938367, 0.45421481, 0.50691795]),\n",
       " 'test_score': array([0.73495429, 0.66869286, 0.75172067, 0.48585782, 0.55207234]),\n",
       " 'train_score': array([1.       , 1.       , 1.       , 0.9999372, 1.       ])}"
      ]
     },
     "execution_count": 100,
     "metadata": {},
     "output_type": "execute_result"
    }
   ],
   "source": [
    "cross_validate(RandomForestClassifier(), X_train1, y_train1, cv=5, scoring='accuracy', \n",
    "               groups=groups_train1, n_jobs=-1, return_train_score=True)"
   ]
  },
  {
   "cell_type": "code",
   "execution_count": 101,
   "id": "05c34434",
   "metadata": {},
   "outputs": [
    {
     "name": "stdout",
     "output_type": "stream",
     "text": [
      "Accuracy: 0.7387895558393642\n",
      "Execution time: 102.25915694236755\n"
     ]
    }
   ],
   "source": [
    "rf = RandomForestClassifier()\n",
    "start = time.time()\n",
    "rf.fit(X_train1, y_train1)\n",
    "accuracy = rf.score(X_test1, y_test1) # Baseline\n",
    "end = time.time()\n",
    "\n",
    "print(\"Accuracy: \" + str(accuracy))\n",
    "print(\"Execution time: \" + str(end-start))"
   ]
  },
  {
   "cell_type": "code",
   "execution_count": 102,
   "id": "588c4364",
   "metadata": {},
   "outputs": [
    {
     "data": {
      "text/plain": [
       "{'fit_time': array([93.14301515, 93.23887897, 91.95117092, 94.92653608, 91.76962686]),\n",
       " 'score_time': array([0.42829394, 0.39517117, 0.43349814, 0.35892081, 0.42927718]),\n",
       " 'test_score': array([0.72892595, 0.6676379 , 0.74217533, 0.50761115, 0.54287867]),\n",
       " 'train_score': array([0.99998744, 1.        , 0.99998744, 0.99998744, 0.99997488])}"
      ]
     },
     "execution_count": 102,
     "metadata": {},
     "output_type": "execute_result"
    }
   ],
   "source": [
    "cross_validate(RandomForestClassifier(), norm_X_train1, y_train1, cv=5, scoring='accuracy', \n",
    "               groups=groups_train1, n_jobs=-1, return_train_score=True)"
   ]
  },
  {
   "cell_type": "code",
   "execution_count": 103,
   "id": "2c195530",
   "metadata": {},
   "outputs": [
    {
     "name": "stdout",
     "output_type": "stream",
     "text": [
      "Accuracy: 0.7459202497516674\n",
      "Execution time: 86.28195309638977\n"
     ]
    }
   ],
   "source": [
    "rf = RandomForestClassifier()\n",
    "start = time.time()\n",
    "rf.fit(norm_X_train1, y_train1)\n",
    "accuracy = rf.score(norm_X_test1, y_test1) # Normalized\n",
    "end = time.time()\n",
    "\n",
    "print(\"Accuracy: \" + str(accuracy))\n",
    "print(\"Execution time: \" + str(end-start))"
   ]
  },
  {
   "cell_type": "code",
   "execution_count": 104,
   "id": "450e5dd4",
   "metadata": {},
   "outputs": [
    {
     "data": {
      "text/plain": [
       "{'fit_time': array([108.07563114, 105.24020004, 103.96872282, 107.90238214,\n",
       "        105.70360518]),\n",
       " 'score_time': array([0.31868696, 0.40095997, 0.43822408, 0.33982897, 0.4227159 ]),\n",
       " 'test_score': array([0.73088516, 0.66914498, 0.75041447, 0.48671188, 0.55483547]),\n",
       " 'train_score': array([0.99998744, 1.        , 1.        , 1.        , 0.99997488])}"
      ]
     },
     "execution_count": 104,
     "metadata": {},
     "output_type": "execute_result"
    }
   ],
   "source": [
    "cross_validate(RandomForestClassifier(), stand_X_train1, y_train1, cv=5, scoring='accuracy', \n",
    "               groups=groups_train1, n_jobs=-1, return_train_score=True)"
   ]
  },
  {
   "cell_type": "code",
   "execution_count": 105,
   "id": "89f2b874",
   "metadata": {},
   "outputs": [
    {
     "name": "stdout",
     "output_type": "stream",
     "text": [
      "Accuracy: 0.7428693060876969\n",
      "Execution time: 97.58476996421814\n"
     ]
    }
   ],
   "source": [
    "rf = RandomForestClassifier()\n",
    "start = time.time()\n",
    "rf.fit(stand_X_train1, y_train1)\n",
    "accuracy = rf.score(stand_X_test1, y_test1) # Standardized\n",
    "end = time.time()\n",
    "\n",
    "print(\"Accuracy: \" + str(accuracy))\n",
    "print(\"Execution time: \" + str(end-start))"
   ]
  },
  {
   "cell_type": "code",
   "execution_count": 106,
   "id": "f9b6f3ed",
   "metadata": {},
   "outputs": [],
   "source": [
    "# Normalized data performed the best for RF. "
   ]
  },
  {
   "cell_type": "markdown",
   "id": "4736e427",
   "metadata": {},
   "source": [
    "##### Hyperparameter Tuning"
   ]
  },
  {
   "cell_type": "code",
   "execution_count": 157,
   "id": "00238417",
   "metadata": {},
   "outputs": [
    {
     "data": {
      "text/plain": [
       "{'bootstrap': True,\n",
       " 'class_weight': {0: 0.8, 1: 1.2},\n",
       " 'criterion': 'entropy',\n",
       " 'max_depth': 5,\n",
       " 'max_features': 'sqrt',\n",
       " 'min_samples_leaf': 70,\n",
       " 'n_estimators': 40,\n",
       " 'n_jobs': -1,\n",
       " 'random_state': 10}"
      ]
     },
     "execution_count": 157,
     "metadata": {},
     "output_type": "execute_result"
    }
   ],
   "source": [
    "param_grid = dict()\n",
    "param_grid['n_estimators'] = [40] # 50\n",
    "param_grid['criterion'] = ['entropy']\n",
    "param_grid['max_depth'] = [5]\n",
    "#param_grid['min_samples_split'] = [5]\n",
    "param_grid['min_samples_leaf'] = [70] # 60\n",
    "#param_grid['min_weight_fraction_leaf'] = [0.0, 2.0, 5.0]\n",
    "param_grid['max_features'] = ['sqrt']\n",
    "#param_grid['max_leaf_nodes'] = [2, 5, 10]\n",
    "#param_grid['min_impurity_decrease'] = [0.0, 2.0, 5.0]\n",
    "param_grid['bootstrap'] = [True]\n",
    "#param_grid['oob_score'] = [True, False]\n",
    "param_grid['n_jobs'] = [-1]\n",
    "param_grid['random_state'] = [10]\n",
    "#param_grid['verbose'] = [0, 2, 5]\n",
    "#param_grid['warm_start'] = [True, False]\n",
    "param_grid['class_weight'] = [{0:0.8, 1:1.2}]\n",
    "#param_grid['ccp_alpha'] = [0.0, 2.0]\n",
    "#param_grid['max_samples'] = [100, 10]\n",
    "\n",
    "start = time.time()\n",
    "grd1 = GridSearchCV(RandomForestClassifier(), param_grid, scoring='accuracy', n_jobs=-1, cv=5) # 5-fold stratified cv\n",
    "grd1.fit(norm_X_train1, y_train1)\n",
    "end = time.time()\n",
    "\n",
    "grd1.best_params_"
   ]
  },
  {
   "cell_type": "code",
   "execution_count": 158,
   "id": "58ed1e30",
   "metadata": {},
   "outputs": [
    {
     "name": "stdout",
     "output_type": "stream",
     "text": [
      "Hyperparameter tuning computation time: 14.011017799377441\n"
     ]
    }
   ],
   "source": [
    "print(\"Hyperparameter tuning computation time: \" + str(end-start))"
   ]
  },
  {
   "cell_type": "code",
   "execution_count": 159,
   "id": "76ed34ea",
   "metadata": {},
   "outputs": [
    {
     "data": {
      "text/plain": [
       "{'fit_time': array([11.87910008, 11.88014388, 11.89080906, 11.92995381, 11.89204884]),\n",
       " 'score_time': array([0.04143715, 0.04176617, 0.04593515, 0.06471586, 0.06631613]),\n",
       " 'test_score': array([0.69893499, 0.68828494, 0.73890982, 0.57387591, 0.64285355]),\n",
       " 'train_score': array([0.72975722, 0.71083006, 0.71446334, 0.73496019, 0.74105147])}"
      ]
     },
     "execution_count": 159,
     "metadata": {},
     "output_type": "execute_result"
    }
   ],
   "source": [
    "# Evaluation of the model\n",
    "cross_validate(grd1.best_estimator_, norm_X_train1, y_train1, cv=5, scoring='accuracy', \n",
    "               groups=groups_train1, n_jobs=-1, return_train_score=True)"
   ]
  },
  {
   "cell_type": "code",
   "execution_count": 160,
   "id": "9eb2e7b5",
   "metadata": {},
   "outputs": [
    {
     "name": "stdout",
     "output_type": "stream",
     "text": [
      "Accuracy: 0.7506030935149709\n",
      "Execution time: 2.89201283454895\n"
     ]
    }
   ],
   "source": [
    "rf1 = grd1.best_estimator_\n",
    "start = time.time()\n",
    "rf1.fit(norm_X_train1, y_train1)\n",
    "accuracy = rf1.score(norm_X_test1, y_test1) # Threshold\n",
    "end = time.time()\n",
    "\n",
    "print(\"Accuracy: \" + str(accuracy))\n",
    "print(\"Execution time: \" + str(end-start))"
   ]
  },
  {
   "cell_type": "markdown",
   "id": "b0b649a0",
   "metadata": {},
   "source": [
    "## First two classes"
   ]
  },
  {
   "cell_type": "code",
   "execution_count": 130,
   "id": "14512772",
   "metadata": {},
   "outputs": [],
   "source": [
    "Xy2 = pd.concat([Xy_S7074, Xy_S7072, Xy_S7071, Xy_S7070, Xy_S7069, Xy_S7068, Xy_S7064], axis=0)\n",
    "Xy2 = Xy2.loc[(Xy2['brainstate'] != 4)].reset_index() # disregard seizure and rem\n",
    "\n",
    "groups_train2 = Xy2.animal\n",
    "y_train2 = Xy2.brainstate.astype('int')\n",
    "X_train2 = Xy2.loc[:, ~Xy2.columns.isin(['animal', 'brainstate', 'index'])]"
   ]
  },
  {
   "cell_type": "code",
   "execution_count": 131,
   "id": "a0463fd1",
   "metadata": {},
   "outputs": [],
   "source": [
    "Xy_test2 = pd.concat([Xy_S7075, Xy_S7063], axis=0)\n",
    "\n",
    "Xy_test2 = Xy_test2.loc[(Xy_test2['brainstate'] != 4)].reset_index() # disregard seizure and rem\n",
    "\n",
    "groups_test2 = Xy_test2.animal\n",
    "y_test2 = Xy_test2.brainstate.astype('int')\n",
    "X_test2 = Xy_test2.loc[:, ~Xy_test2.columns.isin(['animal', 'brainstate', 'index'])]"
   ]
  },
  {
   "cell_type": "markdown",
   "id": "88f884ab",
   "metadata": {},
   "source": [
    "### Naive Bayes\n",
    "#### GAUSSIAN NAIVE BAYES"
   ]
  },
  {
   "cell_type": "code",
   "execution_count": 132,
   "id": "d96d1834",
   "metadata": {},
   "outputs": [
    {
     "data": {
      "text/plain": [
       "{'fit_time': array([0.38942194, 0.39570785, 0.40341711, 0.38611603, 0.37684679]),\n",
       " 'score_time': array([0.07077885, 0.06629992, 0.0634892 , 0.06786108, 0.06893706]),\n",
       " 'test_score': array([0.26295511, 0.17116987, 0.30116072, 0.06728315, 0.12165872]),\n",
       " 'train_score': array([0.2351298 , 0.13901966, 0.30685225, 0.09692606, 0.12965215])}"
      ]
     },
     "execution_count": 132,
     "metadata": {},
     "output_type": "execute_result"
    }
   ],
   "source": [
    "cross_validate(GaussianNB(), X_train2, y_train2, cv=5, scoring='accuracy', \n",
    "               groups=groups_train2, n_jobs=-1, return_train_score=True)"
   ]
  },
  {
   "cell_type": "code",
   "execution_count": 133,
   "id": "ec5ce237",
   "metadata": {},
   "outputs": [
    {
     "name": "stdout",
     "output_type": "stream",
     "text": [
      "Accuracy: 0.06571820363387042\n",
      "Execution time: 0.27152323722839355\n"
     ]
    }
   ],
   "source": [
    "gnb = GaussianNB()\n",
    "start = time.time()\n",
    "gnb.fit(X_train2, y_train2)\n",
    "accuracy = gnb.score(X_test2, y_test2) # Baseline\n",
    "end = time.time()\n",
    "\n",
    "print(\"Accuracy: \" + str(accuracy))\n",
    "print(\"Execution time: \" + str(end-start))"
   ]
  },
  {
   "cell_type": "code",
   "execution_count": 134,
   "id": "458309f6",
   "metadata": {},
   "outputs": [
    {
     "data": {
      "text/plain": [
       "{'fit_time': array([0.33322024, 0.34627771, 0.31909108, 0.33017206, 0.32964611]),\n",
       " 'score_time': array([0.06355977, 0.06937504, 0.06523299, 0.07799411, 0.08884716]),\n",
       " 'test_score': array([0.22847236, 0.1739633 , 0.08861918, 0.07002842, 0.11886529]),\n",
       " 'train_score': array([0.17403554, 0.13714134, 0.1467015 , 0.10101983, 0.12866483])}"
      ]
     },
     "execution_count": 134,
     "metadata": {},
     "output_type": "execute_result"
    }
   ],
   "source": [
    "# Standardize data mean=0 and stdev=1\n",
    "stand_scaler = StandardScaler()\n",
    "stand_X_train2 = stand_scaler.fit_transform(X_train2)\n",
    "stand_X_test2 = stand_scaler.transform(X_test2)\n",
    "\n",
    "cross_validate(GaussianNB(), stand_X_train2, y_train2, cv=5, scoring='accuracy', \n",
    "               groups=groups_train2, n_jobs=-1, return_train_score=True)"
   ]
  },
  {
   "cell_type": "code",
   "execution_count": 135,
   "id": "b886b669",
   "metadata": {},
   "outputs": [
    {
     "name": "stdout",
     "output_type": "stream",
     "text": [
      "Accuracy: 0.06462118615015426\n",
      "Execution time: 0.2249147891998291\n"
     ]
    }
   ],
   "source": [
    "gnb = GaussianNB()\n",
    "start = time.time()\n",
    "gnb.fit(stand_X_train2, y_train2)\n",
    "accuracy = gnb.score(stand_X_test2, y_test2) # Standardized\n",
    "end = time.time()\n",
    "\n",
    "print(\"Accuracy: \" + str(accuracy))\n",
    "print(\"Execution time: \" + str(end-start))"
   ]
  },
  {
   "cell_type": "code",
   "execution_count": 136,
   "id": "9845e2a6",
   "metadata": {},
   "outputs": [
    {
     "data": {
      "text/plain": [
       "{'fit_time': array([0.35717511, 0.34216189, 0.32376075, 0.33264995, 0.3563168 ]),\n",
       " 'score_time': array([0.06749201, 0.07226181, 0.06864905, 0.08664703, 0.08986425]),\n",
       " 'test_score': array([0.228665  , 0.17401146, 0.08861918, 0.07002842, 0.11891345]),\n",
       " 'train_score': array([0.1744088 , 0.13716542, 0.14667742, 0.10099575, 0.12864075])}"
      ]
     },
     "execution_count": 136,
     "metadata": {},
     "output_type": "execute_result"
    }
   ],
   "source": [
    "# Normalize data between 0 and 1\n",
    "norm_scaler = MinMaxScaler()\n",
    "norm_X_train2 = norm_scaler.fit_transform(X_train2)\n",
    "norm_X_test2 = norm_scaler.transform(X_test2)\n",
    "\n",
    "cross_validate(GaussianNB(), norm_X_train2, y_train2, cv=5, scoring='accuracy', \n",
    "               groups=groups_train2, n_jobs=-1, return_train_score=True)"
   ]
  },
  {
   "cell_type": "code",
   "execution_count": 125,
   "id": "6b656bf6",
   "metadata": {},
   "outputs": [
    {
     "name": "stdout",
     "output_type": "stream",
     "text": [
      "Accuracy: 0.06462118615015426\n",
      "Execution time: 0.2572059631347656\n"
     ]
    }
   ],
   "source": [
    "gnb = GaussianNB()\n",
    "start = time.time()\n",
    "gnb.fit(norm_X_train2, y_train2)\n",
    "accuracy = gnb.score(norm_X_test2, y_test2) # Normalized\n",
    "end = time.time()\n",
    "\n",
    "print(\"Accuracy: \" + str(accuracy))\n",
    "print(\"Execution time: \" + str(end-start))"
   ]
  },
  {
   "cell_type": "code",
   "execution_count": 137,
   "id": "c178535e",
   "metadata": {},
   "outputs": [],
   "source": [
    "# ZERO ACCURACY?"
   ]
  },
  {
   "cell_type": "markdown",
   "id": "4af5566f",
   "metadata": {},
   "source": [
    "#### COMPLEMENT NAIVE BAYES"
   ]
  },
  {
   "cell_type": "code",
   "execution_count": 138,
   "id": "0d43f8e5",
   "metadata": {},
   "outputs": [
    {
     "data": {
      "text/plain": [
       "{'fit_time': array([0.19458294, 0.18554211, 0.18571305, 0.18115497, 0.18205905]),\n",
       " 'score_time': array([0.00982308, 0.00896001, 0.00911403, 0.01112199, 0.00834584]),\n",
       " 'test_score': array([0.61702947, 0.6792371 , 0.66695564, 0.60010596, 0.57250879]),\n",
       " 'train_score': array([0.63682994, 0.61684707, 0.6164377 , 0.63719553, 0.65089762])}"
      ]
     },
     "execution_count": 138,
     "metadata": {},
     "output_type": "execute_result"
    }
   ],
   "source": [
    "cross_validate(ComplementNB(), norm_X_train2, y_train2, cv=5, scoring='accuracy', \n",
    "               groups=groups_train2, n_jobs=-1, return_train_score=True)"
   ]
  },
  {
   "cell_type": "code",
   "execution_count": 139,
   "id": "3726a19f",
   "metadata": {},
   "outputs": [
    {
     "name": "stdout",
     "output_type": "stream",
     "text": [
      "Accuracy: 0.6897154610901611\n",
      "Execution time: 0.04458498954772949\n"
     ]
    }
   ],
   "source": [
    "cnb = ComplementNB()\n",
    "start = time.time()\n",
    "cnb.fit(norm_X_train2, y_train2)\n",
    "accuracy = cnb.score(norm_X_test2, y_test2) # Baseline\n",
    "end = time.time()\n",
    "\n",
    "print(\"Accuracy: \" + str(accuracy))\n",
    "print(\"Execution time: \" + str(end-start))"
   ]
  },
  {
   "cell_type": "code",
   "execution_count": 140,
   "id": "4e136199",
   "metadata": {},
   "outputs": [],
   "source": [
    "# Complement NB performes better than Gaussian NB. \n",
    "# Accuracy decreased when third class is introduced. "
   ]
  },
  {
   "cell_type": "markdown",
   "id": "19c0708e",
   "metadata": {},
   "source": [
    "##### Hyperparameter Tuning"
   ]
  },
  {
   "cell_type": "code",
   "execution_count": 141,
   "id": "95d0aefe",
   "metadata": {},
   "outputs": [
    {
     "data": {
      "text/plain": [
       "{'alpha': 4e-08,\n",
       " 'class_prior': [0.0002, 5e-05, 0.0003],\n",
       " 'fit_prior': True,\n",
       " 'norm': False}"
      ]
     },
     "execution_count": 141,
     "metadata": {},
     "output_type": "execute_result"
    }
   ],
   "source": [
    "param_grid = dict()\n",
    "param_grid['alpha'] = [4e-08, 3.9e-08, 4.2e-08, 5e-07, 65e-08, 3e-06, 0.75e-05, 0.25e-06, 8e-08, 2e-08]\n",
    "param_grid['fit_prior'] = [True, False]\n",
    "param_grid['class_prior'] = [[0.0002,0.00005,0.0003], [0.00025,0.00004,0.0002], [0.0003,0.00003,0.00025], [0.01,0.2,0.008]]\n",
    "param_grid['norm'] = [True, False]\n",
    "\n",
    "start = time.time()\n",
    "grd2 = GridSearchCV(ComplementNB(), param_grid, scoring='accuracy', n_jobs=-1, cv=5) # 5-fold stratified cv\n",
    "grd2.fit(norm_X_train2, y_train2)\n",
    "end = time.time()\n",
    "\n",
    "grd2.best_params_"
   ]
  },
  {
   "cell_type": "code",
   "execution_count": 142,
   "id": "bd4898e3",
   "metadata": {},
   "outputs": [
    {
     "name": "stdout",
     "output_type": "stream",
     "text": [
      "Hyperparameter tuning computation time: 30.09190082550049\n"
     ]
    }
   ],
   "source": [
    "print(\"Hyperparameter tuning computation time: \" + str(end-start))"
   ]
  },
  {
   "cell_type": "code",
   "execution_count": 143,
   "id": "a15b948d",
   "metadata": {},
   "outputs": [
    {
     "data": {
      "text/plain": [
       "{'fit_time': array([0.17798185, 0.18056798, 0.17631197, 0.17343593, 0.17710471]),\n",
       " 'score_time': array([0.00862908, 0.01150537, 0.00900793, 0.00894594, 0.00844026]),\n",
       " 'test_score': array([0.61712579, 0.67870732, 0.6670038 , 0.60015412, 0.57226798]),\n",
       " 'train_score': array([0.63692626, 0.61685911, 0.61631729, 0.63721961, 0.65094578])}"
      ]
     },
     "execution_count": 143,
     "metadata": {},
     "output_type": "execute_result"
    }
   ],
   "source": [
    "# Evaluation of the model\n",
    "cross_validate(grd2.best_estimator_, norm_X_train2, y_train2, cv=5, scoring='accuracy', \n",
    "               groups=groups_train2, n_jobs=-1, return_train_score=True)"
   ]
  },
  {
   "cell_type": "code",
   "execution_count": 144,
   "id": "7e9cce5f",
   "metadata": {},
   "outputs": [
    {
     "name": "stdout",
     "output_type": "stream",
     "text": [
      "Accuracy: 0.7163181350702776\n",
      "Execution time: 0.04153108596801758\n"
     ]
    }
   ],
   "source": [
    "cnb2 = grd2.best_estimator_\n",
    "start = time.time()\n",
    "cnb2.fit(norm_X_train2, y_train2)\n",
    "accuracy = cnb1.score(norm_X_test2, y_test2) # Threshold\n",
    "end = time.time()\n",
    "\n",
    "y_predNB = cnb2.predict(norm_X_test2)\n",
    "\n",
    "print(\"Accuracy: \" + str(accuracy))\n",
    "print(\"Execution time: \" + str(end-start))"
   ]
  },
  {
   "cell_type": "markdown",
   "id": "cfa38a06",
   "metadata": {},
   "source": [
    "### Random Forest"
   ]
  },
  {
   "cell_type": "code",
   "execution_count": 161,
   "id": "b5caa260",
   "metadata": {},
   "outputs": [
    {
     "data": {
      "text/plain": [
       "{'fit_time': array([126.38816524, 126.84064579, 125.2404871 , 129.6646049 ,\n",
       "        125.83937192]),\n",
       " 'score_time': array([0.58103395, 0.55122995, 0.59119606, 0.47878814, 0.54909706]),\n",
       " 'test_score': array([0.70082836, 0.64075519, 0.71974185, 0.46303521, 0.53027019]),\n",
       " 'train_score': array([0.99998796, 0.99998796, 0.99998796, 1.        , 1.        ])}"
      ]
     },
     "execution_count": 161,
     "metadata": {},
     "output_type": "execute_result"
    }
   ],
   "source": [
    "cross_validate(RandomForestClassifier(), X_train2, y_train2, cv=5, scoring='accuracy', \n",
    "               groups=groups_train2, n_jobs=-1, return_train_score=True)"
   ]
  },
  {
   "cell_type": "code",
   "execution_count": 162,
   "id": "0cdc651c",
   "metadata": {},
   "outputs": [
    {
     "name": "stdout",
     "output_type": "stream",
     "text": [
      "Accuracy: 0.7164552622557422\n",
      "Execution time: 103.80049419403076\n"
     ]
    }
   ],
   "source": [
    "rf = RandomForestClassifier()\n",
    "start = time.time()\n",
    "rf.fit(X_train2, y_train2)\n",
    "accuracy = rf.score(X_test2, y_test2) # Baseline\n",
    "end = time.time()\n",
    "\n",
    "print(\"Accuracy: \" + str(accuracy))\n",
    "print(\"Execution time: \" + str(end-start))"
   ]
  },
  {
   "cell_type": "code",
   "execution_count": 163,
   "id": "4c79650e",
   "metadata": {},
   "outputs": [
    {
     "data": {
      "text/plain": [
       "{'fit_time': array([107.37754011, 108.4964149 , 105.69883704, 109.8920629 ,\n",
       "        105.37244892]),\n",
       " 'score_time': array([0.65590405, 0.51550603, 0.61555219, 0.48367214, 0.56915689]),\n",
       " 'test_score': array([0.69769794, 0.6386842 , 0.71357704, 0.48817608, 0.52362375]),\n",
       " 'train_score': array([1.        , 1.        , 0.99998796, 1.        , 1.        ])}"
      ]
     },
     "execution_count": 163,
     "metadata": {},
     "output_type": "execute_result"
    }
   ],
   "source": [
    "cross_validate(RandomForestClassifier(), norm_X_train2, y_train2, cv=5, scoring='accuracy', \n",
    "               groups=groups_train2, n_jobs=-1, return_train_score=True)"
   ]
  },
  {
   "cell_type": "code",
   "execution_count": 164,
   "id": "8fa6a75a",
   "metadata": {},
   "outputs": [
    {
     "name": "stdout",
     "output_type": "stream",
     "text": [
      "Accuracy: 0.7184778882413438\n",
      "Execution time: 96.47759890556335\n"
     ]
    }
   ],
   "source": [
    "rf = RandomForestClassifier()\n",
    "start = time.time()\n",
    "rf.fit(norm_X_train2, y_train2)\n",
    "accuracy = rf.score(norm_X_test2, y_test2) # Normalized\n",
    "end = time.time()\n",
    "\n",
    "print(\"Accuracy: \" + str(accuracy))\n",
    "print(\"Execution time: \" + str(end-start))"
   ]
  },
  {
   "cell_type": "code",
   "execution_count": 165,
   "id": "a8412d8f",
   "metadata": {},
   "outputs": [
    {
     "data": {
      "text/plain": [
       "{'fit_time': array([113.12609386, 114.10002398, 111.73859668, 116.02602887,\n",
       "        112.85668874]),\n",
       " 'score_time': array([0.47740102, 0.39851499, 0.46715117, 0.38090301, 0.45314407]),\n",
       " 'test_score': array([0.69803506, 0.64234456, 0.7187786 , 0.46308337, 0.5270433 ]),\n",
       " 'train_score': array([1.        , 0.99998796, 1.        , 0.99998796, 1.        ])}"
      ]
     },
     "execution_count": 165,
     "metadata": {},
     "output_type": "execute_result"
    }
   ],
   "source": [
    "cross_validate(RandomForestClassifier(), stand_X_train2, y_train2, cv=5, scoring='accuracy', \n",
    "               groups=groups_train2, n_jobs=-1, return_train_score=True)"
   ]
  },
  {
   "cell_type": "code",
   "execution_count": 183,
   "id": "33b8a8d7",
   "metadata": {},
   "outputs": [
    {
     "name": "stdout",
     "output_type": "stream",
     "text": [
      "Accuracy: 0.7117586561535825\n",
      "Execution time: 102.17964696884155\n"
     ]
    }
   ],
   "source": [
    "rf = RandomForestClassifier()\n",
    "start = time.time()\n",
    "rf.fit(stand_X_train2, y_train2)\n",
    "accuracy = rf.score(stand_X_test2, y_test2) # Standardized\n",
    "end = time.time()\n",
    "\n",
    "print(\"Accuracy: \" + str(accuracy))\n",
    "print(\"Execution time: \" + str(end-start))"
   ]
  },
  {
   "cell_type": "code",
   "execution_count": 168,
   "id": "fa83758a",
   "metadata": {},
   "outputs": [],
   "source": [
    "# Normalized data performs best. "
   ]
  },
  {
   "cell_type": "code",
   "execution_count": 186,
   "id": "61e9d381",
   "metadata": {},
   "outputs": [
    {
     "data": {
      "text/plain": [
       "{'bootstrap': True,\n",
       " 'ccp_alpha': 0.0,\n",
       " 'class_weight': None,\n",
       " 'criterion': 'gini',\n",
       " 'max_depth': None,\n",
       " 'max_features': 'sqrt',\n",
       " 'max_leaf_nodes': None,\n",
       " 'max_samples': None,\n",
       " 'min_impurity_decrease': 0.0,\n",
       " 'min_samples_leaf': 1,\n",
       " 'min_samples_split': 2,\n",
       " 'min_weight_fraction_leaf': 0.0,\n",
       " 'n_estimators': 100,\n",
       " 'n_jobs': None,\n",
       " 'oob_score': False,\n",
       " 'random_state': None,\n",
       " 'verbose': 0,\n",
       " 'warm_start': False}"
      ]
     },
     "execution_count": 186,
     "metadata": {},
     "output_type": "execute_result"
    }
   ],
   "source": [
    "rf.get_params()"
   ]
  },
  {
   "cell_type": "markdown",
   "id": "2edd5807",
   "metadata": {},
   "source": [
    "##### Hyperparameter Tuning"
   ]
  },
  {
   "cell_type": "code",
   "execution_count": 256,
   "id": "661a8d9d",
   "metadata": {},
   "outputs": [
    {
     "data": {
      "text/plain": [
       "{'class_weight': {0: 0.75, 1: 1.2, 2: 2.5},\n",
       " 'criterion': 'gini',\n",
       " 'max_depth': 20,\n",
       " 'max_features': 'sqrt',\n",
       " 'min_samples_leaf': 50,\n",
       " 'n_estimators': 1000,\n",
       " 'n_jobs': -1,\n",
       " 'random_state': 2}"
      ]
     },
     "execution_count": 256,
     "metadata": {},
     "output_type": "execute_result"
    }
   ],
   "source": [
    "param_grid = dict()\n",
    "param_grid['n_estimators'] = [1000] # 1000  \n",
    "param_grid['criterion'] = ['gini']\n",
    "param_grid['max_depth'] = [20]\n",
    "#param_grid['min_samples_split'] = [5]\n",
    "param_grid['min_samples_leaf'] = [50]\n",
    "#param_grid['min_weight_fraction_leaf'] = [0.0, 2.0, 5.0]\n",
    "param_grid['max_features'] = ['sqrt']\n",
    "#param_grid['max_leaf_nodes'] = [2, 5, 10]\n",
    "#param_grid['min_impurity_decrease'] = [0.0, 2.0, 5.0]\n",
    "#param_grid['bootstrap'] = [True, False]\n",
    "#param_grid['oob_score'] = [True, False]\n",
    "param_grid['n_jobs'] = [-1]\n",
    "param_grid['random_state'] = [2]\n",
    "#param_grid['verbose'] = [0, 2, 5]\n",
    "#param_grid['warm_start'] = [True, False]\n",
    "param_grid['class_weight'] = [{0: 0.75, 1: 1.2, 2: 2.5}] # balanced\n",
    "#param_grid['ccp_alpha'] = [0.0, 2.0]\n",
    "#param_grid['max_samples'] = [100, 10]\n",
    "\n",
    "start = time.time()\n",
    "grd2 = GridSearchCV(RandomForestClassifier(), param_grid, scoring='accuracy', n_jobs=-1, cv=5) # 5-fold stratified cv\n",
    "grd2.fit(norm_X_train2, y_train2)\n",
    "end = time.time()\n",
    "\n",
    "grd2.best_params_"
   ]
  },
  {
   "cell_type": "code",
   "execution_count": 257,
   "id": "5314e4d0",
   "metadata": {},
   "outputs": [
    {
     "name": "stdout",
     "output_type": "stream",
     "text": [
      "Hyperparameter tuning computation time: 739.6267137527466\n"
     ]
    }
   ],
   "source": [
    "print(\"Hyperparameter tuning computation time: \" + str(end-start))"
   ]
  },
  {
   "cell_type": "code",
   "execution_count": 258,
   "id": "c50f5b5b",
   "metadata": {},
   "outputs": [
    {
     "data": {
      "text/plain": [
       "{'fit_time': array([555.74252701, 562.89720702, 564.99984002, 563.3628912 ,\n",
       "        551.46475506]),\n",
       " 'score_time': array([1.77134728, 1.19589472, 1.23632884, 1.20779419, 1.75941801]),\n",
       " 'test_score': array([0.6846465 , 0.68164523, 0.71054279, 0.52959592, 0.54471897]),\n",
       " 'train_score': array([0.73506959, 0.72239413, 0.72743911, 0.7472939 , 0.76303084])}"
      ]
     },
     "execution_count": 258,
     "metadata": {},
     "output_type": "execute_result"
    }
   ],
   "source": [
    "# Evaluation of the model\n",
    "cross_validate(grd2.best_estimator_, norm_X_train2, y_train2, cv=5, scoring='accuracy', \n",
    "               groups=groups_train2, n_jobs=-1, return_train_score=True)"
   ]
  },
  {
   "cell_type": "code",
   "execution_count": 259,
   "id": "93b85a43",
   "metadata": {},
   "outputs": [
    {
     "name": "stdout",
     "output_type": "stream",
     "text": [
      "Accuracy: 0.713747000342818\n",
      "Execution time: 141.4533839225769\n"
     ]
    }
   ],
   "source": [
    "rf2 = grd2.best_estimator_\n",
    "start = time.time()\n",
    "rf2.fit(norm_X_train2, y_train2)\n",
    "accuracy = rf2.score(norm_X_test2, y_test2) # Threshold\n",
    "end = time.time()\n",
    "\n",
    "y_predRF = rf2.predict(norm_X_test2)\n",
    "\n",
    "print(\"Accuracy: \" + str(accuracy))\n",
    "print(\"Execution time: \" + str(end-start))"
   ]
  },
  {
   "cell_type": "code",
   "execution_count": 260,
   "id": "a39b8d39",
   "metadata": {},
   "outputs": [],
   "source": [
    "# Accuracy decreased when third class is introduced. "
   ]
  },
  {
   "cell_type": "markdown",
   "id": "f104a79c",
   "metadata": {},
   "source": [
    "#### RF Confusion Matrix"
   ]
  },
  {
   "cell_type": "code",
   "execution_count": 261,
   "id": "9e6e08aa",
   "metadata": {},
   "outputs": [
    {
     "data": {
      "image/png": "[encoded data removed]",
      "text/plain": [
       "<Figure size 432x288 with 2 Axes>"
      ]
     },
     "metadata": {
      "needs_background": "light"
     },
     "output_type": "display_data"
    }
   ],
   "source": [
    "cm = metrics.confusion_matrix(y_test2, y_predRF)\n",
    "cm_display = metrics.ConfusionMatrixDisplay(confusion_matrix = cm, display_labels = ['0','1','2'])\n",
    "cm_display.plot()\n",
    "plt.show()"
   ]
  },
  {
   "cell_type": "code",
   "execution_count": 262,
   "id": "5546bba9",
   "metadata": {},
   "outputs": [
    {
     "name": "stdout",
     "output_type": "stream",
     "text": [
      "              precision    recall  f1-score   support\n",
      "\n",
      "           0       0.84      0.67      0.74     16799\n",
      "           1       0.61      0.84      0.71     11389\n",
      "           2       0.00      0.00      0.00       982\n",
      "\n",
      "    accuracy                           0.71     29170\n",
      "   macro avg       0.48      0.50      0.48     29170\n",
      "weighted avg       0.72      0.71      0.70     29170\n",
      "\n"
     ]
    },
    {
     "name": "stderr",
     "output_type": "stream",
     "text": [
      "/Library/Frameworks/Python.framework/Versions/3.9/lib/python3.9/site-packages/sklearn/metrics/_classification.py:1344: UndefinedMetricWarning: Precision and F-score are ill-defined and being set to 0.0 in labels with no predicted samples. Use `zero_division` parameter to control this behavior.\n",
      "  _warn_prf(average, modifier, msg_start, len(result))\n",
      "/Library/Frameworks/Python.framework/Versions/3.9/lib/python3.9/site-packages/sklearn/metrics/_classification.py:1344: UndefinedMetricWarning: Precision and F-score are ill-defined and being set to 0.0 in labels with no predicted samples. Use `zero_division` parameter to control this behavior.\n",
      "  _warn_prf(average, modifier, msg_start, len(result))\n",
      "/Library/Frameworks/Python.framework/Versions/3.9/lib/python3.9/site-packages/sklearn/metrics/_classification.py:1344: UndefinedMetricWarning: Precision and F-score are ill-defined and being set to 0.0 in labels with no predicted samples. Use `zero_division` parameter to control this behavior.\n",
      "  _warn_prf(average, modifier, msg_start, len(result))\n"
     ]
    }
   ],
   "source": [
    "print(classification_report(y_test2, y_predRF, target_names=['0', '1', '2']))"
   ]
  },
  {
   "cell_type": "code",
   "execution_count": 263,
   "id": "d7f12789",
   "metadata": {},
   "outputs": [
    {
     "name": "stderr",
     "output_type": "stream",
     "text": [
      "/Library/Frameworks/Python.framework/Versions/3.9/lib/python3.9/site-packages/sklearn/metrics/_classification.py:1344: UndefinedMetricWarning: Precision and F-score are ill-defined and being set to 0.0 in labels with no predicted samples. Use `zero_division` parameter to control this behavior.\n",
      "  _warn_prf(average, modifier, msg_start, len(result))\n"
     ]
    },
    {
     "data": {
      "text/plain": [
       "(0.4823174707933846, 0.5035297636494045, 0.4833052864405593, None)"
      ]
     },
     "execution_count": 263,
     "metadata": {},
     "output_type": "execute_result"
    }
   ],
   "source": [
    "precision_recall_fscore_support(y_test2, y_predRF, average='macro')"
   ]
  },
  {
   "cell_type": "code",
   "execution_count": 264,
   "id": "876afebf",
   "metadata": {},
   "outputs": [
    {
     "data": {
      "text/plain": [
       "(0.713747000342818, 0.713747000342818, 0.713747000342818, None)"
      ]
     },
     "execution_count": 264,
     "metadata": {},
     "output_type": "execute_result"
    }
   ],
   "source": [
    "precision_recall_fscore_support(y_test2, y_predRF, average='micro')"
   ]
  },
  {
   "cell_type": "code",
   "execution_count": 265,
   "id": "3bfeb5b1",
   "metadata": {},
   "outputs": [
    {
     "name": "stderr",
     "output_type": "stream",
     "text": [
      "/Library/Frameworks/Python.framework/Versions/3.9/lib/python3.9/site-packages/sklearn/metrics/_classification.py:1344: UndefinedMetricWarning: Precision and F-score are ill-defined and being set to 0.0 in labels with no predicted samples. Use `zero_division` parameter to control this behavior.\n",
      "  _warn_prf(average, modifier, msg_start, len(result))\n"
     ]
    },
    {
     "data": {
      "text/plain": [
       "(0.7207277237141005, 0.713747000342818, 0.704160876472388, None)"
      ]
     },
     "execution_count": 265,
     "metadata": {},
     "output_type": "execute_result"
    }
   ],
   "source": [
    "precision_recall_fscore_support(y_test2, y_predRF, average='weighted')"
   ]
  },
  {
   "cell_type": "code",
   "execution_count": 266,
   "id": "63a34424",
   "metadata": {},
   "outputs": [
    {
     "name": "stderr",
     "output_type": "stream",
     "text": [
      "/Library/Frameworks/Python.framework/Versions/3.9/lib/python3.9/site-packages/sklearn/metrics/_classification.py:1344: UndefinedMetricWarning: Precision and F-score are ill-defined and being set to 0.0 in labels with no predicted samples. Use `zero_division` parameter to control this behavior.\n",
      "  _warn_prf(average, modifier, msg_start, len(result))\n"
     ]
    },
    {
     "data": {
      "text/plain": [
       "(array([0.83997905, 0.60697336, 0.        ]),\n",
       " array([0.66837312, 0.84221617, 0.        ]),\n",
       " array([0.74441424, 0.70550162, 0.        ]),\n",
       " array([16799, 11389,   982]))"
      ]
     },
     "execution_count": 266,
     "metadata": {},
     "output_type": "execute_result"
    }
   ],
   "source": [
    "precision_recall_fscore_support(y_test2, y_predRF, average=None, labels=[0,1,2]) # for each class "
   ]
  },
  {
   "cell_type": "code",
   "execution_count": 267,
   "id": "84cbc252",
   "metadata": {},
   "outputs": [
    {
     "name": "stderr",
     "output_type": "stream",
     "text": [
      "/var/folders/3n/6bmtx14d2m39gg0wnxmz4h500000gn/T/ipykernel_2501/3650387924.py:22: RuntimeWarning: invalid value encountered in long_scalars\n",
      "  d[label]['Precision'] = tp[i]/(tp[i]+fp[i]) # TP / TP+FP\n"
     ]
    },
    {
     "data": {
      "text/plain": [
       "{'0': {'TP': 11228,\n",
       "  'TN': 10232,\n",
       "  'FP': 2139,\n",
       "  'FN': 5571,\n",
       "  'Accuracy': 0.7356873500171409,\n",
       "  'Recall': 0.6683731174474671,\n",
       "  'Precision': 0.8399790528914491,\n",
       "  'F1': 0.7444142411987005,\n",
       "  'Specificity': 0.8270956268692911},\n",
       " '1': {'TP': 9592,\n",
       "  'TN': 11570,\n",
       "  'FP': 6211,\n",
       "  'FN': 1797,\n",
       "  'Accuracy': 0.7254713747000343,\n",
       "  'Recall': 0.8422161735007463,\n",
       "  'Precision': 0.6069733594887047,\n",
       "  'F1': 0.7055016181229774,\n",
       "  'Specificity': 0.650694561610708},\n",
       " '2': {'TP': 0,\n",
       "  'TN': 28188,\n",
       "  'FP': 0,\n",
       "  'FN': 982,\n",
       "  'Accuracy': 0.9663352759684607,\n",
       "  'Recall': 0.0,\n",
       "  'Precision': nan,\n",
       "  'F1': nan,\n",
       "  'Specificity': 1.0}}"
      ]
     },
     "execution_count": 267,
     "metadata": {},
     "output_type": "execute_result"
    }
   ],
   "source": [
    "mcm = multilabel_confusion_matrix(y_test2, y_predRF)\n",
    "\n",
    "tn = mcm[:, 0, 0]\n",
    "tp = mcm[:, 1, 1]\n",
    "fn = mcm[:, 1, 0]\n",
    "fp = mcm[:, 0, 1]\n",
    "recall = tp / (tp + fn) # true positive rate or sensitivity\n",
    "specificity = tn / (tn + fp) # ture negative rate\n",
    "fallout = fp / (fp + tn) # false positive rate\n",
    "missrate = fn / (fn + tp) #false negative rate\n",
    "\n",
    "d = {}\n",
    "for label in ['0', '1', '2']:\n",
    "    i = int(label)\n",
    "    d[label] = dict()\n",
    "    d[label]['TP'] = tp[i]\n",
    "    d[label]['TN'] = tn[i]\n",
    "    d[label]['FP'] = fp[i]\n",
    "    d[label]['FN'] = fn[i]\n",
    "    d[label]['Accuracy'] = (tp[i]+tn[i])/(tp[i]+tn[i]+fn[i]+fp[i]) # TP+TN / TP+TN+FP+FN\n",
    "    d[label]['Recall'] = tp[i]/(tp[i]+fn[i]) # TP / TP+FN\n",
    "    d[label]['Precision'] = tp[i]/(tp[i]+fp[i]) # TP / TP+FP\n",
    "    d[label]['F1'] = (2*d[label]['Precision']*d[label]['Recall'])/(d[label]['Precision']+d[label]['Recall'])\n",
    "    d[label]['Specificity'] = tn[i]/(tn[i]+fp[i]) # TN / TN+FP\n",
    "    #d[label]['Fallout'] = fp[i]/(fp[i]+tn[i]) # FP /FP+TN\n",
    "    #d[label]['Missrate'] = fn[i]/(fn[i]+tp[i]) # FN / FN+TP\n",
    "d"
   ]
  },
  {
   "cell_type": "code",
   "execution_count": 201,
   "id": "f6351479",
   "metadata": {},
   "outputs": [],
   "source": [
    "# Class 2\n",
    "# TP zero!"
   ]
  },
  {
   "cell_type": "markdown",
   "id": "6202e31f",
   "metadata": {},
   "source": [
    "## Oversampling and Undersampling"
   ]
  },
  {
   "cell_type": "code",
   "execution_count": 202,
   "id": "54d2d525",
   "metadata": {},
   "outputs": [],
   "source": [
    "from imblearn.over_sampling import SMOTE\n",
    "from imblearn.under_sampling import RandomUnderSampler\n",
    "from imblearn.pipeline import Pipeline\n",
    "from collections import Counter\n",
    "from imblearn.over_sampling import RandomOverSampler"
   ]
  },
  {
   "cell_type": "code",
   "execution_count": 203,
   "id": "794ff5c8",
   "metadata": {},
   "outputs": [
    {
     "data": {
      "text/plain": [
       "Counter({0: 55476, 1: 44051, 2: 4289})"
      ]
     },
     "execution_count": 203,
     "metadata": {},
     "output_type": "execute_result"
    }
   ],
   "source": [
    "counter = Counter(y_train2)\n",
    "counter"
   ]
  },
  {
   "cell_type": "code",
   "execution_count": 204,
   "id": "25eef22a",
   "metadata": {},
   "outputs": [
    {
     "name": "stdout",
     "output_type": "stream",
     "text": [
      "Class 0: 53% of X_train2\n",
      "Class 1: 42% of X_train2\n",
      "Class 2: 4% of X_train2\n"
     ]
    }
   ],
   "source": [
    "print(\"Class 0: \" + str(round(100*counter.get(0)/(counter.get(0)+counter.get(1)+counter.get(2))))+\"% of X_train2\")\n",
    "print(\"Class 1: \" + str(round(100*counter.get(1)/(counter.get(0)+counter.get(1)+counter.get(2))))+\"% of X_train2\")\n",
    "print(\"Class 2: \" + str(round(100*counter.get(2)/(counter.get(0)+counter.get(1)+counter.get(2))))+\"% of X_train2\")"
   ]
  },
  {
   "cell_type": "code",
   "execution_count": 205,
   "id": "72ac3954",
   "metadata": {},
   "outputs": [],
   "source": [
    "# Current class distribution (0,1,2)\n",
    "# 0 : 53% of the data (/3)\n",
    "# 1 : 42% of the data (/2)\n",
    "# 2 : 4% of the data (*4)\n",
    "\n",
    "# Oversampling - overfit\n",
    "# Undersampling - information loss\n",
    "\n",
    "#sampler = RandomOverSampler(sampling_strategy={0: 60132, 1: 50000, 2: 10000})\n",
    "#sampler = RandomUnderSampler(sampling_strategy={0: 40132, 1: 20000, 2: 4665})\n",
    "#sampler = SMOTE(sampling_strategy={0: 60132, 1: 50000, 2: 10000})"
   ]
  },
  {
   "cell_type": "code",
   "execution_count": 212,
   "id": "c3c75988",
   "metadata": {},
   "outputs": [
    {
     "data": {
      "text/plain": [
       "Counter({0: 20000, 1: 18000, 2: 8000})"
      ]
     },
     "execution_count": 212,
     "metadata": {},
     "output_type": "execute_result"
    }
   ],
   "source": [
    "over = SMOTE(sampling_strategy={0: 55476, 1: 44051, 2: 8000})\n",
    "under = RandomUnderSampler(sampling_strategy={0: 20000, 1: 18000, 2: 8000})\n",
    "\n",
    "sampler_pipeline = Pipeline([('o', over), ('u', under)])\n",
    "\n",
    "X_sampled, y_sampled = sampler_pipeline.fit_resample(X_train2, y_train2)\n",
    "\n",
    "counter = Counter(y_sampled)\n",
    "counter"
   ]
  },
  {
   "cell_type": "code",
   "execution_count": 213,
   "id": "991f0f06",
   "metadata": {},
   "outputs": [
    {
     "name": "stdout",
     "output_type": "stream",
     "text": [
      "Class 0: 43% of X_train2\n",
      "Class 1: 39% of X_train2\n",
      "Class 2: 17% of X_train2\n"
     ]
    }
   ],
   "source": [
    "print(\"Class 0: \" + str(round(100*counter.get(0)/(counter.get(0)+counter.get(1)+counter.get(2))))+\"% of X_train2\")\n",
    "print(\"Class 1: \" + str(round(100*counter.get(1)/(counter.get(0)+counter.get(1)+counter.get(2))))+\"% of X_train2\")\n",
    "print(\"Class 2: \" + str(round(100*counter.get(2)/(counter.get(0)+counter.get(1)+counter.get(2))))+\"% of X_train2\")"
   ]
  },
  {
   "cell_type": "code",
   "execution_count": 214,
   "id": "1b547bd1",
   "metadata": {},
   "outputs": [],
   "source": [
    "# Normalize the sampled data\n",
    "norm_scaler = MinMaxScaler()\n",
    "norm_X_sampled = norm_scaler.fit_transform(X_sampled)\n",
    "norm_X_test3 = norm_scaler.transform(X_test2)"
   ]
  },
  {
   "cell_type": "markdown",
   "id": "f233a096",
   "metadata": {},
   "source": [
    "###### Complement Naive Bayes"
   ]
  },
  {
   "cell_type": "code",
   "execution_count": 215,
   "id": "abae1080",
   "metadata": {},
   "outputs": [
    {
     "data": {
      "text/plain": [
       "{'fit_time': array([0.04247999, 0.069592  , 0.04272294, 0.07036591, 0.06183696]),\n",
       " 'score_time': array([0.00291181, 0.00464988, 0.0028789 , 0.00510287, 0.00388718]),\n",
       " 'test_score': array([0.54934783, 0.54706522, 0.54326087, 0.54967391, 0.5498913 ])}"
      ]
     },
     "execution_count": 215,
     "metadata": {},
     "output_type": "execute_result"
    }
   ],
   "source": [
    "# Hyperparameter tuned model\n",
    "cnb = ComplementNB(alpha=4e-08, class_prior=[0.0002, 5e-05, 0.0003], fit_prior=True, norm=False)\n",
    "\n",
    "# Performence evaluation\n",
    "cross_validate(cnb, norm_X_sampled, y_sampled, cv=5, scoring='accuracy', n_jobs=-1)"
   ]
  },
  {
   "cell_type": "code",
   "execution_count": 216,
   "id": "58b8b879",
   "metadata": {},
   "outputs": [
    {
     "name": "stdout",
     "output_type": "stream",
     "text": [
      "Accuracy: 0.6884470346246143\n",
      "Execution time: 0.02244400978088379\n"
     ]
    }
   ],
   "source": [
    "start = time.time()\n",
    "cnb.fit(norm_X_sampled, y_sampled)\n",
    "accuracy = cnb.score(norm_X_test3, y_test2) \n",
    "end = time.time()\n",
    "\n",
    "y_pred = cnb.predict(norm_X_test3)\n",
    "\n",
    "print(\"Accuracy: \" + str(accuracy))\n",
    "print(\"Execution time: \" + str(end-start))"
   ]
  },
  {
   "cell_type": "code",
   "execution_count": 218,
   "id": "a47f2b32",
   "metadata": {},
   "outputs": [],
   "source": [
    "# Accuracy decreased."
   ]
  },
  {
   "cell_type": "markdown",
   "id": "4d68802d",
   "metadata": {},
   "source": [
    "###### Random Forest"
   ]
  },
  {
   "cell_type": "code",
   "execution_count": 219,
   "id": "50b0737f",
   "metadata": {},
   "outputs": [
    {
     "data": {
      "text/plain": [
       "{'fit_time': array([215.30769706, 216.28768301, 215.79577327, 215.97462392,\n",
       "        216.11430192]),\n",
       " 'score_time': array([0.77551293, 0.59925318, 0.83565593, 0.75467706, 0.72777176]),\n",
       " 'test_score': array([0.61576087, 0.61532609, 0.60923913, 0.60913043, 0.61543478])}"
      ]
     },
     "execution_count": 219,
     "metadata": {},
     "output_type": "execute_result"
    }
   ],
   "source": [
    "# Hyperparameter tuned model\n",
    "rf = RandomForestClassifier(n_estimators=1000, class_weight={0: 0.75, 1: 1.2, 2: 2.5}, criterion='gini', \n",
    "                            max_depth=20, max_features='sqrt', min_samples_leaf=50, n_jobs=-1, random_state=2)\n",
    "\n",
    "# Performence evaluation\n",
    "cross_validate(rf, norm_X_sampled, y_sampled, cv=5, scoring='accuracy', n_jobs=-1)"
   ]
  },
  {
   "cell_type": "code",
   "execution_count": 220,
   "id": "6e640190",
   "metadata": {},
   "outputs": [
    {
     "name": "stdout",
     "output_type": "stream",
     "text": [
      "Accuracy: 0.5731916352416867\n",
      "Execution time: 53.87831234931946\n"
     ]
    }
   ],
   "source": [
    "start = time.time()\n",
    "rf.fit(norm_X_sampled, y_sampled)\n",
    "accuracy = rf.score(norm_X_test3, y_test2) \n",
    "end = time.time()\n",
    "\n",
    "y_pred = rf.predict(norm_X_test3)\n",
    "\n",
    "print(\"Accuracy: \" + str(accuracy))\n",
    "print(\"Execution time: \" + str(end-start))"
   ]
  },
  {
   "cell_type": "code",
   "execution_count": 221,
   "id": "51668024",
   "metadata": {},
   "outputs": [],
   "source": [
    "# Accuracy decreased."
   ]
  },
  {
   "cell_type": "markdown",
   "id": "53debc19",
   "metadata": {},
   "source": [
    "###### Random Forest"
   ]
  },
  {
   "cell_type": "code",
   "execution_count": 222,
   "id": "3d9c2cb2",
   "metadata": {},
   "outputs": [
    {
     "data": {
      "image/png": "[encoded data removed]",
      "text/plain": [
       "<Figure size 432x288 with 2 Axes>"
      ]
     },
     "metadata": {
      "needs_background": "light"
     },
     "output_type": "display_data"
    }
   ],
   "source": [
    "cm = metrics.confusion_matrix(y_test2, y_pred)\n",
    "cm_display = metrics.ConfusionMatrixDisplay(confusion_matrix = cm, display_labels = ['0','1','2'])\n",
    "cm_display.plot()\n",
    "plt.show()"
   ]
  },
  {
   "cell_type": "code",
   "execution_count": 223,
   "id": "f71b8e2e",
   "metadata": {},
   "outputs": [
    {
     "name": "stdout",
     "output_type": "stream",
     "text": [
      "              precision    recall  f1-score   support\n",
      "\n",
      "           0       0.88      0.58      0.70     16799\n",
      "           1       0.65      0.57      0.61     11389\n",
      "           2       0.06      0.48      0.10       982\n",
      "\n",
      "    accuracy                           0.57     29170\n",
      "   macro avg       0.53      0.54      0.47     29170\n",
      "weighted avg       0.76      0.57      0.64     29170\n",
      "\n"
     ]
    }
   ],
   "source": [
    "print(classification_report(y_test2, y_pred, target_names=['0', '1', '2']))"
   ]
  },
  {
   "cell_type": "code",
   "execution_count": 224,
   "id": "14ecdf18",
   "metadata": {},
   "outputs": [
    {
     "data": {
      "text/plain": [
       "(array([0.87986342, 0.65460993, 0.05715335]),\n",
       " array([0.58289184, 0.56730178, 0.47556008]),\n",
       " array([0.70123174, 0.60783668, 0.10204305]),\n",
       " array([16799, 11389,   982]))"
      ]
     },
     "execution_count": 224,
     "metadata": {},
     "output_type": "execute_result"
    }
   ],
   "source": [
    "precision_recall_fscore_support(y_test2, y_pred, average='macro')\n",
    "precision_recall_fscore_support(y_test2, y_pred, average='micro')\n",
    "precision_recall_fscore_support(y_test2, y_pred, average='weighted')\n",
    "precision_recall_fscore_support(y_test2, y_pred, average=None, labels=[0,1,2]) # for each class "
   ]
  },
  {
   "cell_type": "code",
   "execution_count": 225,
   "id": "66ca1252",
   "metadata": {},
   "outputs": [
    {
     "data": {
      "text/plain": [
       "{'0': {'TP': 9792,\n",
       "  'TN': 11034,\n",
       "  'FP': 1337,\n",
       "  'FN': 7007,\n",
       "  'Accuracy': 0.7139526911210148,\n",
       "  'Recall': 0.5828918387999286,\n",
       "  'Precision': 0.8798634198939707,\n",
       "  'F1': 0.7012317387568032,\n",
       "  'Specificity': 0.8919246625171773},\n",
       " '1': {'TP': 6461,\n",
       "  'TN': 14372,\n",
       "  'FP': 3409,\n",
       "  'FN': 4928,\n",
       "  'Accuracy': 0.7141926636955777,\n",
       "  'Recall': 0.5673017824216349,\n",
       "  'Precision': 0.6546099290780142,\n",
       "  'F1': 0.6078366809351334,\n",
       "  'Specificity': 0.8082784995219616},\n",
       " '2': {'TP': 467,\n",
       "  'TN': 20484,\n",
       "  'FP': 7704,\n",
       "  'FN': 515,\n",
       "  'Accuracy': 0.718237915666781,\n",
       "  'Recall': 0.4755600814663951,\n",
       "  'Precision': 0.05715334720352466,\n",
       "  'F1': 0.10204304599584836,\n",
       "  'Specificity': 0.7266922094508301}}"
      ]
     },
     "execution_count": 225,
     "metadata": {},
     "output_type": "execute_result"
    }
   ],
   "source": [
    "mcm = multilabel_confusion_matrix(y_test2, y_pred)\n",
    "\n",
    "tn = mcm[:, 0, 0]\n",
    "tp = mcm[:, 1, 1]\n",
    "fn = mcm[:, 1, 0]\n",
    "fp = mcm[:, 0, 1]\n",
    "recall = tp / (tp + fn) # true positive rate or sensitivity\n",
    "specificity = tn / (tn + fp) # ture negative rate\n",
    "fallout = fp / (fp + tn) # false positive rate\n",
    "missrate = fn / (fn + tp) #false negative rate\n",
    "\n",
    "d = {}\n",
    "for label in ['0', '1', '2']:\n",
    "    i = int(label)\n",
    "    d[label] = dict()\n",
    "    d[label]['TP'] = tp[i]\n",
    "    d[label]['TN'] = tn[i]\n",
    "    d[label]['FP'] = fp[i]\n",
    "    d[label]['FN'] = fn[i]\n",
    "    d[label]['Accuracy'] = (tp[i]+tn[i])/(tp[i]+tn[i]+fn[i]+fp[i]) # TP+TN / TP+TN+FP+FN\n",
    "    d[label]['Recall'] = tp[i]/(tp[i]+fn[i]) # TP / TP+FN\n",
    "    d[label]['Precision'] = tp[i]/(tp[i]+fp[i]) # TP / TP+FP\n",
    "    d[label]['F1'] = (2*d[label]['Precision']*d[label]['Recall'])/(d[label]['Precision']+d[label]['Recall'])\n",
    "    d[label]['Specificity'] = tn[i]/(tn[i]+fp[i]) # TN / TN+FP\n",
    "    #d[label]['Fallout'] = fp[i]/(fp[i]+tn[i]) # FP /FP+TN\n",
    "    #d[label]['Missrate'] = fn[i]/(fn[i]+tp[i]) # FN / FN+TP\n",
    "d"
   ]
  },
  {
   "cell_type": "code",
   "execution_count": 255,
   "id": "80fadeae",
   "metadata": {},
   "outputs": [],
   "source": [
    "# 2': {'TP': 0,\n",
    "#  'TN': 28188,\n",
    "#  'FP': 0,\n",
    "#  'FN': 982,\n",
    "#  'Accuracy': 0.9663352759684607,\n",
    "#  'Recall': 0.0,\n",
    "#  'Precision': nan,\n",
    "#  'F1': nan,\n",
    "#  'Specificity': 1.0}\n",
    "\n",
    "# TP and FP increased\n",
    "# TN and FN decreased\n",
    "# Accuracy and specificity decreased BUT recall, precision and F1 increased!\n",
    "\n",
    "# Class 2 is not being classified unles I resample the data!"
   ]
  },
  {
   "cell_type": "markdown",
   "id": "2ef11335",
   "metadata": {},
   "source": [
    "### TRYING SOME DIFFERENT METHODS  \n",
    "https://machinelearningmastery.com/bagging-and-random-forest-for-imbalanced-classification/  \n",
    "- Skewed class weights"
   ]
  },
  {
   "cell_type": "code",
   "execution_count": 229,
   "id": "f52ae0e7",
   "metadata": {},
   "outputs": [
    {
     "data": {
      "text/plain": [
       "{'fit_time': array([77.43439221, 76.66191578, 76.78975701, 77.24975586, 77.17597866]),\n",
       " 'score_time': array([0.30474186, 0.34824514, 0.33569098, 0.30760026, 0.30516124]),\n",
       " 'test_score': array([0.68619565, 0.68032609, 0.67923913, 0.67652174, 0.67293478])}"
      ]
     },
     "execution_count": 229,
     "metadata": {},
     "output_type": "execute_result"
    }
   ],
   "source": [
    "rf = RandomForestClassifier(class_weight={0: 5, 1: 0.03, 2: 100})\n",
    "\n",
    "cross_validate(rf, norm_X_sampled, y_sampled, cv=5, scoring='accuracy', n_jobs=-1)"
   ]
  },
  {
   "cell_type": "code",
   "execution_count": 230,
   "id": "9154e3a4",
   "metadata": {},
   "outputs": [
    {
     "name": "stdout",
     "output_type": "stream",
     "text": [
      "Accuracy: 0.7100102845389098\n"
     ]
    }
   ],
   "source": [
    "rf.fit(norm_X_sampled, y_sampled)\n",
    "accuracy = rf.score(norm_X_test3, y_test2) \n",
    "y_pred = rf.predict(norm_X_test3)\n",
    "\n",
    "print(\"Accuracy: \" + str(accuracy))"
   ]
  },
  {
   "cell_type": "code",
   "execution_count": 231,
   "id": "f5a42dab",
   "metadata": {},
   "outputs": [
    {
     "data": {
      "text/plain": [
       "(array([0.79387874, 0.63140644, 0.05042017]),\n",
       " array([0.72724567, 0.74422689, 0.01832994]),\n",
       " array([0.75910277, 0.68319026, 0.02688574]),\n",
       " array([16799, 11389,   982]))"
      ]
     },
     "execution_count": 231,
     "metadata": {},
     "output_type": "execute_result"
    }
   ],
   "source": [
    "precision_recall_fscore_support(y_test2, y_pred, average=None, labels=[0,1,2]) # for each class "
   ]
  },
  {
   "cell_type": "markdown",
   "id": "6df1ce2b",
   "metadata": {},
   "source": [
    "- Bagging classifier"
   ]
  },
  {
   "cell_type": "code",
   "execution_count": 232,
   "id": "86673b23",
   "metadata": {},
   "outputs": [
    {
     "data": {
      "text/plain": [
       "{'fit_time': array([27.99608302, 28.36127114, 28.16715503, 28.23292398, 27.81851625]),\n",
       " 'score_time': array([0.06178999, 0.06090808, 0.06201696, 0.08177114, 0.07836986]),\n",
       " 'test_score': array([0.64402174, 0.62336957, 0.62978261, 0.63380435, 0.62804348])}"
      ]
     },
     "execution_count": 232,
     "metadata": {},
     "output_type": "execute_result"
    }
   ],
   "source": [
    "from imblearn.ensemble import BalancedBaggingClassifier\n",
    "\n",
    "model = BalancedBaggingClassifier()\n",
    "\n",
    "cross_validate(model, norm_X_sampled, y_sampled, cv=5, scoring='accuracy', n_jobs=-1)"
   ]
  },
  {
   "cell_type": "code",
   "execution_count": 233,
   "id": "0d9eaf24",
   "metadata": {},
   "outputs": [
    {
     "name": "stdout",
     "output_type": "stream",
     "text": [
      "Accuracy: 0.5876585533081934\n"
     ]
    }
   ],
   "source": [
    "model.fit(norm_X_sampled, y_sampled)\n",
    "accuracy = model.score(norm_X_test3, y_test2) \n",
    "y_pred = model.predict(norm_X_test3)\n",
    "\n",
    "print(\"Accuracy: \" + str(accuracy))"
   ]
  },
  {
   "cell_type": "code",
   "execution_count": 234,
   "id": "05485379",
   "metadata": {},
   "outputs": [
    {
     "data": {
      "text/plain": [
       "(array([0.76516353, 0.59391396, 0.04894327]),\n",
       " array([0.60301208, 0.59636491, 0.22403259]),\n",
       " array([0.67447899, 0.59513691, 0.08033595]),\n",
       " array([16799, 11389,   982]))"
      ]
     },
     "execution_count": 234,
     "metadata": {},
     "output_type": "execute_result"
    }
   ],
   "source": [
    "precision_recall_fscore_support(y_test2, y_pred, average=None, labels=[0,1,2]) # for each class "
   ]
  },
  {
   "cell_type": "markdown",
   "id": "d025824f",
   "metadata": {},
   "source": [
    "- Balanced subsample on non-resampled data"
   ]
  },
  {
   "cell_type": "code",
   "execution_count": 244,
   "id": "b276b23a",
   "metadata": {},
   "outputs": [
    {
     "data": {
      "text/plain": [
       "{'fit_time': array([44.20188403, 44.34856892, 44.01611114, 44.15095401, 44.03011894]),\n",
       " 'score_time': array([0.228863  , 0.22816014, 0.24092698, 0.236305  , 0.24305892]),\n",
       " 'test_score': array([0.69684783, 0.69      , 0.68891304, 0.68163043, 0.68347826])}"
      ]
     },
     "execution_count": 244,
     "metadata": {},
     "output_type": "execute_result"
    }
   ],
   "source": [
    "model = RandomForestClassifier(class_weight='balanced_subsample')\n",
    "\n",
    "cross_validate(model, norm_X_sampled, y_sampled, cv=5, scoring='accuracy', n_jobs=-1)"
   ]
  },
  {
   "cell_type": "code",
   "execution_count": 245,
   "id": "dd3eed32",
   "metadata": {},
   "outputs": [
    {
     "name": "stdout",
     "output_type": "stream",
     "text": [
      "Accuracy: 0.720911895783339\n"
     ]
    }
   ],
   "source": [
    "model.fit(norm_X_sampled, y_sampled)\n",
    "accuracy = model.score(norm_X_test3, y_test2) \n",
    "y_pred = model.predict(norm_X_test3)\n",
    "\n",
    "print(\"Accuracy: \" + str(accuracy))"
   ]
  },
  {
   "cell_type": "code",
   "execution_count": 246,
   "id": "4535fc55",
   "metadata": {},
   "outputs": [
    {
     "data": {
      "text/plain": [
       "(array([0.78745688, 0.65360464, 0.06722689]),\n",
       " array([0.76087862, 0.72201247, 0.02443992]),\n",
       " array([0.77393963, 0.68610763, 0.03584765]),\n",
       " array([16799, 11389,   982]))"
      ]
     },
     "execution_count": 246,
     "metadata": {},
     "output_type": "execute_result"
    }
   ],
   "source": [
    "precision_recall_fscore_support(y_test2, y_pred, average=None, labels=[0,1,2]) # for each class "
   ]
  },
  {
   "cell_type": "markdown",
   "id": "816cc817",
   "metadata": {},
   "source": [
    "- XGBoost"
   ]
  },
  {
   "cell_type": "code",
   "execution_count": 252,
   "id": "8677b90d",
   "metadata": {},
   "outputs": [
    {
     "data": {
      "text/plain": [
       "{'fit_time': array([195.92189384, 195.54142404, 196.063272  , 196.0450511 ,\n",
       "        196.37959909]),\n",
       " 'score_time': array([0.09579802, 0.10604882, 0.0852778 , 0.08849192, 0.08074188]),\n",
       " 'test_score': array([0.64228261, 0.63815217, 0.63478261, 0.62804348, 0.63271739])}"
      ]
     },
     "execution_count": 252,
     "metadata": {},
     "output_type": "execute_result"
    }
   ],
   "source": [
    "import xgboost as xgb\n",
    "model = xgb.XGBRFClassifier()\n",
    "cross_validate(model, norm_X_sampled, y_sampled, cv=5, scoring='accuracy', n_jobs=-1)"
   ]
  },
  {
   "cell_type": "code",
   "execution_count": 253,
   "id": "db1c5f31",
   "metadata": {},
   "outputs": [
    {
     "name": "stdout",
     "output_type": "stream",
     "text": [
      "Accuracy: 0.6835790195406239\n",
      "Execution time: 48.59747886657715\n"
     ]
    }
   ],
   "source": [
    "start = time.time()\n",
    "model.fit(norm_X_sampled, y_sampled)\n",
    "accuracy = model.score(norm_X_test3, y_test2) \n",
    "end = time.time()\n",
    "y_pred = model.predict(norm_X_test3)\n",
    "\n",
    "print(\"Accuracy: \" + str(accuracy))\n",
    "print(\"Execution time: \" + str(end-start))"
   ]
  },
  {
   "cell_type": "code",
   "execution_count": 254,
   "id": "a40442dc",
   "metadata": {},
   "outputs": [
    {
     "name": "stdout",
     "output_type": "stream",
     "text": [
      "              precision    recall  f1-score   support\n",
      "\n",
      "           0       0.79      0.69      0.74     16799\n",
      "           1       0.61      0.72      0.66     11389\n",
      "           2       0.07      0.08      0.08       982\n",
      "\n",
      "    accuracy                           0.68     29170\n",
      "   macro avg       0.49      0.50      0.49     29170\n",
      "weighted avg       0.70      0.68      0.69     29170\n",
      "\n"
     ]
    }
   ],
   "source": [
    "print(metrics.classification_report(y_test2, y_pred))"
   ]
  },
  {
   "cell_type": "code",
   "execution_count": null,
   "id": "ff6cb28b",
   "metadata": {},
   "outputs": [],
   "source": [
    "# No significant improvement"
   ]
  }
 ],
 "metadata": {
  "kernelspec": {
   "display_name": "Python 3 (ipykernel)",
   "language": "python",
   "name": "python3"
  },
  "language_info": {
   "codemirror_mode": {
    "name": "ipython",
    "version": 3
   },
   "file_extension": ".py",
   "mimetype": "text/x-python",
   "name": "python",
   "nbconvert_exporter": "python",
   "pygments_lexer": "ipython3",
   "version": "3.9.0"
  }
 },
 "nbformat": 4,
 "nbformat_minor": 5
}
