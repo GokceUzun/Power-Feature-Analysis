{
 "cells": [
  {
   "cell_type": "markdown",
   "id": "a8f430cd",
   "metadata": {},
   "source": [
    "- relativePower = False\n",
    "- removeNoise = True\n",
    "- applyPCA = False"
   ]
  },
  {
   "cell_type": "markdown",
   "id": "a426bd07",
   "metadata": {},
   "source": [
    "Train/Validation animals = ['S7074', 'S7072', 'S7071', 'S7070', 'S7069', 'S7068', 'S7064']  \n",
    "S7074 and S7068 has one baseline 1 brain state file.    \n",
    "\n",
    "- Using Stratified Group K-Fold with 5 cv folds. \n",
    "- https://scikit-learn.org/stable/modules/generated/sklearn.model_selection.StratifiedGroupKFold.html\n",
    "- Discarding the seizure epochs. "
   ]
  },
  {
   "cell_type": "code",
   "execution_count": 3,
   "id": "22bd2b00",
   "metadata": {},
   "outputs": [],
   "source": [
    "from LoadData import LoadData\n",
    "from FilterBasic import Filter\n",
    "from FrequencyDomainFeatures import FrequencyDomainFeatures\n",
    "from TimeDomainFeatures import TimeDomainFeatures\n",
    "from FeaturesData import FeaturesData"
   ]
  },
  {
   "cell_type": "code",
   "execution_count": 4,
   "id": "2e834c66",
   "metadata": {},
   "outputs": [],
   "source": [
    "import pandas as pd\n",
    "import numpy as np\n",
    "from sklearn.naive_bayes import GaussianNB\n",
    "from sklearn.preprocessing import StandardScaler \n",
    "from sklearn.preprocessing import MinMaxScaler \n",
    "from sklearn.naive_bayes import ComplementNB\n",
    "from sklearn.model_selection import GridSearchCV\n",
    "from sklearn.ensemble import RandomForestClassifier\n",
    "import time\n",
    "from sklearn.model_selection import cross_validate\n",
    "from sklearn.model_selection import cross_val_score\n",
    "from sklearn.metrics import balanced_accuracy_score\n",
    "from sklearn.metrics import roc_auc_score\n",
    "from sklearn import metrics\n",
    "import matplotlib.pyplot as plt\n",
    "from sklearn.metrics import precision_recall_fscore_support\n",
    "from sklearn.metrics import multilabel_confusion_matrix"
   ]
  },
  {
   "cell_type": "code",
   "execution_count": 5,
   "id": "d2c10e75",
   "metadata": {},
   "outputs": [],
   "source": [
    "directory = \"/Volumes/Macintosh HD/Users/gokceuzun/Desktop/4. SENE/Honors Project\"\n",
    "filename = \"S7074_WT.npy\"\n",
    "data = LoadData(directory=directory, filename=filename, start=35862289, end=57496848)\n",
    "unfiltered_data = data.get_dat()\n",
    "unfiltered_data = data.slice_data(unfiltered_data)\n",
    "\n",
    "fltr_instance = Filter(unfiltered_data, channels=[3,12,5,9,4,11,1])\n",
    "\n",
    "features = FeaturesData(\n",
    "    fltr_instance,\n",
    "    relativePower=False,\n",
    "    removeNoise=True,\n",
    "    applyPCA=False,\n",
    "    brainstatefile=\"S7074_BL1.pkl\")\n",
    "\n",
    "animal = ['S7074' for i in range(len(features))]\n",
    "features['animal'] = animal\n",
    "\n",
    "Xy_S7074 = features"
   ]
  },
  {
   "cell_type": "code",
   "execution_count": 6,
   "id": "576e27ac",
   "metadata": {},
   "outputs": [],
   "source": [
    "directory = \"/Volumes/Macintosh HD/Users/gokceuzun/Desktop/4. SENE/Honors Project\"\n",
    "filename = \"S7072_GAP.npy\"\n",
    "data = LoadData(directory=directory, filename=filename, start=16481329, end=38115888)\n",
    "unfiltered_data = data.get_dat()\n",
    "unfiltered_data = data.slice_data(unfiltered_data)\n",
    "\n",
    "fltr_instance = Filter(unfiltered_data, channels=[3,12,5,9,4,11,1])\n",
    "\n",
    "features = FeaturesData(\n",
    "    fltr_instance,\n",
    "    relativePower=False,\n",
    "    removeNoise=True,\n",
    "    applyPCA=False,\n",
    "    brainstatefile=\"S7072_BL1.pkl\")\n",
    "\n",
    "animal = ['S7072' for i in range(len(features))]\n",
    "features['animal'] = animal\n",
    "\n",
    "Xy_S7072 = features"
   ]
  },
  {
   "cell_type": "code",
   "execution_count": 7,
   "id": "49faeda8",
   "metadata": {},
   "outputs": [],
   "source": [
    "directory = \"/Volumes/Macintosh HD/Users/gokceuzun/Desktop/4. SENE/Honors Project\"\n",
    "filename = \"S7071_WT.npy\"\n",
    "data = LoadData(directory=directory, filename=filename, start=16481329, end=38115888)\n",
    "unfiltered_data = data.get_dat()\n",
    "unfiltered_data = data.slice_data(unfiltered_data)\n",
    "\n",
    "fltr_instance = Filter(unfiltered_data, channels=[3,12,5,9,4,11,1])\n",
    "\n",
    "features = FeaturesData(\n",
    "    fltr_instance,\n",
    "    relativePower=False,\n",
    "    removeNoise=True,\n",
    "    applyPCA=False,\n",
    "    brainstatefile=\"S7071_BL1.pkl\")\n",
    "\n",
    "animal = ['S7071' for i in range(len(features))]\n",
    "features['animal'] = animal\n",
    "\n",
    "Xy_S7071 = features"
   ]
  },
  {
   "cell_type": "code",
   "execution_count": 8,
   "id": "185ebd0d",
   "metadata": {},
   "outputs": [],
   "source": [
    "filename = \"S7064_GAP.npy\"\n",
    "data = LoadData(directory=directory, filename=filename, start=15324481, end=36959040)\n",
    "unfiltered_data = data.get_dat()\n",
    "unfiltered_data = data.slice_data(unfiltered_data)\n",
    "\n",
    "fltr_instance = Filter(unfiltered_data, channels=[3,12,5,9,4,11,1])\n",
    "\n",
    "features = FeaturesData(\n",
    "    fltr_instance,\n",
    "    relativePower=False,\n",
    "    removeNoise=True,\n",
    "    applyPCA=False,\n",
    "    brainstatefile=\"S7064_BL1.pkl\")\n",
    "\n",
    "animal = ['S7064' for i in range(len(features))]\n",
    "features['animal'] = animal\n",
    "\n",
    "Xy_S7064 = features"
   ]
  },
  {
   "cell_type": "code",
   "execution_count": 9,
   "id": "0db86eb0",
   "metadata": {},
   "outputs": [],
   "source": [
    "filename = \"S7069_GAP.npy\"\n",
    "data = LoadData(directory=directory, filename=filename, start=12214513, end=33849072)\n",
    "unfiltered_data = data.get_dat()\n",
    "unfiltered_data = data.slice_data(unfiltered_data)\n",
    "\n",
    "fltr_instance = Filter(unfiltered_data, channels=[3,12,5,9,4,11,1])\n",
    "\n",
    "features = FeaturesData(\n",
    "    fltr_instance,\n",
    "    relativePower=False,\n",
    "    removeNoise=True,\n",
    "    applyPCA=False,\n",
    "    brainstatefile=\"S7069_BL1.pkl\")\n",
    "\n",
    "animal = ['S7069' for i in range(len(features))]\n",
    "features['animal'] = animal\n",
    "\n",
    "Xy_S7069 = features"
   ]
  },
  {
   "cell_type": "code",
   "execution_count": 10,
   "id": "7b32cc49",
   "metadata": {},
   "outputs": [],
   "source": [
    "filename = \"S7068_WT.npy\"\n",
    "data = LoadData(directory=directory, filename=filename, start=12214513, end=33849072)\n",
    "unfiltered_data = data.get_dat()\n",
    "unfiltered_data = data.slice_data(unfiltered_data)\n",
    "\n",
    "fltr_instance = Filter(unfiltered_data, channels=[3,12,5,9,4,11,1])\n",
    "\n",
    "features = FeaturesData(\n",
    "    fltr_instance,\n",
    "    relativePower=False,\n",
    "    removeNoise=True,\n",
    "    applyPCA=False,\n",
    "    brainstatefile=\"S7068_BL1.pkl\")\n",
    "\n",
    "animal = ['S7068' for i in range(len(features))]\n",
    "features['animal'] = animal\n",
    "\n",
    "Xy_S7068 = features"
   ]
  },
  {
   "cell_type": "code",
   "execution_count": 11,
   "id": "9a22f67d",
   "metadata": {},
   "outputs": [],
   "source": [
    "filename = \"S7070_WT.npy\"\n",
    "data = LoadData(directory=directory, filename=filename, start=16481329, end=38115888)\n",
    "unfiltered_data = data.get_dat()\n",
    "unfiltered_data = data.slice_data(unfiltered_data)\n",
    "\n",
    "fltr_instance = Filter(unfiltered_data, channels=[3,12,5,9,4,11,1])\n",
    "\n",
    "features = FeaturesData(\n",
    "    fltr_instance,\n",
    "    relativePower=False,\n",
    "    removeNoise=True,\n",
    "    applyPCA=False,\n",
    "    brainstatefile=\"S7070_BL1.pkl\")\n",
    "\n",
    "animal = ['S7070' for i in range(len(features))]\n",
    "features['animal'] = animal\n",
    "\n",
    "Xy_S7070 = features"
   ]
  },
  {
   "cell_type": "markdown",
   "id": "6a6db6a9",
   "metadata": {},
   "source": [
    "- Test = ['S7075', 'S7063']"
   ]
  },
  {
   "cell_type": "code",
   "execution_count": 12,
   "id": "2263be46",
   "metadata": {},
   "outputs": [],
   "source": [
    "directory = \"/Volumes/Macintosh HD/Users/gokceuzun/Desktop/4. SENE/Honors Project\"\n",
    "filename = \"S7075_GAP.npy\"\n",
    "data = LoadData(directory=directory, filename=filename, start=14227729, end=35862288)\n",
    "unfiltered_data = data.get_dat()\n",
    "unfiltered_data = data.slice_data(unfiltered_data)\n",
    "\n",
    "fltr_instance = Filter(unfiltered_data, channels=[3,12,5,9,4,11,1])\n",
    "\n",
    "features = FeaturesData(\n",
    "    fltr_instance,\n",
    "    relativePower=False,\n",
    "    removeNoise=True,\n",
    "    applyPCA=False,\n",
    "    brainstatefile=\"S7075_BL1.pkl\")\n",
    "\n",
    "animal = ['S7075' for i in range(len(features))]\n",
    "features['animal'] = animal\n",
    "\n",
    "Xy_S7075 = features"
   ]
  },
  {
   "cell_type": "code",
   "execution_count": 13,
   "id": "56ca554c",
   "metadata": {},
   "outputs": [],
   "source": [
    "directory = \"/Volumes/Macintosh HD/Users/gokceuzun/Desktop/4. SENE/Honors Project\"\n",
    "filename = \"S7063_GAP.npy\"\n",
    "data = LoadData(directory=directory, filename=filename, start=15324481, end=36959040)\n",
    "unfiltered_data = data.get_dat()\n",
    "unfiltered_data = data.slice_data(unfiltered_data)\n",
    "\n",
    "fltr_instance = Filter(unfiltered_data, channels=[3,12,5,9,4,11,1])\n",
    "\n",
    "features = FeaturesData(\n",
    "    fltr_instance,\n",
    "    relativePower=False,\n",
    "    removeNoise=True,\n",
    "    applyPCA=False,\n",
    "    brainstatefile=\"S7063_BL1.pkl\")\n",
    "\n",
    "animal = ['S7063' for i in range(len(features))]\n",
    "features['animal'] = animal\n",
    "\n",
    "Xy_S7063 = features"
   ]
  },
  {
   "cell_type": "markdown",
   "id": "5c4760da",
   "metadata": {},
   "source": [
    "## First two classes\n",
    "- Cross validation for hyperparameter optimization and model paramater selection for testing.  \n",
    "- First classify wake and non-rem (two classes). And then introduce the third class REM and see how the model performs. If the classifier disregards it, because it occurs rarely due to the imbalance of the classes - downsample wake and non-rem, oversample or introduce cost to REM (SMOTE)."
   ]
  },
  {
   "cell_type": "code",
   "execution_count": 131,
   "id": "f6766521",
   "metadata": {
    "scrolled": true
   },
   "outputs": [],
   "source": [
    "Xy1 = pd.concat([Xy_S7074, Xy_S7072, Xy_S7071, Xy_S7070, Xy_S7069, Xy_S7068, Xy_S7064], axis=0)\n",
    "Xy1 = Xy1.loc[(Xy1['brainstate'] != 2) & (Xy1['brainstate'] != 4)].reset_index() # disregard seizure and rem\n",
    "\n",
    "groups_train1 = Xy1.animal\n",
    "y_train1 = Xy1.brainstate\n",
    "X_train1 = Xy1.loc[:, ~Xy1.columns.isin(['animal', 'brainstate', 'index'])]"
   ]
  },
  {
   "cell_type": "code",
   "execution_count": 132,
   "id": "d7a30856",
   "metadata": {},
   "outputs": [],
   "source": [
    "Xy_test1 = pd.concat([Xy_S7075, Xy_S7063], axis=0)\n",
    "\n",
    "Xy_test1 = Xy_test1.loc[(Xy_test1['brainstate'] != 4) & (Xy_test1['brainstate'] != 2)].reset_index() # disregard seizure and rem\n",
    "\n",
    "groups_test1 = Xy_test1.animal\n",
    "y_test1 = Xy_test1.brainstate\n",
    "X_test1 = Xy_test1.loc[:, ~Xy_test1.columns.isin(['animal', 'brainstate', 'index'])]"
   ]
  },
  {
   "cell_type": "markdown",
   "id": "06a895dd",
   "metadata": {},
   "source": [
    "### NAIVE BAYES\n",
    "#### Gaussian Naive Bayes"
   ]
  },
  {
   "cell_type": "code",
   "execution_count": 136,
   "id": "52040bc6",
   "metadata": {},
   "outputs": [
    {
     "data": {
      "text/plain": [
       "{'fit_time': array([0.23567605, 0.31564808, 0.31324911, 0.23836398, 0.29686403]),\n",
       " 'score_time': array([0.04313803, 0.03421617, 0.03455114, 0.04246902, 0.03471613]),\n",
       " 'test_score': array([0.49979695, 0.43116751, 0.41746193, 0.46203046, 0.47700508]),\n",
       " 'train_score': array([0.4510533 , 0.4701269 , 0.46520305, 0.45098985, 0.4503934 ])}"
      ]
     },
     "execution_count": 136,
     "metadata": {},
     "output_type": "execute_result"
    }
   ],
   "source": [
    "cross_validate(GaussianNB(), X_train1, y_train1, cv=5, scoring='accuracy', \n",
    "               groups=groups_train1, n_jobs=-1, return_train_score=True)"
   ]
  },
  {
   "cell_type": "code",
   "execution_count": 14,
   "id": "21771a9a",
   "metadata": {},
   "outputs": [
    {
     "name": "stdout",
     "output_type": "stream",
     "text": [
      "Accuracy: 0.4382349561420309\n",
      "Execution time: 0.18659615516662598\n"
     ]
    }
   ],
   "source": [
    "gnb = GaussianNB()\n",
    "start = time.time()\n",
    "gnb.fit(X_train1, y_train1)\n",
    "accuracy = gnb.score(X_test1, y_test1) # Baseline\n",
    "end = time.time()\n",
    "\n",
    "print(\"Accuracy: \" + str(accuracy))\n",
    "print(\"Execution time: \" + str(end-start))"
   ]
  },
  {
   "cell_type": "code",
   "execution_count": 137,
   "id": "8f3abd1a",
   "metadata": {},
   "outputs": [
    {
     "data": {
      "text/plain": [
       "{'fit_time': array([0.65364504, 0.6480341 , 0.49888182, 0.62676811, 0.74415588]),\n",
       " 'score_time': array([0.0962348 , 0.05950117, 0.14272404, 0.0933609 , 0.12469411]),\n",
       " 'test_score': array([0.51553299, 0.45573604, 0.43055838, 0.47736041, 0.50619289]),\n",
       " 'train_score': array([0.47265228, 0.4959264 , 0.4835533 , 0.46879442, 0.46833756])}"
      ]
     },
     "execution_count": 137,
     "metadata": {},
     "output_type": "execute_result"
    }
   ],
   "source": [
    "# Standardize data mean=0 and stdev=1\n",
    "stand_scaler = StandardScaler()\n",
    "stand_X_train1 = stand_scaler.fit_transform(X_train1)\n",
    "stand_X_test1 = stand_scaler.transform(X_test1)\n",
    "\n",
    "cross_validate(GaussianNB(), stand_X_train1, y_train1, cv=5, scoring='accuracy', \n",
    "               groups=groups_train1, n_jobs=-1, return_train_score=True)"
   ]
  },
  {
   "cell_type": "code",
   "execution_count": 138,
   "id": "6b5dccc7",
   "metadata": {},
   "outputs": [
    {
     "name": "stdout",
     "output_type": "stream",
     "text": [
      "Accuracy: 0.4592637989811162\n",
      "Execution time: 0.25887012481689453\n"
     ]
    }
   ],
   "source": [
    "gnb = GaussianNB()\n",
    "start = time.time()\n",
    "gnb.fit(stand_X_train1, y_train1)\n",
    "accuracy = gnb.score(stand_X_test1, y_test1) # Standardized\n",
    "end = time.time()\n",
    "\n",
    "print(\"Accuracy: \" + str(accuracy))\n",
    "print(\"Execution time: \" + str(end-start))"
   ]
  },
  {
   "cell_type": "code",
   "execution_count": 139,
   "id": "52c8bef8",
   "metadata": {},
   "outputs": [
    {
     "data": {
      "text/plain": [
       "{'fit_time': array([0.34162498, 0.32994199, 0.31812191, 0.32199311, 0.32510519]),\n",
       " 'score_time': array([0.04781389, 0.04633999, 0.04454303, 0.05828118, 0.05800605]),\n",
       " 'test_score': array([0.51553299, 0.45573604, 0.43055838, 0.47736041, 0.50619289]),\n",
       " 'train_score': array([0.47257614, 0.49593909, 0.4835533 , 0.46876904, 0.46832487])}"
      ]
     },
     "execution_count": 139,
     "metadata": {},
     "output_type": "execute_result"
    }
   ],
   "source": [
    "# Normalize data between 0 and 1\n",
    "norm_scaler = MinMaxScaler()\n",
    "norm_X_train1 = norm_scaler.fit_transform(X_train1)\n",
    "norm_X_test1 = norm_scaler.transform(X_test1)\n",
    "\n",
    "cross_validate(GaussianNB(), norm_X_train1, y_train1, cv=5, scoring='accuracy', \n",
    "               groups=groups_train1, n_jobs=-1, return_train_score=True)"
   ]
  },
  {
   "cell_type": "code",
   "execution_count": 16,
   "id": "203315ec",
   "metadata": {},
   "outputs": [
    {
     "name": "stdout",
     "output_type": "stream",
     "text": [
      "Accuracy: 0.4592637989811162\n",
      "Execution time: 0.14034390449523926\n"
     ]
    }
   ],
   "source": [
    "gnb = GaussianNB()\n",
    "start = time.time()\n",
    "gnb.fit(norm_X_train1, y_train1)\n",
    "accuracy = gnb.score(norm_X_test1, y_test1) # Normalized\n",
    "end = time.time()\n",
    "\n",
    "print(\"Accuracy: \" + str(accuracy))\n",
    "print(\"Execution time: \" + str(end-start))"
   ]
  },
  {
   "cell_type": "code",
   "execution_count": 17,
   "id": "a4270ff0",
   "metadata": {},
   "outputs": [],
   "source": [
    "# Standardized and normalized data performed the same, greater accuracy compared to baseline Gaussian."
   ]
  },
  {
   "cell_type": "markdown",
   "id": "f99ebb86",
   "metadata": {},
   "source": [
    "#### Complement Naive Bayes"
   ]
  },
  {
   "cell_type": "code",
   "execution_count": 142,
   "id": "0d8896dd",
   "metadata": {},
   "outputs": [
    {
     "data": {
      "text/plain": [
       "{'fit_time': array([0.20782185, 0.20729709, 0.19539905, 0.18695807, 0.18153119]),\n",
       " 'score_time': array([0.00905919, 0.00704503, 0.00662494, 0.0094111 , 0.00802684]),\n",
       " 'test_score': array([0.83659898, 0.88116751, 0.86619289, 0.86045685, 0.78309645]),\n",
       " 'train_score': array([0.84982234, 0.83720812, 0.84305838, 0.84253807, 0.86321066])}"
      ]
     },
     "execution_count": 142,
     "metadata": {},
     "output_type": "execute_result"
    }
   ],
   "source": [
    "cross_validate(ComplementNB(), norm_X_train1, y_train1, cv=5, scoring='accuracy', \n",
    "               groups=groups_train1, n_jobs=-1, return_train_score=True)"
   ]
  },
  {
   "cell_type": "code",
   "execution_count": 18,
   "id": "c50814b5",
   "metadata": {},
   "outputs": [
    {
     "name": "stdout",
     "output_type": "stream",
     "text": [
      "Accuracy: 0.8502700425173325\n",
      "Execution time: 0.044216156005859375\n"
     ]
    }
   ],
   "source": [
    "cnb = ComplementNB()\n",
    "start = time.time()\n",
    "cnb.fit(norm_X_train1, y_train1)\n",
    "accuracy = cnb.score(norm_X_test1, y_test1) # Baseline\n",
    "end = time.time()\n",
    "\n",
    "print(\"Accuracy: \" + str(accuracy))\n",
    "print(\"Execution time: \" + str(end-start))"
   ]
  },
  {
   "cell_type": "code",
   "execution_count": 19,
   "id": "5a618b5c",
   "metadata": {},
   "outputs": [],
   "source": [
    "# Complement Naive Bayes performed better than Gaussian Naive Bayes - imbalanced classes.\n",
    "# Performed on normalized data. "
   ]
  },
  {
   "cell_type": "markdown",
   "id": "94c92f3b",
   "metadata": {},
   "source": [
    "##### Hyperparameter tuning"
   ]
  },
  {
   "cell_type": "code",
   "execution_count": 150,
   "id": "d96fafc9",
   "metadata": {},
   "outputs": [
    {
     "data": {
      "text/plain": [
       "{'alpha': 4e-08,\n",
       " 'class_prior': [0.0002, 5e-05],\n",
       " 'fit_prior': True,\n",
       " 'norm': False}"
      ]
     },
     "execution_count": 150,
     "metadata": {},
     "output_type": "execute_result"
    }
   ],
   "source": [
    "param_grid = dict()\n",
    "param_grid['alpha'] = [4e-08, 3e-08, 5e-08, 2e-07, 6e-06, 5e-05, 25e-04, 4.5e-08, 3.99e-08, 0.00005, 0.0001, 0.5, 1, 1.75, 10]\n",
    "param_grid['fit_prior'] = [True, False]\n",
    "param_grid['class_prior'] = [[0.0002,0.00005], [0.003,0.0003], [0.0005,0.000025], [1,2], [0.001, 0.0001], [0.00025, 5.5e-08]]\n",
    "param_grid['norm'] = [True, False]\n",
    "\n",
    "start = time.time()\n",
    "grd1 = GridSearchCV(ComplementNB(), param_grid, scoring='accuracy', n_jobs=-1, cv=5) # 5-fold stratified cv\n",
    "grd1.fit(norm_X_train1, y_train1)\n",
    "end = time.time()\n",
    "\n",
    "grd1.best_params_"
   ]
  },
  {
   "cell_type": "code",
   "execution_count": 151,
   "id": "6171113f",
   "metadata": {},
   "outputs": [
    {
     "name": "stdout",
     "output_type": "stream",
     "text": [
      "Hyperparameter tuning computation time: 60.22247910499573\n"
     ]
    }
   ],
   "source": [
    "print(\"Hyperparameter tuning computation time: \" + str(end-start))"
   ]
  },
  {
   "cell_type": "code",
   "execution_count": 152,
   "id": "b3b78e1d",
   "metadata": {},
   "outputs": [
    {
     "data": {
      "text/plain": [
       "{'fit_time': array([0.17542696, 0.17270613, 0.17237306, 0.1813128 , 0.16172886]),\n",
       " 'score_time': array([0.00871897, 0.01187086, 0.01179409, 0.01110315, 0.00992417]),\n",
       " 'test_score': array([0.83685279, 0.88126904, 0.86609137, 0.86071066, 0.78335025]),\n",
       " 'train_score': array([0.85013959, 0.83746193, 0.84323604, 0.84258883, 0.86329949])}"
      ]
     },
     "execution_count": 152,
     "metadata": {},
     "output_type": "execute_result"
    }
   ],
   "source": [
    "# Evaluation of the model\n",
    "cross_validate(grd1.best_estimator_, norm_X_train1, y_train1, cv=5, scoring='accuracy', \n",
    "               groups=groups_train1, n_jobs=-1, return_train_score=True)"
   ]
  },
  {
   "cell_type": "code",
   "execution_count": 153,
   "id": "5bab080b",
   "metadata": {},
   "outputs": [
    {
     "name": "stdout",
     "output_type": "stream",
     "text": [
      "Accuracy: 0.850346650323668\n",
      "Execution time: 0.038796186447143555\n"
     ]
    }
   ],
   "source": [
    "cnb1 = grd1.best_estimator_\n",
    "start = time.time()\n",
    "cnb1.fit(norm_X_train1, y_train1)\n",
    "accuracy = cnb1.score(norm_X_test1, y_test1)\n",
    "end = time.time()\n",
    "\n",
    "print(\"Accuracy: \" + str(accuracy))\n",
    "print(\"Execution time: \" + str(end-start))"
   ]
  },
  {
   "cell_type": "markdown",
   "id": "bc377b02",
   "metadata": {},
   "source": [
    "### RANDOM FOREST"
   ]
  },
  {
   "cell_type": "code",
   "execution_count": 154,
   "id": "dd199908",
   "metadata": {},
   "outputs": [
    {
     "data": {
      "text/plain": [
       "{'fit_time': array([111.26130891, 110.52076602, 107.10826612, 108.28575993,\n",
       "        110.51978207]),\n",
       " 'score_time': array([0.30120277, 0.30522609, 0.36434579, 0.38453913, 0.33081794]),\n",
       " 'test_score': array([0.89994924, 0.90913706, 0.91817259, 0.89548223, 0.82060914]),\n",
       " 'train_score': array([1.        , 1.        , 1.        , 0.99998731, 1.        ])}"
      ]
     },
     "execution_count": 154,
     "metadata": {},
     "output_type": "execute_result"
    }
   ],
   "source": [
    "cross_validate(RandomForestClassifier(), X_train1, y_train1, cv=5, scoring='accuracy', \n",
    "               groups=groups_train1, n_jobs=-1, return_train_score=True)"
   ]
  },
  {
   "cell_type": "code",
   "execution_count": 23,
   "id": "350c02ee",
   "metadata": {},
   "outputs": [
    {
     "name": "stdout",
     "output_type": "stream",
     "text": [
      "Accuracy: 0.8799555674723254\n",
      "Execution time: 94.95484685897827\n"
     ]
    }
   ],
   "source": [
    "rf = RandomForestClassifier()\n",
    "start = time.time()\n",
    "rf.fit(X_train1, y_train1)\n",
    "accuracy = rf.score(X_test1, y_test1) # Baseline\n",
    "end = time.time()\n",
    "\n",
    "print(\"Accuracy: \" + str(accuracy))\n",
    "print(\"Execution time: \" + str(end-start))"
   ]
  },
  {
   "cell_type": "code",
   "execution_count": 155,
   "id": "ea266f8d",
   "metadata": {},
   "outputs": [
    {
     "data": {
      "text/plain": [
       "{'fit_time': array([94.17474794, 93.61884069, 90.86870503, 90.70726609, 93.85340714]),\n",
       " 'score_time': array([0.26247501, 0.27358007, 0.33266282, 0.34184384, 0.27251482]),\n",
       " 'test_score': array([0.89284264, 0.90436548, 0.91629442, 0.90416244, 0.81563452]),\n",
       " 'train_score': array([1.        , 0.99998731, 0.99994924, 0.99998731, 0.99998731])}"
      ]
     },
     "execution_count": 155,
     "metadata": {},
     "output_type": "execute_result"
    }
   ],
   "source": [
    "cross_validate(RandomForestClassifier(), norm_X_train1, y_train1, cv=5, scoring='accuracy', \n",
    "               groups=groups_train1, n_jobs=-1, return_train_score=True)"
   ]
  },
  {
   "cell_type": "code",
   "execution_count": 24,
   "id": "41302078",
   "metadata": {},
   "outputs": [
    {
     "name": "stdout",
     "output_type": "stream",
     "text": [
      "Accuracy: 0.8853947217221435\n",
      "Execution time: 90.06905174255371\n"
     ]
    }
   ],
   "source": [
    "rf = RandomForestClassifier()\n",
    "start = time.time()\n",
    "rf.fit(norm_X_train1, y_train1)\n",
    "accuracy = rf.score(norm_X_test1, y_test1) # Normalized\n",
    "end = time.time()\n",
    "\n",
    "print(\"Accuracy: \" + str(accuracy))\n",
    "print(\"Execution time: \" + str(end-start))"
   ]
  },
  {
   "cell_type": "code",
   "execution_count": 158,
   "id": "29eb9f35",
   "metadata": {},
   "outputs": [
    {
     "data": {
      "text/plain": [
       "{'fit_time': array([107.86276102, 106.10831499, 103.85174084, 104.73891783,\n",
       "        106.99156117]),\n",
       " 'score_time': array([0.29733205, 0.29118013, 0.33815598, 0.34682798, 0.30385375]),\n",
       " 'test_score': array([0.90045685, 0.9086802 , 0.91893401, 0.89329949, 0.81969543]),\n",
       " 'train_score': array([1.        , 0.99997462, 1.        , 0.99998731, 0.99997462])}"
      ]
     },
     "execution_count": 158,
     "metadata": {},
     "output_type": "execute_result"
    }
   ],
   "source": [
    "cross_validate(RandomForestClassifier(), stand_X_train1, y_train1, cv=5, scoring='accuracy', \n",
    "               groups=groups_train1, n_jobs=-1, return_train_score=True)"
   ]
  },
  {
   "cell_type": "code",
   "execution_count": 25,
   "id": "657a59fe",
   "metadata": {},
   "outputs": [
    {
     "name": "stdout",
     "output_type": "stream",
     "text": [
      "Accuracy: 0.8780020684107711\n",
      "Execution time: 96.38568782806396\n"
     ]
    }
   ],
   "source": [
    "rf = RandomForestClassifier()\n",
    "start = time.time()\n",
    "rf.fit(stand_X_train1, y_train1)\n",
    "accuracy = rf.score(stand_X_test1, y_test1) # Standardized\n",
    "end = time.time()\n",
    "\n",
    "print(\"Accuracy: \" + str(accuracy))\n",
    "print(\"Execution time: \" + str(end-start))"
   ]
  },
  {
   "cell_type": "code",
   "execution_count": 26,
   "id": "f650db76",
   "metadata": {},
   "outputs": [],
   "source": [
    "# Normalized data performed the best for RF. "
   ]
  },
  {
   "cell_type": "markdown",
   "id": "0561405c",
   "metadata": {},
   "source": [
    "##### Hyperparameter tuning"
   ]
  },
  {
   "cell_type": "code",
   "execution_count": 366,
   "id": "3d80ad63",
   "metadata": {},
   "outputs": [
    {
     "data": {
      "text/plain": [
       "{'bootstrap': True,\n",
       " 'class_weight': {0: 0.75, 1: 1.25},\n",
       " 'criterion': 'entropy',\n",
       " 'max_depth': 20,\n",
       " 'max_features': 'sqrt',\n",
       " 'min_samples_leaf': 50,\n",
       " 'n_estimators': 1000,\n",
       " 'n_jobs': -1,\n",
       " 'random_state': 2}"
      ]
     },
     "execution_count": 366,
     "metadata": {},
     "output_type": "execute_result"
    }
   ],
   "source": [
    "param_grid = dict()\n",
    "param_grid['n_estimators'] = [1000] # 1000 \n",
    "param_grid['criterion'] = ['entropy']\n",
    "param_grid['max_depth'] = [20]\n",
    "#param_grid['min_samples_split'] = [5]\n",
    "param_grid['min_samples_leaf'] = [50]\n",
    "#param_grid['min_weight_fraction_leaf'] = [0.0, 2.0, 5.0]\n",
    "param_grid['max_features'] = ['sqrt']\n",
    "#param_grid['max_leaf_nodes'] = [2, 5, 10]\n",
    "#param_grid['min_impurity_decrease'] = [0.0, 2.0, 5.0]\n",
    "param_grid['bootstrap'] = [True]\n",
    "#param_grid['oob_score'] = [True, False]\n",
    "param_grid['n_jobs'] = [-1]\n",
    "param_grid['random_state'] = [2]\n",
    "#param_grid['verbose'] = [0, 2, 5]\n",
    "#param_grid['warm_start'] = [True, False]\n",
    "param_grid['class_weight'] = [{0:0.75, 1:1.25}, {0:0.8, 1:1.2}]\n",
    "#param_grid['ccp_alpha'] = [0.0, 2.0]\n",
    "#param_grid['max_samples'] = [100, 10]\n",
    "\n",
    "start = time.time()\n",
    "grd1 = GridSearchCV(RandomForestClassifier(), param_grid, scoring='accuracy', n_jobs=-1, cv=5) # 5-fold stratified cv\n",
    "grd1.fit(norm_X_train1, y_train1)\n",
    "end = time.time()\n",
    "\n",
    "grd1.best_params_"
   ]
  },
  {
   "cell_type": "code",
   "execution_count": 367,
   "id": "063aeb25",
   "metadata": {},
   "outputs": [
    {
     "name": "stdout",
     "output_type": "stream",
     "text": [
      "Hyperparameter tuning computation time: 1315.8688859939575\n"
     ]
    }
   ],
   "source": [
    "print(\"Hyperparameter tuning computation time: \" + str(end-start))"
   ]
  },
  {
   "cell_type": "code",
   "execution_count": 368,
   "id": "68467fa1",
   "metadata": {},
   "outputs": [
    {
     "data": {
      "text/plain": [
       "{'fit_time': array([580.77306128, 578.8369031 , 578.67602611, 573.51438427,\n",
       "        581.185287  ]),\n",
       " 'score_time': array([1.43841982, 1.09222388, 1.48117876, 1.32481098, 1.19752812]),\n",
       " 'test_score': array([0.87715736, 0.90807107, 0.9051269 , 0.91548223, 0.82416244]),\n",
       " 'train_score': array([0.90130711, 0.89634518, 0.89864213, 0.89696701, 0.92015228])}"
      ]
     },
     "execution_count": 368,
     "metadata": {},
     "output_type": "execute_result"
    }
   ],
   "source": [
    "# Evaluation of the model\n",
    "cross_validate(grd1.best_estimator_, norm_X_train1, y_train1, cv=5, scoring='accuracy', \n",
    "               groups=groups_train1, n_jobs=-1, return_train_score=True)"
   ]
  },
  {
   "cell_type": "code",
   "execution_count": 369,
   "id": "7503c591",
   "metadata": {},
   "outputs": [
    {
     "name": "stdout",
     "output_type": "stream",
     "text": [
      "Accuracy: 0.8978051863484889\n",
      "Execution time: 144.77426171302795\n"
     ]
    }
   ],
   "source": [
    "rf1 = grd1.best_estimator_\n",
    "start = time.time()\n",
    "rf1.fit(norm_X_train1, y_train1)\n",
    "accuracy = rf1.score(norm_X_test1, y_test1) # Threshold\n",
    "end = time.time()\n",
    "\n",
    "print(\"Accuracy: \" + str(accuracy))\n",
    "print(\"Execution time: \" + str(end-start))"
   ]
  },
  {
   "cell_type": "markdown",
   "id": "0c10af42",
   "metadata": {},
   "source": [
    "## Introduce the third class"
   ]
  },
  {
   "cell_type": "code",
   "execution_count": 14,
   "id": "89beeb56",
   "metadata": {},
   "outputs": [],
   "source": [
    "Xy2 = pd.concat([Xy_S7074, Xy_S7072, Xy_S7071, Xy_S7070, Xy_S7069, Xy_S7068, Xy_S7064], axis=0)\n",
    "Xy2 = Xy2.loc[(Xy2['brainstate'] != 4)].reset_index() # disregard seizure and rem\n",
    "\n",
    "groups_train2 = Xy2.animal\n",
    "y_train2 = Xy2.brainstate\n",
    "X_train2 = Xy2.loc[:, ~Xy2.columns.isin(['animal', 'brainstate', 'index'])]"
   ]
  },
  {
   "cell_type": "code",
   "execution_count": 15,
   "id": "b7f3c9a0",
   "metadata": {},
   "outputs": [],
   "source": [
    "Xy_test2 = pd.concat([Xy_S7075, Xy_S7063], axis=0)\n",
    "\n",
    "Xy_test2 = Xy_test2.loc[(Xy_test2['brainstate'] != 4)].reset_index() # disregard seizure and rem\n",
    "\n",
    "groups_test2 = Xy_test2.animal\n",
    "y_test2 = Xy_test2.brainstate\n",
    "X_test2 = Xy_test2.loc[:, ~Xy_test2.columns.isin(['animal', 'brainstate', 'index'])]"
   ]
  },
  {
   "cell_type": "markdown",
   "id": "03540005",
   "metadata": {},
   "source": [
    "### NAIVE BAYES\n",
    "#### Gaussian Naive Bayes"
   ]
  },
  {
   "cell_type": "code",
   "execution_count": 168,
   "id": "a1b8895b",
   "metadata": {},
   "outputs": [
    {
     "data": {
      "text/plain": [
       "{'fit_time': array([0.37903619, 0.37835908, 0.37343693, 0.36819601, 0.34811497]),\n",
       " 'score_time': array([0.08260202, 0.08073997, 0.07723808, 0.07786298, 0.08390212]),\n",
       " 'test_score': array([0.44414288, 0.4008627 , 0.39116949, 0.43551592, 0.44777783]),\n",
       " 'train_score': array([0.42201813, 0.43371056, 0.42900935, 0.41592352, 0.4224422 ])}"
      ]
     },
     "execution_count": 168,
     "metadata": {},
     "output_type": "execute_result"
    }
   ],
   "source": [
    "cross_validate(GaussianNB(), X_train2, y_train2, cv=5, scoring='accuracy', \n",
    "               groups=groups_train2, n_jobs=-1, return_train_score=True)"
   ]
  },
  {
   "cell_type": "code",
   "execution_count": 32,
   "id": "234ac3ca",
   "metadata": {},
   "outputs": [
    {
     "name": "stdout",
     "output_type": "stream",
     "text": [
      "Accuracy: 0.4164095319528607\n",
      "Execution time: 0.23550629615783691\n"
     ]
    }
   ],
   "source": [
    "gnb = GaussianNB()\n",
    "start = time.time()\n",
    "gnb.fit(X_train2, y_train2)\n",
    "accuracy = gnb.score(X_test2, y_test2) # Baseline\n",
    "end = time.time()\n",
    "\n",
    "print(\"Accuracy: \" + str(accuracy))\n",
    "print(\"Execution time: \" + str(end-start))"
   ]
  },
  {
   "cell_type": "code",
   "execution_count": 169,
   "id": "49e0b10d",
   "metadata": {},
   "outputs": [
    {
     "data": {
      "text/plain": [
       "{'fit_time': array([0.25107002, 0.33403277, 0.32274723, 0.32913804, 0.32775617]),\n",
       " 'score_time': array([0.04647398, 0.05769515, 0.06186962, 0.06328106, 0.06597614]),\n",
       " 'test_score': array([0.4846605 , 0.42218776, 0.42020065, 0.46653419, 0.48277032]),\n",
       " 'train_score': array([0.46019726, 0.4617724 , 0.46342025, 0.44471235, 0.4570712 ])}"
      ]
     },
     "execution_count": 169,
     "metadata": {},
     "output_type": "execute_result"
    }
   ],
   "source": [
    "# Standardize data mean=0 and stdev=1\n",
    "stand_scaler = StandardScaler()\n",
    "stand_X_train2 = stand_scaler.fit_transform(X_train2)\n",
    "stand_X_test2 = stand_scaler.transform(X_test2)\n",
    "\n",
    "cross_validate(GaussianNB(), stand_X_train2, y_train2, cv=5, scoring='accuracy', \n",
    "               groups=groups_train2, n_jobs=-1, return_train_score=True)"
   ]
  },
  {
   "cell_type": "code",
   "execution_count": 33,
   "id": "0a71e49a",
   "metadata": {},
   "outputs": [
    {
     "name": "stdout",
     "output_type": "stream",
     "text": [
      "Accuracy: 0.43462582252128334\n",
      "Execution time: 0.2518651485443115\n"
     ]
    }
   ],
   "source": [
    "gnb = GaussianNB()\n",
    "start = time.time()\n",
    "gnb.fit(stand_X_train2, y_train2)\n",
    "accuracy = gnb.score(stand_X_test2, y_test2) # Standardized\n",
    "end = time.time()\n",
    "\n",
    "print(\"Accuracy: \" + str(accuracy))\n",
    "print(\"Execution time: \" + str(end-start))"
   ]
  },
  {
   "cell_type": "code",
   "execution_count": 170,
   "id": "6274f7e4",
   "metadata": {},
   "outputs": [
    {
     "data": {
      "text/plain": [
       "{'fit_time': array([0.22701478, 0.22871113, 0.29569292, 0.29289103, 0.28869009]),\n",
       " 'score_time': array([0.04303718, 0.04274273, 0.04993606, 0.05129504, 0.048177  ]),\n",
       " 'test_score': array([0.48461203, 0.42213929, 0.42015218, 0.46653419, 0.48257646]),\n",
       " 'train_score': array([0.46017302, 0.4617724 , 0.46340813, 0.44468812, 0.45701061])}"
      ]
     },
     "execution_count": 170,
     "metadata": {},
     "output_type": "execute_result"
    }
   ],
   "source": [
    "# Normalize data between 0 and 1\n",
    "norm_scaler = MinMaxScaler()\n",
    "norm_X_train2 = norm_scaler.fit_transform(X_train2)\n",
    "norm_X_test2 = norm_scaler.transform(X_test2)\n",
    "\n",
    "cross_validate(GaussianNB(), norm_X_train2, y_train2, cv=5, scoring='accuracy', \n",
    "               groups=groups_train2, n_jobs=-1, return_train_score=True)"
   ]
  },
  {
   "cell_type": "code",
   "execution_count": 34,
   "id": "2757c96c",
   "metadata": {},
   "outputs": [
    {
     "name": "stdout",
     "output_type": "stream",
     "text": [
      "Accuracy: 0.4346629986244842\n",
      "Execution time: 0.23488497734069824\n"
     ]
    }
   ],
   "source": [
    "gnb = GaussianNB()\n",
    "start = time.time()\n",
    "gnb.fit(norm_X_train2, y_train2)\n",
    "accuracy = gnb.score(norm_X_test2, y_test2) # Normalized\n",
    "end = time.time()\n",
    "\n",
    "print(\"Accuracy: \" + str(accuracy))\n",
    "print(\"Execution time: \" + str(end-start))"
   ]
  },
  {
   "cell_type": "code",
   "execution_count": 35,
   "id": "57586c03",
   "metadata": {},
   "outputs": [],
   "source": [
    "# Normalized data performed best with Gaussian NB. \n",
    "# Accuracy decreased when third class is introduced. "
   ]
  },
  {
   "cell_type": "markdown",
   "id": "07759d71",
   "metadata": {},
   "source": [
    "#### Complement Naive Bayes"
   ]
  },
  {
   "cell_type": "code",
   "execution_count": 498,
   "id": "48bfb057",
   "metadata": {},
   "outputs": [
    {
     "data": {
      "text/plain": [
       "{'fit_time': array([0.13551402, 0.22567296, 0.13424301, 0.22596192, 0.20505404]),\n",
       " 'score_time': array([0.00709701, 0.00795007, 0.00638103, 0.00690722, 0.0084269 ]),\n",
       " 'test_score': array([0.79193525, 0.82377744, 0.81616827, 0.81064314, 0.73581156]),\n",
       " 'train_score': array([0.80033199, 0.78754907, 0.79275917, 0.79283187, 0.81592594])}"
      ]
     },
     "execution_count": 498,
     "metadata": {},
     "output_type": "execute_result"
    }
   ],
   "source": [
    "cross_validate(ComplementNB(), norm_X_train2, y_train2, cv=5, scoring='accuracy', \n",
    "               groups=groups_train2, n_jobs=-1, return_train_score=True)"
   ]
  },
  {
   "cell_type": "code",
   "execution_count": 36,
   "id": "371bed1d",
   "metadata": {},
   "outputs": [
    {
     "name": "stdout",
     "output_type": "stream",
     "text": [
      "Accuracy: 0.8227815160414885\n",
      "Execution time: 0.04351305961608887\n"
     ]
    }
   ],
   "source": [
    "cnb = ComplementNB()\n",
    "start = time.time()\n",
    "cnb.fit(norm_X_train2, y_train2)\n",
    "accuracy = cnb.score(norm_X_test2, y_test2) # Baseline\n",
    "end = time.time()\n",
    "\n",
    "print(\"Accuracy: \" + str(accuracy))\n",
    "print(\"Execution time: \" + str(end-start))"
   ]
  },
  {
   "cell_type": "code",
   "execution_count": 37,
   "id": "9230c701",
   "metadata": {},
   "outputs": [],
   "source": [
    "# Complement NB performes better than Gaussian NB. \n",
    "# Accuracy decreased when third class is introduced. "
   ]
  },
  {
   "cell_type": "markdown",
   "id": "416c797b",
   "metadata": {},
   "source": [
    "##### Hyperparameter tuning"
   ]
  },
  {
   "cell_type": "code",
   "execution_count": 173,
   "id": "d6436104",
   "metadata": {},
   "outputs": [
    {
     "data": {
      "text/plain": [
       "{'alpha': 4e-08,\n",
       " 'class_prior': [0.0002, 5e-05, 0.0003],\n",
       " 'fit_prior': True,\n",
       " 'norm': False}"
      ]
     },
     "execution_count": 173,
     "metadata": {},
     "output_type": "execute_result"
    }
   ],
   "source": [
    "param_grid = dict()\n",
    "param_grid['alpha'] = [4e-08, 3.9e-08, 4.2e-08, 5e-07, 65e-08, 3e-06, 0.75e-05, 0.25e-06, 8e-08, 2e-08]\n",
    "param_grid['fit_prior'] = [True, False]\n",
    "param_grid['class_prior'] = [[0.0002,0.00005,0.0003], [0.00025,0.00004,0.0002], [0.0003,0.00003,0.00025], [0.01,0.2,0.008]]\n",
    "param_grid['norm'] = [True, False]\n",
    "\n",
    "start = time.time()\n",
    "grd2 = GridSearchCV(ComplementNB(), param_grid, scoring='accuracy', n_jobs=-1, cv=5) # 5-fold stratified cv\n",
    "grd2.fit(norm_X_train2, y_train2)\n",
    "end = time.time()\n",
    "\n",
    "grd2.best_params_"
   ]
  },
  {
   "cell_type": "code",
   "execution_count": 174,
   "id": "2ecf2f1c",
   "metadata": {},
   "outputs": [
    {
     "name": "stdout",
     "output_type": "stream",
     "text": [
      "Hyperparameter tuning computation time: 31.354180097579956\n"
     ]
    }
   ],
   "source": [
    "print(\"Hyperparameter tuning computation time: \" + str(end-start))"
   ]
  },
  {
   "cell_type": "code",
   "execution_count": 179,
   "id": "61f77915",
   "metadata": {},
   "outputs": [
    {
     "data": {
      "text/plain": [
       "{'fit_time': array([0.15991116, 0.15752912, 0.15998316, 0.14434099, 0.15921879]),\n",
       " 'score_time': array([0.00739098, 0.00951195, 0.00938988, 0.01010394, 0.00912118]),\n",
       " 'test_score': array([0.79227451, 0.82363205, 0.81607134, 0.81098241, 0.73600543]),\n",
       " 'train_score': array([0.80046527, 0.78762177, 0.79284399, 0.79291669, 0.81599864])}"
      ]
     },
     "execution_count": 179,
     "metadata": {},
     "output_type": "execute_result"
    }
   ],
   "source": [
    "# Evaluation of the model\n",
    "cross_validate(grd2.best_estimator_, norm_X_train2, y_train2, cv=5, scoring='accuracy', \n",
    "               groups=groups_train2, n_jobs=-1, return_train_score=True)"
   ]
  },
  {
   "cell_type": "code",
   "execution_count": 175,
   "id": "d6f5e3d2",
   "metadata": {},
   "outputs": [
    {
     "name": "stdout",
     "output_type": "stream",
     "text": [
      "Accuracy: 0.8251236105431429\n",
      "Execution time: 0.03311610221862793\n"
     ]
    }
   ],
   "source": [
    "cnb2 = grd2.best_estimator_\n",
    "start = time.time()\n",
    "cnb2.fit(norm_X_train2, y_train2)\n",
    "accuracy = cnb1.score(norm_X_test2, y_test2) # Threshold\n",
    "end = time.time()\n",
    "\n",
    "y_predNB = cnb2.predict(norm_X_test2)\n",
    "\n",
    "print(\"Accuracy: \" + str(accuracy))\n",
    "print(\"Execution time: \" + str(end-start))"
   ]
  },
  {
   "cell_type": "markdown",
   "id": "530100fc",
   "metadata": {},
   "source": [
    "### RANDOM FOREST"
   ]
  },
  {
   "cell_type": "code",
   "execution_count": 176,
   "id": "1505effa",
   "metadata": {},
   "outputs": [
    {
     "data": {
      "text/plain": [
       "{'fit_time': array([124.7209878 , 123.43576908, 122.0412848 , 121.2787559 ,\n",
       "        124.71105599]),\n",
       " 'score_time': array([0.40444922, 0.46391511, 0.65362024, 0.60045695, 0.43841505]),\n",
       " 'test_score': array([0.86046624, 0.88629865, 0.8716619 , 0.85033684, 0.78345369]),\n",
       " 'train_score': array([1.        , 0.99997577, 0.99998788, 0.99996365, 0.99998788])}"
      ]
     },
     "execution_count": 176,
     "metadata": {},
     "output_type": "execute_result"
    }
   ],
   "source": [
    "cross_validate(RandomForestClassifier(), X_train2, y_train2, cv=5, scoring='accuracy', \n",
    "               groups=groups_train2, n_jobs=-1, return_train_score=True)"
   ]
  },
  {
   "cell_type": "code",
   "execution_count": 41,
   "id": "ea75cc53",
   "metadata": {
    "scrolled": true
   },
   "outputs": [
    {
     "name": "stdout",
     "output_type": "stream",
     "text": [
      "Accuracy: 0.8431540205955612\n",
      "Execution time: 124.53621482849121\n"
     ]
    }
   ],
   "source": [
    "rf = RandomForestClassifier()\n",
    "start = time.time()\n",
    "rf.fit(X_train2, y_train2)\n",
    "accuracy = rf.score(X_test2, y_test2) # Baseline\n",
    "end = time.time()\n",
    "\n",
    "print(\"Accuracy: \" + str(accuracy))\n",
    "print(\"Execution time: \" + str(end-start))"
   ]
  },
  {
   "cell_type": "code",
   "execution_count": 177,
   "id": "90444962",
   "metadata": {},
   "outputs": [
    {
     "data": {
      "text/plain": [
       "{'fit_time': array([110.9730401 , 108.25531721, 108.52734303, 107.31719923,\n",
       "        111.96823764]),\n",
       " 'score_time': array([0.31331182, 0.37125111, 0.41356087, 0.43008995, 0.29779816]),\n",
       " 'test_score': array([0.85208162, 0.8822275 , 0.86739689, 0.86032085, 0.780158  ]),\n",
       " 'train_score': array([0.99998788, 1.        , 1.        , 1.        , 0.99998788])}"
      ]
     },
     "execution_count": 177,
     "metadata": {},
     "output_type": "execute_result"
    }
   ],
   "source": [
    "cross_validate(RandomForestClassifier(), norm_X_train2, y_train2, cv=5, scoring='accuracy', \n",
    "               groups=groups_train2, n_jobs=-1, return_train_score=True)"
   ]
  },
  {
   "cell_type": "code",
   "execution_count": 42,
   "id": "fce0b450",
   "metadata": {},
   "outputs": [
    {
     "name": "stdout",
     "output_type": "stream",
     "text": [
      "Accuracy: 0.8482843228372802\n",
      "Execution time: 103.67416501045227\n"
     ]
    }
   ],
   "source": [
    "rf = RandomForestClassifier()\n",
    "start = time.time()\n",
    "rf.fit(norm_X_train2, y_train2)\n",
    "accuracy = rf.score(norm_X_test2, y_test2) # Normalized\n",
    "end = time.time()\n",
    "\n",
    "print(\"Accuracy: \" + str(accuracy))\n",
    "print(\"Execution time: \" + str(end-start))"
   ]
  },
  {
   "cell_type": "code",
   "execution_count": 178,
   "id": "d22b37fb",
   "metadata": {},
   "outputs": [
    {
     "data": {
      "text/plain": [
       "{'fit_time': array([119.71690392, 116.39025307, 116.55415702, 115.45285797,\n",
       "        119.61967301]),\n",
       " 'score_time': array([0.30856204, 0.35371709, 0.38075304, 0.37110806, 0.28282595]),\n",
       " 'test_score': array([0.86056318, 0.88542626, 0.87098338, 0.84912519, 0.78296903]),\n",
       " 'train_score': array([1.        , 0.99998788, 0.99998788, 0.99998788, 1.        ])}"
      ]
     },
     "execution_count": 178,
     "metadata": {},
     "output_type": "execute_result"
    }
   ],
   "source": [
    "cross_validate(RandomForestClassifier(), stand_X_train2, y_train2, cv=5, scoring='accuracy', \n",
    "               groups=groups_train2, n_jobs=-1, return_train_score=True)"
   ]
  },
  {
   "cell_type": "code",
   "execution_count": 43,
   "id": "3767fa1c",
   "metadata": {},
   "outputs": [
    {
     "name": "stdout",
     "output_type": "stream",
     "text": [
      "Accuracy: 0.8398081713074835\n",
      "Execution time: 116.17091488838196\n"
     ]
    }
   ],
   "source": [
    "rf = RandomForestClassifier()\n",
    "start = time.time()\n",
    "rf.fit(stand_X_train2, y_train2)\n",
    "accuracy = rf.score(stand_X_test2, y_test2) # Standardized\n",
    "end = time.time()\n",
    "\n",
    "print(\"Accuracy: \" + str(accuracy))\n",
    "print(\"Execution time: \" + str(end-start))"
   ]
  },
  {
   "cell_type": "code",
   "execution_count": 44,
   "id": "db500fa2",
   "metadata": {},
   "outputs": [],
   "source": [
    "# Normalized data performs best. "
   ]
  },
  {
   "cell_type": "markdown",
   "id": "32ae8ffb",
   "metadata": {},
   "source": [
    "##### Hyperparameter tuning"
   ]
  },
  {
   "cell_type": "code",
   "execution_count": 370,
   "id": "2bf39d99",
   "metadata": {},
   "outputs": [
    {
     "data": {
      "text/plain": [
       "{'class_weight': {0: 0.75, 1: 1.2, 2: 2.5},\n",
       " 'criterion': 'entropy',\n",
       " 'max_depth': 20,\n",
       " 'max_features': 'sqrt',\n",
       " 'min_samples_leaf': 50,\n",
       " 'n_estimators': 1000,\n",
       " 'n_jobs': -1,\n",
       " 'random_state': 2}"
      ]
     },
     "execution_count": 370,
     "metadata": {},
     "output_type": "execute_result"
    }
   ],
   "source": [
    "param_grid = dict()\n",
    "param_grid['n_estimators'] = [1000] # 1000  \n",
    "param_grid['criterion'] = ['entropy']\n",
    "param_grid['max_depth'] = [20]\n",
    "#param_grid['min_samples_split'] = [5]\n",
    "param_grid['min_samples_leaf'] = [50]\n",
    "#param_grid['min_weight_fraction_leaf'] = [0.0, 2.0, 5.0]\n",
    "param_grid['max_features'] = ['sqrt']\n",
    "#param_grid['max_leaf_nodes'] = [2, 5, 10]\n",
    "#param_grid['min_impurity_decrease'] = [0.0, 2.0, 5.0]\n",
    "#param_grid['bootstrap'] = [True, False]\n",
    "#param_grid['oob_score'] = [True, False]\n",
    "param_grid['n_jobs'] = [-1]\n",
    "param_grid['random_state'] = [2]\n",
    "#param_grid['verbose'] = [0, 2, 5]\n",
    "#param_grid['warm_start'] = [True, False]\n",
    "param_grid['class_weight'] = [{0:0.75, 1:1.2, 2:2.5}, {0:0.8, 1:2, 2:2.5}] # balanced\n",
    "#param_grid['ccp_alpha'] = [0.0, 2.0]\n",
    "#param_grid['max_samples'] = [100, 10]\n",
    "\n",
    "start = time.time()\n",
    "grd2 = GridSearchCV(RandomForestClassifier(), param_grid, scoring='accuracy', n_jobs=-1, cv=5) # 5-fold stratified cv\n",
    "grd2.fit(norm_X_train2, y_train2)\n",
    "end = time.time()\n",
    "\n",
    "grd2.best_params_"
   ]
  },
  {
   "cell_type": "code",
   "execution_count": 371,
   "id": "690fac6c",
   "metadata": {},
   "outputs": [
    {
     "name": "stdout",
     "output_type": "stream",
     "text": [
      "Hyperparameter tuning computation time: 1520.7918763160706\n"
     ]
    }
   ],
   "source": [
    "print(\"Hyperparameter tuning computation time: \" + str(end-start))"
   ]
  },
  {
   "cell_type": "code",
   "execution_count": 372,
   "id": "a910d861",
   "metadata": {},
   "outputs": [
    {
     "data": {
      "text/plain": [
       "{'fit_time': array([673.47014499, 674.11380768, 678.24771523, 671.07611895,\n",
       "        680.77241087]),\n",
       " 'score_time': array([1.78258204, 1.65102696, 1.49595761, 1.247159  , 0.94533181]),\n",
       " 'test_score': array([0.82624921, 0.87321281, 0.84665342, 0.86793002, 0.78917268]),\n",
       " 'train_score': array([0.87092279, 0.86093879, 0.86444046, 0.86642757, 0.88918238])}"
      ]
     },
     "execution_count": 372,
     "metadata": {},
     "output_type": "execute_result"
    }
   ],
   "source": [
    "# Evaluation of the model\n",
    "cross_validate(grd2.best_estimator_, norm_X_train2, y_train2, cv=5, scoring='accuracy', \n",
    "               groups=groups_train2, n_jobs=-1, return_train_score=True)"
   ]
  },
  {
   "cell_type": "code",
   "execution_count": 417,
   "id": "9b47d783",
   "metadata": {},
   "outputs": [
    {
     "name": "stdout",
     "output_type": "stream",
     "text": [
      "Accuracy: 0.8450500018588052\n",
      "Execution time: 181.0810489654541\n"
     ]
    }
   ],
   "source": [
    "rf2 = grd2.best_estimator_\n",
    "start = time.time()\n",
    "rf2.fit(norm_X_train2, y_train2)\n",
    "accuracy = rf2.score(norm_X_test2, y_test2) # Threshold\n",
    "end = time.time()\n",
    "\n",
    "y_predRF = rf2.predict(norm_X_test2)\n",
    "\n",
    "print(\"Accuracy: \" + str(accuracy))\n",
    "print(\"Execution time: \" + str(end-start))"
   ]
  },
  {
   "cell_type": "code",
   "execution_count": null,
   "id": "3cfbbddf",
   "metadata": {},
   "outputs": [],
   "source": [
    "# Accuracy decreased when third class is introduced. "
   ]
  },
  {
   "cell_type": "markdown",
   "id": "6a8bf18b",
   "metadata": {},
   "source": [
    "##### RF Confusion Matrix"
   ]
  },
  {
   "cell_type": "code",
   "execution_count": 538,
   "id": "a0d82043",
   "metadata": {},
   "outputs": [
    {
     "data": {
      "image/png": "[encoded data removed]",
      "text/plain": [
       "<Figure size 432x288 with 2 Axes>"
      ]
     },
     "metadata": {
      "needs_background": "light"
     },
     "output_type": "display_data"
    }
   ],
   "source": [
    "cm = metrics.confusion_matrix(y_test2, y_predRF)\n",
    "cm_display = metrics.ConfusionMatrixDisplay(confusion_matrix = cm, display_labels = ['0','1','2'])\n",
    "cm_display.plot()\n",
    "plt.show()"
   ]
  },
  {
   "cell_type": "code",
   "execution_count": 539,
   "id": "e9f257f0",
   "metadata": {},
   "outputs": [
    {
     "name": "stdout",
     "output_type": "stream",
     "text": [
      "              precision    recall  f1-score   support\n",
      "\n",
      "           0       0.89      0.84      0.86     15544\n",
      "           1       0.86      0.88      0.87     10563\n",
      "           2       0.27      0.54      0.36       792\n",
      "\n",
      "    accuracy                           0.85     26899\n",
      "   macro avg       0.68      0.75      0.70     26899\n",
      "weighted avg       0.86      0.85      0.85     26899\n",
      "\n"
     ]
    }
   ],
   "source": [
    "print(classification_report(y_test2, y_predRF, target_names=['0', '1', '2']))"
   ]
  },
  {
   "cell_type": "code",
   "execution_count": 540,
   "id": "85f64e89",
   "metadata": {},
   "outputs": [
    {
     "data": {
      "text/plain": [
       "(0.6754454555007149, 0.7511351276364132, 0.6980856507252152, None)"
      ]
     },
     "execution_count": 540,
     "metadata": {},
     "output_type": "execute_result"
    }
   ],
   "source": [
    "precision_recall_fscore_support(y_test2, y_predRF, average='macro')"
   ]
  },
  {
   "cell_type": "code",
   "execution_count": 541,
   "id": "f1aed858",
   "metadata": {},
   "outputs": [
    {
     "data": {
      "text/plain": [
       "(0.8450500018588052, 0.8450500018588052, 0.8450500018588052, None)"
      ]
     },
     "execution_count": 541,
     "metadata": {},
     "output_type": "execute_result"
    }
   ],
   "source": [
    "precision_recall_fscore_support(y_test2, y_predRF, average='micro')"
   ]
  },
  {
   "cell_type": "code",
   "execution_count": 542,
   "id": "05156345",
   "metadata": {},
   "outputs": [
    {
     "data": {
      "text/plain": [
       "(0.8636158647605197, 0.8450500018588052, 0.852473957498733, None)"
      ]
     },
     "execution_count": 542,
     "metadata": {},
     "output_type": "execute_result"
    }
   ],
   "source": [
    "precision_recall_fscore_support(y_test2, y_predRF, average='weighted')"
   ]
  },
  {
   "cell_type": "code",
   "execution_count": 543,
   "id": "ed4a7ef2",
   "metadata": {},
   "outputs": [
    {
     "data": {
      "text/plain": [
       "(array([0.89329582, 0.86456297, 0.26847757]),\n",
       " array([0.83749357, 0.87929565, 0.53661616]),\n",
       " array([0.86449514, 0.87186708, 0.35789474]),\n",
       " array([15544, 10563,   792]))"
      ]
     },
     "execution_count": 543,
     "metadata": {},
     "output_type": "execute_result"
    }
   ],
   "source": [
    "precision_recall_fscore_support(y_test2, y_predRF, average=None, labels=[0,1,2]) # for each class "
   ]
  },
  {
   "cell_type": "code",
   "execution_count": 617,
   "id": "7fbb318d",
   "metadata": {},
   "outputs": [
    {
     "data": {
      "text/plain": [
       "{'0': {'TP': 13018,\n",
       "  'TN': 9800,\n",
       "  'FP': 1555,\n",
       "  'FN': 2526,\n",
       "  'Accuracy': 0.8482843228372802,\n",
       "  'Recall': 0.837493566649511,\n",
       "  'Precision': 0.8932958210389076,\n",
       "  'F1': 0.8644951356376798,\n",
       "  'Specificity': 0.8630559225011009},\n",
       " '1': {'TP': 9288,\n",
       "  'TN': 14881,\n",
       "  'FP': 1455,\n",
       "  'FN': 1275,\n",
       "  'Accuracy': 0.8985092382616454,\n",
       "  'Recall': 0.8792956546435672,\n",
       "  'Precision': 0.8645629712370846,\n",
       "  'F1': 0.8718670796958604,\n",
       "  'Specificity': 0.9109329089128305},\n",
       " '2': {'TP': 425,\n",
       "  'TN': 24949,\n",
       "  'FP': 1158,\n",
       "  'FN': 367,\n",
       "  'Accuracy': 0.9433064426186847,\n",
       "  'Recall': 0.5366161616161617,\n",
       "  'Precision': 0.26847757422615287,\n",
       "  'F1': 0.3578947368421053,\n",
       "  'Specificity': 0.9556440801317654}}"
      ]
     },
     "execution_count": 617,
     "metadata": {},
     "output_type": "execute_result"
    }
   ],
   "source": [
    "mcm = multilabel_confusion_matrix(y_test2, y_predRF)\n",
    "\n",
    "tn = mcm[:, 0, 0]\n",
    "tp = mcm[:, 1, 1]\n",
    "fn = mcm[:, 1, 0]\n",
    "fp = mcm[:, 0, 1]\n",
    "recall = tp / (tp + fn) # true positive rate or sensitivity\n",
    "specificity = tn / (tn + fp) # ture negative rate\n",
    "fallout = fp / (fp + tn) # false positive rate\n",
    "missrate = fn / (fn + tp) #false negative rate\n",
    "\n",
    "d = {}\n",
    "for label in ['0', '1', '2']:\n",
    "    i = int(label)\n",
    "    d[label] = dict()\n",
    "    d[label]['TP'] = tp[i]\n",
    "    d[label]['TN'] = tn[i]\n",
    "    d[label]['FP'] = fp[i]\n",
    "    d[label]['FN'] = fn[i]\n",
    "    d[label]['Accuracy'] = (tp[i]+tn[i])/(tp[i]+tn[i]+fn[i]+fp[i]) # TP+TN / TP+TN+FP+FN\n",
    "    d[label]['Recall'] = tp[i]/(tp[i]+fn[i]) # TP / TP+FN\n",
    "    d[label]['Precision'] = tp[i]/(tp[i]+fp[i]) # TP / TP+FP\n",
    "    d[label]['F1'] = (2*d[label]['Precision']*d[label]['Recall'])/(d[label]['Precision']+d[label]['Recall'])\n",
    "    d[label]['Specificity'] = tn[i]/(tn[i]+fp[i]) # TN / TN+FP\n",
    "    #d[label]['Fallout'] = fp[i]/(fp[i]+tn[i]) # FP /FP+TN\n",
    "    #d[label]['Missrate'] = fn[i]/(fn[i]+tp[i]) # FN / FN+TP\n",
    "d"
   ]
  },
  {
   "cell_type": "code",
   "execution_count": 588,
   "id": "66e0c629",
   "metadata": {},
   "outputs": [],
   "source": [
    "# Class 2\n",
    "# Low TP and FN - high TN and FP\n",
    "# High accuracy and specificity\n",
    "# Low recall, precision and F1"
   ]
  },
  {
   "cell_type": "markdown",
   "id": "dcaf41f6",
   "metadata": {},
   "source": [
    "## Oversampling and undersampling"
   ]
  },
  {
   "cell_type": "code",
   "execution_count": 18,
   "id": "1b4b7844",
   "metadata": {},
   "outputs": [],
   "source": [
    "from imblearn.over_sampling import SMOTE\n",
    "from imblearn.under_sampling import RandomUnderSampler\n",
    "from imblearn.pipeline import Pipeline\n",
    "from collections import Counter\n",
    "from imblearn.over_sampling import RandomOverSampler"
   ]
  },
  {
   "cell_type": "code",
   "execution_count": 19,
   "id": "5471d49d",
   "metadata": {},
   "outputs": [
    {
     "data": {
      "text/plain": [
       "Counter({0: 60132, 1: 38368, 2: 4665})"
      ]
     },
     "execution_count": 19,
     "metadata": {},
     "output_type": "execute_result"
    }
   ],
   "source": [
    "counter = Counter(y_train2)\n",
    "counter"
   ]
  },
  {
   "cell_type": "code",
   "execution_count": 20,
   "id": "e18aa1d9",
   "metadata": {},
   "outputs": [
    {
     "name": "stdout",
     "output_type": "stream",
     "text": [
      "Class 0: 58% of X_train2\n",
      "Class 1: 37% of X_train2\n",
      "Class 2: 5% of X_train2\n"
     ]
    }
   ],
   "source": [
    "print(\"Class 0: \" + str(round(100*counter.get(0)/(counter.get(0)+counter.get(1)+counter.get(2))))+\"% of X_train2\")\n",
    "print(\"Class 1: \" + str(round(100*counter.get(1)/(counter.get(0)+counter.get(1)+counter.get(2))))+\"% of X_train2\")\n",
    "print(\"Class 2: \" + str(round(100*counter.get(2)/(counter.get(0)+counter.get(1)+counter.get(2))))+\"% of X_train2\")"
   ]
  },
  {
   "cell_type": "code",
   "execution_count": 21,
   "id": "851838e0",
   "metadata": {},
   "outputs": [],
   "source": [
    "# Current class distribution (0,1,2)\n",
    "# 0 : 58% of the data /3\n",
    "# 1 : 37% of the data/2\n",
    "# 2 : 5% of the data *4\n",
    "\n",
    "# Oversampling - overfit\n",
    "# Undersampling - information loss\n",
    "\n",
    "#sampler = RandomOverSampler(sampling_strategy={0: 60132, 1: 50000, 2: 10000})\n",
    "#sampler = RandomUnderSampler(sampling_strategy={0: 40132, 1: 20000, 2: 4665})\n",
    "#sampler = SMOTE(sampling_strategy={0: 60132, 1: 50000, 2: 10000})"
   ]
  },
  {
   "cell_type": "code",
   "execution_count": 22,
   "id": "975eeb13",
   "metadata": {},
   "outputs": [
    {
     "data": {
      "text/plain": [
       "Counter({0: 50000, 1: 35000, 2: 12000})"
      ]
     },
     "execution_count": 22,
     "metadata": {},
     "output_type": "execute_result"
    }
   ],
   "source": [
    "over = SMOTE(sampling_strategy={0: 60132, 1: 38368, 2: 12000})\n",
    "under = RandomUnderSampler(sampling_strategy={0: 50000, 1: 35000, 2: 12000})\n",
    "\n",
    "sampler_pipeline = Pipeline([('o', over), ('u', under)])\n",
    "\n",
    "X_sampled, y_sampled = sampler_pipeline.fit_resample(X_train2, y_train2)\n",
    "\n",
    "counter = Counter(y_sampled)\n",
    "counter"
   ]
  },
  {
   "cell_type": "code",
   "execution_count": 23,
   "id": "39560458",
   "metadata": {},
   "outputs": [
    {
     "name": "stdout",
     "output_type": "stream",
     "text": [
      "Class 0: 52% of X_train2\n",
      "Class 1: 36% of X_train2\n",
      "Class 2: 12% of X_train2\n"
     ]
    }
   ],
   "source": [
    "print(\"Class 0: \" + str(round(100*counter.get(0)/(counter.get(0)+counter.get(1)+counter.get(2))))+\"% of X_train2\")\n",
    "print(\"Class 1: \" + str(round(100*counter.get(1)/(counter.get(0)+counter.get(1)+counter.get(2))))+\"% of X_train2\")\n",
    "print(\"Class 2: \" + str(round(100*counter.get(2)/(counter.get(0)+counter.get(1)+counter.get(2))))+\"% of X_train2\")"
   ]
  },
  {
   "cell_type": "code",
   "execution_count": 24,
   "id": "3af3288c",
   "metadata": {},
   "outputs": [],
   "source": [
    "# Normalize the sampled data\n",
    "norm_scaler = MinMaxScaler()\n",
    "norm_X_sampled = norm_scaler.fit_transform(X_sampled)\n",
    "norm_X_test3 = norm_scaler.transform(X_test2)"
   ]
  },
  {
   "cell_type": "markdown",
   "id": "d551662d",
   "metadata": {},
   "source": [
    "###### Complement Naive Bayes"
   ]
  },
  {
   "cell_type": "code",
   "execution_count": 689,
   "id": "b7e849b4",
   "metadata": {},
   "outputs": [
    {
     "data": {
      "text/plain": [
       "{'fit_time': array([0.18769693, 0.18772817, 0.18190908, 0.18319511, 0.18275189]),\n",
       " 'score_time': array([0.0054121 , 0.00552392, 0.00732374, 0.00605106, 0.00538325]),\n",
       " 'test_score': array([0.64413793, 0.64551724, 0.64431034, 0.64534483, 0.64094828])}"
      ]
     },
     "execution_count": 689,
     "metadata": {},
     "output_type": "execute_result"
    }
   ],
   "source": [
    "# Hyperparameter tuned model\n",
    "cnb = ComplementNB(alpha=4e-08, class_prior=[0.0002, 5e-05, 0.0003], fit_prior=True, norm=False)\n",
    "\n",
    "# Performence evaluation\n",
    "cross_validate(cnb, norm_X_sampled, y_sampled, cv=5, scoring='accuracy', n_jobs=-1)"
   ]
  },
  {
   "cell_type": "code",
   "execution_count": 690,
   "id": "a191a587",
   "metadata": {},
   "outputs": [
    {
     "name": "stdout",
     "output_type": "stream",
     "text": [
      "Accuracy: 0.4248856834826574\n",
      "Execution time: 0.07547903060913086\n"
     ]
    }
   ],
   "source": [
    "start = time.time()\n",
    "cnb.fit(norm_X_sampled, y_sampled)\n",
    "accuracy = cnb.score(norm_X_test3, y_test2) \n",
    "end = time.time()\n",
    "\n",
    "y_pred = cnb.predict(norm_X_test3)\n",
    "\n",
    "print(\"Accuracy: \" + str(accuracy))\n",
    "print(\"Execution time: \" + str(end-start))"
   ]
  },
  {
   "cell_type": "code",
   "execution_count": 676,
   "id": "597878d9",
   "metadata": {},
   "outputs": [],
   "source": [
    "# The accuracy decreases as I deviate from the original proportions. "
   ]
  },
  {
   "cell_type": "markdown",
   "id": "73181e0e",
   "metadata": {},
   "source": [
    "###### Random Forest"
   ]
  },
  {
   "cell_type": "code",
   "execution_count": 677,
   "id": "c8e23ad9",
   "metadata": {},
   "outputs": [
    {
     "data": {
      "text/plain": [
       "{'fit_time': array([589.91890001, 590.66780305, 590.1276989 , 591.33830905,\n",
       "        590.82389975]),\n",
       " 'score_time': array([1.30206895, 1.45951986, 1.51735401, 1.0710969 , 1.4166491 ]),\n",
       " 'test_score': array([0.84170103, 0.84164948, 0.83742268, 0.8371134 , 0.83814433])}"
      ]
     },
     "execution_count": 677,
     "metadata": {},
     "output_type": "execute_result"
    }
   ],
   "source": [
    "# Hyperparameter tuned model\n",
    "rf = RandomForestClassifier(n_estimators=1000, class_weight={0: 0.75, 1: 1.2, 2: 2.5}, criterion='gini', \n",
    "                            max_depth=20, max_features='sqrt', min_samples_leaf=50, n_jobs=-1, random_state=2)\n",
    "\n",
    "# Performence evaluation\n",
    "cross_validate(rf, norm_X_sampled, y_sampled, cv=5, scoring='accuracy', n_jobs=-1)"
   ]
  },
  {
   "cell_type": "code",
   "execution_count": 678,
   "id": "8359a95f",
   "metadata": {},
   "outputs": [
    {
     "name": "stdout",
     "output_type": "stream",
     "text": [
      "Accuracy: 0.7942302687832261\n",
      "Execution time: 143.80487394332886\n"
     ]
    }
   ],
   "source": [
    "start = time.time()\n",
    "rf.fit(norm_X_sampled, y_sampled)\n",
    "accuracy = rf.score(norm_X_test3, y_test2) \n",
    "end = time.time()\n",
    "\n",
    "y_pred = rf.predict(norm_X_test3)\n",
    "\n",
    "print(\"Accuracy: \" + str(accuracy))\n",
    "print(\"Execution time: \" + str(end-start))"
   ]
  },
  {
   "cell_type": "code",
   "execution_count": 679,
   "id": "8f49658b",
   "metadata": {},
   "outputs": [],
   "source": [
    "# The accuracy decreased. "
   ]
  },
  {
   "cell_type": "markdown",
   "id": "41577a56",
   "metadata": {},
   "source": [
    "###### RF Confusion Matrix"
   ]
  },
  {
   "cell_type": "code",
   "execution_count": 680,
   "id": "e32a3bac",
   "metadata": {},
   "outputs": [
    {
     "data": {
      "image/png": "[encoded data removed]",
      "text/plain": [
       "<Figure size 432x288 with 2 Axes>"
      ]
     },
     "metadata": {
      "needs_background": "light"
     },
     "output_type": "display_data"
    }
   ],
   "source": [
    "cm = metrics.confusion_matrix(y_test2, y_pred)\n",
    "cm_display = metrics.ConfusionMatrixDisplay(confusion_matrix = cm, display_labels = ['0','1','2'])\n",
    "cm_display.plot()\n",
    "plt.show()"
   ]
  },
  {
   "cell_type": "code",
   "execution_count": 681,
   "id": "aa75bc2f",
   "metadata": {},
   "outputs": [
    {
     "name": "stdout",
     "output_type": "stream",
     "text": [
      "              precision    recall  f1-score   support\n",
      "\n",
      "           0       0.92      0.74      0.82     15544\n",
      "           1       0.87      0.87      0.87     10563\n",
      "           2       0.17      0.81      0.29       792\n",
      "\n",
      "    accuracy                           0.79     26899\n",
      "   macro avg       0.65      0.81      0.66     26899\n",
      "weighted avg       0.87      0.79      0.82     26899\n",
      "\n"
     ]
    }
   ],
   "source": [
    "print(classification_report(y_test2, y_pred, target_names=['0', '1', '2']))"
   ]
  },
  {
   "cell_type": "code",
   "execution_count": 682,
   "id": "d51529c1",
   "metadata": {},
   "outputs": [
    {
     "data": {
      "text/plain": [
       "(array([0.91612546, 0.86563918, 0.17365431]),\n",
       " array([0.74414565, 0.86670453, 0.81060606]),\n",
       " array([0.82122826, 0.86617153, 0.28603252]),\n",
       " array([15544, 10563,   792]))"
      ]
     },
     "execution_count": 682,
     "metadata": {},
     "output_type": "execute_result"
    }
   ],
   "source": [
    "precision_recall_fscore_support(y_test2, y_pred, average='macro')\n",
    "precision_recall_fscore_support(y_test2, y_pred, average='micro')\n",
    "precision_recall_fscore_support(y_test2, y_pred, average='weighted')\n",
    "precision_recall_fscore_support(y_test2, y_pred, average=None, labels=[0,1,2]) # for each class "
   ]
  },
  {
   "cell_type": "code",
   "execution_count": 683,
   "id": "4edca664",
   "metadata": {},
   "outputs": [
    {
     "data": {
      "text/plain": [
       "{'0': {'TP': 11567,\n",
       "  'TN': 10296,\n",
       "  'FP': 1059,\n",
       "  'FN': 3977,\n",
       "  'Accuracy': 0.8127811442804566,\n",
       "  'Recall': 0.7441456510550695,\n",
       "  'Precision': 0.9161254554094725,\n",
       "  'F1': 0.8212282570110047,\n",
       "  'Specificity': 0.9067371202113607},\n",
       " '1': {'TP': 9155,\n",
       "  'TN': 14915,\n",
       "  'FP': 1421,\n",
       "  'FN': 1408,\n",
       "  'Accuracy': 0.8948288040447601,\n",
       "  'Recall': 0.8667045346965824,\n",
       "  'Precision': 0.8656391830559758,\n",
       "  'F1': 0.866171531292871,\n",
       "  'Specificity': 0.9130142017629774},\n",
       " '2': {'TP': 642,\n",
       "  'TN': 23052,\n",
       "  'FP': 3055,\n",
       "  'FN': 150,\n",
       "  'Accuracy': 0.8808505892412357,\n",
       "  'Recall': 0.8106060606060606,\n",
       "  'Precision': 0.1736543143088991,\n",
       "  'F1': 0.28603252394742706,\n",
       "  'Specificity': 0.8829815758225763}}"
      ]
     },
     "execution_count": 683,
     "metadata": {},
     "output_type": "execute_result"
    }
   ],
   "source": [
    "mcm = multilabel_confusion_matrix(y_test2, y_pred)\n",
    "\n",
    "tn = mcm[:, 0, 0]\n",
    "tp = mcm[:, 1, 1]\n",
    "fn = mcm[:, 1, 0]\n",
    "fp = mcm[:, 0, 1]\n",
    "recall = tp / (tp + fn) # true positive rate or sensitivity\n",
    "specificity = tn / (tn + fp) # ture negative rate\n",
    "fallout = fp / (fp + tn) # false positive rate\n",
    "missrate = fn / (fn + tp) #false negative rate\n",
    "\n",
    "d = {}\n",
    "for label in ['0', '1', '2']:\n",
    "    i = int(label)\n",
    "    d[label] = dict()\n",
    "    d[label]['TP'] = tp[i]\n",
    "    d[label]['TN'] = tn[i]\n",
    "    d[label]['FP'] = fp[i]\n",
    "    d[label]['FN'] = fn[i]\n",
    "    d[label]['Accuracy'] = (tp[i]+tn[i])/(tp[i]+tn[i]+fn[i]+fp[i]) # TP+TN / TP+TN+FP+FN\n",
    "    d[label]['Recall'] = tp[i]/(tp[i]+fn[i]) # TP / TP+FN\n",
    "    d[label]['Precision'] = tp[i]/(tp[i]+fp[i]) # TP / TP+FP\n",
    "    d[label]['F1'] = (2*d[label]['Precision']*d[label]['Recall'])/(d[label]['Precision']+d[label]['Recall'])\n",
    "    d[label]['Specificity'] = tn[i]/(tn[i]+fp[i]) # TN / TN+FP\n",
    "    #d[label]['Fallout'] = fp[i]/(fp[i]+tn[i]) # FP /FP+TN\n",
    "    #d[label]['Missrate'] = fn[i]/(fn[i]+tp[i]) # FN / FN+TP\n",
    "d"
   ]
  },
  {
   "cell_type": "code",
   "execution_count": 684,
   "id": "02487be6",
   "metadata": {},
   "outputs": [],
   "source": [
    "# 2': {'TP': 425,\n",
    "#  'TN': 24949,\n",
    "#  'FP': 1158,\n",
    "#  'FN': 367,\n",
    "#  'Accuracy': 0.9433064426186847,\n",
    "#  'Recall': 0.5366161616161617,\n",
    "#  'Precision': 0.26847757422615287,\n",
    "#  'F1': 0.3578947368421053,\n",
    "#  'Specificity': 0.9556440801317654}\n",
    "\n",
    "# TP and FP increased\n",
    "# TN and FN decreased\n",
    "# Only recall increased - accuracy, precision, F1 and specificity decreased"
   ]
  },
  {
   "cell_type": "markdown",
   "id": "fe23eef8",
   "metadata": {},
   "source": [
    "#### TRYING SOME DIFFERENT METHODS:\n",
    "https://machinelearningmastery.com/bagging-and-random-forest-for-imbalanced-classification/"
   ]
  },
  {
   "cell_type": "markdown",
   "id": "dd998aa7",
   "metadata": {},
   "source": [
    "- Skewed class weights"
   ]
  },
  {
   "cell_type": "code",
   "execution_count": 600,
   "id": "4bc60a56",
   "metadata": {},
   "outputs": [
    {
     "data": {
      "text/plain": [
       "{'fit_time': array([433.51530027, 433.16524887, 434.62461495, 434.01748586,\n",
       "        433.08525586]),\n",
       " 'score_time': array([1.27591181, 1.36543322, 0.63818121, 1.0661912 , 1.43006325]),\n",
       " 'test_score': array([0.58929412, 0.59058824, 0.58823529, 0.59088235, 0.59170588])}"
      ]
     },
     "execution_count": 600,
     "metadata": {},
     "output_type": "execute_result"
    }
   ],
   "source": [
    "rf = RandomForestClassifier(n_estimators=1000, class_weight={0: 5, 1: 0.03, 2: 100}, criterion='gini', \n",
    "                            max_depth=20, max_features='sqrt', min_samples_leaf=50, n_jobs=-1, random_state=2)\n",
    "\n",
    "cross_validate(rf, norm_X_sampled, y_sampled, cv=5, scoring='accuracy', n_jobs=-1)"
   ]
  },
  {
   "cell_type": "code",
   "execution_count": 601,
   "id": "ea89286e",
   "metadata": {},
   "outputs": [
    {
     "name": "stdout",
     "output_type": "stream",
     "text": [
      "Accuracy: 0.44678240826796534\n"
     ]
    }
   ],
   "source": [
    "rf.fit(norm_X_sampled, y_sampled)\n",
    "accuracy = rf.score(norm_X_test3, y_test2) \n",
    "y_pred = rf.predict(norm_X_test3)\n",
    "\n",
    "print(\"Accuracy: \" + str(accuracy))"
   ]
  },
  {
   "cell_type": "code",
   "execution_count": 602,
   "id": "a721e7ec",
   "metadata": {},
   "outputs": [
    {
     "data": {
      "text/plain": [
       "(array([0.54453422, 0.95726496, 0.11513791]),\n",
       " array([0.71976325, 0.01060305, 0.90656566]),\n",
       " array([0.62000554, 0.02097378, 0.20432555]),\n",
       " array([15544, 10563,   792]))"
      ]
     },
     "execution_count": 602,
     "metadata": {},
     "output_type": "execute_result"
    }
   ],
   "source": [
    "precision_recall_fscore_support(y_test2, y_pred, average=None, labels=[0,1,2]) # for each class "
   ]
  },
  {
   "cell_type": "markdown",
   "id": "913a06e5",
   "metadata": {},
   "source": [
    "- Bagging classifier"
   ]
  },
  {
   "cell_type": "code",
   "execution_count": 603,
   "id": "a33248ca",
   "metadata": {},
   "outputs": [
    {
     "data": {
      "text/plain": [
       "{'fit_time': array([97.9558661 , 98.18403578, 98.65565729, 99.39162302, 98.74250817]),\n",
       " 'score_time': array([0.14356089, 0.13010907, 0.13950062, 0.14274001, 0.1447978 ]),\n",
       " 'test_score': array([0.86252941, 0.85905882, 0.85635294, 0.85564706, 0.85658824])}"
      ]
     },
     "execution_count": 603,
     "metadata": {},
     "output_type": "execute_result"
    }
   ],
   "source": [
    "from sklearn.ensemble import BaggingClassifier\n",
    "\n",
    "model = BaggingClassifier()\n",
    "\n",
    "cross_validate(model, norm_X_sampled, y_sampled, cv=5, scoring='accuracy', n_jobs=-1)"
   ]
  },
  {
   "cell_type": "code",
   "execution_count": 604,
   "id": "9ceaf4bc",
   "metadata": {},
   "outputs": [
    {
     "name": "stdout",
     "output_type": "stream",
     "text": [
      "Accuracy: 0.7763113870404105\n"
     ]
    }
   ],
   "source": [
    "model.fit(norm_X_sampled, y_sampled)\n",
    "accuracy = model.score(norm_X_test3, y_test2) \n",
    "y_pred = model.predict(norm_X_test3)\n",
    "\n",
    "print(\"Accuracy: \" + str(accuracy))"
   ]
  },
  {
   "cell_type": "code",
   "execution_count": 605,
   "id": "ddb973f5",
   "metadata": {},
   "outputs": [
    {
     "data": {
      "text/plain": [
       "(array([0.78020767, 0.84811907, 0.17302573]),\n",
       " array([0.86528564, 0.68512733, 0.24621212]),\n",
       " array([0.82054723, 0.75795978, 0.20323085]),\n",
       " array([15544, 10563,   792]))"
      ]
     },
     "execution_count": 605,
     "metadata": {},
     "output_type": "execute_result"
    }
   ],
   "source": [
    "precision_recall_fscore_support(y_test2, y_pred, average=None, labels=[0,1,2]) # for each class "
   ]
  },
  {
   "cell_type": "markdown",
   "id": "2dcc5e0d",
   "metadata": {},
   "source": [
    "- Balanced bagging classifier"
   ]
  },
  {
   "cell_type": "code",
   "execution_count": 606,
   "id": "c64b2371",
   "metadata": {},
   "outputs": [
    {
     "data": {
      "text/plain": [
       "{'fit_time': array([35.42229128, 36.46068907, 36.74264789, 36.09050393, 36.45732212]),\n",
       " 'score_time': array([0.11984992, 0.11902022, 0.13087296, 0.11782193, 0.11952877]),\n",
       " 'test_score': array([0.84535294, 0.83917647, 0.84088235, 0.84064706, 0.83864706])}"
      ]
     },
     "execution_count": 606,
     "metadata": {},
     "output_type": "execute_result"
    }
   ],
   "source": [
    "from imblearn.ensemble import BalancedBaggingClassifier\n",
    "\n",
    "model = BalancedBaggingClassifier()\n",
    "\n",
    "cross_validate(model, norm_X_sampled, y_sampled, cv=5, scoring='accuracy', n_jobs=-1)"
   ]
  },
  {
   "cell_type": "code",
   "execution_count": 607,
   "id": "8c1968bc",
   "metadata": {},
   "outputs": [
    {
     "name": "stdout",
     "output_type": "stream",
     "text": [
      "Accuracy: 0.765641845421763\n"
     ]
    }
   ],
   "source": [
    "model.fit(norm_X_sampled, y_sampled)\n",
    "accuracy = model.score(norm_X_test3, y_test2) \n",
    "y_pred = model.predict(norm_X_test3)\n",
    "\n",
    "print(\"Accuracy: \" + str(accuracy))"
   ]
  },
  {
   "cell_type": "code",
   "execution_count": 608,
   "id": "abb9a157",
   "metadata": {},
   "outputs": [
    {
     "data": {
      "text/plain": [
       "(array([0.8573017 , 0.85026632, 0.12534393]),\n",
       " array([0.74401698, 0.81605604, 0.51767677]),\n",
       " array([0.7966522 , 0.83281001, 0.20182131]),\n",
       " array([15544, 10563,   792]))"
      ]
     },
     "execution_count": 608,
     "metadata": {},
     "output_type": "execute_result"
    }
   ],
   "source": [
    "precision_recall_fscore_support(y_test2, y_pred, average=None, labels=[0,1,2]) # for each class "
   ]
  },
  {
   "cell_type": "markdown",
   "id": "4dca5fa5",
   "metadata": {},
   "source": [
    "- Balanced subsample on resampled data"
   ]
  },
  {
   "cell_type": "code",
   "execution_count": 609,
   "id": "da865918",
   "metadata": {},
   "outputs": [
    {
     "data": {
      "text/plain": [
       "{'fit_time': array([837.26054502, 839.45265818, 838.63481188, 837.78807282,\n",
       "        842.8383131 ]),\n",
       " 'score_time': array([4.30715704, 4.13587904, 4.27043509, 4.41578126, 3.43938518]),\n",
       " 'test_score': array([0.87641176, 0.87311765, 0.87129412, 0.87435294, 0.86894118])}"
      ]
     },
     "execution_count": 609,
     "metadata": {},
     "output_type": "execute_result"
    }
   ],
   "source": [
    "model = RandomForestClassifier(n_estimators=1000, class_weight='balanced_subsample')\n",
    "\n",
    "cross_validate(model, norm_X_sampled, y_sampled, cv=5, scoring=scoring, n_jobs=-1)"
   ]
  },
  {
   "cell_type": "code",
   "execution_count": 610,
   "id": "5180e0c2",
   "metadata": {},
   "outputs": [
    {
     "name": "stdout",
     "output_type": "stream",
     "text": [
      "Accuracy: 0.8241570318599204\n"
     ]
    }
   ],
   "source": [
    "model.fit(norm_X_sampled, y_sampled)\n",
    "accuracy = model.score(norm_X_test3, y_test2) \n",
    "y_pred = model.predict(norm_X_test3)\n",
    "\n",
    "print(\"Accuracy: \" + str(accuracy))"
   ]
  },
  {
   "cell_type": "code",
   "execution_count": 611,
   "id": "6cb2cb67",
   "metadata": {},
   "outputs": [
    {
     "data": {
      "text/plain": [
       "(array([0.80358744, 0.89365865, 0.18378378]),\n",
       " array([0.92228513, 0.73511313, 0.08585859]),\n",
       " array([0.85885454, 0.80666944, 0.11703959]),\n",
       " array([15544, 10563,   792]))"
      ]
     },
     "execution_count": 611,
     "metadata": {},
     "output_type": "execute_result"
    }
   ],
   "source": [
    "precision_recall_fscore_support(y_test2, y_pred, average=None, labels=[0,1,2]) # for each class "
   ]
  },
  {
   "cell_type": "markdown",
   "id": "5f91b86f",
   "metadata": {},
   "source": [
    "- Balanced subsample on non-resampled data"
   ]
  },
  {
   "cell_type": "code",
   "execution_count": 613,
   "id": "5e1d4893",
   "metadata": {},
   "outputs": [
    {
     "data": {
      "text/plain": [
       "{'fit_time': array([1091.01658106, 1074.88945913, 1069.03841686, 1059.08808708,\n",
       "        1082.41853166]),\n",
       " 'score_time': array([3.57234502, 3.60996485, 4.27998328, 4.53523898, 3.51789618]),\n",
       " 'test_score': array([0.85125769, 0.88372995, 0.86812388, 0.86269568, 0.77904328])}"
      ]
     },
     "execution_count": 613,
     "metadata": {},
     "output_type": "execute_result"
    }
   ],
   "source": [
    "model = RandomForestClassifier(n_estimators=1000, class_weight='balanced_subsample')\n",
    "\n",
    "cross_validate(model, norm_X_train2, y_train2, cv=5, scoring=scoring, n_jobs=-1)"
   ]
  },
  {
   "cell_type": "code",
   "execution_count": 614,
   "id": "3273b12e",
   "metadata": {},
   "outputs": [
    {
     "name": "stdout",
     "output_type": "stream",
     "text": [
      "Accuracy: 0.844009070969181\n"
     ]
    }
   ],
   "source": [
    "model.fit(norm_X_train2, y_train2)\n",
    "accuracy = model.score(norm_X_test2, y_test2) \n",
    "y_pred = model.predict(norm_X_test2)\n",
    "\n",
    "print(\"Accuracy: \" + str(accuracy))"
   ]
  },
  {
   "cell_type": "code",
   "execution_count": 615,
   "id": "97678e16",
   "metadata": {},
   "outputs": [
    {
     "data": {
      "text/plain": [
       "(array([0.82643916, 0.89023866, 0.19371728]),\n",
       " array([0.92543747, 0.78396289, 0.04671717]),\n",
       " array([0.87314112, 0.83372766, 0.07527976]),\n",
       " array([15544, 10563,   792]))"
      ]
     },
     "execution_count": 615,
     "metadata": {},
     "output_type": "execute_result"
    }
   ],
   "source": [
    "precision_recall_fscore_support(y_test2, y_pred, average=None, labels=[0,1,2]) # for each class "
   ]
  },
  {
   "cell_type": "markdown",
   "id": "bb29167f",
   "metadata": {},
   "source": [
    "- XGBoost"
   ]
  },
  {
   "cell_type": "code",
   "execution_count": 42,
   "id": "f7b5daa4",
   "metadata": {},
   "outputs": [
    {
     "data": {
      "text/plain": [
       "{'fit_time': array([465.49754405, 466.34176993, 465.92129421, 464.641119  ,\n",
       "        463.74397898]),\n",
       " 'score_time': array([0.22024202, 0.17791104, 0.19071794, 0.20957899, 0.23575306]),\n",
       " 'test_score': array([0.84549023, 0.89511947, 0.87345514, 0.85692822, 0.79460088])}"
      ]
     },
     "execution_count": 42,
     "metadata": {},
     "output_type": "execute_result"
    }
   ],
   "source": [
    "import xgboost as xgb\n",
    "model = xgb.XGBRFClassifier()\n",
    "cross_validate(model, X_train2, y_train2, cv=5, scoring='accuracy', n_jobs=-1)"
   ]
  },
  {
   "cell_type": "code",
   "execution_count": 43,
   "id": "fb675597",
   "metadata": {},
   "outputs": [
    {
     "name": "stdout",
     "output_type": "stream",
     "text": [
      "Accuracy: 0.8179486226253764\n"
     ]
    }
   ],
   "source": [
    "model.fit(X_train2, y_train2)\n",
    "accuracy = model.score(X_test2, y_test2) \n",
    "y_pred = model.predict(X_test2)\n",
    "\n",
    "print(\"Accuracy: \" + str(accuracy))"
   ]
  },
  {
   "cell_type": "code",
   "execution_count": 44,
   "id": "e559c345",
   "metadata": {},
   "outputs": [
    {
     "name": "stdout",
     "output_type": "stream",
     "text": [
      "              precision    recall  f1-score   support\n",
      "\n",
      "           0       0.84      0.85      0.85     15544\n",
      "           1       0.85      0.82      0.83     10563\n",
      "           2       0.18      0.23      0.20       792\n",
      "\n",
      "    accuracy                           0.82     26899\n",
      "   macro avg       0.62      0.63      0.63     26899\n",
      "weighted avg       0.82      0.82      0.82     26899\n",
      "\n"
     ]
    }
   ],
   "source": [
    "print(metrics.classification_report(y_test2, y_pred))"
   ]
  },
  {
   "cell_type": "code",
   "execution_count": 45,
   "id": "4c43bf01",
   "metadata": {},
   "outputs": [
    {
     "data": {
      "text/plain": [
       "{'fit_time': array([601.398561  , 598.91036701, 603.05860019, 601.78330898,\n",
       "        599.71553397]),\n",
       " 'score_time': array([0.17344785, 0.21999002, 0.17930603, 0.21677017, 0.19279385]),\n",
       " 'test_score': array([0.86027238, 0.88159744, 0.85431106, 0.82358358, 0.78122425])}"
      ]
     },
     "execution_count": 45,
     "metadata": {},
     "output_type": "execute_result"
    }
   ],
   "source": [
    "# Standardize data mean=0 and stdev=1\n",
    "stand_scaler = StandardScaler()\n",
    "stand_X_train2 = stand_scaler.fit_transform(X_train2)\n",
    "stand_X_test2 = stand_scaler.transform(X_test2)\n",
    "\n",
    "model = xgb.XGBClassifier()\n",
    "cross_validate(model, stand_X_train2, y_train2, cv=5, scoring='accuracy', n_jobs=-1)"
   ]
  },
  {
   "cell_type": "code",
   "execution_count": 46,
   "id": "c7042ea3",
   "metadata": {},
   "outputs": [
    {
     "name": "stdout",
     "output_type": "stream",
     "text": [
      "Accuracy: 0.8377263095282352\n"
     ]
    }
   ],
   "source": [
    "model.fit(stand_X_train2, y_train2)\n",
    "accuracy = model.score(stand_X_test2, y_test2) \n",
    "y_pred = model.predict(stand_X_test2)\n",
    "\n",
    "print(\"Accuracy: \" + str(accuracy))"
   ]
  },
  {
   "cell_type": "code",
   "execution_count": 47,
   "id": "428d48a1",
   "metadata": {},
   "outputs": [
    {
     "name": "stdout",
     "output_type": "stream",
     "text": [
      "              precision    recall  f1-score   support\n",
      "\n",
      "           0       0.86      0.86      0.86     15544\n",
      "           1       0.86      0.84      0.85     10563\n",
      "           2       0.24      0.32      0.27       792\n",
      "\n",
      "    accuracy                           0.84     26899\n",
      "   macro avg       0.65      0.67      0.66     26899\n",
      "weighted avg       0.84      0.84      0.84     26899\n",
      "\n"
     ]
    }
   ],
   "source": [
    "print(metrics.classification_report(y_test2, y_pred))"
   ]
  },
  {
   "cell_type": "code",
   "execution_count": 48,
   "id": "1ac37d1f",
   "metadata": {},
   "outputs": [
    {
     "data": {
      "text/plain": [
       "{'fit_time': array([607.04150581, 610.46158385, 609.44714808, 608.54592514,\n",
       "        622.45404792]),\n",
       " 'score_time': array([0.21722913, 0.15138102, 0.17113185, 0.18105721, 0.14546108]),\n",
       " 'test_score': array([0.86080551, 0.88276063, 0.8532448 , 0.82532836, 0.78025493])}"
      ]
     },
     "execution_count": 48,
     "metadata": {},
     "output_type": "execute_result"
    }
   ],
   "source": [
    "# Normalize data between 0 and 1\n",
    "norm_scaler = MinMaxScaler()\n",
    "norm_X_train2 = norm_scaler.fit_transform(X_train2)\n",
    "norm_X_test2 = norm_scaler.transform(X_test2)\n",
    "\n",
    "model = xgb.XGBClassifier()\n",
    "cross_validate(model, norm_X_train2, y_train2, cv=5, scoring='accuracy', n_jobs=-1)"
   ]
  },
  {
   "cell_type": "code",
   "execution_count": 49,
   "id": "5c50b054",
   "metadata": {},
   "outputs": [
    {
     "name": "stdout",
     "output_type": "stream",
     "text": [
      "Accuracy: 0.8370199635674188\n"
     ]
    }
   ],
   "source": [
    "model.fit(norm_X_train2, y_train2)\n",
    "accuracy = model.score(norm_X_test2, y_test2) \n",
    "y_pred = model.predict(norm_X_test2)\n",
    "\n",
    "print(\"Accuracy: \" + str(accuracy))"
   ]
  },
  {
   "cell_type": "code",
   "execution_count": 50,
   "id": "965c96ae",
   "metadata": {},
   "outputs": [
    {
     "name": "stdout",
     "output_type": "stream",
     "text": [
      "              precision    recall  f1-score   support\n",
      "\n",
      "           0       0.86      0.86      0.86     15544\n",
      "           1       0.86      0.85      0.85     10563\n",
      "           2       0.23      0.29      0.26       792\n",
      "\n",
      "    accuracy                           0.84     26899\n",
      "   macro avg       0.65      0.67      0.66     26899\n",
      "weighted avg       0.84      0.84      0.84     26899\n",
      "\n"
     ]
    }
   ],
   "source": [
    "print(metrics.classification_report(y_test2, y_pred))"
   ]
  },
  {
   "cell_type": "code",
   "execution_count": 51,
   "id": "1ca27c3a",
   "metadata": {},
   "outputs": [
    {
     "data": {
      "text/plain": [
       "{'fit_time': array([551.08404708, 550.45326281, 550.84995508, 550.31728816,\n",
       "        550.59764194]),\n",
       " 'score_time': array([0.18582606, 0.21797705, 0.19292021, 0.22741675, 0.19153094]),\n",
       " 'test_score': array([0.87139175, 0.87793814, 0.87170103, 0.8785567 , 0.87623711])}"
      ]
     },
     "execution_count": 51,
     "metadata": {},
     "output_type": "execute_result"
    }
   ],
   "source": [
    "# X_sampled, y_sampled\n",
    "model = xgb.XGBClassifier()\n",
    "cross_validate(model, X_sampled, y_sampled, cv=5, scoring='accuracy', n_jobs=-1)"
   ]
  },
  {
   "cell_type": "code",
   "execution_count": 52,
   "id": "a9435b55",
   "metadata": {},
   "outputs": [
    {
     "name": "stdout",
     "output_type": "stream",
     "text": [
      "Accuracy: 0.8290271013792334\n"
     ]
    }
   ],
   "source": [
    "model.fit(X_sampled, y_sampled)\n",
    "accuracy = model.score(X_test2, y_test2) \n",
    "y_pred = model.predict(X_test2)\n",
    "\n",
    "print(\"Accuracy: \" + str(accuracy))"
   ]
  },
  {
   "cell_type": "code",
   "execution_count": 53,
   "id": "f1a71230",
   "metadata": {},
   "outputs": [
    {
     "name": "stdout",
     "output_type": "stream",
     "text": [
      "              precision    recall  f1-score   support\n",
      "\n",
      "           0       0.87      0.83      0.85     15544\n",
      "           1       0.86      0.86      0.86     10563\n",
      "           2       0.18      0.34      0.24       792\n",
      "\n",
      "    accuracy                           0.83     26899\n",
      "   macro avg       0.64      0.68      0.65     26899\n",
      "weighted avg       0.85      0.83      0.84     26899\n",
      "\n"
     ]
    }
   ],
   "source": [
    "print(metrics.classification_report(y_test2, y_pred))"
   ]
  },
  {
   "cell_type": "code",
   "execution_count": 54,
   "id": "fb9f1b77",
   "metadata": {},
   "outputs": [
    {
     "data": {
      "text/plain": [
       "{'fit_time': array([554.17257333, 553.44246197, 567.3249042 , 554.77714515,\n",
       "        551.45034099]),\n",
       " 'score_time': array([0.16993308, 0.17340636, 0.1391809 , 0.15184593, 0.21077299]),\n",
       " 'test_score': array([0.87360825, 0.87742268, 0.87025773, 0.87701031, 0.87608247])}"
      ]
     },
     "execution_count": 54,
     "metadata": {},
     "output_type": "execute_result"
    }
   ],
   "source": [
    "# Normalize the sampled data\n",
    "#norm_scaler = MinMaxScaler()\n",
    "#norm_X_sampled = norm_scaler.fit_transform(X_sampled)\n",
    "#norm_X_test3 = norm_scaler.transform(X_test2)\n",
    "\n",
    "model = xgb.XGBClassifier()\n",
    "cross_validate(model, norm_X_sampled, y_sampled, cv=5, scoring='accuracy', n_jobs=-1)"
   ]
  },
  {
   "cell_type": "code",
   "execution_count": 57,
   "id": "19214c4b",
   "metadata": {},
   "outputs": [
    {
     "name": "stdout",
     "output_type": "stream",
     "text": [
      "Accuracy: 0.8269080634967843\n",
      "Execution time: 146.44314122200012\n"
     ]
    }
   ],
   "source": [
    "start = time.time()\n",
    "model.fit(norm_X_sampled, y_sampled)\n",
    "accuracy = model.score(norm_X_test3, y_test2) \n",
    "end = time.time()\n",
    "y_pred = model.predict(norm_X_test3)\n",
    "\n",
    "print(\"Accuracy: \" + str(accuracy))\n",
    "print(\"Execution time: \" + str(end-start))"
   ]
  },
  {
   "cell_type": "code",
   "execution_count": 56,
   "id": "5b3cfb2d",
   "metadata": {},
   "outputs": [
    {
     "name": "stdout",
     "output_type": "stream",
     "text": [
      "              precision    recall  f1-score   support\n",
      "\n",
      "           0       0.87      0.83      0.85     15544\n",
      "           1       0.86      0.86      0.86     10563\n",
      "           2       0.18      0.34      0.23       792\n",
      "\n",
      "    accuracy                           0.83     26899\n",
      "   macro avg       0.64      0.68      0.65     26899\n",
      "weighted avg       0.85      0.83      0.84     26899\n",
      "\n"
     ]
    }
   ],
   "source": [
    "print(metrics.classification_report(y_test2, y_pred))"
   ]
  },
  {
   "cell_type": "code",
   "execution_count": 58,
   "id": "79a02277",
   "metadata": {},
   "outputs": [],
   "source": [
    "# No significant improvement"
   ]
  },
  {
   "cell_type": "markdown",
   "id": "a6f2e5c1",
   "metadata": {},
   "source": [
    "- XGBoost HYPERPARAMETER TUNING  \n",
    "https://www.analyticsvidhya.com/blog/2016/03/complete-guide-parameter-tuning-xgboost-with-codes-python/"
   ]
  },
  {
   "cell_type": "code",
   "execution_count": 63,
   "id": "431601e4",
   "metadata": {},
   "outputs": [],
   "source": [
    "xgb1 = xgb.XGBClassifier(\n",
    " learning_rate =0.1,\n",
    " n_estimators=150,\n",
    " max_depth=5,\n",
    " min_child_weight=1,\n",
    " gamma=0,\n",
    " subsample=0.8,\n",
    " colsample_bytree=0.8,\n",
    " objective= 'binary:logistic',\n",
    " nthread=4,\n",
    " seed=27)"
   ]
  },
  {
   "cell_type": "code",
   "execution_count": 66,
   "id": "a53bff76",
   "metadata": {},
   "outputs": [
    {
     "name": "stdout",
     "output_type": "stream",
     "text": [
      "Accuracy: 0.8367969069482137\n",
      "Execution time: 154.9702320098877\n"
     ]
    }
   ],
   "source": [
    "start = time.time()\n",
    "xgb1.fit(norm_X_train2, y_train2)\n",
    "accuracy = xgb1.score(norm_X_test2, y_test2) \n",
    "end = time.time()\n",
    "\n",
    "print(\"Accuracy: \" + str(accuracy))\n",
    "print(\"Execution time: \" + str(end-start))"
   ]
  }
 ],
 "metadata": {
  "kernelspec": {
   "display_name": "Python 3 (ipykernel)",
   "language": "python",
   "name": "python3"
  },
  "language_info": {
   "codemirror_mode": {
    "name": "ipython",
    "version": 3
   },
   "file_extension": ".py",
   "mimetype": "text/x-python",
   "name": "python",
   "nbconvert_exporter": "python",
   "pygments_lexer": "ipython3",
   "version": "3.9.0"
  }
 },
 "nbformat": 4,
 "nbformat_minor": 5
}
