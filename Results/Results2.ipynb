{
 "cells": [
  {
   "cell_type": "markdown",
   "id": "9c8a63e6",
   "metadata": {},
   "source": [
    "### Manual scoring results"
   ]
  },
  {
   "cell_type": "code",
   "execution_count": 19,
   "id": "a22c40be",
   "metadata": {},
   "outputs": [],
   "source": [
    "from LoadData import LoadData\n",
    "from FilterBasic import Filter\n",
    "from FrequencyDomainFeatures import FrequencyDomainFeatures\n",
    "from TimeDomainFeatures import TimeDomainFeatures\n",
    "from FeaturesData import FeaturesData"
   ]
  },
  {
   "cell_type": "code",
   "execution_count": 2,
   "id": "e4bbee4c",
   "metadata": {},
   "outputs": [],
   "source": [
    "import pandas as pd\n",
    "import numpy as np\n",
    "from sklearn.naive_bayes import GaussianNB\n",
    "from sklearn.preprocessing import StandardScaler \n",
    "from sklearn.preprocessing import MinMaxScaler \n",
    "from sklearn.naive_bayes import ComplementNB\n",
    "from sklearn.model_selection import GridSearchCV\n",
    "from sklearn.ensemble import RandomForestClassifier\n",
    "import time\n",
    "from sklearn.model_selection import cross_validate\n",
    "from sklearn.model_selection import cross_val_score\n",
    "from sklearn.metrics import balanced_accuracy_score\n",
    "from sklearn.metrics import roc_auc_score\n",
    "from sklearn import metrics\n",
    "import matplotlib.pyplot as plt\n",
    "from sklearn.metrics import precision_recall_fscore_support\n",
    "from sklearn.metrics import multilabel_confusion_matrix\n",
    "from sklearn.metrics import classification_report"
   ]
  },
  {
   "cell_type": "markdown",
   "id": "759dd995",
   "metadata": {},
   "source": [
    "- relativePower = True\n",
    "- removeNoise = True\n",
    "- applyPCA = False \n",
    "\n",
    "Train/Validation animals = ['S7074', 'S7072', 'S7071', 'S7070', 'S7069', 'S7068', 'S7064']  \n",
    "Baseline 1"
   ]
  },
  {
   "cell_type": "code",
   "execution_count": 6,
   "id": "93639853",
   "metadata": {},
   "outputs": [],
   "source": [
    "directory = \"/Volumes/Macintosh HD/Users/gokceuzun/Desktop/4. SENE/Honors Project\"\n",
    "filename = \"S7074_WT.npy\"\n",
    "data = LoadData(directory=directory, filename=filename, start=35862289, end=57496848)\n",
    "unfiltered_data = data.get_dat()\n",
    "unfiltered_data = data.slice_data(unfiltered_data)\n",
    "\n",
    "fltr_instance = Filter(unfiltered_data, channels=[3,12,5,9,4,11,1])\n",
    "\n",
    "features = FeaturesData(\n",
    "    fltr_instance,\n",
    "    relativePower=True,\n",
    "    removeNoise=True,\n",
    "    applyPCA=False,\n",
    "    brainstatefile=\"S7074_BL1.npy\")\n",
    "\n",
    "animal = ['S7074' for i in range(len(features))]\n",
    "features['animal'] = animal\n",
    "\n",
    "Xy_S7074 = features"
   ]
  },
  {
   "cell_type": "code",
   "execution_count": 7,
   "id": "8acd37cd",
   "metadata": {},
   "outputs": [],
   "source": [
    "directory = \"/Volumes/Macintosh HD/Users/gokceuzun/Desktop/4. SENE/Honors Project\"\n",
    "filename = \"S7072_GAP.npy\"\n",
    "data = LoadData(directory=directory, filename=filename, start=16481329, end=38115888)\n",
    "unfiltered_data = data.get_dat()\n",
    "unfiltered_data = data.slice_data(unfiltered_data)\n",
    "\n",
    "fltr_instance = Filter(unfiltered_data, channels=[3,12,5,9,4,11,1])\n",
    "\n",
    "features = FeaturesData(\n",
    "    fltr_instance,\n",
    "    relativePower=True,\n",
    "    removeNoise=True,\n",
    "    applyPCA=False,\n",
    "    brainstatefile=\"S7072_BL1.npy\")\n",
    "\n",
    "animal = ['S7072' for i in range(len(features))]\n",
    "features['animal'] = animal\n",
    "\n",
    "Xy_S7072 = features"
   ]
  },
  {
   "cell_type": "code",
   "execution_count": 8,
   "id": "acadddb5",
   "metadata": {},
   "outputs": [],
   "source": [
    "directory = \"/Volumes/Macintosh HD/Users/gokceuzun/Desktop/4. SENE/Honors Project\"\n",
    "filename = \"S7071_WT.npy\"\n",
    "data = LoadData(directory=directory, filename=filename, start=16481329, end=38115888)\n",
    "unfiltered_data = data.get_dat()\n",
    "unfiltered_data = data.slice_data(unfiltered_data)\n",
    "\n",
    "fltr_instance = Filter(unfiltered_data, channels=[3,12,5,9,4,11,1])\n",
    "\n",
    "features = FeaturesData(\n",
    "    fltr_instance,\n",
    "    relativePower=True,\n",
    "    removeNoise=True,\n",
    "    applyPCA=False,\n",
    "    brainstatefile=\"S7071_BL1.npy\")\n",
    "\n",
    "animal = ['S7071' for i in range(len(features))]\n",
    "features['animal'] = animal\n",
    "\n",
    "Xy_S7071 = features"
   ]
  },
  {
   "cell_type": "code",
   "execution_count": 11,
   "id": "6de59646",
   "metadata": {},
   "outputs": [],
   "source": [
    "filename = \"S7064_GAP.npy\"\n",
    "data = LoadData(directory=directory, filename=filename, start=15324481, end=36959040)\n",
    "unfiltered_data = data.get_dat()\n",
    "unfiltered_data = data.slice_data(unfiltered_data)\n",
    "\n",
    "fltr_instance = Filter(unfiltered_data, channels=[3,12,5,9,4,11,1])\n",
    "\n",
    "features = FeaturesData(\n",
    "    fltr_instance,\n",
    "    relativePower=True,\n",
    "    removeNoise=True,\n",
    "    applyPCA=False,\n",
    "    brainstatefile=\"S7064_BL1.npy\")\n",
    "\n",
    "animal = ['S7064' for i in range(len(features))]\n",
    "features['animal'] = animal\n",
    "\n",
    "Xy_S7064 = features"
   ]
  },
  {
   "cell_type": "code",
   "execution_count": 12,
   "id": "d73e6a4f",
   "metadata": {},
   "outputs": [],
   "source": [
    "filename = \"S7069_GAP.npy\"\n",
    "data = LoadData(directory=directory, filename=filename, start=12214513, end=33849072)\n",
    "unfiltered_data = data.get_dat()\n",
    "unfiltered_data = data.slice_data(unfiltered_data)\n",
    "\n",
    "fltr_instance = Filter(unfiltered_data, channels=[3,12,5,9,4,11,1])\n",
    "\n",
    "features = FeaturesData(\n",
    "    fltr_instance,\n",
    "    relativePower=True,\n",
    "    removeNoise=True,\n",
    "    applyPCA=False,\n",
    "    brainstatefile=\"S7069_BL1.npy\")\n",
    "\n",
    "animal = ['S7069' for i in range(len(features))]\n",
    "features['animal'] = animal\n",
    "\n",
    "Xy_S7069 = features"
   ]
  },
  {
   "cell_type": "code",
   "execution_count": 13,
   "id": "65d1e675",
   "metadata": {},
   "outputs": [],
   "source": [
    "filename = \"S7068_WT.npy\"\n",
    "data = LoadData(directory=directory, filename=filename, start=12214513, end=33849072)\n",
    "unfiltered_data = data.get_dat()\n",
    "unfiltered_data = data.slice_data(unfiltered_data)\n",
    "\n",
    "fltr_instance = Filter(unfiltered_data, channels=[3,12,5,9,4,11,1])\n",
    "\n",
    "features = FeaturesData(\n",
    "    fltr_instance,\n",
    "    relativePower=True,\n",
    "    removeNoise=True,\n",
    "    applyPCA=False,\n",
    "    brainstatefile=\"S7068_BL1.npy\")\n",
    "\n",
    "animal = ['S7068' for i in range(len(features))]\n",
    "features['animal'] = animal\n",
    "\n",
    "Xy_S7068 = features"
   ]
  },
  {
   "cell_type": "code",
   "execution_count": 14,
   "id": "23f29645",
   "metadata": {},
   "outputs": [],
   "source": [
    "filename = \"S7070_WT.npy\"\n",
    "data = LoadData(directory=directory, filename=filename, start=16481329, end=38115888)\n",
    "unfiltered_data = data.get_dat()\n",
    "unfiltered_data = data.slice_data(unfiltered_data)\n",
    "\n",
    "fltr_instance = Filter(unfiltered_data, channels=[3,12,5,9,4,11,1])\n",
    "\n",
    "features = FeaturesData(\n",
    "    fltr_instance,\n",
    "    relativePower=True,\n",
    "    removeNoise=True,\n",
    "    applyPCA=False,\n",
    "    brainstatefile=\"S7070_BL1.npy\")\n",
    "\n",
    "animal = ['S7070' for i in range(len(features))]\n",
    "features['animal'] = animal\n",
    "\n",
    "Xy_S7070 = features"
   ]
  },
  {
   "cell_type": "markdown",
   "id": "03a5316a",
   "metadata": {},
   "source": [
    "Test = ['S7075', 'S7063']"
   ]
  },
  {
   "cell_type": "code",
   "execution_count": 15,
   "id": "76403147",
   "metadata": {},
   "outputs": [],
   "source": [
    "directory = \"/Volumes/Macintosh HD/Users/gokceuzun/Desktop/4. SENE/Honors Project\"\n",
    "filename = \"S7075_GAP.npy\"\n",
    "data = LoadData(directory=directory, filename=filename, start=14227729, end=35862288)\n",
    "unfiltered_data = data.get_dat()\n",
    "unfiltered_data = data.slice_data(unfiltered_data)\n",
    "\n",
    "fltr_instance = Filter(unfiltered_data, channels=[3,12,5,9,4,11,1])\n",
    "\n",
    "features = FeaturesData(\n",
    "    fltr_instance,\n",
    "    relativePower=True,\n",
    "    removeNoise=True,\n",
    "    applyPCA=False,\n",
    "    brainstatefile=\"S7075_BL1.npy\")\n",
    "\n",
    "animal = ['S7075' for i in range(len(features))]\n",
    "features['animal'] = animal\n",
    "\n",
    "Xy_S7075 = features"
   ]
  },
  {
   "cell_type": "code",
   "execution_count": 16,
   "id": "47557402",
   "metadata": {},
   "outputs": [],
   "source": [
    "directory = \"/Volumes/Macintosh HD/Users/gokceuzun/Desktop/4. SENE/Honors Project\"\n",
    "filename = \"S7063_GAP.npy\"\n",
    "data = LoadData(directory=directory, filename=filename, start=15324481, end=36959040)\n",
    "unfiltered_data = data.get_dat()\n",
    "unfiltered_data = data.slice_data(unfiltered_data)\n",
    "\n",
    "fltr_instance = Filter(unfiltered_data, channels=[3,12,5,9,4,11,1])\n",
    "\n",
    "features = FeaturesData(\n",
    "    fltr_instance,\n",
    "    relativePower=True,\n",
    "    removeNoise=True,\n",
    "    applyPCA=False,\n",
    "    brainstatefile=\"S7063_BL1.npy\")\n",
    "\n",
    "animal = ['S7063' for i in range(len(features))]\n",
    "features['animal'] = animal\n",
    "\n",
    "Xy_S7063 = features"
   ]
  },
  {
   "cell_type": "markdown",
   "id": "9334ae70",
   "metadata": {},
   "source": [
    "## First two classes"
   ]
  },
  {
   "cell_type": "code",
   "execution_count": 17,
   "id": "4a66b6cd",
   "metadata": {},
   "outputs": [],
   "source": [
    "Xy1 = pd.concat([Xy_S7074, Xy_S7072, Xy_S7071, Xy_S7070, Xy_S7069, Xy_S7068, Xy_S7064], axis=0)\n",
    "Xy1 = Xy1.loc[(Xy1['brainstate'] != 2) & (Xy1['brainstate'] != 4)].reset_index() # disregard seizure and rem\n",
    "\n",
    "groups_train1 = Xy1.animal\n",
    "y_train1 = Xy1.brainstate.astype('int')\n",
    "X_train1 = Xy1.loc[:, ~Xy1.columns.isin(['animal', 'brainstate', 'index'])]"
   ]
  },
  {
   "cell_type": "code",
   "execution_count": 18,
   "id": "67bffbec",
   "metadata": {},
   "outputs": [],
   "source": [
    "Xy_test1 = pd.concat([Xy_S7075, Xy_S7063], axis=0)\n",
    "\n",
    "Xy_test1 = Xy_test1.loc[(Xy_test1['brainstate'] != 4) & (Xy_test1['brainstate'] != 2)].reset_index() # disregard seizure and rem\n",
    "\n",
    "groups_test1 = Xy_test1.animal\n",
    "y_test1 = Xy_test1.brainstate.astype('int')\n",
    "X_test1 = Xy_test1.loc[:, ~Xy_test1.columns.isin(['animal', 'brainstate', 'index'])]"
   ]
  },
  {
   "cell_type": "markdown",
   "id": "a29ce0ea",
   "metadata": {},
   "source": [
    "### Naive Bayes\n",
    "#### GAUSSIAN NAIVE BAYES"
   ]
  },
  {
   "cell_type": "code",
   "execution_count": 20,
   "id": "14ca0e42",
   "metadata": {},
   "outputs": [
    {
     "data": {
      "text/plain": [
       "{'fit_time': array([0.32024598, 0.31258869, 0.30954409, 0.30949712, 0.30327201]),\n",
       " 'score_time': array([0.03731608, 0.04004812, 0.03997993, 0.04256105, 0.04587412]),\n",
       " 'test_score': array([0.51677886, 0.47498242, 0.46249686, 0.45777443, 0.47525747]),\n",
       " 'train_score': array([0.47631906, 0.48068977, 0.4831328 , 0.47901334, 0.4804451 ])}"
      ]
     },
     "execution_count": 20,
     "metadata": {},
     "output_type": "execute_result"
    }
   ],
   "source": [
    "cross_validate(GaussianNB(), X_train1, y_train1, cv=5, scoring='accuracy', \n",
    "               groups=groups_train1, n_jobs=-1, return_train_score=True)"
   ]
  },
  {
   "cell_type": "code",
   "execution_count": 21,
   "id": "23b371d4",
   "metadata": {},
   "outputs": [
    {
     "name": "stdout",
     "output_type": "stream",
     "text": [
      "Accuracy: 0.433624237264084\n",
      "Execution time: 0.2849700450897217\n"
     ]
    }
   ],
   "source": [
    "gnb = GaussianNB()\n",
    "start = time.time()\n",
    "gnb.fit(X_train1, y_train1)\n",
    "accuracy = gnb.score(X_test1, y_test1) # Baseline\n",
    "end = time.time()\n",
    "\n",
    "print(\"Accuracy: \" + str(accuracy))\n",
    "print(\"Execution time: \" + str(end-start))"
   ]
  },
  {
   "cell_type": "code",
   "execution_count": 22,
   "id": "b5b82d14",
   "metadata": {},
   "outputs": [
    {
     "data": {
      "text/plain": [
       "{'fit_time': array([0.23007822, 0.22436094, 0.2375319 , 0.21073484, 0.24900103]),\n",
       " 'score_time': array([0.03174305, 0.02199817, 0.03357816, 0.022367  , 0.03402901]),\n",
       " 'test_score': array([0.54872903, 0.5922335 , 0.49871891, 0.51007285, 0.50168299]),\n",
       " 'train_score': array([0.53097801, 0.52502481, 0.52638718, 0.53698726, 0.54659516])}"
      ]
     },
     "execution_count": 22,
     "metadata": {},
     "output_type": "execute_result"
    }
   ],
   "source": [
    "# Standardize data mean=0 and stdev=1\n",
    "stand_scaler = StandardScaler()\n",
    "stand_X_train1 = stand_scaler.fit_transform(X_train1)\n",
    "stand_X_test1 = stand_scaler.transform(X_test1)\n",
    "\n",
    "cross_validate(GaussianNB(), stand_X_train1, y_train1, cv=5, scoring='accuracy', \n",
    "               groups=groups_train1, n_jobs=-1, return_train_score=True)"
   ]
  },
  {
   "cell_type": "code",
   "execution_count": 23,
   "id": "6e4b1491",
   "metadata": {},
   "outputs": [
    {
     "name": "stdout",
     "output_type": "stream",
     "text": [
      "Accuracy: 0.5136228182205194\n",
      "Execution time: 0.2068791389465332\n"
     ]
    }
   ],
   "source": [
    "gnb = GaussianNB()\n",
    "start = time.time()\n",
    "gnb.fit(stand_X_train1, y_train1)\n",
    "accuracy = gnb.score(stand_X_test1, y_test1) # Standardized\n",
    "end = time.time()\n",
    "\n",
    "print(\"Accuracy: \" + str(accuracy))\n",
    "print(\"Execution time: \" + str(end-start))"
   ]
  },
  {
   "cell_type": "code",
   "execution_count": 24,
   "id": "61a6b896",
   "metadata": {},
   "outputs": [
    {
     "data": {
      "text/plain": [
       "{'fit_time': array([0.33368182, 0.33314085, 0.33527493, 0.32443094, 0.33790278]),\n",
       " 'score_time': array([0.03995705, 0.04304099, 0.036937  , 0.04277802, 0.04537797]),\n",
       " 'test_score': array([0.54872903, 0.5922335 , 0.49871891, 0.51007285, 0.50168299]),\n",
       " 'train_score': array([0.53097801, 0.52502481, 0.52638718, 0.53698726, 0.54659516])}"
      ]
     },
     "execution_count": 24,
     "metadata": {},
     "output_type": "execute_result"
    }
   ],
   "source": [
    "# Normalize data between 0 and 1\n",
    "norm_scaler = MinMaxScaler()\n",
    "norm_X_train1 = norm_scaler.fit_transform(X_train1)\n",
    "norm_X_test1 = norm_scaler.transform(X_test1)\n",
    "\n",
    "cross_validate(GaussianNB(), norm_X_train1, y_train1, cv=5, scoring='accuracy', \n",
    "               groups=groups_train1, n_jobs=-1, return_train_score=True)"
   ]
  },
  {
   "cell_type": "code",
   "execution_count": 25,
   "id": "ef67607a",
   "metadata": {},
   "outputs": [
    {
     "name": "stdout",
     "output_type": "stream",
     "text": [
      "Accuracy: 0.5136228182205194\n",
      "Execution time: 0.20174694061279297\n"
     ]
    }
   ],
   "source": [
    "gnb = GaussianNB()\n",
    "start = time.time()\n",
    "gnb.fit(norm_X_train1, y_train1)\n",
    "accuracy = gnb.score(norm_X_test1, y_test1) # Normalized\n",
    "end = time.time()\n",
    "\n",
    "print(\"Accuracy: \" + str(accuracy))\n",
    "print(\"Execution time: \" + str(end-start))"
   ]
  },
  {
   "cell_type": "code",
   "execution_count": 26,
   "id": "bf97c415",
   "metadata": {},
   "outputs": [],
   "source": [
    "# Standardized and normalized data performed the same, greater accuracy compared to baseline Gaussian."
   ]
  },
  {
   "cell_type": "markdown",
   "id": "be64531d",
   "metadata": {},
   "source": [
    "#### COMPLEMENT NAIVE BAYES"
   ]
  },
  {
   "cell_type": "code",
   "execution_count": 27,
   "id": "19733130",
   "metadata": {},
   "outputs": [
    {
     "data": {
      "text/plain": [
       "{'fit_time': array([0.16852903, 0.16957998, 0.16697502, 0.16910386, 0.17824817]),\n",
       " 'score_time': array([0.00917077, 0.00899386, 0.00800419, 0.00945616, 0.00771475]),\n",
       " 'test_score': array([0.64854818, 0.72365116, 0.70957046, 0.62647576, 0.58507913]),\n",
       " 'train_score': array([0.6649502 , 0.64570905, 0.65038557, 0.66761699, 0.68065359])}"
      ]
     },
     "execution_count": 27,
     "metadata": {},
     "output_type": "execute_result"
    }
   ],
   "source": [
    "cross_validate(ComplementNB(), norm_X_train1, y_train1, cv=5, scoring='accuracy', \n",
    "               groups=groups_train1, n_jobs=-1, return_train_score=True)"
   ]
  },
  {
   "cell_type": "code",
   "execution_count": 190,
   "id": "4cbca339",
   "metadata": {},
   "outputs": [
    {
     "name": "stdout",
     "output_type": "stream",
     "text": [
      "Accuracy: 0.7216900808854831\n",
      "Execution time: 0.34993720054626465\n"
     ]
    }
   ],
   "source": [
    "cnb = ComplementNB()\n",
    "start = time.time()\n",
    "cnb.fit(norm_X_train1, y_train1)\n",
    "accuracy = cnb.score(norm_X_test1, y_test1) # Baseline\n",
    "end = time.time()\n",
    "\n",
    "print(\"Accuracy: \" + str(accuracy))\n",
    "print(\"Execution time: \" + str(end-start))"
   ]
  },
  {
   "cell_type": "code",
   "execution_count": 29,
   "id": "aad786c3",
   "metadata": {},
   "outputs": [],
   "source": [
    "# Complement Naive Bayes performed better than Gaussian Naive Bayes - imbalanced classes.\n",
    "# Performed on normalized data. "
   ]
  },
  {
   "cell_type": "markdown",
   "id": "a25d7f90",
   "metadata": {},
   "source": [
    "##### Hyperparameter Tuning"
   ]
  },
  {
   "cell_type": "code",
   "execution_count": 283,
   "id": "70b8e5ef",
   "metadata": {},
   "outputs": [
    {
     "data": {
      "text/plain": [
       "{'alpha': 1878,\n",
       " 'class_prior': [200, 6],\n",
       " 'fit_prior': True,\n",
       " 'force_alpha': True,\n",
       " 'norm': False}"
      ]
     },
     "execution_count": 283,
     "metadata": {},
     "output_type": "execute_result"
    }
   ],
   "source": [
    "param_grid = dict()\n",
    "param_grid['alpha'] = [0.00004, 0.5, 5, 100, 300, 1500, 4000, 4020, 1878]\n",
    "param_grid['fit_prior'] = [True, False]\n",
    "param_grid['class_prior'] = [[200,6], [90,170], [0.0005, 0.04], [10,4], [4,100]]\n",
    "param_grid['force_alpha'] = [True, False]\n",
    "param_grid['norm'] = [True, False]\n",
    "\n",
    "start = time.time()\n",
    "grd1 = GridSearchCV(ComplementNB(), param_grid, scoring='accuracy', n_jobs=-1, cv=5) # 5-fold stratified cv\n",
    "grd1.fit(norm_X_train1, y_train1)\n",
    "end = time.time()\n",
    "\n",
    "grd1.best_params_"
   ]
  },
  {
   "cell_type": "code",
   "execution_count": 284,
   "id": "b648f0fa",
   "metadata": {},
   "outputs": [
    {
     "name": "stdout",
     "output_type": "stream",
     "text": [
      "Hyperparameter tuning computation time: 61.577576875686646\n"
     ]
    }
   ],
   "source": [
    "print(\"Hyperparameter tuning computation time: \" + str(end-start))"
   ]
  },
  {
   "cell_type": "code",
   "execution_count": 285,
   "id": "542d4dc3",
   "metadata": {},
   "outputs": [
    {
     "data": {
      "text/plain": [
       "{'fit_time': array([0.17002296, 0.16335392, 0.16210723, 0.15626788, 0.16649032]),\n",
       " 'score_time': array([0.00803113, 0.01018405, 0.00976396, 0.0068233 , 0.00860167]),\n",
       " 'test_score': array([0.6604039 , 0.72194313, 0.71213263, 0.64019091, 0.6081889 ]),\n",
       " 'train_score': array([0.67450798, 0.658997  , 0.66132476, 0.67719977, 0.6862425 ])}"
      ]
     },
     "execution_count": 285,
     "metadata": {},
     "output_type": "execute_result"
    }
   ],
   "source": [
    "# Evaluation of the model\n",
    "cross_validate(grd1.best_estimator_, norm_X_train1, y_train1, cv=5, scoring='accuracy', \n",
    "               groups=groups_train1, n_jobs=-1, return_train_score=True)"
   ]
  },
  {
   "cell_type": "code",
   "execution_count": 286,
   "id": "1b4d337f",
   "metadata": {},
   "outputs": [
    {
     "name": "stdout",
     "output_type": "stream",
     "text": [
      "Accuracy: 0.7330424294025827\n",
      "Execution time: 0.03636598587036133\n"
     ]
    }
   ],
   "source": [
    "cnb1 = grd1.best_estimator_\n",
    "start = time.time()\n",
    "cnb1.fit(norm_X_train1, y_train1)\n",
    "accuracy = cnb1.score(norm_X_test1, y_test1)\n",
    "end = time.time()\n",
    "\n",
    "print(\"Accuracy: \" + str(accuracy))\n",
    "print(\"Execution time: \" + str(end-start))"
   ]
  },
  {
   "cell_type": "code",
   "execution_count": 287,
   "id": "d940c4a9",
   "metadata": {},
   "outputs": [],
   "source": [
    "# Increased from 0.7216900808854831, no significant change. "
   ]
  },
  {
   "cell_type": "markdown",
   "id": "d72ce0e5",
   "metadata": {},
   "source": [
    "### Random Forest"
   ]
  },
  {
   "cell_type": "code",
   "execution_count": 244,
   "id": "7102024d",
   "metadata": {},
   "outputs": [
    {
     "data": {
      "text/plain": [
       "{'fit_time': array([113.47196603, 112.66228867, 111.63652301, 114.04642391,\n",
       "        111.33918333]),\n",
       " 'score_time': array([0.52285409, 0.47885227, 0.51127601, 0.48992515, 0.49240375]),\n",
       " 'test_score': array([0.72460565, 0.67381694, 0.74051746, 0.51062547, 0.55418237]),\n",
       " 'train_score': array([1.        , 0.99998744, 0.99998744, 0.99997488, 0.99998744])}"
      ]
     },
     "execution_count": 244,
     "metadata": {},
     "output_type": "execute_result"
    }
   ],
   "source": [
    "cross_validate(RandomForestClassifier(random_state=42), X_train1, y_train1, cv=5, scoring='accuracy', \n",
    "               groups=groups_train1, n_jobs=-1, return_train_score=True)"
   ]
  },
  {
   "cell_type": "code",
   "execution_count": 245,
   "id": "450eba14",
   "metadata": {},
   "outputs": [
    {
     "name": "stdout",
     "output_type": "stream",
     "text": [
      "Accuracy: 0.7499645239108841\n",
      "Execution time: 94.16479396820068\n"
     ]
    }
   ],
   "source": [
    "rf = RandomForestClassifier(random_state=42)\n",
    "start = time.time()\n",
    "rf.fit(X_train1, y_train1)\n",
    "accuracy = rf.score(X_test1, y_test1) # Baseline\n",
    "end = time.time()\n",
    "\n",
    "print(\"Accuracy: \" + str(accuracy))\n",
    "print(\"Execution time: \" + str(end-start))"
   ]
  },
  {
   "cell_type": "code",
   "execution_count": 246,
   "id": "a4cd13cb",
   "metadata": {},
   "outputs": [
    {
     "data": {
      "text/plain": [
       "{'fit_time': array([100.58583593, 100.03467298,  99.6078577 , 101.12449813,\n",
       "         98.92511797]),\n",
       " 'score_time': array([0.43028212, 0.38881016, 0.4418211 , 0.44261694, 0.4085598 ]),\n",
       " 'test_score': array([0.72767005, 0.67969456, 0.74137151, 0.51796031, 0.55498618]),\n",
       " 'train_score': array([1.        , 0.99998744, 0.99998744, 0.99997488, 0.99998744])}"
      ]
     },
     "execution_count": 246,
     "metadata": {},
     "output_type": "execute_result"
    }
   ],
   "source": [
    "cross_validate(RandomForestClassifier(random_state=42), norm_X_train1, y_train1, cv=5, scoring='accuracy', \n",
    "               groups=groups_train1, n_jobs=-1, return_train_score=True)"
   ]
  },
  {
   "cell_type": "code",
   "execution_count": 247,
   "id": "cb6673c3",
   "metadata": {},
   "outputs": [
    {
     "name": "stdout",
     "output_type": "stream",
     "text": [
      "Accuracy: 0.7523059457925358\n",
      "Execution time: 90.72010588645935\n"
     ]
    }
   ],
   "source": [
    "rf = RandomForestClassifier(random_state=42)\n",
    "start = time.time()\n",
    "rf.fit(norm_X_train1, y_train1)\n",
    "accuracy = rf.score(norm_X_test1, y_test1) # Normalized\n",
    "end = time.time()\n",
    "\n",
    "print(\"Accuracy: \" + str(accuracy))\n",
    "print(\"Execution time: \" + str(end-start))"
   ]
  },
  {
   "cell_type": "code",
   "execution_count": 248,
   "id": "5b1758d9",
   "metadata": {
    "scrolled": true
   },
   "outputs": [
    {
     "data": {
      "text/plain": [
       "{'fit_time': array([114.43330407, 112.45662999, 112.24367714, 114.93882298,\n",
       "        112.1408689 ]),\n",
       " 'score_time': array([0.42924905, 0.4361589 , 0.47859001, 0.39199185, 0.46601391]),\n",
       " 'test_score': array([0.72726816, 0.6718075 , 0.74142175, 0.51574981, 0.55111781]),\n",
       " 'train_score': array([1.        , 1.        , 0.99998744, 0.99997488, 0.99994976])}"
      ]
     },
     "execution_count": 248,
     "metadata": {},
     "output_type": "execute_result"
    }
   ],
   "source": [
    "cross_validate(RandomForestClassifier(random_state=42), stand_X_train1, y_train1, cv=5, scoring='accuracy', \n",
    "               groups=groups_train1, n_jobs=-1, return_train_score=True)"
   ]
  },
  {
   "cell_type": "code",
   "execution_count": 249,
   "id": "54126aa3",
   "metadata": {},
   "outputs": [
    {
     "name": "stdout",
     "output_type": "stream",
     "text": [
      "Accuracy: 0.7442173974741024\n",
      "Execution time: 103.87571668624878\n"
     ]
    }
   ],
   "source": [
    "rf = RandomForestClassifier(random_state=42)\n",
    "start = time.time()\n",
    "rf.fit(stand_X_train1, y_train1)\n",
    "accuracy = rf.score(stand_X_test1, y_test1) # Standardized\n",
    "end = time.time()\n",
    "\n",
    "print(\"Accuracy: \" + str(accuracy))\n",
    "print(\"Execution time: \" + str(end-start))"
   ]
  },
  {
   "cell_type": "code",
   "execution_count": 86,
   "id": "d6cf726b",
   "metadata": {},
   "outputs": [],
   "source": [
    "# Normalized data performed the best for RF. \n",
    "# RF performed better than NB. "
   ]
  },
  {
   "cell_type": "code",
   "execution_count": 87,
   "id": "95b17589",
   "metadata": {},
   "outputs": [
    {
     "data": {
      "text/plain": [
       "{'bootstrap': True,\n",
       " 'ccp_alpha': 0.0,\n",
       " 'class_weight': None,\n",
       " 'criterion': 'gini',\n",
       " 'max_depth': None,\n",
       " 'max_features': 'sqrt',\n",
       " 'max_leaf_nodes': None,\n",
       " 'max_samples': None,\n",
       " 'min_impurity_decrease': 0.0,\n",
       " 'min_samples_leaf': 1,\n",
       " 'min_samples_split': 2,\n",
       " 'min_weight_fraction_leaf': 0.0,\n",
       " 'n_estimators': 100,\n",
       " 'n_jobs': None,\n",
       " 'oob_score': False,\n",
       " 'random_state': None,\n",
       " 'verbose': 0,\n",
       " 'warm_start': False}"
      ]
     },
     "execution_count": 87,
     "metadata": {},
     "output_type": "execute_result"
    }
   ],
   "source": [
    "rf.get_params()"
   ]
  },
  {
   "cell_type": "markdown",
   "id": "f8014674",
   "metadata": {},
   "source": [
    "##### Hyperparameter Tuning"
   ]
  },
  {
   "cell_type": "code",
   "execution_count": 88,
   "id": "794fb17b",
   "metadata": {},
   "outputs": [
    {
     "data": {
      "text/plain": [
       "{'criterion': 'gini'}"
      ]
     },
     "execution_count": 88,
     "metadata": {},
     "output_type": "execute_result"
    }
   ],
   "source": [
    "param_grid = dict()\n",
    "#param_grid['n_estimators'] = [100,300] # 50\n",
    "param_grid['criterion'] = ['gini']\n",
    "#param_grid['max_depth'] = [2]\n",
    "#param_grid['min_samples_split'] = [10]\n",
    "#param_grid['min_samples_leaf'] = [10] # 60\n",
    "#param_grid['min_weight_fraction_leaf'] = [0.0, 2.0, 5.0]\n",
    "#param_grid['max_features'] = ['sqrt']\n",
    "#param_grid['max_leaf_nodes'] = [2, 5, 10]\n",
    "#param_grid['min_impurity_decrease'] = [0.0, 2.0, 5.0]\n",
    "#param_grid['bootstrap'] = [True]\n",
    "#param_grid['oob_score'] = [True, False]\n",
    "#param_grid['n_jobs'] = [-1]\n",
    "param_grid['random_state'] = [42]\n",
    "#param_grid['verbose'] = [0, 2, 5]\n",
    "#param_grid['warm_start'] = [True, False]\n",
    "#param_grid['class_weight'] = ['balanced_subsample']\n",
    "#param_grid['ccp_alpha'] = [0.0, 2.0]\n",
    "#param_grid['max_samples'] = [100, 10]\n",
    "\n",
    "start = time.time()\n",
    "grd1 = GridSearchCV(RandomForestClassifier(), param_grid, scoring='accuracy', n_jobs=-1, cv=5) # 5-fold stratified cv\n",
    "grd1.fit(norm_X_train1, y_train1)\n",
    "end = time.time()\n",
    "\n",
    "grd1.best_params_"
   ]
  },
  {
   "cell_type": "code",
   "execution_count": 89,
   "id": "9737db43",
   "metadata": {},
   "outputs": [
    {
     "name": "stdout",
     "output_type": "stream",
     "text": [
      "Hyperparameter tuning computation time: 186.4253740310669\n"
     ]
    }
   ],
   "source": [
    "print(\"Hyperparameter tuning computation time: \" + str(end-start))"
   ]
  },
  {
   "cell_type": "code",
   "execution_count": 90,
   "id": "3f4dfca0",
   "metadata": {},
   "outputs": [
    {
     "data": {
      "text/plain": [
       "{'fit_time': array([99.17639613, 99.04450011, 97.53999925, 99.74211287, 97.50116014]),\n",
       " 'score_time': array([0.42306805, 0.38948393, 0.41991568, 0.37026215, 0.39077806]),\n",
       " 'test_score': array([0.72561037, 0.67657993, 0.74117056, 0.51574981, 0.55262497]),\n",
       " 'train_score': array([1.        , 1.        , 1.        , 0.99998744, 0.99998744])}"
      ]
     },
     "execution_count": 90,
     "metadata": {},
     "output_type": "execute_result"
    }
   ],
   "source": [
    "# Evaluation of the model\n",
    "cross_validate(grd1.best_estimator_, norm_X_train1, y_train1, cv=5, scoring='accuracy', \n",
    "               groups=groups_train1, n_jobs=-1, return_train_score=True)"
   ]
  },
  {
   "cell_type": "code",
   "execution_count": 301,
   "id": "f8fe9c26",
   "metadata": {},
   "outputs": [
    {
     "name": "stdout",
     "output_type": "stream",
     "text": [
      "Accuracy: 0.7751880232723145\n",
      "Execution time: 36.65782713890076\n"
     ]
    }
   ],
   "source": [
    "rf1 = RandomForestClassifier(random_state=42, min_samples_leaf=20, min_samples_split=70, max_depth=8)\n",
    "start = time.time()\n",
    "rf1.fit(norm_X_train1, y_train1)\n",
    "accuracy = rf1.score(norm_X_test1, y_test1) # Threshold\n",
    "end = time.time()\n",
    "\n",
    "print(\"Accuracy: \" + str(accuracy))\n",
    "print(\"Execution time: \" + str(end-start))"
   ]
  },
  {
   "cell_type": "code",
   "execution_count": 254,
   "id": "067e508f",
   "metadata": {},
   "outputs": [],
   "source": [
    "# Increased from 0.7523059457925358"
   ]
  },
  {
   "cell_type": "markdown",
   "id": "5bf020ce",
   "metadata": {},
   "source": [
    "## Introduce the third class"
   ]
  },
  {
   "cell_type": "code",
   "execution_count": 60,
   "id": "f2078f2f",
   "metadata": {},
   "outputs": [],
   "source": [
    "Xy2 = pd.concat([Xy_S7074, Xy_S7072, Xy_S7071, Xy_S7070, Xy_S7069, Xy_S7068, Xy_S7064], axis=0)\n",
    "Xy2 = Xy2.loc[(Xy2['brainstate'] != 4)].reset_index() # disregard seizure and rem\n",
    "\n",
    "groups_train2 = Xy2.animal\n",
    "y_train2 = Xy2.brainstate.astype('int')\n",
    "X_train2 = Xy2.loc[:, ~Xy2.columns.isin(['animal', 'brainstate', 'index'])]"
   ]
  },
  {
   "cell_type": "code",
   "execution_count": 61,
   "id": "6541e62c",
   "metadata": {},
   "outputs": [],
   "source": [
    "Xy_test2 = pd.concat([Xy_S7075, Xy_S7063], axis=0)\n",
    "\n",
    "Xy_test2 = Xy_test2.loc[(Xy_test2['brainstate'] != 4)].reset_index() # disregard seizure and rem\n",
    "\n",
    "groups_test2 = Xy_test2.animal\n",
    "y_test2 = Xy_test2.brainstate.astype('int')\n",
    "X_test2 = Xy_test2.loc[:, ~Xy_test2.columns.isin(['animal', 'brainstate', 'index'])]"
   ]
  },
  {
   "cell_type": "markdown",
   "id": "a3a51806",
   "metadata": {},
   "source": [
    "### Naive Bayes\n",
    "#### GAUSSIAN NAIVE BAYES"
   ]
  },
  {
   "cell_type": "code",
   "execution_count": 302,
   "id": "00fa9898",
   "metadata": {},
   "outputs": [
    {
     "data": {
      "text/plain": [
       "{'fit_time': array([0.2737627 , 0.30678105, 0.30813885, 0.30702901, 0.32389975]),\n",
       " 'score_time': array([0.05757904, 0.05942917, 0.0642519 , 0.06535077, 0.09345722]),\n",
       " 'test_score': array([0.49547293, 0.45537735, 0.44338487, 0.06029957, 0.45557   ]),\n",
       " 'train_score': array([0.45659346, 0.46083826, 0.46317412, 0.08081586, 0.46060949])}"
      ]
     },
     "execution_count": 302,
     "metadata": {},
     "output_type": "execute_result"
    }
   ],
   "source": [
    "cross_validate(GaussianNB(), X_train2, y_train2, cv=5, scoring='accuracy', \n",
    "               groups=groups_train2, n_jobs=-1, return_train_score=True)"
   ]
  },
  {
   "cell_type": "code",
   "execution_count": 303,
   "id": "bbf27258",
   "metadata": {},
   "outputs": [
    {
     "name": "stdout",
     "output_type": "stream",
     "text": [
      "Accuracy: 0.41902639698320193\n",
      "Execution time: 0.30253005027770996\n"
     ]
    }
   ],
   "source": [
    "gnb = GaussianNB()\n",
    "start = time.time()\n",
    "gnb.fit(X_train2, y_train2)\n",
    "accuracy = gnb.score(X_test2, y_test2) # Baseline\n",
    "end = time.time()\n",
    "\n",
    "print(\"Accuracy: \" + str(accuracy))\n",
    "print(\"Execution time: \" + str(end-start))"
   ]
  },
  {
   "cell_type": "code",
   "execution_count": 304,
   "id": "15da4c73",
   "metadata": {},
   "outputs": [
    {
     "data": {
      "text/plain": [
       "{'fit_time': array([0.21536517, 0.30501509, 0.21499085, 0.30866098, 0.30116606]),\n",
       " 'score_time': array([0.04254794, 0.04242587, 0.04240203, 0.04263282, 0.04319692]),\n",
       " 'test_score': array([0.45964169, 0.39753408, 0.25386505, 0.07421856, 0.30949285]),\n",
       " 'train_score': array([0.43976063, 0.31886867, 0.27168194, 0.0979495 , 0.35279882])}"
      ]
     },
     "execution_count": 304,
     "metadata": {},
     "output_type": "execute_result"
    }
   ],
   "source": [
    "# Standardize data mean=0 and stdev=1\n",
    "stand_scaler = StandardScaler()\n",
    "stand_X_train2 = stand_scaler.fit_transform(X_train2)\n",
    "stand_X_test2 = stand_scaler.transform(X_test2)\n",
    "\n",
    "cross_validate(GaussianNB(), stand_X_train2, y_train2, cv=5, scoring='accuracy', \n",
    "               groups=groups_train2, n_jobs=-1, return_train_score=True)"
   ]
  },
  {
   "cell_type": "code",
   "execution_count": 305,
   "id": "700d79dc",
   "metadata": {},
   "outputs": [
    {
     "name": "stdout",
     "output_type": "stream",
     "text": [
      "Accuracy: 0.2561878642440864\n",
      "Execution time: 0.2379741668701172\n"
     ]
    }
   ],
   "source": [
    "gnb = GaussianNB()\n",
    "start = time.time()\n",
    "gnb.fit(stand_X_train2, y_train2)\n",
    "accuracy = gnb.score(stand_X_test2, y_test2) # Standardized\n",
    "end = time.time()\n",
    "\n",
    "print(\"Accuracy: \" + str(accuracy))\n",
    "print(\"Execution time: \" + str(end-start))"
   ]
  },
  {
   "cell_type": "code",
   "execution_count": 306,
   "id": "41542b5d",
   "metadata": {},
   "outputs": [
    {
     "data": {
      "text/plain": [
       "{'fit_time': array([0.19341898, 0.33751822, 0.3371191 , 0.3327899 , 0.3351233 ]),\n",
       " 'score_time': array([0.04188013, 0.0631938 , 0.06219697, 0.06204224, 0.0609827 ]),\n",
       " 'test_score': array([0.45964169, 0.39753408, 0.25386505, 0.07421856, 0.30949285]),\n",
       " 'train_score': array([0.43976063, 0.31886867, 0.27168194, 0.0979495 , 0.35279882])}"
      ]
     },
     "execution_count": 306,
     "metadata": {},
     "output_type": "execute_result"
    }
   ],
   "source": [
    "# Normalize data between 0 and 1\n",
    "norm_scaler = MinMaxScaler()\n",
    "norm_X_train2 = norm_scaler.fit_transform(X_train2)\n",
    "norm_X_test2 = norm_scaler.transform(X_test2)\n",
    "\n",
    "cross_validate(GaussianNB(), norm_X_train2, y_train2, cv=5, scoring='accuracy', \n",
    "               groups=groups_train2, n_jobs=-1, return_train_score=True)"
   ]
  },
  {
   "cell_type": "code",
   "execution_count": 307,
   "id": "b6d57d12",
   "metadata": {},
   "outputs": [
    {
     "name": "stdout",
     "output_type": "stream",
     "text": [
      "Accuracy: 0.2561878642440864\n",
      "Execution time: 0.2510209083557129\n"
     ]
    }
   ],
   "source": [
    "gnb = GaussianNB()\n",
    "start = time.time()\n",
    "gnb.fit(norm_X_train2, y_train2)\n",
    "accuracy = gnb.score(norm_X_test2, y_test2) # Normalized\n",
    "end = time.time()\n",
    "\n",
    "print(\"Accuracy: \" + str(accuracy))\n",
    "print(\"Execution time: \" + str(end-start))"
   ]
  },
  {
   "cell_type": "code",
   "execution_count": 308,
   "id": "568323f9",
   "metadata": {},
   "outputs": [],
   "source": [
    "# Standardized and normalized data performed the same, worse than the baseline. "
   ]
  },
  {
   "cell_type": "markdown",
   "id": "d1d14172",
   "metadata": {},
   "source": [
    "#### COMPLEMENT NAIVE BAYES"
   ]
  },
  {
   "cell_type": "code",
   "execution_count": 309,
   "id": "b76ff149",
   "metadata": {},
   "outputs": [
    {
     "data": {
      "text/plain": [
       "{'fit_time': array([0.18084025, 0.17347789, 0.17704415, 0.16496205, 0.16677403]),\n",
       " 'score_time': array([0.01141405, 0.00897002, 0.00951076, 0.01118279, 0.00970507]),\n",
       " 'test_score': array([0.62189366, 0.69407118, 0.68000771, 0.60116553, 0.56066079]),\n",
       " 'train_score': array([0.63757646, 0.61905049, 0.62339711, 0.64042238, 0.65272778])}"
      ]
     },
     "execution_count": 309,
     "metadata": {},
     "output_type": "execute_result"
    }
   ],
   "source": [
    "cross_validate(ComplementNB(), norm_X_train2, y_train2, cv=5, scoring='accuracy', \n",
    "               groups=groups_train2, n_jobs=-1, return_train_score=True)"
   ]
  },
  {
   "cell_type": "code",
   "execution_count": 333,
   "id": "729d157a",
   "metadata": {},
   "outputs": [
    {
     "name": "stdout",
     "output_type": "stream",
     "text": [
      "Accuracy: 0.6974974288652726\n",
      "Execution time: 0.03328204154968262\n"
     ]
    }
   ],
   "source": [
    "cnb = ComplementNB()\n",
    "start = time.time()\n",
    "cnb.fit(norm_X_train2, y_train2)\n",
    "accuracy = cnb.score(norm_X_test2, y_test2) # Baseline\n",
    "end = time.time()\n",
    "\n",
    "print(\"Accuracy: \" + str(accuracy))\n",
    "print(\"Execution time: \" + str(end-start))"
   ]
  },
  {
   "cell_type": "code",
   "execution_count": 107,
   "id": "9e44667d",
   "metadata": {},
   "outputs": [],
   "source": [
    "# Complement NB performes better than Gaussian NB. \n",
    "# Accuracy decreased when third class is introduced. "
   ]
  },
  {
   "cell_type": "markdown",
   "id": "2594b17d",
   "metadata": {},
   "source": [
    "##### Hyperparameter Tuning"
   ]
  },
  {
   "cell_type": "code",
   "execution_count": 345,
   "id": "223e9443",
   "metadata": {},
   "outputs": [
    {
     "data": {
      "text/plain": [
       "{'alpha': 3000,\n",
       " 'class_prior': [0.0002, 5e-05, 0.0003],\n",
       " 'fit_prior': True,\n",
       " 'norm': False}"
      ]
     },
     "execution_count": 345,
     "metadata": {},
     "output_type": "execute_result"
    }
   ],
   "source": [
    "param_grid = dict()\n",
    "param_grid['alpha'] = [100, 3000, 1500, 3010] # 4e-08,\n",
    "param_grid['fit_prior'] = [True, False]\n",
    "param_grid['class_prior'] = [[0.0002,0.00005,0.0003], [3,60,1000], [400,7,0.3], [0.0001,0.0001, 0.1]]\n",
    "param_grid['norm'] = [True, False]\n",
    "\n",
    "start = time.time()\n",
    "grd2 = GridSearchCV(ComplementNB(), param_grid, scoring='accuracy', n_jobs=-1, cv=5) # 5-fold stratified cv\n",
    "grd2.fit(norm_X_train2, y_train2)\n",
    "end = time.time()\n",
    "\n",
    "grd2.best_params_"
   ]
  },
  {
   "cell_type": "code",
   "execution_count": 346,
   "id": "ef81c604",
   "metadata": {},
   "outputs": [
    {
     "name": "stdout",
     "output_type": "stream",
     "text": [
      "Hyperparameter tuning computation time: 13.34890604019165\n"
     ]
    }
   ],
   "source": [
    "print(\"Hyperparameter tuning computation time: \" + str(end-start))"
   ]
  },
  {
   "cell_type": "code",
   "execution_count": 347,
   "id": "43fec676",
   "metadata": {},
   "outputs": [
    {
     "data": {
      "text/plain": [
       "{'fit_time': array([0.17968822, 0.18530703, 0.19043779, 0.18260789, 0.19325709]),\n",
       " 'score_time': array([0.01219273, 0.01882195, 0.01214314, 0.01858616, 0.01150084]),\n",
       " 'test_score': array([0.62690233, 0.68236767, 0.67437268, 0.61599961, 0.58416414]),\n",
       " 'train_score': array([0.6423566 , 0.62655172, 0.62995918, 0.64563592, 0.65400407])}"
      ]
     },
     "execution_count": 347,
     "metadata": {},
     "output_type": "execute_result"
    }
   ],
   "source": [
    "# Evaluation of the model\n",
    "cross_validate(grd2.best_estimator_, norm_X_train2, y_train2, cv=5, scoring='accuracy', \n",
    "               groups=groups_train2, n_jobs=-1, return_train_score=True)"
   ]
  },
  {
   "cell_type": "code",
   "execution_count": 350,
   "id": "273c37a5",
   "metadata": {},
   "outputs": [
    {
     "name": "stdout",
     "output_type": "stream",
     "text": [
      "Accuracy: 0.706342132327734\n",
      "Execution time: 0.0374448299407959\n"
     ]
    }
   ],
   "source": [
    "cnb2 = grd2.best_estimator_\n",
    "start = time.time()\n",
    "cnb2.fit(norm_X_train2, y_train2)\n",
    "accuracy = cnb2.score(norm_X_test2, y_test2) # Threshold\n",
    "end = time.time()\n",
    "\n",
    "y_predNB = cnb2.predict(norm_X_test2)\n",
    "\n",
    "print(\"Accuracy: \" + str(accuracy))\n",
    "print(\"Execution time: \" + str(end-start))"
   ]
  },
  {
   "cell_type": "code",
   "execution_count": 332,
   "id": "6c4647fa",
   "metadata": {},
   "outputs": [],
   "source": [
    "# Increased from 0.6974974288652726, no significant change. "
   ]
  },
  {
   "cell_type": "markdown",
   "id": "70c40013",
   "metadata": {},
   "source": [
    "### Random Forest"
   ]
  },
  {
   "cell_type": "code",
   "execution_count": 351,
   "id": "139a3d3f",
   "metadata": {},
   "outputs": [
    {
     "data": {
      "text/plain": [
       "{'fit_time': array([126.77989101, 127.09292817, 125.13914204, 127.86687613,\n",
       "        125.86002779]),\n",
       " 'score_time': array([0.57616997, 0.55692482, 0.58032703, 0.55849886, 0.54457211]),\n",
       " 'test_score': array([0.6949528 , 0.64860569, 0.7096277 , 0.49169195, 0.5297404 ]),\n",
       " 'train_score': array([0.99998796, 0.99998796, 0.99998796, 0.99998796, 1.        ])}"
      ]
     },
     "execution_count": 351,
     "metadata": {},
     "output_type": "execute_result"
    }
   ],
   "source": [
    "cross_validate(RandomForestClassifier(random_state=42), X_train2, y_train2, cv=5, scoring='accuracy', \n",
    "               groups=groups_train2, n_jobs=-1, return_train_score=True)"
   ]
  },
  {
   "cell_type": "code",
   "execution_count": 352,
   "id": "9bdfdfdd",
   "metadata": {},
   "outputs": [
    {
     "name": "stdout",
     "output_type": "stream",
     "text": [
      "Accuracy: 0.7216318135070278\n",
      "Execution time: 109.56186985969543\n"
     ]
    }
   ],
   "source": [
    "rf = RandomForestClassifier(random_state=42)\n",
    "start = time.time()\n",
    "rf.fit(X_train2, y_train2)\n",
    "accuracy = rf.score(X_test2, y_test2) # Baseline\n",
    "end = time.time()\n",
    "\n",
    "print(\"Accuracy: \" + str(accuracy))\n",
    "print(\"Execution time: \" + str(end-start))"
   ]
  },
  {
   "cell_type": "code",
   "execution_count": 353,
   "id": "c8f5aff7",
   "metadata": {},
   "outputs": [
    {
     "data": {
      "text/plain": [
       "{'fit_time': array([112.41963506, 113.31679106, 112.21113515, 114.51825094,\n",
       "        112.03272295]),\n",
       " 'score_time': array([0.45536208, 0.4670589 , 0.4704318 , 0.42183399, 0.45332003]),\n",
       " 'test_score': array([0.6975053 , 0.64720898, 0.71275827, 0.49400376, 0.53108896]),\n",
       " 'train_score': array([1.        , 0.99998796, 0.99997592, 0.99998796, 1.        ])}"
      ]
     },
     "execution_count": 353,
     "metadata": {},
     "output_type": "execute_result"
    }
   ],
   "source": [
    "cross_validate(RandomForestClassifier(random_state=42), norm_X_train2, y_train2, cv=5, scoring='accuracy', \n",
    "               groups=groups_train2, n_jobs=-1, return_train_score=True)"
   ]
  },
  {
   "cell_type": "code",
   "execution_count": 354,
   "id": "871ff6b2",
   "metadata": {},
   "outputs": [
    {
     "name": "stdout",
     "output_type": "stream",
     "text": [
      "Accuracy: 0.724614329790881\n",
      "Execution time: 93.89297199249268\n"
     ]
    }
   ],
   "source": [
    "rf = RandomForestClassifier(random_state=42)\n",
    "start = time.time()\n",
    "rf.fit(norm_X_train2, y_train2)\n",
    "accuracy = rf.score(norm_X_test2, y_test2) # Normalized\n",
    "end = time.time()\n",
    "\n",
    "print(\"Accuracy: \" + str(accuracy))\n",
    "print(\"Execution time: \" + str(end-start))"
   ]
  },
  {
   "cell_type": "code",
   "execution_count": 355,
   "id": "994e0614",
   "metadata": {},
   "outputs": [
    {
     "data": {
      "text/plain": [
       "{'fit_time': array([112.27054906, 110.98565006, 111.21056604, 113.05613899,\n",
       "        110.14969826]),\n",
       " 'score_time': array([0.43224716, 0.46047187, 0.45024109, 0.41213894, 0.45361304]),\n",
       " 'test_score': array([0.69553073, 0.64701633, 0.70933873, 0.49154746, 0.532582  ]),\n",
       " 'train_score': array([0.99997592, 0.99998796, 0.99998796, 0.99998796, 0.99997592])}"
      ]
     },
     "execution_count": 355,
     "metadata": {},
     "output_type": "execute_result"
    }
   ],
   "source": [
    "cross_validate(RandomForestClassifier(random_state=42), stand_X_train2, y_train2, cv=5, scoring='accuracy', \n",
    "               groups=groups_train2, n_jobs=-1, return_train_score=True)"
   ]
  },
  {
   "cell_type": "code",
   "execution_count": 356,
   "id": "58608424",
   "metadata": {},
   "outputs": [
    {
     "name": "stdout",
     "output_type": "stream",
     "text": [
      "Accuracy: 0.7196777511141584\n",
      "Execution time: 100.5299117565155\n"
     ]
    }
   ],
   "source": [
    "rf = RandomForestClassifier(random_state=42)\n",
    "start = time.time()\n",
    "rf.fit(stand_X_train2, y_train2)\n",
    "accuracy = rf.score(stand_X_test2, y_test2) # Standardized\n",
    "end = time.time()\n",
    "\n",
    "print(\"Accuracy: \" + str(accuracy))\n",
    "print(\"Execution time: \" + str(end-start))"
   ]
  },
  {
   "cell_type": "code",
   "execution_count": 127,
   "id": "f171f3ec",
   "metadata": {},
   "outputs": [],
   "source": [
    "# Normalized data performed the best for RF. \n",
    "# RF performed better than NB. \n",
    "# Accuracy decreased when third class is introduced. "
   ]
  },
  {
   "cell_type": "code",
   "execution_count": 128,
   "id": "30a30930",
   "metadata": {},
   "outputs": [
    {
     "data": {
      "text/plain": [
       "{'bootstrap': True,\n",
       " 'ccp_alpha': 0.0,\n",
       " 'class_weight': None,\n",
       " 'criterion': 'gini',\n",
       " 'max_depth': None,\n",
       " 'max_features': 'sqrt',\n",
       " 'max_leaf_nodes': None,\n",
       " 'max_samples': None,\n",
       " 'min_impurity_decrease': 0.0,\n",
       " 'min_samples_leaf': 1,\n",
       " 'min_samples_split': 2,\n",
       " 'min_weight_fraction_leaf': 0.0,\n",
       " 'n_estimators': 100,\n",
       " 'n_jobs': None,\n",
       " 'oob_score': False,\n",
       " 'random_state': None,\n",
       " 'verbose': 0,\n",
       " 'warm_start': False}"
      ]
     },
     "execution_count": 128,
     "metadata": {},
     "output_type": "execute_result"
    }
   ],
   "source": [
    "rf.get_params()"
   ]
  },
  {
   "cell_type": "markdown",
   "id": "80818713",
   "metadata": {},
   "source": [
    "##### Hyperparameter Tuning"
   ]
  },
  {
   "cell_type": "code",
   "execution_count": 133,
   "id": "14e435f5",
   "metadata": {},
   "outputs": [
    {
     "data": {
      "text/plain": [
       "{'class_weight': 'balanced_subsample',\n",
       " 'min_samples_split': 5,\n",
       " 'n_estimators': 500}"
      ]
     },
     "execution_count": 133,
     "metadata": {},
     "output_type": "execute_result"
    }
   ],
   "source": [
    "param_grid = dict()\n",
    "param_grid['n_estimators'] = [500, 100] # 1000  \n",
    "#param_grid['criterion'] = ['gini']\n",
    "#param_grid['max_depth'] = [20]\n",
    "param_grid['min_samples_split'] = [2, 5]\n",
    "#param_grid['min_samples_leaf'] = [50]\n",
    "#param_grid['min_weight_fraction_leaf'] = [0.0, 2.0, 5.0]\n",
    "#param_grid['max_features'] = ['sqrt']\n",
    "#param_grid['max_leaf_nodes'] = [2, 5, 10]\n",
    "#param_grid['min_impurity_decrease'] = [0.0, 2.0, 5.0]\n",
    "#param_grid['bootstrap'] = [True, False]\n",
    "#param_grid['oob_score'] = [True, False]\n",
    "#param_grid['n_jobs'] = [-1]\n",
    "param_grid['random_state'] = [42]\n",
    "#param_grid['verbose'] = [0, 2, 5]\n",
    "#param_grid['warm_start'] = [True, False]\n",
    "param_grid['class_weight'] = ['balanced_subsample'] #[{0: 0.75, 1: 1.2, 2: 2.5}, {0: 5, 1: 0.03, 2: 100}]\n",
    "#param_grid['ccp_alpha'] = [0.0, 2.0]\n",
    "#param_grid['max_samples'] = [100, 10]\n",
    "\n",
    "start = time.time()\n",
    "grd2 = GridSearchCV(RandomForestClassifier(), param_grid, scoring='accuracy', n_jobs=-1, cv=5) # 5-fold stratified cv\n",
    "grd2.fit(norm_X_train2, y_train2)\n",
    "end = time.time()\n",
    "\n",
    "grd2.best_params_"
   ]
  },
  {
   "cell_type": "code",
   "execution_count": 134,
   "id": "d5f4a068",
   "metadata": {},
   "outputs": [
    {
     "name": "stdout",
     "output_type": "stream",
     "text": [
      "Hyperparameter tuning computation time: 1672.2195811271667\n"
     ]
    }
   ],
   "source": [
    "print(\"Hyperparameter tuning computation time: \" + str(end-start))"
   ]
  },
  {
   "cell_type": "code",
   "execution_count": 135,
   "id": "39464071",
   "metadata": {},
   "outputs": [
    {
     "data": {
      "text/plain": [
       "{'fit_time': array([530.31180501, 536.93219995, 536.90793705, 529.69696903,\n",
       "        527.22294307]),\n",
       " 'score_time': array([2.34034395, 2.23001695, 2.3489368 , 2.39035392, 2.38537598]),\n",
       " 'test_score': array([0.69789058, 0.66334345, 0.72104224, 0.51490632, 0.53320811]),\n",
       " 'train_score': array([0.99986755, 0.99996388, 0.99996388, 0.99989164, 0.9999398 ])}"
      ]
     },
     "execution_count": 135,
     "metadata": {},
     "output_type": "execute_result"
    }
   ],
   "source": [
    "# Evaluation of the model\n",
    "cross_validate(grd2.best_estimator_, norm_X_train2, y_train2, cv=5, scoring='accuracy', \n",
    "               groups=groups_train2, n_jobs=-1, return_train_score=True)"
   ]
  },
  {
   "cell_type": "code",
   "execution_count": 367,
   "id": "01712d4a",
   "metadata": {},
   "outputs": [
    {
     "name": "stdout",
     "output_type": "stream",
     "text": [
      "Accuracy: 0.7490229688035653\n",
      "Execution time: 35.10875129699707\n"
     ]
    }
   ],
   "source": [
    "rf2 = RandomForestClassifier(random_state=42, min_samples_leaf=20, max_depth=7)\n",
    "start = time.time()\n",
    "rf2.fit(norm_X_train2, y_train2)\n",
    "accuracy = rf2.score(norm_X_test2, y_test2) # Threshold\n",
    "end = time.time()\n",
    "\n",
    "y_predRF = rf2.predict(norm_X_test2)\n",
    "\n",
    "print(\"Accuracy: \" + str(accuracy))\n",
    "print(\"Execution time: \" + str(end-start))"
   ]
  },
  {
   "cell_type": "code",
   "execution_count": 182,
   "id": "ffe25407",
   "metadata": {},
   "outputs": [],
   "source": [
    "# Increased from 0.724614329790881"
   ]
  },
  {
   "cell_type": "markdown",
   "id": "8ad50e0c",
   "metadata": {},
   "source": [
    "#### RF Confusion Matrix"
   ]
  },
  {
   "cell_type": "code",
   "execution_count": 368,
   "id": "ef0183a5",
   "metadata": {},
   "outputs": [
    {
     "data": {
      "image/png": "[encoded data removed]",
      "text/plain": [
       "<Figure size 432x288 with 2 Axes>"
      ]
     },
     "metadata": {
      "needs_background": "light"
     },
     "output_type": "display_data"
    }
   ],
   "source": [
    "cm = metrics.confusion_matrix(y_test2, y_predRF)\n",
    "cm_display = metrics.ConfusionMatrixDisplay(confusion_matrix = cm, display_labels = ['0','1','2'])\n",
    "cm_display.plot()\n",
    "plt.show()"
   ]
  },
  {
   "cell_type": "code",
   "execution_count": 369,
   "id": "d6f7c773",
   "metadata": {},
   "outputs": [
    {
     "name": "stdout",
     "output_type": "stream",
     "text": [
      "              precision    recall  f1-score   support\n",
      "\n",
      "           0       0.77      0.84      0.80     16799\n",
      "           1       0.72      0.68      0.70     11389\n",
      "           2       0.00      0.00      0.00       982\n",
      "\n",
      "    accuracy                           0.75     29170\n",
      "   macro avg       0.49      0.51      0.50     29170\n",
      "weighted avg       0.72      0.75      0.73     29170\n",
      "\n"
     ]
    },
    {
     "name": "stderr",
     "output_type": "stream",
     "text": [
      "/Library/Frameworks/Python.framework/Versions/3.9/lib/python3.9/site-packages/sklearn/metrics/_classification.py:1344: UndefinedMetricWarning: Precision and F-score are ill-defined and being set to 0.0 in labels with no predicted samples. Use `zero_division` parameter to control this behavior.\n",
      "  _warn_prf(average, modifier, msg_start, len(result))\n",
      "/Library/Frameworks/Python.framework/Versions/3.9/lib/python3.9/site-packages/sklearn/metrics/_classification.py:1344: UndefinedMetricWarning: Precision and F-score are ill-defined and being set to 0.0 in labels with no predicted samples. Use `zero_division` parameter to control this behavior.\n",
      "  _warn_prf(average, modifier, msg_start, len(result))\n",
      "/Library/Frameworks/Python.framework/Versions/3.9/lib/python3.9/site-packages/sklearn/metrics/_classification.py:1344: UndefinedMetricWarning: Precision and F-score are ill-defined and being set to 0.0 in labels with no predicted samples. Use `zero_division` parameter to control this behavior.\n",
      "  _warn_prf(average, modifier, msg_start, len(result))\n"
     ]
    }
   ],
   "source": [
    "print(classification_report(y_test2, y_predRF, target_names=['0', '1', '2']))"
   ]
  },
  {
   "cell_type": "code",
   "execution_count": 370,
   "id": "b3986ae3",
   "metadata": {},
   "outputs": [
    {
     "name": "stderr",
     "output_type": "stream",
     "text": [
      "/Library/Frameworks/Python.framework/Versions/3.9/lib/python3.9/site-packages/sklearn/metrics/_classification.py:1344: UndefinedMetricWarning: Precision and F-score are ill-defined and being set to 0.0 in labels with no predicted samples. Use `zero_division` parameter to control this behavior.\n",
      "  _warn_prf(average, modifier, msg_start, len(result))\n"
     ]
    },
    {
     "data": {
      "text/plain": [
       "(0.49474616785665626, 0.5065009411365601, 0.4999500732572597, None)"
      ]
     },
     "execution_count": 370,
     "metadata": {},
     "output_type": "execute_result"
    }
   ],
   "source": [
    "precision_recall_fscore_support(y_test2, y_predRF, average='macro')"
   ]
  },
  {
   "cell_type": "code",
   "execution_count": 371,
   "id": "241a63b7",
   "metadata": {},
   "outputs": [
    {
     "data": {
      "text/plain": [
       "(0.7490229688035653, 0.7490229688035653, 0.7490229688035653, None)"
      ]
     },
     "execution_count": 371,
     "metadata": {},
     "output_type": "execute_result"
    }
   ],
   "source": [
    "precision_recall_fscore_support(y_test2, y_predRF, average='micro')"
   ]
  },
  {
   "cell_type": "code",
   "execution_count": 372,
   "id": "6246fdaf",
   "metadata": {},
   "outputs": [
    {
     "name": "stderr",
     "output_type": "stream",
     "text": [
      "/Library/Frameworks/Python.framework/Versions/3.9/lib/python3.9/site-packages/sklearn/metrics/_classification.py:1344: UndefinedMetricWarning: Precision and F-score are ill-defined and being set to 0.0 in labels with no predicted samples. Use `zero_division` parameter to control this behavior.\n",
      "  _warn_prf(average, modifier, msg_start, len(result))\n"
     ]
    },
    {
     "data": {
      "text/plain": [
       "(0.7220973707783549, 0.7490229688035653, 0.7344812067217377, None)"
      ]
     },
     "execution_count": 372,
     "metadata": {},
     "output_type": "execute_result"
    }
   ],
   "source": [
    "precision_recall_fscore_support(y_test2, y_predRF, average='weighted')"
   ]
  },
  {
   "cell_type": "code",
   "execution_count": 373,
   "id": "fb749819",
   "metadata": {},
   "outputs": [
    {
     "name": "stderr",
     "output_type": "stream",
     "text": [
      "/Library/Frameworks/Python.framework/Versions/3.9/lib/python3.9/site-packages/sklearn/metrics/_classification.py:1344: UndefinedMetricWarning: Precision and F-score are ill-defined and being set to 0.0 in labels with no predicted samples. Use `zero_division` parameter to control this behavior.\n",
      "  _warn_prf(average, modifier, msg_start, len(result))\n"
     ]
    },
    {
     "data": {
      "text/plain": [
       "(array([0.76887024, 0.71536827, 0.        ]),\n",
       " array([0.83981189, 0.67969093, 0.        ]),\n",
       " array([0.80277683, 0.69707339, 0.        ]),\n",
       " array([16799, 11389,   982]))"
      ]
     },
     "execution_count": 373,
     "metadata": {},
     "output_type": "execute_result"
    }
   ],
   "source": [
    "precision_recall_fscore_support(y_test2, y_predRF, average=None, labels=[0,1,2]) # for each class "
   ]
  },
  {
   "cell_type": "code",
   "execution_count": 374,
   "id": "fe702846",
   "metadata": {},
   "outputs": [
    {
     "name": "stderr",
     "output_type": "stream",
     "text": [
      "/var/folders/3n/6bmtx14d2m39gg0wnxmz4h500000gn/T/ipykernel_5439/3650387924.py:22: RuntimeWarning: invalid value encountered in long_scalars\n",
      "  d[label]['Precision'] = tp[i]/(tp[i]+fp[i]) # TP / TP+FP\n"
     ]
    },
    {
     "data": {
      "text/plain": [
       "{'0': {'TP': 14108,\n",
       "  'TN': 8130,\n",
       "  'FP': 4241,\n",
       "  'FN': 2691,\n",
       "  'Accuracy': 0.7623585875899898,\n",
       "  'Recall': 0.8398118935650931,\n",
       "  'Precision': 0.7688702381601177,\n",
       "  'F1': 0.8027768294070786,\n",
       "  'Specificity': 0.6571821194729609},\n",
       " '1': {'TP': 7741,\n",
       "  'TN': 14701,\n",
       "  'FP': 3080,\n",
       "  'FN': 3648,\n",
       "  'Accuracy': 0.7693520740486801,\n",
       "  'Recall': 0.6796909298445869,\n",
       "  'Precision': 0.7153682654098512,\n",
       "  'F1': 0.6970733903647005,\n",
       "  'Specificity': 0.8267813958719982},\n",
       " '2': {'TP': 0,\n",
       "  'TN': 28188,\n",
       "  'FP': 0,\n",
       "  'FN': 982,\n",
       "  'Accuracy': 0.9663352759684607,\n",
       "  'Recall': 0.0,\n",
       "  'Precision': nan,\n",
       "  'F1': nan,\n",
       "  'Specificity': 1.0}}"
      ]
     },
     "execution_count": 374,
     "metadata": {},
     "output_type": "execute_result"
    }
   ],
   "source": [
    "mcm = multilabel_confusion_matrix(y_test2, y_predRF)\n",
    "\n",
    "tn = mcm[:, 0, 0]\n",
    "tp = mcm[:, 1, 1]\n",
    "fn = mcm[:, 1, 0]\n",
    "fp = mcm[:, 0, 1]\n",
    "recall = tp / (tp + fn) # true positive rate or sensitivity\n",
    "specificity = tn / (tn + fp) # ture negative rate\n",
    "fallout = fp / (fp + tn) # false positive rate\n",
    "missrate = fn / (fn + tp) #false negative rate\n",
    "\n",
    "d = {}\n",
    "for label in ['0', '1', '2']:\n",
    "    i = int(label)\n",
    "    d[label] = dict()\n",
    "    d[label]['TP'] = tp[i]\n",
    "    d[label]['TN'] = tn[i]\n",
    "    d[label]['FP'] = fp[i]\n",
    "    d[label]['FN'] = fn[i]\n",
    "    d[label]['Accuracy'] = (tp[i]+tn[i])/(tp[i]+tn[i]+fn[i]+fp[i]) # TP+TN / TP+TN+FP+FN\n",
    "    d[label]['Recall'] = tp[i]/(tp[i]+fn[i]) # TP / TP+FN\n",
    "    d[label]['Precision'] = tp[i]/(tp[i]+fp[i]) # TP / TP+FP\n",
    "    d[label]['F1'] = (2*d[label]['Precision']*d[label]['Recall'])/(d[label]['Precision']+d[label]['Recall'])\n",
    "    d[label]['Specificity'] = tn[i]/(tn[i]+fp[i]) # TN / TN+FP\n",
    "    #d[label]['Fallout'] = fp[i]/(fp[i]+tn[i]) # FP /FP+TN\n",
    "    #d[label]['Missrate'] = fn[i]/(fn[i]+tp[i]) # FN / FN+TP\n",
    "d"
   ]
  },
  {
   "cell_type": "code",
   "execution_count": 375,
   "id": "5801926c",
   "metadata": {},
   "outputs": [],
   "source": [
    "# Class 2 is not being classified!"
   ]
  },
  {
   "cell_type": "markdown",
   "id": "2c430c56",
   "metadata": {},
   "source": [
    "## Oversampling and Undersampling"
   ]
  },
  {
   "cell_type": "code",
   "execution_count": 376,
   "id": "783398fe",
   "metadata": {},
   "outputs": [],
   "source": [
    "from imblearn.over_sampling import SMOTE\n",
    "from imblearn.under_sampling import RandomUnderSampler\n",
    "from imblearn.pipeline import Pipeline\n",
    "from collections import Counter\n",
    "from imblearn.over_sampling import RandomOverSampler"
   ]
  },
  {
   "cell_type": "code",
   "execution_count": 377,
   "id": "1408076d",
   "metadata": {},
   "outputs": [
    {
     "data": {
      "text/plain": [
       "Counter({0: 55476, 1: 44051, 2: 4289})"
      ]
     },
     "execution_count": 377,
     "metadata": {},
     "output_type": "execute_result"
    }
   ],
   "source": [
    "counter = Counter(y_train2)\n",
    "counter"
   ]
  },
  {
   "cell_type": "code",
   "execution_count": 378,
   "id": "985e3bec",
   "metadata": {},
   "outputs": [
    {
     "name": "stdout",
     "output_type": "stream",
     "text": [
      "Class 0: 53% of X_train2\n",
      "Class 1: 42% of X_train2\n",
      "Class 2: 4% of X_train2\n"
     ]
    }
   ],
   "source": [
    "print(\"Class 0: \" + str(round(100*counter.get(0)/(counter.get(0)+counter.get(1)+counter.get(2))))+\"% of X_train2\")\n",
    "print(\"Class 1: \" + str(round(100*counter.get(1)/(counter.get(0)+counter.get(1)+counter.get(2))))+\"% of X_train2\")\n",
    "print(\"Class 2: \" + str(round(100*counter.get(2)/(counter.get(0)+counter.get(1)+counter.get(2))))+\"% of X_train2\")"
   ]
  },
  {
   "cell_type": "code",
   "execution_count": 379,
   "id": "24730ed7",
   "metadata": {},
   "outputs": [],
   "source": [
    "# Current class distribution (0,1,2)\n",
    "# 0 : 53% of the data (/3)\n",
    "# 1 : 42% of the data (/2)\n",
    "# 2 : 4% of the data (*4)\n",
    "\n",
    "# Oversampling - overfit\n",
    "# Undersampling - information loss"
   ]
  },
  {
   "cell_type": "code",
   "execution_count": 380,
   "id": "e2ecba21",
   "metadata": {},
   "outputs": [
    {
     "data": {
      "text/plain": [
       "Counter({0: 22000, 1: 18000, 2: 10000})"
      ]
     },
     "execution_count": 380,
     "metadata": {},
     "output_type": "execute_result"
    }
   ],
   "source": [
    "over = SMOTE(sampling_strategy={0: 55476, 1: 44051, 2: 10000})\n",
    "under = RandomUnderSampler(sampling_strategy={0: 22000, 1: 18000, 2: 10000})\n",
    "\n",
    "sampler_pipeline = Pipeline([('o', over), ('u', under)])\n",
    "\n",
    "X_sampled, y_sampled = sampler_pipeline.fit_resample(X_train2, y_train2)\n",
    "\n",
    "counter = Counter(y_sampled)\n",
    "counter"
   ]
  },
  {
   "cell_type": "code",
   "execution_count": 381,
   "id": "f20f52c0",
   "metadata": {},
   "outputs": [
    {
     "name": "stdout",
     "output_type": "stream",
     "text": [
      "Class 0: 44% of X_train2\n",
      "Class 1: 36% of X_train2\n",
      "Class 2: 20% of X_train2\n"
     ]
    }
   ],
   "source": [
    "print(\"Class 0: \" + str(round(100*counter.get(0)/(counter.get(0)+counter.get(1)+counter.get(2))))+\"% of X_train2\")\n",
    "print(\"Class 1: \" + str(round(100*counter.get(1)/(counter.get(0)+counter.get(1)+counter.get(2))))+\"% of X_train2\")\n",
    "print(\"Class 2: \" + str(round(100*counter.get(2)/(counter.get(0)+counter.get(1)+counter.get(2))))+\"% of X_train2\")"
   ]
  },
  {
   "cell_type": "code",
   "execution_count": 382,
   "id": "75142680",
   "metadata": {},
   "outputs": [],
   "source": [
    "# Normalize the sampled data\n",
    "norm_scaler = MinMaxScaler()\n",
    "norm_X_sampled = norm_scaler.fit_transform(X_sampled)\n",
    "norm_X_test3 = norm_scaler.transform(X_test2)"
   ]
  },
  {
   "cell_type": "markdown",
   "id": "c757bd98",
   "metadata": {},
   "source": [
    "###### Complement Naive Bayes"
   ]
  },
  {
   "cell_type": "code",
   "execution_count": 384,
   "id": "8036c215",
   "metadata": {},
   "outputs": [
    {
     "data": {
      "text/plain": [
       "{'fit_time': array([0.04501486, 0.07121205, 0.07393193, 0.04388785, 0.07140994]),\n",
       " 'score_time': array([0.00283408, 0.00542307, 0.00501704, 0.00290394, 0.00458407]),\n",
       " 'test_score': array([0.5224, 0.5249, 0.5274, 0.5253, 0.527 ])}"
      ]
     },
     "execution_count": 384,
     "metadata": {},
     "output_type": "execute_result"
    }
   ],
   "source": [
    "# Hyperparameter tuned model\n",
    "cnb = ComplementNB(alpha=3000, class_prior=[0.0002, 5e-05, 0.0003], fit_prior=True, norm=False)\n",
    "\n",
    "# Performence evaluation\n",
    "cross_validate(cnb, norm_X_sampled, y_sampled, cv=5, scoring='accuracy', n_jobs=-1)"
   ]
  },
  {
   "cell_type": "code",
   "execution_count": 385,
   "id": "5640aac7",
   "metadata": {},
   "outputs": [
    {
     "name": "stdout",
     "output_type": "stream",
     "text": [
      "Accuracy: 0.7037709976002743\n",
      "Execution time: 0.026406049728393555\n"
     ]
    }
   ],
   "source": [
    "start = time.time()\n",
    "cnb.fit(norm_X_sampled, y_sampled)\n",
    "accuracy = cnb.score(norm_X_test3, y_test2) \n",
    "end = time.time()\n",
    "\n",
    "y_pred = cnb.predict(norm_X_test3)\n",
    "\n",
    "print(\"Accuracy: \" + str(accuracy))\n",
    "print(\"Execution time: \" + str(end-start))"
   ]
  },
  {
   "cell_type": "code",
   "execution_count": 386,
   "id": "ccf03f97",
   "metadata": {},
   "outputs": [],
   "source": [
    "# Accuracy reduced from 0.706342132327734, no significant change. "
   ]
  },
  {
   "cell_type": "markdown",
   "id": "107077e6",
   "metadata": {},
   "source": [
    "###### Random Forest"
   ]
  },
  {
   "cell_type": "code",
   "execution_count": 387,
   "id": "128bdd3e",
   "metadata": {},
   "outputs": [
    {
     "data": {
      "text/plain": [
       "{'fit_time': array([21.74099684, 21.57357287, 21.84407091, 21.76275802, 21.81087613]),\n",
       " 'score_time': array([0.09430313, 0.11744595, 0.09313512, 0.09246302, 0.07714987]),\n",
       " 'test_score': array([0.5981, 0.5973, 0.6058, 0.596 , 0.6012])}"
      ]
     },
     "execution_count": 387,
     "metadata": {},
     "output_type": "execute_result"
    }
   ],
   "source": [
    "# Hyperparameter tuned model\n",
    "rf = RandomForestClassifier(random_state=42, min_samples_leaf=20, max_depth=7)\n",
    "\n",
    "# Performence evaluation\n",
    "cross_validate(rf, norm_X_sampled, y_sampled, cv=5, scoring='accuracy', n_jobs=-1)"
   ]
  },
  {
   "cell_type": "code",
   "execution_count": 388,
   "id": "7b9cc871",
   "metadata": {},
   "outputs": [
    {
     "name": "stdout",
     "output_type": "stream",
     "text": [
      "Accuracy: 0.7370586218717861\n",
      "Execution time: 18.91456413269043\n"
     ]
    }
   ],
   "source": [
    "start = time.time()\n",
    "rf.fit(norm_X_sampled, y_sampled)\n",
    "accuracy = rf.score(norm_X_test3, y_test2) \n",
    "end = time.time()\n",
    "\n",
    "y_pred = rf.predict(norm_X_test3)\n",
    "\n",
    "print(\"Accuracy: \" + str(accuracy))\n",
    "print(\"Execution time: \" + str(end-start))"
   ]
  },
  {
   "cell_type": "code",
   "execution_count": 393,
   "id": "82181880",
   "metadata": {},
   "outputs": [],
   "source": [
    "# Accuracy reduced from 0.7490229688035653"
   ]
  },
  {
   "cell_type": "markdown",
   "id": "74f1dbf7",
   "metadata": {},
   "source": [
    "###### RF Confusion Matrix"
   ]
  },
  {
   "cell_type": "code",
   "execution_count": 394,
   "id": "99472e63",
   "metadata": {},
   "outputs": [
    {
     "data": {
      "image/png": "[encoded data removed]",
      "text/plain": [
       "<Figure size 432x288 with 2 Axes>"
      ]
     },
     "metadata": {
      "needs_background": "light"
     },
     "output_type": "display_data"
    }
   ],
   "source": [
    "cm = metrics.confusion_matrix(y_test2, y_pred)\n",
    "cm_display = metrics.ConfusionMatrixDisplay(confusion_matrix = cm, display_labels = ['0','1','2'])\n",
    "cm_display.plot()\n",
    "plt.show()"
   ]
  },
  {
   "cell_type": "code",
   "execution_count": 395,
   "id": "96cf01b5",
   "metadata": {},
   "outputs": [
    {
     "name": "stdout",
     "output_type": "stream",
     "text": [
      "              precision    recall  f1-score   support\n",
      "\n",
      "           0       0.77      0.82      0.80     16799\n",
      "           1       0.71      0.67      0.69     11389\n",
      "           2       0.07      0.04      0.05       982\n",
      "\n",
      "    accuracy                           0.74     29170\n",
      "   macro avg       0.52      0.51      0.51     29170\n",
      "weighted avg       0.73      0.74      0.73     29170\n",
      "\n"
     ]
    }
   ],
   "source": [
    "print(classification_report(y_test2, y_pred, target_names=['0', '1', '2']))"
   ]
  },
  {
   "cell_type": "code",
   "execution_count": 396,
   "id": "5282682e",
   "metadata": {},
   "outputs": [
    {
     "data": {
      "text/plain": [
       "(array([0.77496783, 0.71217228, 0.06969206]),\n",
       " array([0.82451336, 0.66783739, 0.04378819]),\n",
       " array([0.79897323, 0.68929267, 0.05378361]),\n",
       " array([16799, 11389,   982]))"
      ]
     },
     "execution_count": 396,
     "metadata": {},
     "output_type": "execute_result"
    }
   ],
   "source": [
    "precision_recall_fscore_support(y_test2, y_pred, average='macro')\n",
    "precision_recall_fscore_support(y_test2, y_pred, average='micro')\n",
    "precision_recall_fscore_support(y_test2, y_pred, average='weighted')\n",
    "precision_recall_fscore_support(y_test2, y_pred, average=None, labels=[0,1,2]) # for each class "
   ]
  },
  {
   "cell_type": "code",
   "execution_count": 397,
   "id": "629689af",
   "metadata": {},
   "outputs": [
    {
     "data": {
      "text/plain": [
       "{'0': {'TP': 13851,\n",
       "  'TN': 8349,\n",
       "  'FP': 4022,\n",
       "  'FN': 2948,\n",
       "  'Accuracy': 0.7610558793280768,\n",
       "  'Recall': 0.8245133638907077,\n",
       "  'Precision': 0.7749678285682314,\n",
       "  'F1': 0.7989732348869405,\n",
       "  'Specificity': 0.6748848112521219},\n",
       " '1': {'TP': 7606,\n",
       "  'TN': 14707,\n",
       "  'FP': 3074,\n",
       "  'FN': 3783,\n",
       "  'Accuracy': 0.7649297223174495,\n",
       "  'Recall': 0.6678373869523224,\n",
       "  'Precision': 0.7121722846441948,\n",
       "  'F1': 0.6892926729801985,\n",
       "  'Specificity': 0.8271188347112086},\n",
       " '2': {'TP': 43,\n",
       "  'TN': 27614,\n",
       "  'FP': 574,\n",
       "  'FN': 939,\n",
       "  'Accuracy': 0.9481316420980459,\n",
       "  'Recall': 0.04378818737270876,\n",
       "  'Precision': 0.06969205834683954,\n",
       "  'F1': 0.05378361475922452,\n",
       "  'Specificity': 0.9796367248474528}}"
      ]
     },
     "execution_count": 397,
     "metadata": {},
     "output_type": "execute_result"
    }
   ],
   "source": [
    "mcm = multilabel_confusion_matrix(y_test2, y_pred)\n",
    "\n",
    "tn = mcm[:, 0, 0]\n",
    "tp = mcm[:, 1, 1]\n",
    "fn = mcm[:, 1, 0]\n",
    "fp = mcm[:, 0, 1]\n",
    "recall = tp / (tp + fn) # true positive rate or sensitivity\n",
    "specificity = tn / (tn + fp) # ture negative rate\n",
    "fallout = fp / (fp + tn) # false positive rate\n",
    "missrate = fn / (fn + tp) #false negative rate\n",
    "\n",
    "d = {}\n",
    "for label in ['0', '1', '2']:\n",
    "    i = int(label)\n",
    "    d[label] = dict()\n",
    "    d[label]['TP'] = tp[i]\n",
    "    d[label]['TN'] = tn[i]\n",
    "    d[label]['FP'] = fp[i]\n",
    "    d[label]['FN'] = fn[i]\n",
    "    d[label]['Accuracy'] = (tp[i]+tn[i])/(tp[i]+tn[i]+fn[i]+fp[i]) # TP+TN / TP+TN+FP+FN\n",
    "    d[label]['Recall'] = tp[i]/(tp[i]+fn[i]) # TP / TP+FN\n",
    "    d[label]['Precision'] = tp[i]/(tp[i]+fp[i]) # TP / TP+FP\n",
    "    d[label]['F1'] = (2*d[label]['Precision']*d[label]['Recall'])/(d[label]['Precision']+d[label]['Recall'])\n",
    "    d[label]['Specificity'] = tn[i]/(tn[i]+fp[i]) # TN / TN+FP\n",
    "    #d[label]['Fallout'] = fp[i]/(fp[i]+tn[i]) # FP /FP+TN\n",
    "    #d[label]['Missrate'] = fn[i]/(fn[i]+tp[i]) # FN / FN+TP\n",
    "d"
   ]
  },
  {
   "cell_type": "code",
   "execution_count": 398,
   "id": "c04f6bd7",
   "metadata": {},
   "outputs": [],
   "source": [
    "# Before over/under sampling\n",
    "# 2': {'TP': 0,\n",
    "#  'TN': 28188,\n",
    "#  'FP': 0,\n",
    "#  'FN': 982,\n",
    "#  'Accuracy': 0.9663352759684607,\n",
    "#  'Recall': 0.0,\n",
    "#  'Precision': nan,\n",
    "#  'F1': nan,\n",
    "#  'Specificity': 1.0}\n",
    "\n",
    "\n",
    "# TP and FP increased\n",
    "# TN and FN decreased\n",
    "# Accuracy and specificity decreased BUT recall, precision and F1 increased!\n",
    "\n",
    "# Class 2 is not being classified unles I resample the data!"
   ]
  },
  {
   "cell_type": "markdown",
   "id": "75e0e9c5",
   "metadata": {},
   "source": [
    "### TRYING SOME DIFFERENT METHODS  \n",
    "https://machinelearningmastery.com/bagging-and-random-forest-for-imbalanced-classification/  \n",
    "- Skewed class weights"
   ]
  },
  {
   "cell_type": "code",
   "execution_count": 412,
   "id": "96235e39",
   "metadata": {},
   "outputs": [
    {
     "data": {
      "text/plain": [
       "{'fit_time': array([264.13643813, 264.00677299, 262.15064597, 261.45958018,\n",
       "        261.85680795]),\n",
       " 'score_time': array([0.49819088, 0.4985218 , 0.5951829 , 0.6436398 , 0.62561703]),\n",
       " 'test_score': array([0.6757, 0.6778, 0.6936, 0.6763, 0.6828])}"
      ]
     },
     "execution_count": 412,
     "metadata": {},
     "output_type": "execute_result"
    }
   ],
   "source": [
    "rf = RandomForestClassifier(random_state=42, class_weight={0: 0.2, 1: 0.005, 2: 100})\n",
    "\n",
    "cross_validate(rf, norm_X_sampled, y_sampled, cv=5, scoring='accuracy', n_jobs=-1)"
   ]
  },
  {
   "cell_type": "code",
   "execution_count": 413,
   "id": "7e0c92a7",
   "metadata": {},
   "outputs": [
    {
     "name": "stdout",
     "output_type": "stream",
     "text": [
      "Accuracy: 0.7049365786767227\n"
     ]
    }
   ],
   "source": [
    "rf.fit(norm_X_sampled, y_sampled)\n",
    "accuracy = rf.score(norm_X_test3, y_test2) \n",
    "y_pred = rf.predict(norm_X_test3)\n",
    "\n",
    "print(\"Accuracy: \" + str(accuracy))"
   ]
  },
  {
   "cell_type": "code",
   "execution_count": 414,
   "id": "4b5876c5",
   "metadata": {},
   "outputs": [
    {
     "data": {
      "text/plain": [
       "(array([0.77867228, 0.64457587, 0.04860088]),\n",
       " array([0.74849693, 0.69856879, 0.03360489]),\n",
       " array([0.76328649, 0.67048711, 0.0397351 ]),\n",
       " array([16799, 11389,   982]))"
      ]
     },
     "execution_count": 414,
     "metadata": {},
     "output_type": "execute_result"
    }
   ],
   "source": [
    "precision_recall_fscore_support(y_test2, y_pred, average=None, labels=[0,1,2]) # for each class "
   ]
  },
  {
   "cell_type": "markdown",
   "id": "3735bc6d",
   "metadata": {},
   "source": [
    "- Bagging classifier"
   ]
  },
  {
   "cell_type": "code",
   "execution_count": 415,
   "id": "1251d701",
   "metadata": {},
   "outputs": [
    {
     "data": {
      "text/plain": [
       "{'fit_time': array([31.5145061 , 31.72758603, 32.42684269, 32.14861917, 32.52751064]),\n",
       " 'score_time': array([0.070894  , 0.05855107, 0.06004405, 0.05785298, 0.05779815]),\n",
       " 'test_score': array([0.6357, 0.6417, 0.6505, 0.6427, 0.6498])}"
      ]
     },
     "execution_count": 415,
     "metadata": {},
     "output_type": "execute_result"
    }
   ],
   "source": [
    "from imblearn.ensemble import BalancedBaggingClassifier\n",
    "\n",
    "model = BalancedBaggingClassifier(random_state=42)\n",
    "\n",
    "cross_validate(model, norm_X_sampled, y_sampled, cv=5, scoring='accuracy', n_jobs=-1)"
   ]
  },
  {
   "cell_type": "code",
   "execution_count": 416,
   "id": "d4443cf0",
   "metadata": {},
   "outputs": [
    {
     "name": "stdout",
     "output_type": "stream",
     "text": [
      "Accuracy: 0.5871100445663353\n"
     ]
    }
   ],
   "source": [
    "model.fit(norm_X_sampled, y_sampled)\n",
    "accuracy = model.score(norm_X_test3, y_test2) \n",
    "y_pred = model.predict(norm_X_test3)\n",
    "\n",
    "print(\"Accuracy: \" + str(accuracy))"
   ]
  },
  {
   "cell_type": "code",
   "execution_count": 417,
   "id": "620b7ddb",
   "metadata": {},
   "outputs": [
    {
     "data": {
      "text/plain": [
       "(array([0.76040985, 0.57227793, 0.05144928]),\n",
       " array([0.62289422, 0.56624813, 0.21690428]),\n",
       " array([0.68481675, 0.56924707, 0.08317064]),\n",
       " array([16799, 11389,   982]))"
      ]
     },
     "execution_count": 417,
     "metadata": {},
     "output_type": "execute_result"
    }
   ],
   "source": [
    "precision_recall_fscore_support(y_test2, y_pred, average=None, labels=[0,1,2]) # for each class "
   ]
  },
  {
   "cell_type": "markdown",
   "id": "765baddb",
   "metadata": {},
   "source": [
    "- Balanced subsample on non-resampled data"
   ]
  },
  {
   "cell_type": "code",
   "execution_count": 418,
   "id": "ff7b4bf6",
   "metadata": {},
   "outputs": [
    {
     "data": {
      "text/plain": [
       "{'fit_time': array([43.6388669 , 43.51118708, 43.73003268, 43.60792017, 43.54757905]),\n",
       " 'score_time': array([0.2125349 , 0.25560975, 0.24432826, 0.213516  , 0.25486994]),\n",
       " 'test_score': array([0.6936, 0.6995, 0.6982, 0.6938, 0.6965])}"
      ]
     },
     "execution_count": 418,
     "metadata": {},
     "output_type": "execute_result"
    }
   ],
   "source": [
    "model = RandomForestClassifier(random_state=42, class_weight='balanced_subsample')\n",
    "\n",
    "cross_validate(model, norm_X_sampled, y_sampled, cv=5, scoring='accuracy', n_jobs=-1)"
   ]
  },
  {
   "cell_type": "code",
   "execution_count": 419,
   "id": "bf285e79",
   "metadata": {},
   "outputs": [
    {
     "name": "stdout",
     "output_type": "stream",
     "text": [
      "Accuracy: 0.7116900925608501\n"
     ]
    }
   ],
   "source": [
    "model.fit(norm_X_sampled, y_sampled)\n",
    "accuracy = model.score(norm_X_test3, y_test2) \n",
    "y_pred = model.predict(norm_X_test3)\n",
    "\n",
    "print(\"Accuracy: \" + str(accuracy))"
   ]
  },
  {
   "cell_type": "code",
   "execution_count": 420,
   "id": "bc055861",
   "metadata": {},
   "outputs": [
    {
     "data": {
      "text/plain": [
       "(array([0.76562863, 0.66808398, 0.05979073]),\n",
       " array([0.78445146, 0.66221793, 0.0407332 ]),\n",
       " array([0.77492576, 0.66513802, 0.04845548]),\n",
       " array([16799, 11389,   982]))"
      ]
     },
     "execution_count": 420,
     "metadata": {},
     "output_type": "execute_result"
    }
   ],
   "source": [
    "precision_recall_fscore_support(y_test2, y_pred, average=None, labels=[0,1,2]) # for each class "
   ]
  },
  {
   "cell_type": "markdown",
   "id": "daf1d436",
   "metadata": {},
   "source": [
    "- XGBoost"
   ]
  },
  {
   "cell_type": "code",
   "execution_count": 408,
   "id": "16ee9c1a",
   "metadata": {},
   "outputs": [
    {
     "data": {
      "text/plain": [
       "{'fit_time': array([185.50535893, 185.45333195, 185.14854074, 185.32281399,\n",
       "        185.53105092]),\n",
       " 'score_time': array([0.09208107, 0.09093928, 0.09066701, 0.10268998, 0.09099627]),\n",
       " 'test_score': array([0.6133, 0.6159, 0.6231, 0.6114, 0.6232])}"
      ]
     },
     "execution_count": 408,
     "metadata": {},
     "output_type": "execute_result"
    }
   ],
   "source": [
    "import xgboost as xgb\n",
    "model = xgb.XGBRFClassifier()\n",
    "cross_validate(model, norm_X_sampled, y_sampled, cv=5, scoring='accuracy', n_jobs=-1)"
   ]
  },
  {
   "cell_type": "code",
   "execution_count": 409,
   "id": "47d395c3",
   "metadata": {},
   "outputs": [
    {
     "name": "stdout",
     "output_type": "stream",
     "text": [
      "Accuracy: 0.6746657524854303\n",
      "Execution time: 45.04978895187378\n"
     ]
    }
   ],
   "source": [
    "start = time.time()\n",
    "model.fit(norm_X_sampled, y_sampled)\n",
    "accuracy = model.score(norm_X_test3, y_test2) \n",
    "end = time.time()\n",
    "y_pred = model.predict(norm_X_test3)\n",
    "\n",
    "print(\"Accuracy: \" + str(accuracy))\n",
    "print(\"Execution time: \" + str(end-start))"
   ]
  },
  {
   "cell_type": "code",
   "execution_count": 410,
   "id": "58c8ce57",
   "metadata": {},
   "outputs": [
    {
     "data": {
      "text/plain": [
       "(array([0.78273657, 0.64354952, 0.06186984]),\n",
       " array([0.72873385, 0.64123277, 0.13747454]),\n",
       " array([0.75477049, 0.64238906, 0.08533502]),\n",
       " array([16799, 11389,   982]))"
      ]
     },
     "execution_count": 410,
     "metadata": {},
     "output_type": "execute_result"
    }
   ],
   "source": [
    "precision_recall_fscore_support(y_test2, y_pred, average=None, labels=[0,1,2]) # for each class "
   ]
  },
  {
   "cell_type": "code",
   "execution_count": 188,
   "id": "bb89372c",
   "metadata": {},
   "outputs": [],
   "source": [
    "# No significant improvement. "
   ]
  }
 ],
 "metadata": {
  "kernelspec": {
   "display_name": "Python 3 (ipykernel)",
   "language": "python",
   "name": "python3"
  },
  "language_info": {
   "codemirror_mode": {
    "name": "ipython",
    "version": 3
   },
   "file_extension": ".py",
   "mimetype": "text/x-python",
   "name": "python",
   "nbconvert_exporter": "python",
   "pygments_lexer": "ipython3",
   "version": "3.9.0"
  }
 },
 "nbformat": 4,
 "nbformat_minor": 5
}
