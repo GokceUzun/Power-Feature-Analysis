{
 "cells": [
  {
   "cell_type": "code",
   "execution_count": 19,
   "id": "a22c40be",
   "metadata": {},
   "outputs": [],
   "source": [
    "from LoadData import LoadData\n",
    "from FilterBasic import Filter\n",
    "from FrequencyDomainFeatures import FrequencyDomainFeatures\n",
    "from TimeDomainFeatures import TimeDomainFeatures\n",
    "from FeaturesData import FeaturesData"
   ]
  },
  {
   "cell_type": "code",
   "execution_count": 2,
   "id": "e4bbee4c",
   "metadata": {},
   "outputs": [],
   "source": [
    "import pandas as pd\n",
    "import numpy as np\n",
    "from sklearn.naive_bayes import GaussianNB\n",
    "from sklearn.preprocessing import StandardScaler \n",
    "from sklearn.preprocessing import MinMaxScaler \n",
    "from sklearn.naive_bayes import ComplementNB\n",
    "from sklearn.model_selection import GridSearchCV\n",
    "from sklearn.ensemble import RandomForestClassifier\n",
    "import time\n",
    "from sklearn.model_selection import cross_validate\n",
    "from sklearn.model_selection import cross_val_score\n",
    "from sklearn.metrics import balanced_accuracy_score\n",
    "from sklearn.metrics import roc_auc_score\n",
    "from sklearn import metrics\n",
    "import matplotlib.pyplot as plt\n",
    "from sklearn.metrics import precision_recall_fscore_support\n",
    "from sklearn.metrics import multilabel_confusion_matrix\n",
    "from sklearn.metrics import classification_report"
   ]
  },
  {
   "cell_type": "markdown",
   "id": "759dd995",
   "metadata": {},
   "source": [
    "- relativePower = True\n",
    "- removeNoise = True\n",
    "- applyPCA = False \n",
    "\n",
    "Train/Validation animals = ['S7074', 'S7072', 'S7071', 'S7070', 'S7069', 'S7068', 'S7064']  \n",
    "Baseline 1"
   ]
  },
  {
   "cell_type": "code",
   "execution_count": 6,
   "id": "93639853",
   "metadata": {},
   "outputs": [],
   "source": [
    "directory = \"/Volumes/Macintosh HD/Users/gokceuzun/Desktop/4. SENE/Honors Project\"\n",
    "filename = \"S7074_WT.npy\"\n",
    "data = LoadData(directory=directory, filename=filename, start=35862289, end=57496848)\n",
    "unfiltered_data = data.get_dat()\n",
    "unfiltered_data = data.slice_data(unfiltered_data)\n",
    "\n",
    "fltr_instance = Filter(unfiltered_data, channels=[3,12,5,9,4,11,1])\n",
    "\n",
    "features = FeaturesData(\n",
    "    fltr_instance,\n",
    "    relativePower=True,\n",
    "    removeNoise=True,\n",
    "    applyPCA=False,\n",
    "    brainstatefile=\"S7074_BL1.npy\")\n",
    "\n",
    "animal = ['S7074' for i in range(len(features))]\n",
    "features['animal'] = animal\n",
    "\n",
    "Xy_S7074 = features"
   ]
  },
  {
   "cell_type": "code",
   "execution_count": 7,
   "id": "8acd37cd",
   "metadata": {},
   "outputs": [],
   "source": [
    "directory = \"/Volumes/Macintosh HD/Users/gokceuzun/Desktop/4. SENE/Honors Project\"\n",
    "filename = \"S7072_GAP.npy\"\n",
    "data = LoadData(directory=directory, filename=filename, start=16481329, end=38115888)\n",
    "unfiltered_data = data.get_dat()\n",
    "unfiltered_data = data.slice_data(unfiltered_data)\n",
    "\n",
    "fltr_instance = Filter(unfiltered_data, channels=[3,12,5,9,4,11,1])\n",
    "\n",
    "features = FeaturesData(\n",
    "    fltr_instance,\n",
    "    relativePower=True,\n",
    "    removeNoise=True,\n",
    "    applyPCA=False,\n",
    "    brainstatefile=\"S7072_BL1.npy\")\n",
    "\n",
    "animal = ['S7072' for i in range(len(features))]\n",
    "features['animal'] = animal\n",
    "\n",
    "Xy_S7072 = features"
   ]
  },
  {
   "cell_type": "code",
   "execution_count": 8,
   "id": "acadddb5",
   "metadata": {},
   "outputs": [],
   "source": [
    "directory = \"/Volumes/Macintosh HD/Users/gokceuzun/Desktop/4. SENE/Honors Project\"\n",
    "filename = \"S7071_WT.npy\"\n",
    "data = LoadData(directory=directory, filename=filename, start=16481329, end=38115888)\n",
    "unfiltered_data = data.get_dat()\n",
    "unfiltered_data = data.slice_data(unfiltered_data)\n",
    "\n",
    "fltr_instance = Filter(unfiltered_data, channels=[3,12,5,9,4,11,1])\n",
    "\n",
    "features = FeaturesData(\n",
    "    fltr_instance,\n",
    "    relativePower=True,\n",
    "    removeNoise=True,\n",
    "    applyPCA=False,\n",
    "    brainstatefile=\"S7071_BL1.npy\")\n",
    "\n",
    "animal = ['S7071' for i in range(len(features))]\n",
    "features['animal'] = animal\n",
    "\n",
    "Xy_S7071 = features"
   ]
  },
  {
   "cell_type": "code",
   "execution_count": 11,
   "id": "6de59646",
   "metadata": {},
   "outputs": [],
   "source": [
    "filename = \"S7064_GAP.npy\"\n",
    "data = LoadData(directory=directory, filename=filename, start=15324481, end=36959040)\n",
    "unfiltered_data = data.get_dat()\n",
    "unfiltered_data = data.slice_data(unfiltered_data)\n",
    "\n",
    "fltr_instance = Filter(unfiltered_data, channels=[3,12,5,9,4,11,1])\n",
    "\n",
    "features = FeaturesData(\n",
    "    fltr_instance,\n",
    "    relativePower=True,\n",
    "    removeNoise=True,\n",
    "    applyPCA=False,\n",
    "    brainstatefile=\"S7064_BL1.npy\")\n",
    "\n",
    "animal = ['S7064' for i in range(len(features))]\n",
    "features['animal'] = animal\n",
    "\n",
    "Xy_S7064 = features"
   ]
  },
  {
   "cell_type": "code",
   "execution_count": 12,
   "id": "d73e6a4f",
   "metadata": {},
   "outputs": [],
   "source": [
    "filename = \"S7069_GAP.npy\"\n",
    "data = LoadData(directory=directory, filename=filename, start=12214513, end=33849072)\n",
    "unfiltered_data = data.get_dat()\n",
    "unfiltered_data = data.slice_data(unfiltered_data)\n",
    "\n",
    "fltr_instance = Filter(unfiltered_data, channels=[3,12,5,9,4,11,1])\n",
    "\n",
    "features = FeaturesData(\n",
    "    fltr_instance,\n",
    "    relativePower=True,\n",
    "    removeNoise=True,\n",
    "    applyPCA=False,\n",
    "    brainstatefile=\"S7069_BL1.npy\")\n",
    "\n",
    "animal = ['S7069' for i in range(len(features))]\n",
    "features['animal'] = animal\n",
    "\n",
    "Xy_S7069 = features"
   ]
  },
  {
   "cell_type": "code",
   "execution_count": 13,
   "id": "65d1e675",
   "metadata": {},
   "outputs": [],
   "source": [
    "filename = \"S7068_WT.npy\"\n",
    "data = LoadData(directory=directory, filename=filename, start=12214513, end=33849072)\n",
    "unfiltered_data = data.get_dat()\n",
    "unfiltered_data = data.slice_data(unfiltered_data)\n",
    "\n",
    "fltr_instance = Filter(unfiltered_data, channels=[3,12,5,9,4,11,1])\n",
    "\n",
    "features = FeaturesData(\n",
    "    fltr_instance,\n",
    "    relativePower=True,\n",
    "    removeNoise=True,\n",
    "    applyPCA=False,\n",
    "    brainstatefile=\"S7068_BL1.npy\")\n",
    "\n",
    "animal = ['S7068' for i in range(len(features))]\n",
    "features['animal'] = animal\n",
    "\n",
    "Xy_S7068 = features"
   ]
  },
  {
   "cell_type": "code",
   "execution_count": 14,
   "id": "23f29645",
   "metadata": {},
   "outputs": [],
   "source": [
    "filename = \"S7070_WT.npy\"\n",
    "data = LoadData(directory=directory, filename=filename, start=16481329, end=38115888)\n",
    "unfiltered_data = data.get_dat()\n",
    "unfiltered_data = data.slice_data(unfiltered_data)\n",
    "\n",
    "fltr_instance = Filter(unfiltered_data, channels=[3,12,5,9,4,11,1])\n",
    "\n",
    "features = FeaturesData(\n",
    "    fltr_instance,\n",
    "    relativePower=True,\n",
    "    removeNoise=True,\n",
    "    applyPCA=False,\n",
    "    brainstatefile=\"S7070_BL1.npy\")\n",
    "\n",
    "animal = ['S7070' for i in range(len(features))]\n",
    "features['animal'] = animal\n",
    "\n",
    "Xy_S7070 = features"
   ]
  },
  {
   "cell_type": "markdown",
   "id": "03a5316a",
   "metadata": {},
   "source": [
    "Test = ['S7075', 'S7063']"
   ]
  },
  {
   "cell_type": "code",
   "execution_count": 15,
   "id": "76403147",
   "metadata": {},
   "outputs": [],
   "source": [
    "directory = \"/Volumes/Macintosh HD/Users/gokceuzun/Desktop/4. SENE/Honors Project\"\n",
    "filename = \"S7075_GAP.npy\"\n",
    "data = LoadData(directory=directory, filename=filename, start=14227729, end=35862288)\n",
    "unfiltered_data = data.get_dat()\n",
    "unfiltered_data = data.slice_data(unfiltered_data)\n",
    "\n",
    "fltr_instance = Filter(unfiltered_data, channels=[3,12,5,9,4,11,1])\n",
    "\n",
    "features = FeaturesData(\n",
    "    fltr_instance,\n",
    "    relativePower=True,\n",
    "    removeNoise=True,\n",
    "    applyPCA=False,\n",
    "    brainstatefile=\"S7075_BL1.npy\")\n",
    "\n",
    "animal = ['S7075' for i in range(len(features))]\n",
    "features['animal'] = animal\n",
    "\n",
    "Xy_S7075 = features"
   ]
  },
  {
   "cell_type": "code",
   "execution_count": 16,
   "id": "47557402",
   "metadata": {},
   "outputs": [],
   "source": [
    "directory = \"/Volumes/Macintosh HD/Users/gokceuzun/Desktop/4. SENE/Honors Project\"\n",
    "filename = \"S7063_GAP.npy\"\n",
    "data = LoadData(directory=directory, filename=filename, start=15324481, end=36959040)\n",
    "unfiltered_data = data.get_dat()\n",
    "unfiltered_data = data.slice_data(unfiltered_data)\n",
    "\n",
    "fltr_instance = Filter(unfiltered_data, channels=[3,12,5,9,4,11,1])\n",
    "\n",
    "features = FeaturesData(\n",
    "    fltr_instance,\n",
    "    relativePower=True,\n",
    "    removeNoise=True,\n",
    "    applyPCA=False,\n",
    "    brainstatefile=\"S7063_BL1.npy\")\n",
    "\n",
    "animal = ['S7063' for i in range(len(features))]\n",
    "features['animal'] = animal\n",
    "\n",
    "Xy_S7063 = features"
   ]
  },
  {
   "cell_type": "markdown",
   "id": "9334ae70",
   "metadata": {},
   "source": [
    "## First two classes"
   ]
  },
  {
   "cell_type": "code",
   "execution_count": 17,
   "id": "4a66b6cd",
   "metadata": {},
   "outputs": [],
   "source": [
    "Xy1 = pd.concat([Xy_S7074, Xy_S7072, Xy_S7071, Xy_S7070, Xy_S7069, Xy_S7068, Xy_S7064], axis=0)\n",
    "Xy1 = Xy1.loc[(Xy1['brainstate'] != 2) & (Xy1['brainstate'] != 4)].reset_index() # disregard seizure and rem\n",
    "\n",
    "groups_train1 = Xy1.animal\n",
    "y_train1 = Xy1.brainstate.astype('int')\n",
    "X_train1 = Xy1.loc[:, ~Xy1.columns.isin(['animal', 'brainstate', 'index'])]"
   ]
  },
  {
   "cell_type": "code",
   "execution_count": 18,
   "id": "67bffbec",
   "metadata": {},
   "outputs": [],
   "source": [
    "Xy_test1 = pd.concat([Xy_S7075, Xy_S7063], axis=0)\n",
    "\n",
    "Xy_test1 = Xy_test1.loc[(Xy_test1['brainstate'] != 4) & (Xy_test1['brainstate'] != 2)].reset_index() # disregard seizure and rem\n",
    "\n",
    "groups_test1 = Xy_test1.animal\n",
    "y_test1 = Xy_test1.brainstate.astype('int')\n",
    "X_test1 = Xy_test1.loc[:, ~Xy_test1.columns.isin(['animal', 'brainstate', 'index'])]"
   ]
  },
  {
   "cell_type": "markdown",
   "id": "a29ce0ea",
   "metadata": {},
   "source": [
    "### Naive Bayes\n",
    "#### GAUSSIAN NAIVE BAYES"
   ]
  },
  {
   "cell_type": "code",
   "execution_count": 20,
   "id": "14ca0e42",
   "metadata": {},
   "outputs": [
    {
     "data": {
      "text/plain": [
       "{'fit_time': array([0.32024598, 0.31258869, 0.30954409, 0.30949712, 0.30327201]),\n",
       " 'score_time': array([0.03731608, 0.04004812, 0.03997993, 0.04256105, 0.04587412]),\n",
       " 'test_score': array([0.51677886, 0.47498242, 0.46249686, 0.45777443, 0.47525747]),\n",
       " 'train_score': array([0.47631906, 0.48068977, 0.4831328 , 0.47901334, 0.4804451 ])}"
      ]
     },
     "execution_count": 20,
     "metadata": {},
     "output_type": "execute_result"
    }
   ],
   "source": [
    "cross_validate(GaussianNB(), X_train1, y_train1, cv=5, scoring='accuracy', \n",
    "               groups=groups_train1, n_jobs=-1, return_train_score=True)"
   ]
  },
  {
   "cell_type": "code",
   "execution_count": 21,
   "id": "23b371d4",
   "metadata": {},
   "outputs": [
    {
     "name": "stdout",
     "output_type": "stream",
     "text": [
      "Accuracy: 0.433624237264084\n",
      "Execution time: 0.2849700450897217\n"
     ]
    }
   ],
   "source": [
    "gnb = GaussianNB()\n",
    "start = time.time()\n",
    "gnb.fit(X_train1, y_train1)\n",
    "accuracy = gnb.score(X_test1, y_test1) # Baseline\n",
    "end = time.time()\n",
    "\n",
    "print(\"Accuracy: \" + str(accuracy))\n",
    "print(\"Execution time: \" + str(end-start))"
   ]
  },
  {
   "cell_type": "code",
   "execution_count": 22,
   "id": "b5b82d14",
   "metadata": {},
   "outputs": [
    {
     "data": {
      "text/plain": [
       "{'fit_time': array([0.23007822, 0.22436094, 0.2375319 , 0.21073484, 0.24900103]),\n",
       " 'score_time': array([0.03174305, 0.02199817, 0.03357816, 0.022367  , 0.03402901]),\n",
       " 'test_score': array([0.54872903, 0.5922335 , 0.49871891, 0.51007285, 0.50168299]),\n",
       " 'train_score': array([0.53097801, 0.52502481, 0.52638718, 0.53698726, 0.54659516])}"
      ]
     },
     "execution_count": 22,
     "metadata": {},
     "output_type": "execute_result"
    }
   ],
   "source": [
    "# Standardize data mean=0 and stdev=1\n",
    "stand_scaler = StandardScaler()\n",
    "stand_X_train1 = stand_scaler.fit_transform(X_train1)\n",
    "stand_X_test1 = stand_scaler.transform(X_test1)\n",
    "\n",
    "cross_validate(GaussianNB(), stand_X_train1, y_train1, cv=5, scoring='accuracy', \n",
    "               groups=groups_train1, n_jobs=-1, return_train_score=True)"
   ]
  },
  {
   "cell_type": "code",
   "execution_count": 23,
   "id": "6e4b1491",
   "metadata": {},
   "outputs": [
    {
     "name": "stdout",
     "output_type": "stream",
     "text": [
      "Accuracy: 0.5136228182205194\n",
      "Execution time: 0.2068791389465332\n"
     ]
    }
   ],
   "source": [
    "gnb = GaussianNB()\n",
    "start = time.time()\n",
    "gnb.fit(stand_X_train1, y_train1)\n",
    "accuracy = gnb.score(stand_X_test1, y_test1) # Standardized\n",
    "end = time.time()\n",
    "\n",
    "print(\"Accuracy: \" + str(accuracy))\n",
    "print(\"Execution time: \" + str(end-start))"
   ]
  },
  {
   "cell_type": "code",
   "execution_count": 24,
   "id": "61a6b896",
   "metadata": {},
   "outputs": [
    {
     "data": {
      "text/plain": [
       "{'fit_time': array([0.33368182, 0.33314085, 0.33527493, 0.32443094, 0.33790278]),\n",
       " 'score_time': array([0.03995705, 0.04304099, 0.036937  , 0.04277802, 0.04537797]),\n",
       " 'test_score': array([0.54872903, 0.5922335 , 0.49871891, 0.51007285, 0.50168299]),\n",
       " 'train_score': array([0.53097801, 0.52502481, 0.52638718, 0.53698726, 0.54659516])}"
      ]
     },
     "execution_count": 24,
     "metadata": {},
     "output_type": "execute_result"
    }
   ],
   "source": [
    "# Normalize data between 0 and 1\n",
    "norm_scaler = MinMaxScaler()\n",
    "norm_X_train1 = norm_scaler.fit_transform(X_train1)\n",
    "norm_X_test1 = norm_scaler.transform(X_test1)\n",
    "\n",
    "cross_validate(GaussianNB(), norm_X_train1, y_train1, cv=5, scoring='accuracy', \n",
    "               groups=groups_train1, n_jobs=-1, return_train_score=True)"
   ]
  },
  {
   "cell_type": "code",
   "execution_count": 25,
   "id": "ef67607a",
   "metadata": {},
   "outputs": [
    {
     "name": "stdout",
     "output_type": "stream",
     "text": [
      "Accuracy: 0.5136228182205194\n",
      "Execution time: 0.20174694061279297\n"
     ]
    }
   ],
   "source": [
    "gnb = GaussianNB()\n",
    "start = time.time()\n",
    "gnb.fit(norm_X_train1, y_train1)\n",
    "accuracy = gnb.score(norm_X_test1, y_test1) # Normalized\n",
    "end = time.time()\n",
    "\n",
    "print(\"Accuracy: \" + str(accuracy))\n",
    "print(\"Execution time: \" + str(end-start))"
   ]
  },
  {
   "cell_type": "code",
   "execution_count": 26,
   "id": "bf97c415",
   "metadata": {},
   "outputs": [],
   "source": [
    "# Standardized and normalized data performed the same, greater accuracy compared to baseline Gaussian."
   ]
  },
  {
   "cell_type": "markdown",
   "id": "be64531d",
   "metadata": {},
   "source": [
    "#### COMPLEMENT NAIVE BAYES"
   ]
  },
  {
   "cell_type": "code",
   "execution_count": 27,
   "id": "19733130",
   "metadata": {},
   "outputs": [
    {
     "data": {
      "text/plain": [
       "{'fit_time': array([0.16852903, 0.16957998, 0.16697502, 0.16910386, 0.17824817]),\n",
       " 'score_time': array([0.00917077, 0.00899386, 0.00800419, 0.00945616, 0.00771475]),\n",
       " 'test_score': array([0.64854818, 0.72365116, 0.70957046, 0.62647576, 0.58507913]),\n",
       " 'train_score': array([0.6649502 , 0.64570905, 0.65038557, 0.66761699, 0.68065359])}"
      ]
     },
     "execution_count": 27,
     "metadata": {},
     "output_type": "execute_result"
    }
   ],
   "source": [
    "cross_validate(ComplementNB(), norm_X_train1, y_train1, cv=5, scoring='accuracy', \n",
    "               groups=groups_train1, n_jobs=-1, return_train_score=True)"
   ]
  },
  {
   "cell_type": "code",
   "execution_count": 28,
   "id": "4cbca339",
   "metadata": {},
   "outputs": [
    {
     "name": "stdout",
     "output_type": "stream",
     "text": [
      "Accuracy: 0.7216900808854831\n",
      "Execution time: 0.04211091995239258\n"
     ]
    }
   ],
   "source": [
    "cnb = ComplementNB()\n",
    "start = time.time()\n",
    "cnb.fit(norm_X_train1, y_train1)\n",
    "accuracy = cnb.score(norm_X_test1, y_test1) # Baseline\n",
    "end = time.time()\n",
    "\n",
    "print(\"Accuracy: \" + str(accuracy))\n",
    "print(\"Execution time: \" + str(end-start))"
   ]
  },
  {
   "cell_type": "code",
   "execution_count": 29,
   "id": "aad786c3",
   "metadata": {},
   "outputs": [],
   "source": [
    "# Complement Naive Bayes performed better than Gaussian Naive Bayes - imbalanced classes.\n",
    "# Performed on normalized data. "
   ]
  },
  {
   "cell_type": "markdown",
   "id": "a25d7f90",
   "metadata": {},
   "source": [
    "##### Hyperparameter Tuning"
   ]
  },
  {
   "cell_type": "code",
   "execution_count": 36,
   "id": "70b8e5ef",
   "metadata": {},
   "outputs": [
    {
     "data": {
      "text/plain": [
       "{'alpha': 1,\n",
       " 'class_prior': [0.0002, 5e-05],\n",
       " 'fit_prior': True,\n",
       " 'force_alpha': True,\n",
       " 'norm': False}"
      ]
     },
     "execution_count": 36,
     "metadata": {},
     "output_type": "execute_result"
    }
   ],
   "source": [
    "param_grid = dict()\n",
    "param_grid['alpha'] = [0.5,1,20,40,80,150,200,3.5]\n",
    "param_grid['fit_prior'] = [True, False]\n",
    "param_grid['class_prior'] = [[0.0002,0.00005], [2,0.5], [0.0002,3e-05], [0.0001,5e-05], [0.0003,5e-05], [5,100], [200,6]]\n",
    "param_grid['force_alpha'] = [True, False]\n",
    "param_grid['norm'] = [True, False]\n",
    "\n",
    "start = time.time()\n",
    "grd1 = GridSearchCV(ComplementNB(), param_grid, scoring='accuracy', n_jobs=-1, cv=5) # 5-fold stratified cv\n",
    "grd1.fit(norm_X_train1, y_train1)\n",
    "end = time.time()\n",
    "\n",
    "grd1.best_params_"
   ]
  },
  {
   "cell_type": "code",
   "execution_count": 37,
   "id": "b648f0fa",
   "metadata": {},
   "outputs": [
    {
     "name": "stdout",
     "output_type": "stream",
     "text": [
      "Hyperparameter tuning computation time: 66.78118896484375\n"
     ]
    }
   ],
   "source": [
    "print(\"Hyperparameter tuning computation time: \" + str(end-start))"
   ]
  },
  {
   "cell_type": "code",
   "execution_count": 38,
   "id": "542d4dc3",
   "metadata": {},
   "outputs": [
    {
     "data": {
      "text/plain": [
       "{'fit_time': array([0.13659978, 0.13539672, 0.13557982, 0.12603402, 0.14605284]),\n",
       " 'score_time': array([0.00726819, 0.00724125, 0.0067184 , 0.00848198, 0.00683808]),\n",
       " 'test_score': array([0.64854818, 0.72365116, 0.70957046, 0.62647576, 0.58507913]),\n",
       " 'train_score': array([0.6649502 , 0.64570905, 0.65038557, 0.66761699, 0.68065359])}"
      ]
     },
     "execution_count": 38,
     "metadata": {},
     "output_type": "execute_result"
    }
   ],
   "source": [
    "# Evaluation of the model\n",
    "cross_validate(grd1.best_estimator_, norm_X_train1, y_train1, cv=5, scoring='accuracy', \n",
    "               groups=groups_train1, n_jobs=-1, return_train_score=True)"
   ]
  },
  {
   "cell_type": "code",
   "execution_count": 39,
   "id": "1b4d337f",
   "metadata": {},
   "outputs": [
    {
     "name": "stdout",
     "output_type": "stream",
     "text": [
      "Accuracy: 0.7216900808854831\n",
      "Execution time: 0.04015994071960449\n"
     ]
    }
   ],
   "source": [
    "cnb1 = grd1.best_estimator_\n",
    "start = time.time()\n",
    "cnb1.fit(norm_X_train1, y_train1)\n",
    "accuracy = cnb1.score(norm_X_test1, y_test1)\n",
    "end = time.time()\n",
    "\n",
    "print(\"Accuracy: \" + str(accuracy))\n",
    "print(\"Execution time: \" + str(end-start))"
   ]
  },
  {
   "cell_type": "markdown",
   "id": "d72ce0e5",
   "metadata": {},
   "source": [
    "### Random Forest"
   ]
  },
  {
   "cell_type": "code",
   "execution_count": 80,
   "id": "7102024d",
   "metadata": {},
   "outputs": [
    {
     "data": {
      "text/plain": [
       "{'fit_time': array([107.09902382, 106.05213499, 105.04999495, 107.48309302,\n",
       "        104.37404609]),\n",
       " 'score_time': array([0.46719813, 0.45621419, 0.5083859 , 0.43837714, 0.5047369 ]),\n",
       " 'test_score': array([0.72576108, 0.67673063, 0.73921125, 0.51147953, 0.55367998]),\n",
       " 'train_score': array([0.99998744, 1.        , 0.99996232, 1.        , 1.        ])}"
      ]
     },
     "execution_count": 80,
     "metadata": {},
     "output_type": "execute_result"
    }
   ],
   "source": [
    "cross_validate(RandomForestClassifier(), X_train1, y_train1, cv=5, scoring='accuracy', \n",
    "               groups=groups_train1, n_jobs=-1, return_train_score=True)"
   ]
  },
  {
   "cell_type": "code",
   "execution_count": 81,
   "id": "450eba14",
   "metadata": {},
   "outputs": [
    {
     "name": "stdout",
     "output_type": "stream",
     "text": [
      "Accuracy: 0.7498226195544203\n",
      "Execution time: 93.39486885070801\n"
     ]
    }
   ],
   "source": [
    "rf = RandomForestClassifier()\n",
    "start = time.time()\n",
    "rf.fit(X_train1, y_train1)\n",
    "accuracy = rf.score(X_test1, y_test1) # Baseline\n",
    "end = time.time()\n",
    "\n",
    "print(\"Accuracy: \" + str(accuracy))\n",
    "print(\"Execution time: \" + str(end-start))"
   ]
  },
  {
   "cell_type": "code",
   "execution_count": 82,
   "id": "a4cd13cb",
   "metadata": {},
   "outputs": [
    {
     "data": {
      "text/plain": [
       "{'fit_time': array([ 99.5681951 ,  98.48381019,  97.45472383, 100.13930488,\n",
       "         97.31703901]),\n",
       " 'score_time': array([0.36277509, 0.37811804, 0.42634606, 0.35823798, 0.40750813]),\n",
       " 'test_score': array([0.72279715, 0.67607756, 0.73991459, 0.51529766, 0.55393117]),\n",
       " 'train_score': array([1.        , 1.        , 1.        , 0.99998744, 1.        ])}"
      ]
     },
     "execution_count": 82,
     "metadata": {},
     "output_type": "execute_result"
    }
   ],
   "source": [
    "cross_validate(RandomForestClassifier(), norm_X_train1, y_train1, cv=5, scoring='accuracy', \n",
    "               groups=groups_train1, n_jobs=-1, return_train_score=True)"
   ]
  },
  {
   "cell_type": "code",
   "execution_count": 83,
   "id": "cb6673c3",
   "metadata": {},
   "outputs": [
    {
     "name": "stdout",
     "output_type": "stream",
     "text": [
      "Accuracy: 0.7509578544061303\n",
      "Execution time: 87.86864614486694\n"
     ]
    }
   ],
   "source": [
    "rf = RandomForestClassifier()\n",
    "start = time.time()\n",
    "rf.fit(norm_X_train1, y_train1)\n",
    "accuracy = rf.score(norm_X_test1, y_test1) # Normalized\n",
    "end = time.time()\n",
    "\n",
    "print(\"Accuracy: \" + str(accuracy))\n",
    "print(\"Execution time: \" + str(end-start))"
   ]
  },
  {
   "cell_type": "code",
   "execution_count": 84,
   "id": "5b1758d9",
   "metadata": {
    "scrolled": true
   },
   "outputs": [
    {
     "data": {
      "text/plain": [
       "{'fit_time': array([103.83275795, 103.57556987, 102.31069493, 104.53675914,\n",
       "        102.23872828]),\n",
       " 'score_time': array([0.44932413, 0.40018415, 0.41155696, 0.35911489, 0.39585686]),\n",
       " 'test_score': array([0.7255099 , 0.67246056, 0.74061794, 0.51223311, 0.55106757]),\n",
       " 'train_score': array([0.99997488, 1.        , 0.99998744, 1.        , 1.        ])}"
      ]
     },
     "execution_count": 84,
     "metadata": {},
     "output_type": "execute_result"
    }
   ],
   "source": [
    "cross_validate(RandomForestClassifier(), stand_X_train1, y_train1, cv=5, scoring='accuracy', \n",
    "               groups=groups_train1, n_jobs=-1, return_train_score=True)"
   ]
  },
  {
   "cell_type": "code",
   "execution_count": 85,
   "id": "54126aa3",
   "metadata": {},
   "outputs": [
    {
     "name": "stdout",
     "output_type": "stream",
     "text": [
      "Accuracy: 0.7469490563360295\n",
      "Execution time: 91.57699084281921\n"
     ]
    }
   ],
   "source": [
    "rf = RandomForestClassifier()\n",
    "start = time.time()\n",
    "rf.fit(stand_X_train1, y_train1)\n",
    "accuracy = rf.score(stand_X_test1, y_test1) # Standardized\n",
    "end = time.time()\n",
    "\n",
    "print(\"Accuracy: \" + str(accuracy))\n",
    "print(\"Execution time: \" + str(end-start))"
   ]
  },
  {
   "cell_type": "code",
   "execution_count": 86,
   "id": "d6cf726b",
   "metadata": {},
   "outputs": [],
   "source": [
    "# Normalized data performed the best for RF. \n",
    "# RF performed better than NB. "
   ]
  },
  {
   "cell_type": "code",
   "execution_count": 87,
   "id": "95b17589",
   "metadata": {},
   "outputs": [
    {
     "data": {
      "text/plain": [
       "{'bootstrap': True,\n",
       " 'ccp_alpha': 0.0,\n",
       " 'class_weight': None,\n",
       " 'criterion': 'gini',\n",
       " 'max_depth': None,\n",
       " 'max_features': 'sqrt',\n",
       " 'max_leaf_nodes': None,\n",
       " 'max_samples': None,\n",
       " 'min_impurity_decrease': 0.0,\n",
       " 'min_samples_leaf': 1,\n",
       " 'min_samples_split': 2,\n",
       " 'min_weight_fraction_leaf': 0.0,\n",
       " 'n_estimators': 100,\n",
       " 'n_jobs': None,\n",
       " 'oob_score': False,\n",
       " 'random_state': None,\n",
       " 'verbose': 0,\n",
       " 'warm_start': False}"
      ]
     },
     "execution_count": 87,
     "metadata": {},
     "output_type": "execute_result"
    }
   ],
   "source": [
    "rf.get_params()"
   ]
  },
  {
   "cell_type": "markdown",
   "id": "f8014674",
   "metadata": {},
   "source": [
    "##### Hyperparameter Tuning"
   ]
  },
  {
   "cell_type": "code",
   "execution_count": 88,
   "id": "794fb17b",
   "metadata": {},
   "outputs": [
    {
     "data": {
      "text/plain": [
       "{'criterion': 'gini'}"
      ]
     },
     "execution_count": 88,
     "metadata": {},
     "output_type": "execute_result"
    }
   ],
   "source": [
    "param_grid = dict()\n",
    "#param_grid['n_estimators'] = [100,300] # 50\n",
    "param_grid['criterion'] = ['gini']\n",
    "#param_grid['max_depth'] = [2]\n",
    "#param_grid['min_samples_split'] = [10]\n",
    "#param_grid['min_samples_leaf'] = [10] # 60\n",
    "#param_grid['min_weight_fraction_leaf'] = [0.0, 2.0, 5.0]\n",
    "#param_grid['max_features'] = ['sqrt']\n",
    "#param_grid['max_leaf_nodes'] = [2, 5, 10]\n",
    "#param_grid['min_impurity_decrease'] = [0.0, 2.0, 5.0]\n",
    "#param_grid['bootstrap'] = [True]\n",
    "#param_grid['oob_score'] = [True, False]\n",
    "#param_grid['n_jobs'] = [-1]\n",
    "#param_grid['random_state'] = [2]\n",
    "#param_grid['verbose'] = [0, 2, 5]\n",
    "#param_grid['warm_start'] = [True, False]\n",
    "#param_grid['class_weight'] = ['balanced_subsample']\n",
    "#param_grid['ccp_alpha'] = [0.0, 2.0]\n",
    "#param_grid['max_samples'] = [100, 10]\n",
    "\n",
    "start = time.time()\n",
    "grd1 = GridSearchCV(RandomForestClassifier(), param_grid, scoring='accuracy', n_jobs=-1, cv=5) # 5-fold stratified cv\n",
    "grd1.fit(norm_X_train1, y_train1)\n",
    "end = time.time()\n",
    "\n",
    "grd1.best_params_"
   ]
  },
  {
   "cell_type": "code",
   "execution_count": 89,
   "id": "9737db43",
   "metadata": {},
   "outputs": [
    {
     "name": "stdout",
     "output_type": "stream",
     "text": [
      "Hyperparameter tuning computation time: 186.4253740310669\n"
     ]
    }
   ],
   "source": [
    "print(\"Hyperparameter tuning computation time: \" + str(end-start))"
   ]
  },
  {
   "cell_type": "code",
   "execution_count": 90,
   "id": "3f4dfca0",
   "metadata": {},
   "outputs": [
    {
     "data": {
      "text/plain": [
       "{'fit_time': array([99.17639613, 99.04450011, 97.53999925, 99.74211287, 97.50116014]),\n",
       " 'score_time': array([0.42306805, 0.38948393, 0.41991568, 0.37026215, 0.39077806]),\n",
       " 'test_score': array([0.72561037, 0.67657993, 0.74117056, 0.51574981, 0.55262497]),\n",
       " 'train_score': array([1.        , 1.        , 1.        , 0.99998744, 0.99998744])}"
      ]
     },
     "execution_count": 90,
     "metadata": {},
     "output_type": "execute_result"
    }
   ],
   "source": [
    "# Evaluation of the model\n",
    "cross_validate(grd1.best_estimator_, norm_X_train1, y_train1, cv=5, scoring='accuracy', \n",
    "               groups=groups_train1, n_jobs=-1, return_train_score=True)"
   ]
  },
  {
   "cell_type": "code",
   "execution_count": 91,
   "id": "f8fe9c26",
   "metadata": {},
   "outputs": [
    {
     "name": "stdout",
     "output_type": "stream",
     "text": [
      "Accuracy: 0.7529090393075067\n",
      "Execution time: 91.93777394294739\n"
     ]
    }
   ],
   "source": [
    "rf1 = grd1.best_estimator_\n",
    "start = time.time()\n",
    "rf1.fit(norm_X_train1, y_train1)\n",
    "accuracy = rf1.score(norm_X_test1, y_test1) # Threshold\n",
    "end = time.time()\n",
    "\n",
    "print(\"Accuracy: \" + str(accuracy))\n",
    "print(\"Execution time: \" + str(end-start))"
   ]
  },
  {
   "cell_type": "markdown",
   "id": "5bf020ce",
   "metadata": {},
   "source": [
    "## Introduce the third class"
   ]
  },
  {
   "cell_type": "code",
   "execution_count": 60,
   "id": "f2078f2f",
   "metadata": {},
   "outputs": [],
   "source": [
    "Xy2 = pd.concat([Xy_S7074, Xy_S7072, Xy_S7071, Xy_S7070, Xy_S7069, Xy_S7068, Xy_S7064], axis=0)\n",
    "Xy2 = Xy2.loc[(Xy2['brainstate'] != 4)].reset_index() # disregard seizure and rem\n",
    "\n",
    "groups_train2 = Xy2.animal\n",
    "y_train2 = Xy2.brainstate.astype('int')\n",
    "X_train2 = Xy2.loc[:, ~Xy2.columns.isin(['animal', 'brainstate', 'index'])]"
   ]
  },
  {
   "cell_type": "code",
   "execution_count": 61,
   "id": "6541e62c",
   "metadata": {},
   "outputs": [],
   "source": [
    "Xy_test2 = pd.concat([Xy_S7075, Xy_S7063], axis=0)\n",
    "\n",
    "Xy_test2 = Xy_test2.loc[(Xy_test2['brainstate'] != 4)].reset_index() # disregard seizure and rem\n",
    "\n",
    "groups_test2 = Xy_test2.animal\n",
    "y_test2 = Xy_test2.brainstate.astype('int')\n",
    "X_test2 = Xy_test2.loc[:, ~Xy_test2.columns.isin(['animal', 'brainstate', 'index'])]"
   ]
  },
  {
   "cell_type": "markdown",
   "id": "a3a51806",
   "metadata": {},
   "source": [
    "### Naive Bayes\n",
    "#### GAUSSIAN NAIVE BAYES"
   ]
  },
  {
   "cell_type": "code",
   "execution_count": 98,
   "id": "00fa9898",
   "metadata": {},
   "outputs": [
    {
     "data": {
      "text/plain": [
       "{'fit_time': array([0.36107612, 0.39730096, 0.37806106, 0.37634206, 0.39597416]),\n",
       " 'score_time': array([0.06243777, 0.06963825, 0.07039571, 0.07010198, 0.07677913]),\n",
       " 'test_score': array([0.49547293, 0.45537735, 0.44338487, 0.06029957, 0.45557   ]),\n",
       " 'train_score': array([0.45659346, 0.46083826, 0.46317412, 0.08081586, 0.46060949])}"
      ]
     },
     "execution_count": 98,
     "metadata": {},
     "output_type": "execute_result"
    }
   ],
   "source": [
    "cross_validate(GaussianNB(), X_train2, y_train2, cv=5, scoring='accuracy', \n",
    "               groups=groups_train2, n_jobs=-1, return_train_score=True)"
   ]
  },
  {
   "cell_type": "code",
   "execution_count": 99,
   "id": "bbf27258",
   "metadata": {},
   "outputs": [
    {
     "name": "stdout",
     "output_type": "stream",
     "text": [
      "Accuracy: 0.41902639698320193\n",
      "Execution time: 0.22166824340820312\n"
     ]
    }
   ],
   "source": [
    "gnb = GaussianNB()\n",
    "start = time.time()\n",
    "gnb.fit(X_train2, y_train2)\n",
    "accuracy = gnb.score(X_test2, y_test2) # Baseline\n",
    "end = time.time()\n",
    "\n",
    "print(\"Accuracy: \" + str(accuracy))\n",
    "print(\"Execution time: \" + str(end-start))"
   ]
  },
  {
   "cell_type": "code",
   "execution_count": 100,
   "id": "15da4c73",
   "metadata": {},
   "outputs": [
    {
     "data": {
      "text/plain": [
       "{'fit_time': array([0.30441427, 0.31134987, 0.30617189, 0.30030704, 0.30872703]),\n",
       " 'score_time': array([0.0588398 , 0.06336498, 0.05948806, 0.06621218, 0.07234979]),\n",
       " 'test_score': array([0.45964169, 0.39753408, 0.25386505, 0.07421856, 0.30949285]),\n",
       " 'train_score': array([0.43976063, 0.31886867, 0.27168194, 0.0979495 , 0.35279882])}"
      ]
     },
     "execution_count": 100,
     "metadata": {},
     "output_type": "execute_result"
    }
   ],
   "source": [
    "# Standardize data mean=0 and stdev=1\n",
    "stand_scaler = StandardScaler()\n",
    "stand_X_train2 = stand_scaler.fit_transform(X_train2)\n",
    "stand_X_test2 = stand_scaler.transform(X_test2)\n",
    "\n",
    "cross_validate(GaussianNB(), stand_X_train2, y_train2, cv=5, scoring='accuracy', \n",
    "               groups=groups_train2, n_jobs=-1, return_train_score=True)"
   ]
  },
  {
   "cell_type": "code",
   "execution_count": 101,
   "id": "700d79dc",
   "metadata": {},
   "outputs": [
    {
     "name": "stdout",
     "output_type": "stream",
     "text": [
      "Accuracy: 0.2561878642440864\n",
      "Execution time: 0.20078611373901367\n"
     ]
    }
   ],
   "source": [
    "gnb = GaussianNB()\n",
    "start = time.time()\n",
    "gnb.fit(stand_X_train2, y_train2)\n",
    "accuracy = gnb.score(stand_X_test2, y_test2) # Standardized\n",
    "end = time.time()\n",
    "\n",
    "print(\"Accuracy: \" + str(accuracy))\n",
    "print(\"Execution time: \" + str(end-start))"
   ]
  },
  {
   "cell_type": "code",
   "execution_count": 102,
   "id": "41542b5d",
   "metadata": {},
   "outputs": [
    {
     "data": {
      "text/plain": [
       "{'fit_time': array([0.32070518, 0.3190701 , 0.30817413, 0.29593086, 0.30538607]),\n",
       " 'score_time': array([0.06180596, 0.06336308, 0.05611277, 0.06588316, 0.08282995]),\n",
       " 'test_score': array([0.45964169, 0.39753408, 0.25386505, 0.07421856, 0.30949285]),\n",
       " 'train_score': array([0.43976063, 0.31886867, 0.27168194, 0.0979495 , 0.35279882])}"
      ]
     },
     "execution_count": 102,
     "metadata": {},
     "output_type": "execute_result"
    }
   ],
   "source": [
    "# Normalize data between 0 and 1\n",
    "norm_scaler = MinMaxScaler()\n",
    "norm_X_train2 = norm_scaler.fit_transform(X_train2)\n",
    "norm_X_test2 = norm_scaler.transform(X_test2)\n",
    "\n",
    "cross_validate(GaussianNB(), norm_X_train2, y_train2, cv=5, scoring='accuracy', \n",
    "               groups=groups_train2, n_jobs=-1, return_train_score=True)"
   ]
  },
  {
   "cell_type": "code",
   "execution_count": 103,
   "id": "b6d57d12",
   "metadata": {},
   "outputs": [
    {
     "name": "stdout",
     "output_type": "stream",
     "text": [
      "Accuracy: 0.2561878642440864\n",
      "Execution time: 0.21883702278137207\n"
     ]
    }
   ],
   "source": [
    "gnb = GaussianNB()\n",
    "start = time.time()\n",
    "gnb.fit(norm_X_train2, y_train2)\n",
    "accuracy = gnb.score(norm_X_test2, y_test2) # Normalized\n",
    "end = time.time()\n",
    "\n",
    "print(\"Accuracy: \" + str(accuracy))\n",
    "print(\"Execution time: \" + str(end-start))"
   ]
  },
  {
   "cell_type": "code",
   "execution_count": 104,
   "id": "568323f9",
   "metadata": {},
   "outputs": [],
   "source": [
    "# Standardized and normalized data performed the same, worse than the baseline. "
   ]
  },
  {
   "cell_type": "markdown",
   "id": "d1d14172",
   "metadata": {},
   "source": [
    "#### COMPLEMENT NAIVE BAYES"
   ]
  },
  {
   "cell_type": "code",
   "execution_count": 105,
   "id": "b76ff149",
   "metadata": {},
   "outputs": [
    {
     "data": {
      "text/plain": [
       "{'fit_time': array([0.13237095, 0.13785195, 0.13810086, 0.14293599, 0.14416695]),\n",
       " 'score_time': array([0.00925684, 0.00910902, 0.00809312, 0.00787401, 0.00770307]),\n",
       " 'test_score': array([0.62189366, 0.69407118, 0.68000771, 0.60116553, 0.56066079]),\n",
       " 'train_score': array([0.63757646, 0.61905049, 0.62339711, 0.64042238, 0.65272778])}"
      ]
     },
     "execution_count": 105,
     "metadata": {},
     "output_type": "execute_result"
    }
   ],
   "source": [
    "cross_validate(ComplementNB(), norm_X_train2, y_train2, cv=5, scoring='accuracy', \n",
    "               groups=groups_train2, n_jobs=-1, return_train_score=True)"
   ]
  },
  {
   "cell_type": "code",
   "execution_count": 106,
   "id": "729d157a",
   "metadata": {},
   "outputs": [
    {
     "name": "stdout",
     "output_type": "stream",
     "text": [
      "Accuracy: 0.6974974288652726\n",
      "Execution time: 0.03778696060180664\n"
     ]
    }
   ],
   "source": [
    "cnb = ComplementNB()\n",
    "start = time.time()\n",
    "cnb.fit(norm_X_train2, y_train2)\n",
    "accuracy = cnb.score(norm_X_test2, y_test2) # Baseline\n",
    "end = time.time()\n",
    "\n",
    "print(\"Accuracy: \" + str(accuracy))\n",
    "print(\"Execution time: \" + str(end-start))"
   ]
  },
  {
   "cell_type": "code",
   "execution_count": 107,
   "id": "9e44667d",
   "metadata": {},
   "outputs": [],
   "source": [
    "# Complement NB performes better than Gaussian NB. "
   ]
  },
  {
   "cell_type": "markdown",
   "id": "2594b17d",
   "metadata": {},
   "source": [
    "##### Hyperparameter Tuning"
   ]
  },
  {
   "cell_type": "code",
   "execution_count": 116,
   "id": "223e9443",
   "metadata": {},
   "outputs": [
    {
     "data": {
      "text/plain": [
       "{'alpha': 2e-08,\n",
       " 'class_prior': [0.0002, 5e-05, 0.0003],\n",
       " 'fit_prior': True,\n",
       " 'norm': False}"
      ]
     },
     "execution_count": 116,
     "metadata": {},
     "output_type": "execute_result"
    }
   ],
   "source": [
    "param_grid = dict()\n",
    "param_grid['alpha'] = [2e-08, 10, 300, 6e-07, 5e-08, 0.0001, 0.003] # 4e-08,\n",
    "param_grid['fit_prior'] = [True, False]\n",
    "param_grid['class_prior'] = [[0.0002,0.00005,0.0003], [3,60,1000], [400,7,0.3], [0.0001,0.0001, 0.1]]\n",
    "param_grid['norm'] = [True, False]\n",
    "\n",
    "start = time.time()\n",
    "grd2 = GridSearchCV(ComplementNB(), param_grid, scoring='accuracy', n_jobs=-1, cv=5) # 5-fold stratified cv\n",
    "grd2.fit(norm_X_train2, y_train2)\n",
    "end = time.time()\n",
    "\n",
    "grd2.best_params_"
   ]
  },
  {
   "cell_type": "code",
   "execution_count": 117,
   "id": "ef81c604",
   "metadata": {},
   "outputs": [
    {
     "name": "stdout",
     "output_type": "stream",
     "text": [
      "Hyperparameter tuning computation time: 19.730098962783813\n"
     ]
    }
   ],
   "source": [
    "print(\"Hyperparameter tuning computation time: \" + str(end-start))"
   ]
  },
  {
   "cell_type": "code",
   "execution_count": 118,
   "id": "43fec676",
   "metadata": {},
   "outputs": [
    {
     "data": {
      "text/plain": [
       "{'fit_time': array([0.14176273, 0.13957596, 0.13967109, 0.136971  , 0.13876104]),\n",
       " 'score_time': array([0.00792909, 0.00823998, 0.00875592, 0.00921774, 0.00676298]),\n",
       " 'test_score': array([0.62189366, 0.69407118, 0.68000771, 0.6012137 , 0.56066079]),\n",
       " 'train_score': array([0.63761258, 0.61905049, 0.62339711, 0.64042238, 0.65271574])}"
      ]
     },
     "execution_count": 118,
     "metadata": {},
     "output_type": "execute_result"
    }
   ],
   "source": [
    "# Evaluation of the model\n",
    "cross_validate(grd2.best_estimator_, norm_X_train2, y_train2, cv=5, scoring='accuracy', \n",
    "               groups=groups_train2, n_jobs=-1, return_train_score=True)"
   ]
  },
  {
   "cell_type": "code",
   "execution_count": 119,
   "id": "273c37a5",
   "metadata": {},
   "outputs": [
    {
     "name": "stdout",
     "output_type": "stream",
     "text": [
      "Accuracy: 0.6980802194034967\n",
      "Execution time: 0.03743624687194824\n"
     ]
    }
   ],
   "source": [
    "cnb2 = grd2.best_estimator_\n",
    "start = time.time()\n",
    "cnb2.fit(norm_X_train2, y_train2)\n",
    "accuracy = cnb1.score(norm_X_test2, y_test2) # Threshold\n",
    "end = time.time()\n",
    "\n",
    "y_predNB = cnb2.predict(norm_X_test2)\n",
    "\n",
    "print(\"Accuracy: \" + str(accuracy))\n",
    "print(\"Execution time: \" + str(end-start))"
   ]
  },
  {
   "cell_type": "code",
   "execution_count": 181,
   "id": "6c4647fa",
   "metadata": {},
   "outputs": [],
   "source": [
    "# Accuracy decreased when third class is introduced. "
   ]
  },
  {
   "cell_type": "markdown",
   "id": "70c40013",
   "metadata": {},
   "source": [
    "### Random Forest"
   ]
  },
  {
   "cell_type": "code",
   "execution_count": 121,
   "id": "139a3d3f",
   "metadata": {},
   "outputs": [
    {
     "data": {
      "text/plain": [
       "{'fit_time': array([118.83366203, 119.74277592, 118.61124992, 119.88830614,\n",
       "        117.72663116]),\n",
       " 'score_time': array([0.58189702, 0.51709604, 0.54440117, 0.64506483, 0.53805685]),\n",
       " 'test_score': array([0.6944712 , 0.64706449, 0.71010933, 0.4903434 , 0.53171507]),\n",
       " 'train_score': array([1.        , 1.        , 0.99998796, 1.        , 0.99997592])}"
      ]
     },
     "execution_count": 121,
     "metadata": {},
     "output_type": "execute_result"
    }
   ],
   "source": [
    "cross_validate(RandomForestClassifier(), X_train2, y_train2, cv=5, scoring='accuracy', \n",
    "               groups=groups_train2, n_jobs=-1, return_train_score=True)"
   ]
  },
  {
   "cell_type": "code",
   "execution_count": 122,
   "id": "9bdfdfdd",
   "metadata": {},
   "outputs": [
    {
     "name": "stdout",
     "output_type": "stream",
     "text": [
      "Accuracy: 0.7217689406924923\n",
      "Execution time: 101.45846724510193\n"
     ]
    }
   ],
   "source": [
    "rf = RandomForestClassifier()\n",
    "start = time.time()\n",
    "rf.fit(X_train2, y_train2)\n",
    "accuracy = rf.score(X_test2, y_test2) # Baseline\n",
    "end = time.time()\n",
    "\n",
    "print(\"Accuracy: \" + str(accuracy))\n",
    "print(\"Execution time: \" + str(end-start))"
   ]
  },
  {
   "cell_type": "code",
   "execution_count": 123,
   "id": "c8f5aff7",
   "metadata": {},
   "outputs": [
    {
     "data": {
      "text/plain": [
       "{'fit_time': array([107.04054189, 106.33948278, 105.97594905, 107.76916981,\n",
       "        104.8183701 ]),\n",
       " 'score_time': array([0.46717906, 0.4463439 , 0.48152614, 0.43819404, 0.46652007]),\n",
       " 'test_score': array([0.6949528 , 0.64706449, 0.71165053, 0.49308867, 0.5321967 ]),\n",
       " 'train_score': array([0.99998796, 1.        , 0.99997592, 1.        , 0.99998796])}"
      ]
     },
     "execution_count": 123,
     "metadata": {},
     "output_type": "execute_result"
    }
   ],
   "source": [
    "cross_validate(RandomForestClassifier(), norm_X_train2, y_train2, cv=5, scoring='accuracy', \n",
    "               groups=groups_train2, n_jobs=-1, return_train_score=True)"
   ]
  },
  {
   "cell_type": "code",
   "execution_count": 124,
   "id": "871ff6b2",
   "metadata": {},
   "outputs": [
    {
     "name": "stdout",
     "output_type": "stream",
     "text": [
      "Accuracy: 0.7268083647583133\n",
      "Execution time: 95.44208478927612\n"
     ]
    }
   ],
   "source": [
    "rf = RandomForestClassifier()\n",
    "start = time.time()\n",
    "rf.fit(norm_X_train2, y_train2)\n",
    "accuracy = rf.score(norm_X_test2, y_test2) # Normalized\n",
    "end = time.time()\n",
    "\n",
    "print(\"Accuracy: \" + str(accuracy))\n",
    "print(\"Execution time: \" + str(end-start))"
   ]
  },
  {
   "cell_type": "code",
   "execution_count": 125,
   "id": "994e0614",
   "metadata": {},
   "outputs": [
    {
     "data": {
      "text/plain": [
       "{'fit_time': array([113.11899805, 113.25637913, 112.12860107, 114.98968387,\n",
       "        113.12700391]),\n",
       " 'score_time': array([0.47229958, 0.46568513, 0.47158885, 0.42908406, 0.46159005]),\n",
       " 'test_score': array([0.69687921, 0.64879834, 0.70914608, 0.49255888, 0.53108896]),\n",
       " 'train_score': array([1.        , 1.        , 0.99998796, 0.99998796, 1.        ])}"
      ]
     },
     "execution_count": 125,
     "metadata": {},
     "output_type": "execute_result"
    }
   ],
   "source": [
    "cross_validate(RandomForestClassifier(), stand_X_train2, y_train2, cv=5, scoring='accuracy', \n",
    "               groups=groups_train2, n_jobs=-1, return_train_score=True)"
   ]
  },
  {
   "cell_type": "code",
   "execution_count": 126,
   "id": "58608424",
   "metadata": {},
   "outputs": [
    {
     "name": "stdout",
     "output_type": "stream",
     "text": [
      "Accuracy: 0.7232430579362359\n",
      "Execution time: 101.17884683609009\n"
     ]
    }
   ],
   "source": [
    "rf = RandomForestClassifier()\n",
    "start = time.time()\n",
    "rf.fit(stand_X_train2, y_train2)\n",
    "accuracy = rf.score(stand_X_test2, y_test2) # Standardized\n",
    "end = time.time()\n",
    "\n",
    "print(\"Accuracy: \" + str(accuracy))\n",
    "print(\"Execution time: \" + str(end-start))"
   ]
  },
  {
   "cell_type": "code",
   "execution_count": 127,
   "id": "f171f3ec",
   "metadata": {},
   "outputs": [],
   "source": [
    "# Normalized data performs best. "
   ]
  },
  {
   "cell_type": "code",
   "execution_count": 128,
   "id": "30a30930",
   "metadata": {},
   "outputs": [
    {
     "data": {
      "text/plain": [
       "{'bootstrap': True,\n",
       " 'ccp_alpha': 0.0,\n",
       " 'class_weight': None,\n",
       " 'criterion': 'gini',\n",
       " 'max_depth': None,\n",
       " 'max_features': 'sqrt',\n",
       " 'max_leaf_nodes': None,\n",
       " 'max_samples': None,\n",
       " 'min_impurity_decrease': 0.0,\n",
       " 'min_samples_leaf': 1,\n",
       " 'min_samples_split': 2,\n",
       " 'min_weight_fraction_leaf': 0.0,\n",
       " 'n_estimators': 100,\n",
       " 'n_jobs': None,\n",
       " 'oob_score': False,\n",
       " 'random_state': None,\n",
       " 'verbose': 0,\n",
       " 'warm_start': False}"
      ]
     },
     "execution_count": 128,
     "metadata": {},
     "output_type": "execute_result"
    }
   ],
   "source": [
    "rf.get_params()"
   ]
  },
  {
   "cell_type": "markdown",
   "id": "80818713",
   "metadata": {},
   "source": [
    "##### Hyperparameter Tuning"
   ]
  },
  {
   "cell_type": "code",
   "execution_count": 133,
   "id": "14e435f5",
   "metadata": {},
   "outputs": [
    {
     "data": {
      "text/plain": [
       "{'class_weight': 'balanced_subsample',\n",
       " 'min_samples_split': 5,\n",
       " 'n_estimators': 500}"
      ]
     },
     "execution_count": 133,
     "metadata": {},
     "output_type": "execute_result"
    }
   ],
   "source": [
    "param_grid = dict()\n",
    "param_grid['n_estimators'] = [500, 100] # 1000  \n",
    "#param_grid['criterion'] = ['gini']\n",
    "#param_grid['max_depth'] = [20]\n",
    "param_grid['min_samples_split'] = [2, 5]\n",
    "#param_grid['min_samples_leaf'] = [50]\n",
    "#param_grid['min_weight_fraction_leaf'] = [0.0, 2.0, 5.0]\n",
    "#param_grid['max_features'] = ['sqrt']\n",
    "#param_grid['max_leaf_nodes'] = [2, 5, 10]\n",
    "#param_grid['min_impurity_decrease'] = [0.0, 2.0, 5.0]\n",
    "#param_grid['bootstrap'] = [True, False]\n",
    "#param_grid['oob_score'] = [True, False]\n",
    "#param_grid['n_jobs'] = [-1]\n",
    "#param_grid['random_state'] = [2]\n",
    "#param_grid['verbose'] = [0, 2, 5]\n",
    "#param_grid['warm_start'] = [True, False]\n",
    "param_grid['class_weight'] = ['balanced_subsample'] #[{0: 0.75, 1: 1.2, 2: 2.5}, {0: 5, 1: 0.03, 2: 100}]\n",
    "#param_grid['ccp_alpha'] = [0.0, 2.0]\n",
    "#param_grid['max_samples'] = [100, 10]\n",
    "\n",
    "start = time.time()\n",
    "grd2 = GridSearchCV(RandomForestClassifier(), param_grid, scoring='accuracy', n_jobs=-1, cv=5) # 5-fold stratified cv\n",
    "grd2.fit(norm_X_train2, y_train2)\n",
    "end = time.time()\n",
    "\n",
    "grd2.best_params_"
   ]
  },
  {
   "cell_type": "code",
   "execution_count": 134,
   "id": "d5f4a068",
   "metadata": {},
   "outputs": [
    {
     "name": "stdout",
     "output_type": "stream",
     "text": [
      "Hyperparameter tuning computation time: 1672.2195811271667\n"
     ]
    }
   ],
   "source": [
    "print(\"Hyperparameter tuning computation time: \" + str(end-start))"
   ]
  },
  {
   "cell_type": "code",
   "execution_count": 135,
   "id": "39464071",
   "metadata": {},
   "outputs": [
    {
     "data": {
      "text/plain": [
       "{'fit_time': array([530.31180501, 536.93219995, 536.90793705, 529.69696903,\n",
       "        527.22294307]),\n",
       " 'score_time': array([2.34034395, 2.23001695, 2.3489368 , 2.39035392, 2.38537598]),\n",
       " 'test_score': array([0.69789058, 0.66334345, 0.72104224, 0.51490632, 0.53320811]),\n",
       " 'train_score': array([0.99986755, 0.99996388, 0.99996388, 0.99989164, 0.9999398 ])}"
      ]
     },
     "execution_count": 135,
     "metadata": {},
     "output_type": "execute_result"
    }
   ],
   "source": [
    "# Evaluation of the model\n",
    "cross_validate(grd2.best_estimator_, norm_X_train2, y_train2, cv=5, scoring='accuracy', \n",
    "               groups=groups_train2, n_jobs=-1, return_train_score=True)"
   ]
  },
  {
   "cell_type": "code",
   "execution_count": 136,
   "id": "01712d4a",
   "metadata": {},
   "outputs": [
    {
     "name": "stdout",
     "output_type": "stream",
     "text": [
      "Accuracy: 0.7338361330133699\n",
      "Execution time: 470.0773627758026\n"
     ]
    }
   ],
   "source": [
    "rf2 = grd2.best_estimator_\n",
    "start = time.time()\n",
    "rf2.fit(norm_X_train2, y_train2)\n",
    "accuracy = rf2.score(norm_X_test2, y_test2) # Threshold\n",
    "end = time.time()\n",
    "\n",
    "y_predRF = rf2.predict(norm_X_test2)\n",
    "\n",
    "print(\"Accuracy: \" + str(accuracy))\n",
    "print(\"Execution time: \" + str(end-start))"
   ]
  },
  {
   "cell_type": "code",
   "execution_count": 182,
   "id": "ffe25407",
   "metadata": {},
   "outputs": [],
   "source": [
    "# Accuracy decreased when third class is introduced. "
   ]
  },
  {
   "cell_type": "markdown",
   "id": "8ad50e0c",
   "metadata": {},
   "source": [
    "#### RF Confusion Matrix"
   ]
  },
  {
   "cell_type": "code",
   "execution_count": 137,
   "id": "ef0183a5",
   "metadata": {},
   "outputs": [
    {
     "data": {
      "image/png": "[encoded data removed]",
      "text/plain": [
       "<Figure size 432x288 with 2 Axes>"
      ]
     },
     "metadata": {
      "needs_background": "light"
     },
     "output_type": "display_data"
    }
   ],
   "source": [
    "cm = metrics.confusion_matrix(y_test2, y_predRF)\n",
    "cm_display = metrics.ConfusionMatrixDisplay(confusion_matrix = cm, display_labels = ['0','1','2'])\n",
    "cm_display.plot()\n",
    "plt.show()"
   ]
  },
  {
   "cell_type": "code",
   "execution_count": 138,
   "id": "d6f7c773",
   "metadata": {},
   "outputs": [
    {
     "name": "stdout",
     "output_type": "stream",
     "text": [
      "              precision    recall  f1-score   support\n",
      "\n",
      "           0       0.77      0.81      0.79     16799\n",
      "           1       0.68      0.69      0.68     11389\n",
      "           2       0.00      0.00      0.00       982\n",
      "\n",
      "    accuracy                           0.73     29170\n",
      "   macro avg       0.48      0.50      0.49     29170\n",
      "weighted avg       0.71      0.73      0.72     29170\n",
      "\n"
     ]
    }
   ],
   "source": [
    "print(classification_report(y_test2, y_predRF, target_names=['0', '1', '2']))"
   ]
  },
  {
   "cell_type": "code",
   "execution_count": 139,
   "id": "b3986ae3",
   "metadata": {},
   "outputs": [
    {
     "data": {
      "text/plain": [
       "(0.4829561085236105, 0.49896433434519033, 0.49081207057807924, None)"
      ]
     },
     "execution_count": 139,
     "metadata": {},
     "output_type": "execute_result"
    }
   ],
   "source": [
    "precision_recall_fscore_support(y_test2, y_predRF, average='macro')"
   ]
  },
  {
   "cell_type": "code",
   "execution_count": 140,
   "id": "241a63b7",
   "metadata": {},
   "outputs": [
    {
     "data": {
      "text/plain": [
       "(0.7338361330133699, 0.7338361330133699, 0.7338361330133698, None)"
      ]
     },
     "execution_count": 140,
     "metadata": {},
     "output_type": "execute_result"
    }
   ],
   "source": [
    "precision_recall_fscore_support(y_test2, y_predRF, average='micro')"
   ]
  },
  {
   "cell_type": "code",
   "execution_count": 141,
   "id": "6246fdaf",
   "metadata": {},
   "outputs": [
    {
     "data": {
      "text/plain": [
       "(0.7086844887109928, 0.7338361330133699, 0.7210167133791386, None)"
      ]
     },
     "execution_count": 141,
     "metadata": {},
     "output_type": "execute_result"
    }
   ],
   "source": [
    "precision_recall_fscore_support(y_test2, y_predRF, average='weighted')"
   ]
  },
  {
   "cell_type": "code",
   "execution_count": 142,
   "id": "fb749819",
   "metadata": {},
   "outputs": [
    {
     "data": {
      "text/plain": [
       "(array([0.7710102 , 0.67785813, 0.        ]),\n",
       " array([0.80552414, 0.69136886, 0.        ]),\n",
       " array([0.78788937, 0.68454684, 0.        ]),\n",
       " array([16799, 11389,   982]))"
      ]
     },
     "execution_count": 142,
     "metadata": {},
     "output_type": "execute_result"
    }
   ],
   "source": [
    "precision_recall_fscore_support(y_test2, y_predRF, average=None, labels=[0,1,2]) # for each class "
   ]
  },
  {
   "cell_type": "code",
   "execution_count": 143,
   "id": "fe702846",
   "metadata": {},
   "outputs": [
    {
     "name": "stderr",
     "output_type": "stream",
     "text": [
      "/var/folders/3n/6bmtx14d2m39gg0wnxmz4h500000gn/T/ipykernel_5439/3650387924.py:23: RuntimeWarning: invalid value encountered in double_scalars\n",
      "  d[label]['F1'] = (2*d[label]['Precision']*d[label]['Recall'])/(d[label]['Precision']+d[label]['Recall'])\n"
     ]
    },
    {
     "data": {
      "text/plain": [
       "{'0': {'TP': 13532,\n",
       "  'TN': 8352,\n",
       "  'FP': 4019,\n",
       "  'FN': 3267,\n",
       "  'Accuracy': 0.7502228316763798,\n",
       "  'Recall': 0.805524138341568,\n",
       "  'Precision': 0.7710101988490684,\n",
       "  'F1': 0.7878893740902474,\n",
       "  'Specificity': 0.6751273138792336},\n",
       " '1': {'TP': 7874,\n",
       "  'TN': 14039,\n",
       "  'FP': 3742,\n",
       "  'FN': 3515,\n",
       "  'Accuracy': 0.7512170037709976,\n",
       "  'Recall': 0.6913688646940029,\n",
       "  'Precision': 0.677858126721763,\n",
       "  'F1': 0.6845468376439904,\n",
       "  'Specificity': 0.7895506439457848},\n",
       " '2': {'TP': 0,\n",
       "  'TN': 28185,\n",
       "  'FP': 3,\n",
       "  'FN': 982,\n",
       "  'Accuracy': 0.9662324305793624,\n",
       "  'Recall': 0.0,\n",
       "  'Precision': 0.0,\n",
       "  'F1': nan,\n",
       "  'Specificity': 0.9998935717326521}}"
      ]
     },
     "execution_count": 143,
     "metadata": {},
     "output_type": "execute_result"
    }
   ],
   "source": [
    "mcm = multilabel_confusion_matrix(y_test2, y_predRF)\n",
    "\n",
    "tn = mcm[:, 0, 0]\n",
    "tp = mcm[:, 1, 1]\n",
    "fn = mcm[:, 1, 0]\n",
    "fp = mcm[:, 0, 1]\n",
    "recall = tp / (tp + fn) # true positive rate or sensitivity\n",
    "specificity = tn / (tn + fp) # ture negative rate\n",
    "fallout = fp / (fp + tn) # false positive rate\n",
    "missrate = fn / (fn + tp) #false negative rate\n",
    "\n",
    "d = {}\n",
    "for label in ['0', '1', '2']:\n",
    "    i = int(label)\n",
    "    d[label] = dict()\n",
    "    d[label]['TP'] = tp[i]\n",
    "    d[label]['TN'] = tn[i]\n",
    "    d[label]['FP'] = fp[i]\n",
    "    d[label]['FN'] = fn[i]\n",
    "    d[label]['Accuracy'] = (tp[i]+tn[i])/(tp[i]+tn[i]+fn[i]+fp[i]) # TP+TN / TP+TN+FP+FN\n",
    "    d[label]['Recall'] = tp[i]/(tp[i]+fn[i]) # TP / TP+FN\n",
    "    d[label]['Precision'] = tp[i]/(tp[i]+fp[i]) # TP / TP+FP\n",
    "    d[label]['F1'] = (2*d[label]['Precision']*d[label]['Recall'])/(d[label]['Precision']+d[label]['Recall'])\n",
    "    d[label]['Specificity'] = tn[i]/(tn[i]+fp[i]) # TN / TN+FP\n",
    "    #d[label]['Fallout'] = fp[i]/(fp[i]+tn[i]) # FP /FP+TN\n",
    "    #d[label]['Missrate'] = fn[i]/(fn[i]+tp[i]) # FN / FN+TP\n",
    "d"
   ]
  },
  {
   "cell_type": "code",
   "execution_count": 167,
   "id": "5801926c",
   "metadata": {},
   "outputs": [],
   "source": [
    "# Class 2 is not being classified!"
   ]
  },
  {
   "cell_type": "markdown",
   "id": "2c430c56",
   "metadata": {},
   "source": [
    "## Oversampling and Undersampling"
   ]
  },
  {
   "cell_type": "code",
   "execution_count": 144,
   "id": "783398fe",
   "metadata": {},
   "outputs": [],
   "source": [
    "from imblearn.over_sampling import SMOTE\n",
    "from imblearn.under_sampling import RandomUnderSampler\n",
    "from imblearn.pipeline import Pipeline\n",
    "from collections import Counter\n",
    "from imblearn.over_sampling import RandomOverSampler"
   ]
  },
  {
   "cell_type": "code",
   "execution_count": 145,
   "id": "1408076d",
   "metadata": {},
   "outputs": [
    {
     "data": {
      "text/plain": [
       "Counter({0: 55476, 1: 44051, 2: 4289})"
      ]
     },
     "execution_count": 145,
     "metadata": {},
     "output_type": "execute_result"
    }
   ],
   "source": [
    "counter = Counter(y_train2)\n",
    "counter"
   ]
  },
  {
   "cell_type": "code",
   "execution_count": 146,
   "id": "985e3bec",
   "metadata": {},
   "outputs": [
    {
     "name": "stdout",
     "output_type": "stream",
     "text": [
      "Class 0: 53% of X_train2\n",
      "Class 1: 42% of X_train2\n",
      "Class 2: 4% of X_train2\n"
     ]
    }
   ],
   "source": [
    "print(\"Class 0: \" + str(round(100*counter.get(0)/(counter.get(0)+counter.get(1)+counter.get(2))))+\"% of X_train2\")\n",
    "print(\"Class 1: \" + str(round(100*counter.get(1)/(counter.get(0)+counter.get(1)+counter.get(2))))+\"% of X_train2\")\n",
    "print(\"Class 2: \" + str(round(100*counter.get(2)/(counter.get(0)+counter.get(1)+counter.get(2))))+\"% of X_train2\")"
   ]
  },
  {
   "cell_type": "code",
   "execution_count": 147,
   "id": "24730ed7",
   "metadata": {},
   "outputs": [],
   "source": [
    "# Current class distribution (0,1,2)\n",
    "# 0 : 53% of the data (/3)\n",
    "# 1 : 42% of the data (/2)\n",
    "# 2 : 4% of the data (*4)\n",
    "\n",
    "# Oversampling - overfit\n",
    "# Undersampling - information loss"
   ]
  },
  {
   "cell_type": "code",
   "execution_count": 150,
   "id": "e2ecba21",
   "metadata": {},
   "outputs": [
    {
     "data": {
      "text/plain": [
       "Counter({0: 22000, 1: 18000, 2: 8000})"
      ]
     },
     "execution_count": 150,
     "metadata": {},
     "output_type": "execute_result"
    }
   ],
   "source": [
    "over = SMOTE(sampling_strategy={0: 55476, 1: 44051, 2: 8000})\n",
    "under = RandomUnderSampler(sampling_strategy={0: 22000, 1: 18000, 2: 8000})\n",
    "\n",
    "sampler_pipeline = Pipeline([('o', over), ('u', under)])\n",
    "\n",
    "X_sampled, y_sampled = sampler_pipeline.fit_resample(X_train2, y_train2)\n",
    "\n",
    "counter = Counter(y_sampled)\n",
    "counter"
   ]
  },
  {
   "cell_type": "code",
   "execution_count": 151,
   "id": "f20f52c0",
   "metadata": {},
   "outputs": [
    {
     "name": "stdout",
     "output_type": "stream",
     "text": [
      "Class 0: 46% of X_train2\n",
      "Class 1: 38% of X_train2\n",
      "Class 2: 17% of X_train2\n"
     ]
    }
   ],
   "source": [
    "print(\"Class 0: \" + str(round(100*counter.get(0)/(counter.get(0)+counter.get(1)+counter.get(2))))+\"% of X_train2\")\n",
    "print(\"Class 1: \" + str(round(100*counter.get(1)/(counter.get(0)+counter.get(1)+counter.get(2))))+\"% of X_train2\")\n",
    "print(\"Class 2: \" + str(round(100*counter.get(2)/(counter.get(0)+counter.get(1)+counter.get(2))))+\"% of X_train2\")"
   ]
  },
  {
   "cell_type": "code",
   "execution_count": 152,
   "id": "75142680",
   "metadata": {},
   "outputs": [],
   "source": [
    "# Normalize the sampled data\n",
    "norm_scaler = MinMaxScaler()\n",
    "norm_X_sampled = norm_scaler.fit_transform(X_sampled)\n",
    "norm_X_test3 = norm_scaler.transform(X_test2)"
   ]
  },
  {
   "cell_type": "markdown",
   "id": "c757bd98",
   "metadata": {},
   "source": [
    "###### Complement Naive Bayes"
   ]
  },
  {
   "cell_type": "code",
   "execution_count": 157,
   "id": "8036c215",
   "metadata": {},
   "outputs": [
    {
     "data": {
      "text/plain": [
       "{'fit_time': array([0.05690789, 0.06158209, 0.05799603, 0.05321503, 0.05690074]),\n",
       " 'score_time': array([0.00402808, 0.00369906, 0.00412202, 0.003685  , 0.00507498]),\n",
       " 'test_score': array([0.55072917, 0.54614583, 0.544375  , 0.55302083, 0.54635417])}"
      ]
     },
     "execution_count": 157,
     "metadata": {},
     "output_type": "execute_result"
    }
   ],
   "source": [
    "# Hyperparameter tuned model\n",
    "cnb = ComplementNB(alpha=2e-08, class_prior=[0.0002, 5e-05, 0.0003], fit_prior=True, norm=False)\n",
    "\n",
    "# Performence evaluation\n",
    "cross_validate(cnb, norm_X_sampled, y_sampled, cv=5, scoring='accuracy', n_jobs=-1)"
   ]
  },
  {
   "cell_type": "code",
   "execution_count": 158,
   "id": "5640aac7",
   "metadata": {},
   "outputs": [
    {
     "name": "stdout",
     "output_type": "stream",
     "text": [
      "Accuracy: 0.6936235858758999\n",
      "Execution time: 0.028642892837524414\n"
     ]
    }
   ],
   "source": [
    "start = time.time()\n",
    "cnb.fit(norm_X_sampled, y_sampled)\n",
    "accuracy = cnb.score(norm_X_test3, y_test2) \n",
    "end = time.time()\n",
    "\n",
    "y_pred = cnb.predict(norm_X_test3)\n",
    "\n",
    "print(\"Accuracy: \" + str(accuracy))\n",
    "print(\"Execution time: \" + str(end-start))"
   ]
  },
  {
   "cell_type": "code",
   "execution_count": 159,
   "id": "ccf03f97",
   "metadata": {},
   "outputs": [],
   "source": [
    "# Accuracy reduced from 0.6980802194034967"
   ]
  },
  {
   "cell_type": "markdown",
   "id": "107077e6",
   "metadata": {},
   "source": [
    "###### Random Forest"
   ]
  },
  {
   "cell_type": "code",
   "execution_count": 160,
   "id": "128bdd3e",
   "metadata": {},
   "outputs": [
    {
     "data": {
      "text/plain": [
       "{'fit_time': array([250.45999694, 250.60255814, 250.93732309, 250.66841578,\n",
       "        251.26964784]),\n",
       " 'score_time': array([1.28877521, 1.24884391, 1.28550792, 1.29797602, 1.25007415]),\n",
       " 'test_score': array([0.688125  , 0.6865625 , 0.6903125 , 0.69479167, 0.69614583])}"
      ]
     },
     "execution_count": 160,
     "metadata": {},
     "output_type": "execute_result"
    }
   ],
   "source": [
    "# Hyperparameter tuned model\n",
    "rf = RandomForestClassifier(n_estimators=500, class_weight='balanced_subsample', min_samples_split=5)\n",
    "\n",
    "# Performence evaluation\n",
    "cross_validate(rf, norm_X_sampled, y_sampled, cv=5, scoring='accuracy', n_jobs=-1)"
   ]
  },
  {
   "cell_type": "code",
   "execution_count": 161,
   "id": "7b9cc871",
   "metadata": {},
   "outputs": [
    {
     "name": "stdout",
     "output_type": "stream",
     "text": [
      "Accuracy: 0.7281453548165924\n",
      "Execution time: 211.9399471282959\n"
     ]
    }
   ],
   "source": [
    "start = time.time()\n",
    "rf.fit(norm_X_sampled, y_sampled)\n",
    "accuracy = rf.score(norm_X_test3, y_test2) \n",
    "end = time.time()\n",
    "\n",
    "y_pred = rf.predict(norm_X_test3)\n",
    "\n",
    "print(\"Accuracy: \" + str(accuracy))\n",
    "print(\"Execution time: \" + str(end-start))"
   ]
  },
  {
   "cell_type": "code",
   "execution_count": 162,
   "id": "82181880",
   "metadata": {},
   "outputs": [],
   "source": [
    "# Accuracy reduced from 0.7338361330133699"
   ]
  },
  {
   "cell_type": "markdown",
   "id": "74f1dbf7",
   "metadata": {},
   "source": [
    "###### RF Confusion Matrix"
   ]
  },
  {
   "cell_type": "code",
   "execution_count": 163,
   "id": "99472e63",
   "metadata": {},
   "outputs": [
    {
     "data": {
      "image/png": "[encoded data removed]",
      "text/plain": [
       "<Figure size 432x288 with 2 Axes>"
      ]
     },
     "metadata": {
      "needs_background": "light"
     },
     "output_type": "display_data"
    }
   ],
   "source": [
    "cm = metrics.confusion_matrix(y_test2, y_pred)\n",
    "cm_display = metrics.ConfusionMatrixDisplay(confusion_matrix = cm, display_labels = ['0','1','2'])\n",
    "cm_display.plot()\n",
    "plt.show()"
   ]
  },
  {
   "cell_type": "code",
   "execution_count": 164,
   "id": "96cf01b5",
   "metadata": {},
   "outputs": [
    {
     "name": "stdout",
     "output_type": "stream",
     "text": [
      "              precision    recall  f1-score   support\n",
      "\n",
      "           0       0.79      0.78      0.78     16799\n",
      "           1       0.67      0.71      0.69     11389\n",
      "           2       0.07      0.03      0.05       982\n",
      "\n",
      "    accuracy                           0.73     29170\n",
      "   macro avg       0.51      0.51      0.51     29170\n",
      "weighted avg       0.72      0.73      0.72     29170\n",
      "\n"
     ]
    }
   ],
   "source": [
    "print(classification_report(y_test2, y_pred, target_names=['0', '1', '2']))"
   ]
  },
  {
   "cell_type": "code",
   "execution_count": 165,
   "id": "5282682e",
   "metadata": {},
   "outputs": [
    {
     "data": {
      "text/plain": [
       "(array([0.78504561, 0.67401509, 0.07036247]),\n",
       " array([0.78373713, 0.70603214, 0.03360489]),\n",
       " array([0.78439083, 0.68965221, 0.04548587]),\n",
       " array([16799, 11389,   982]))"
      ]
     },
     "execution_count": 165,
     "metadata": {},
     "output_type": "execute_result"
    }
   ],
   "source": [
    "precision_recall_fscore_support(y_test2, y_pred, average='macro')\n",
    "precision_recall_fscore_support(y_test2, y_pred, average='micro')\n",
    "precision_recall_fscore_support(y_test2, y_pred, average='weighted')\n",
    "precision_recall_fscore_support(y_test2, y_pred, average=None, labels=[0,1,2]) # for each class "
   ]
  },
  {
   "cell_type": "code",
   "execution_count": 166,
   "id": "629689af",
   "metadata": {},
   "outputs": [
    {
     "data": {
      "text/plain": [
       "{'0': {'TP': 13166,\n",
       "  'TN': 8766,\n",
       "  'FP': 3605,\n",
       "  'FN': 3633,\n",
       "  'Accuracy': 0.751868357901954,\n",
       "  'Recall': 0.7837371272099529,\n",
       "  'Precision': 0.785045614453521,\n",
       "  'F1': 0.7843908251414954,\n",
       "  'Specificity': 0.7085926764206613},\n",
       " '1': {'TP': 8041,\n",
       "  'TN': 13892,\n",
       "  'FP': 3889,\n",
       "  'FN': 3348,\n",
       "  'Accuracy': 0.7519026396983202,\n",
       "  'Recall': 0.7060321362718412,\n",
       "  'Precision': 0.6740150880134116,\n",
       "  'F1': 0.6896522149320297,\n",
       "  'Specificity': 0.7812833923851302},\n",
       " '2': {'TP': 33,\n",
       "  'TN': 27752,\n",
       "  'FP': 436,\n",
       "  'FN': 949,\n",
       "  'Accuracy': 0.9525197120329105,\n",
       "  'Recall': 0.03360488798370672,\n",
       "  'Precision': 0.07036247334754797,\n",
       "  'F1': 0.045485871812543065,\n",
       "  'Specificity': 0.9845324251454519}}"
      ]
     },
     "execution_count": 166,
     "metadata": {},
     "output_type": "execute_result"
    }
   ],
   "source": [
    "mcm = multilabel_confusion_matrix(y_test2, y_pred)\n",
    "\n",
    "tn = mcm[:, 0, 0]\n",
    "tp = mcm[:, 1, 1]\n",
    "fn = mcm[:, 1, 0]\n",
    "fp = mcm[:, 0, 1]\n",
    "recall = tp / (tp + fn) # true positive rate or sensitivity\n",
    "specificity = tn / (tn + fp) # ture negative rate\n",
    "fallout = fp / (fp + tn) # false positive rate\n",
    "missrate = fn / (fn + tp) #false negative rate\n",
    "\n",
    "d = {}\n",
    "for label in ['0', '1', '2']:\n",
    "    i = int(label)\n",
    "    d[label] = dict()\n",
    "    d[label]['TP'] = tp[i]\n",
    "    d[label]['TN'] = tn[i]\n",
    "    d[label]['FP'] = fp[i]\n",
    "    d[label]['FN'] = fn[i]\n",
    "    d[label]['Accuracy'] = (tp[i]+tn[i])/(tp[i]+tn[i]+fn[i]+fp[i]) # TP+TN / TP+TN+FP+FN\n",
    "    d[label]['Recall'] = tp[i]/(tp[i]+fn[i]) # TP / TP+FN\n",
    "    d[label]['Precision'] = tp[i]/(tp[i]+fp[i]) # TP / TP+FP\n",
    "    d[label]['F1'] = (2*d[label]['Precision']*d[label]['Recall'])/(d[label]['Precision']+d[label]['Recall'])\n",
    "    d[label]['Specificity'] = tn[i]/(tn[i]+fp[i]) # TN / TN+FP\n",
    "    #d[label]['Fallout'] = fp[i]/(fp[i]+tn[i]) # FP /FP+TN\n",
    "    #d[label]['Missrate'] = fn[i]/(fn[i]+tp[i]) # FN / FN+TP\n",
    "d"
   ]
  },
  {
   "cell_type": "code",
   "execution_count": 168,
   "id": "c04f6bd7",
   "metadata": {},
   "outputs": [],
   "source": [
    "# Before over/under sampling\n",
    "# 2': {'TP': 0,\n",
    "#  'TN': 28185,\n",
    "#  'FP': 3,\n",
    "#  'FN': 982,\n",
    "#  'Accuracy': 0.9662324305793624,\n",
    "#  'Recall': 0.0,\n",
    "#  'Precision': 0.0,\n",
    "#  'F1': nan,\n",
    "#  'Specificity': 0.9998935717326521}\n",
    "\n",
    "\n",
    "# TP and FP increased\n",
    "# TN and FN decreased\n",
    "# Accuracy and specificity decreased BUT recall, precision and F1 increased!\n",
    "\n",
    "# Class 2 is not being classified unles I resample the data!"
   ]
  },
  {
   "cell_type": "markdown",
   "id": "75e0e9c5",
   "metadata": {},
   "source": [
    "### TRYING SOME DIFFERENT METHODS  \n",
    "https://machinelearningmastery.com/bagging-and-random-forest-for-imbalanced-classification/  \n",
    "- Skewed class weights"
   ]
  },
  {
   "cell_type": "code",
   "execution_count": 169,
   "id": "96235e39",
   "metadata": {},
   "outputs": [
    {
     "data": {
      "text/plain": [
       "{'fit_time': array([264.88713598, 257.165241  , 261.11653399, 262.95937896,\n",
       "        263.11838412]),\n",
       " 'score_time': array([0.47808695, 0.60648108, 0.61972189, 0.58780217, 0.59787703]),\n",
       " 'test_score': array([0.67770833, 0.67989583, 0.67604167, 0.68583333, 0.6759375 ])}"
      ]
     },
     "execution_count": 169,
     "metadata": {},
     "output_type": "execute_result"
    }
   ],
   "source": [
    "rf = RandomForestClassifier(class_weight={0: 0.2, 1: 0.005, 2: 100})\n",
    "\n",
    "cross_validate(rf, norm_X_sampled, y_sampled, cv=5, scoring='accuracy', n_jobs=-1)"
   ]
  },
  {
   "cell_type": "code",
   "execution_count": 170,
   "id": "7e0c92a7",
   "metadata": {},
   "outputs": [
    {
     "name": "stdout",
     "output_type": "stream",
     "text": [
      "Accuracy: 0.7091532396297566\n"
     ]
    }
   ],
   "source": [
    "rf.fit(norm_X_sampled, y_sampled)\n",
    "accuracy = rf.score(norm_X_test3, y_test2) \n",
    "y_pred = rf.predict(norm_X_test3)\n",
    "\n",
    "print(\"Accuracy: \" + str(accuracy))"
   ]
  },
  {
   "cell_type": "code",
   "execution_count": 171,
   "id": "4b5876c5",
   "metadata": {},
   "outputs": [
    {
     "data": {
      "text/plain": [
       "(array([0.78458635, 0.64144582, 0.06525912]),\n",
       " array([0.74236562, 0.7183247 , 0.03462322]),\n",
       " array([0.76289227, 0.67771197, 0.04524285]),\n",
       " array([16799, 11389,   982]))"
      ]
     },
     "execution_count": 171,
     "metadata": {},
     "output_type": "execute_result"
    }
   ],
   "source": [
    "precision_recall_fscore_support(y_test2, y_pred, average=None, labels=[0,1,2]) # for each class "
   ]
  },
  {
   "cell_type": "markdown",
   "id": "3735bc6d",
   "metadata": {},
   "source": [
    "- Bagging classifier"
   ]
  },
  {
   "cell_type": "code",
   "execution_count": 172,
   "id": "1251d701",
   "metadata": {},
   "outputs": [
    {
     "data": {
      "text/plain": [
       "{'fit_time': array([25.98166299, 25.79211998, 25.45986223, 25.81897807, 25.45280814]),\n",
       " 'score_time': array([0.05502677, 0.05390906, 0.07305694, 0.05455089, 0.05644178]),\n",
       " 'test_score': array([0.63510417, 0.6365625 , 0.63458333, 0.63708333, 0.63208333])}"
      ]
     },
     "execution_count": 172,
     "metadata": {},
     "output_type": "execute_result"
    }
   ],
   "source": [
    "from imblearn.ensemble import BalancedBaggingClassifier\n",
    "\n",
    "model = BalancedBaggingClassifier()\n",
    "\n",
    "cross_validate(model, norm_X_sampled, y_sampled, cv=5, scoring='accuracy', n_jobs=-1)"
   ]
  },
  {
   "cell_type": "code",
   "execution_count": 173,
   "id": "d4443cf0",
   "metadata": {},
   "outputs": [
    {
     "name": "stdout",
     "output_type": "stream",
     "text": [
      "Accuracy: 0.5988001371271855\n"
     ]
    }
   ],
   "source": [
    "model.fit(norm_X_sampled, y_sampled)\n",
    "accuracy = model.score(norm_X_test3, y_test2) \n",
    "y_pred = model.predict(norm_X_test3)\n",
    "\n",
    "print(\"Accuracy: \" + str(accuracy))"
   ]
  },
  {
   "cell_type": "code",
   "execution_count": 174,
   "id": "620b7ddb",
   "metadata": {},
   "outputs": [
    {
     "data": {
      "text/plain": [
       "(array([0.7670294 , 0.60628431, 0.04627134]),\n",
       " array([0.64616941, 0.56247256, 0.20977597]),\n",
       " array([0.70143129, 0.58355728, 0.07581892]),\n",
       " array([16799, 11389,   982]))"
      ]
     },
     "execution_count": 174,
     "metadata": {},
     "output_type": "execute_result"
    }
   ],
   "source": [
    "precision_recall_fscore_support(y_test2, y_pred, average=None, labels=[0,1,2]) # for each class "
   ]
  },
  {
   "cell_type": "markdown",
   "id": "765baddb",
   "metadata": {},
   "source": [
    "- Balanced subsample on non-resampled data"
   ]
  },
  {
   "cell_type": "code",
   "execution_count": 175,
   "id": "ff7b4bf6",
   "metadata": {},
   "outputs": [
    {
     "data": {
      "text/plain": [
       "{'fit_time': array([48.8073411 , 48.60249901, 48.53266716, 48.9797411 , 48.51056385]),\n",
       " 'score_time': array([0.2307961 , 0.26708412, 0.26581573, 0.2291739 , 0.23217034]),\n",
       " 'test_score': array([0.68854167, 0.67947917, 0.6853125 , 0.6925    , 0.69510417])}"
      ]
     },
     "execution_count": 175,
     "metadata": {},
     "output_type": "execute_result"
    }
   ],
   "source": [
    "model = RandomForestClassifier(class_weight='balanced_subsample')\n",
    "\n",
    "cross_validate(model, norm_X_sampled, y_sampled, cv=5, scoring='accuracy', n_jobs=-1)"
   ]
  },
  {
   "cell_type": "code",
   "execution_count": 176,
   "id": "bf285e79",
   "metadata": {},
   "outputs": [
    {
     "name": "stdout",
     "output_type": "stream",
     "text": [
      "Accuracy: 0.7178265341103874\n"
     ]
    }
   ],
   "source": [
    "model.fit(norm_X_sampled, y_sampled)\n",
    "accuracy = model.score(norm_X_test3, y_test2) \n",
    "y_pred = model.predict(norm_X_test3)\n",
    "\n",
    "print(\"Accuracy: \" + str(accuracy))"
   ]
  },
  {
   "cell_type": "code",
   "execution_count": 177,
   "id": "bc055861",
   "metadata": {},
   "outputs": [
    {
     "data": {
      "text/plain": [
       "(array([0.76083012, 0.67383287, 0.07194245]),\n",
       " array([0.79873802, 0.65773992, 0.0305499 ]),\n",
       " array([0.77932336, 0.66568915, 0.04288778]),\n",
       " array([16799, 11389,   982]))"
      ]
     },
     "execution_count": 177,
     "metadata": {},
     "output_type": "execute_result"
    }
   ],
   "source": [
    "precision_recall_fscore_support(y_test2, y_pred, average=None, labels=[0,1,2]) # for each class "
   ]
  },
  {
   "cell_type": "markdown",
   "id": "daf1d436",
   "metadata": {},
   "source": [
    "- XGBoost"
   ]
  },
  {
   "cell_type": "code",
   "execution_count": 185,
   "id": "16ee9c1a",
   "metadata": {},
   "outputs": [
    {
     "data": {
      "text/plain": [
       "{'fit_time': array([189.25652814, 186.989995  , 187.10528398, 186.82296801,\n",
       "        187.59753275]),\n",
       " 'score_time': array([0.0704    , 0.08360505, 0.08218098, 0.10427403, 0.07761526]),\n",
       " 'test_score': array([0.6259375 , 0.6321875 , 0.63083333, 0.64041667, 0.62958333])}"
      ]
     },
     "execution_count": 185,
     "metadata": {},
     "output_type": "execute_result"
    }
   ],
   "source": [
    "import xgboost as xgb\n",
    "model = xgb.XGBRFClassifier()\n",
    "cross_validate(model, norm_X_sampled, y_sampled, cv=5, scoring='accuracy', n_jobs=-1)"
   ]
  },
  {
   "cell_type": "code",
   "execution_count": 186,
   "id": "47d395c3",
   "metadata": {},
   "outputs": [
    {
     "name": "stdout",
     "output_type": "stream",
     "text": [
      "Accuracy: 0.7004113815563936\n",
      "Execution time: 43.89132809638977\n"
     ]
    }
   ],
   "source": [
    "start = time.time()\n",
    "model.fit(norm_X_sampled, y_sampled)\n",
    "accuracy = model.score(norm_X_test3, y_test2) \n",
    "end = time.time()\n",
    "y_pred = model.predict(norm_X_test3)\n",
    "\n",
    "print(\"Accuracy: \" + str(accuracy))\n",
    "print(\"Execution time: \" + str(end-start))"
   ]
  },
  {
   "cell_type": "code",
   "execution_count": 187,
   "id": "58c8ce57",
   "metadata": {},
   "outputs": [
    {
     "data": {
      "text/plain": [
       "(array([0.79512421, 0.627638  , 0.054242  ]),\n",
       " array([0.71641169, 0.73377821, 0.03971487]),\n",
       " array([0.75371849, 0.6765706 , 0.04585538]),\n",
       " array([16799, 11389,   982]))"
      ]
     },
     "execution_count": 187,
     "metadata": {},
     "output_type": "execute_result"
    }
   ],
   "source": [
    "precision_recall_fscore_support(y_test2, y_pred, average=None, labels=[0,1,2]) # for each class "
   ]
  },
  {
   "cell_type": "code",
   "execution_count": 188,
   "id": "bb89372c",
   "metadata": {},
   "outputs": [],
   "source": [
    "# No significant improvement. "
   ]
  }
 ],
 "metadata": {
  "kernelspec": {
   "display_name": "Python 3 (ipykernel)",
   "language": "python",
   "name": "python3"
  },
  "language_info": {
   "codemirror_mode": {
    "name": "ipython",
    "version": 3
   },
   "file_extension": ".py",
   "mimetype": "text/x-python",
   "name": "python",
   "nbconvert_exporter": "python",
   "pygments_lexer": "ipython3",
   "version": "3.9.0"
  }
 },
 "nbformat": 4,
 "nbformat_minor": 5
}
