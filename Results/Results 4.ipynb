{
 "cells": [
  {
   "cell_type": "markdown",
   "id": "aaddecef",
   "metadata": {},
   "source": [
    "### Manual scoring results"
   ]
  },
  {
   "cell_type": "code",
   "execution_count": 1,
   "id": "a9831d4c",
   "metadata": {},
   "outputs": [],
   "source": [
    "from LoadData import LoadData\n",
    "from FilterBasic import Filter\n",
    "from FrequencyDomainFeatures import FrequencyDomainFeatures\n",
    "from TimeDomainFeatures import TimeDomainFeatures\n",
    "from FeaturesData import FeaturesData"
   ]
  },
  {
   "cell_type": "code",
   "execution_count": 2,
   "id": "9a443e4a",
   "metadata": {},
   "outputs": [],
   "source": [
    "import pandas as pd\n",
    "import numpy as np\n",
    "from sklearn.naive_bayes import GaussianNB\n",
    "from sklearn.preprocessing import StandardScaler \n",
    "from sklearn.preprocessing import MinMaxScaler \n",
    "from sklearn.naive_bayes import ComplementNB\n",
    "from sklearn.model_selection import GridSearchCV\n",
    "from sklearn.ensemble import RandomForestClassifier\n",
    "import time\n",
    "from sklearn.model_selection import cross_validate\n",
    "from sklearn.model_selection import cross_val_score\n",
    "from sklearn.metrics import balanced_accuracy_score\n",
    "from sklearn.metrics import roc_auc_score\n",
    "from sklearn import metrics\n",
    "import matplotlib.pyplot as plt\n",
    "from sklearn.metrics import precision_recall_fscore_support\n",
    "from sklearn.metrics import multilabel_confusion_matrix\n",
    "from sklearn.metrics import classification_report"
   ]
  },
  {
   "cell_type": "markdown",
   "id": "088c4744",
   "metadata": {},
   "source": [
    "- relativePower = True\n",
    "- removeNoise = True\n",
    "- applyPCA = True\n",
    "\n",
    "Train/Validation animals = ['S7074', 'S7072', 'S7071', 'S7070', 'S7069', 'S7068', 'S7064']  \n",
    "Baseline 1"
   ]
  },
  {
   "cell_type": "code",
   "execution_count": 3,
   "id": "564d283c",
   "metadata": {},
   "outputs": [],
   "source": [
    "directory = \"/Volumes/Macintosh HD/Users/gokceuzun/Desktop/4. SENE/Honors Project\"\n",
    "filename = \"S7074_WT.npy\"\n",
    "data = LoadData(directory=directory, filename=filename, start=35862289, end=57496848)\n",
    "unfiltered_data = data.get_dat()\n",
    "unfiltered_data = data.slice_data(unfiltered_data)\n",
    "\n",
    "fltr_instance = Filter(unfiltered_data, channels=[3,12,5,9,4,11,1])\n",
    "\n",
    "features = FeaturesData(\n",
    "    fltr_instance,\n",
    "    relativePower=True,\n",
    "    removeNoise=True,\n",
    "    applyPCA=True,\n",
    "    brainstatefile=\"S7074_BL1.npy\")\n",
    "\n",
    "animal = ['S7074' for i in range(len(features))]\n",
    "features['animal'] = animal\n",
    "\n",
    "Xy_S7074 = features"
   ]
  },
  {
   "cell_type": "code",
   "execution_count": 4,
   "id": "8a336f80",
   "metadata": {},
   "outputs": [],
   "source": [
    "directory = \"/Volumes/Macintosh HD/Users/gokceuzun/Desktop/4. SENE/Honors Project\"\n",
    "filename = \"S7072_GAP.npy\"\n",
    "data = LoadData(directory=directory, filename=filename, start=16481329, end=38115888)\n",
    "unfiltered_data = data.get_dat()\n",
    "unfiltered_data = data.slice_data(unfiltered_data)\n",
    "\n",
    "fltr_instance = Filter(unfiltered_data, channels=[3,12,5,9,4,11,1])\n",
    "\n",
    "features = FeaturesData(\n",
    "    fltr_instance,\n",
    "    relativePower=True,\n",
    "    removeNoise=True,\n",
    "    applyPCA=True,\n",
    "    brainstatefile=\"S7072_BL1.npy\")\n",
    "\n",
    "animal = ['S7072' for i in range(len(features))]\n",
    "features['animal'] = animal\n",
    "\n",
    "Xy_S7072 = features"
   ]
  },
  {
   "cell_type": "code",
   "execution_count": 5,
   "id": "f5350659",
   "metadata": {},
   "outputs": [],
   "source": [
    "directory = \"/Volumes/Macintosh HD/Users/gokceuzun/Desktop/4. SENE/Honors Project\"\n",
    "filename = \"S7071_WT.npy\"\n",
    "data = LoadData(directory=directory, filename=filename, start=16481329, end=38115888)\n",
    "unfiltered_data = data.get_dat()\n",
    "unfiltered_data = data.slice_data(unfiltered_data)\n",
    "\n",
    "fltr_instance = Filter(unfiltered_data, channels=[3,12,5,9,4,11,1])\n",
    "\n",
    "features = FeaturesData(\n",
    "    fltr_instance,\n",
    "    relativePower=True,\n",
    "    removeNoise=True,\n",
    "    applyPCA=True,\n",
    "    brainstatefile=\"S7071_BL1.npy\")\n",
    "\n",
    "animal = ['S7071' for i in range(len(features))]\n",
    "features['animal'] = animal\n",
    "\n",
    "Xy_S7071 = features"
   ]
  },
  {
   "cell_type": "code",
   "execution_count": 6,
   "id": "f400a448",
   "metadata": {},
   "outputs": [],
   "source": [
    "filename = \"S7064_GAP.npy\"\n",
    "data = LoadData(directory=directory, filename=filename, start=15324481, end=36959040)\n",
    "unfiltered_data = data.get_dat()\n",
    "unfiltered_data = data.slice_data(unfiltered_data)\n",
    "\n",
    "fltr_instance = Filter(unfiltered_data, channels=[3,12,5,9,4,11,1])\n",
    "\n",
    "features = FeaturesData(\n",
    "    fltr_instance,\n",
    "    relativePower=True,\n",
    "    removeNoise=True,\n",
    "    applyPCA=True,\n",
    "    brainstatefile=\"S7064_BL1.npy\")\n",
    "\n",
    "animal = ['S7064' for i in range(len(features))]\n",
    "features['animal'] = animal\n",
    "\n",
    "Xy_S7064 = features"
   ]
  },
  {
   "cell_type": "code",
   "execution_count": 7,
   "id": "42c5eea2",
   "metadata": {},
   "outputs": [],
   "source": [
    "filename = \"S7069_GAP.npy\"\n",
    "data = LoadData(directory=directory, filename=filename, start=12214513, end=33849072)\n",
    "unfiltered_data = data.get_dat()\n",
    "unfiltered_data = data.slice_data(unfiltered_data)\n",
    "\n",
    "fltr_instance = Filter(unfiltered_data, channels=[3,12,5,9,4,11,1])\n",
    "\n",
    "features = FeaturesData(\n",
    "    fltr_instance,\n",
    "    relativePower=True,\n",
    "    removeNoise=True,\n",
    "    applyPCA=True,\n",
    "    brainstatefile=\"S7069_BL1.npy\")\n",
    "\n",
    "animal = ['S7069' for i in range(len(features))]\n",
    "features['animal'] = animal\n",
    "\n",
    "Xy_S7069 = features"
   ]
  },
  {
   "cell_type": "code",
   "execution_count": 8,
   "id": "28d391e9",
   "metadata": {},
   "outputs": [],
   "source": [
    "filename = \"S7068_WT.npy\"\n",
    "data = LoadData(directory=directory, filename=filename, start=12214513, end=33849072)\n",
    "unfiltered_data = data.get_dat()\n",
    "unfiltered_data = data.slice_data(unfiltered_data)\n",
    "\n",
    "fltr_instance = Filter(unfiltered_data, channels=[3,12,5,9,4,11,1])\n",
    "\n",
    "features = FeaturesData(\n",
    "    fltr_instance,\n",
    "    relativePower=True,\n",
    "    removeNoise=True,\n",
    "    applyPCA=True,\n",
    "    brainstatefile=\"S7068_BL1.npy\")\n",
    "\n",
    "animal = ['S7068' for i in range(len(features))]\n",
    "features['animal'] = animal\n",
    "\n",
    "Xy_S7068 = features"
   ]
  },
  {
   "cell_type": "code",
   "execution_count": 9,
   "id": "6b283b46",
   "metadata": {},
   "outputs": [],
   "source": [
    "filename = \"S7070_WT.npy\"\n",
    "data = LoadData(directory=directory, filename=filename, start=16481329, end=38115888)\n",
    "unfiltered_data = data.get_dat()\n",
    "unfiltered_data = data.slice_data(unfiltered_data)\n",
    "\n",
    "fltr_instance = Filter(unfiltered_data, channels=[3,12,5,9,4,11,1])\n",
    "\n",
    "features = FeaturesData(\n",
    "    fltr_instance,\n",
    "    relativePower=True,\n",
    "    removeNoise=True,\n",
    "    applyPCA=True,\n",
    "    brainstatefile=\"S7070_BL1.npy\")\n",
    "\n",
    "animal = ['S7070' for i in range(len(features))]\n",
    "features['animal'] = animal\n",
    "\n",
    "Xy_S7070 = features"
   ]
  },
  {
   "cell_type": "markdown",
   "id": "747272b1",
   "metadata": {},
   "source": [
    "Test = ['S7075', 'S7063']"
   ]
  },
  {
   "cell_type": "code",
   "execution_count": 10,
   "id": "41a986cf",
   "metadata": {},
   "outputs": [],
   "source": [
    "directory = \"/Volumes/Macintosh HD/Users/gokceuzun/Desktop/4. SENE/Honors Project\"\n",
    "filename = \"S7075_GAP.npy\"\n",
    "data = LoadData(directory=directory, filename=filename, start=14227729, end=35862288)\n",
    "unfiltered_data = data.get_dat()\n",
    "unfiltered_data = data.slice_data(unfiltered_data)\n",
    "\n",
    "fltr_instance = Filter(unfiltered_data, channels=[3,12,5,9,4,11,1])\n",
    "\n",
    "features = FeaturesData(\n",
    "    fltr_instance,\n",
    "    relativePower=True,\n",
    "    removeNoise=True,\n",
    "    applyPCA=True,\n",
    "    brainstatefile=\"S7075_BL1.npy\")\n",
    "\n",
    "animal = ['S7075' for i in range(len(features))]\n",
    "features['animal'] = animal\n",
    "\n",
    "Xy_S7075 = features"
   ]
  },
  {
   "cell_type": "code",
   "execution_count": 11,
   "id": "db0a9124",
   "metadata": {},
   "outputs": [],
   "source": [
    "directory = \"/Volumes/Macintosh HD/Users/gokceuzun/Desktop/4. SENE/Honors Project\"\n",
    "filename = \"S7063_GAP.npy\"\n",
    "data = LoadData(directory=directory, filename=filename, start=15324481, end=36959040)\n",
    "unfiltered_data = data.get_dat()\n",
    "unfiltered_data = data.slice_data(unfiltered_data)\n",
    "\n",
    "fltr_instance = Filter(unfiltered_data, channels=[3,12,5,9,4,11,1])\n",
    "\n",
    "features = FeaturesData(\n",
    "    fltr_instance,\n",
    "    relativePower=True,\n",
    "    removeNoise=True,\n",
    "    applyPCA=True,\n",
    "    brainstatefile=\"S7063_BL1.npy\")\n",
    "\n",
    "animal = ['S7063' for i in range(len(features))]\n",
    "features['animal'] = animal\n",
    "\n",
    "Xy_S7063 = features"
   ]
  },
  {
   "cell_type": "markdown",
   "id": "64afa37e",
   "metadata": {},
   "source": [
    "## First two classes"
   ]
  },
  {
   "cell_type": "code",
   "execution_count": 12,
   "id": "11f73c12",
   "metadata": {},
   "outputs": [],
   "source": [
    "Xy1 = pd.concat([Xy_S7074, Xy_S7072, Xy_S7071, Xy_S7070, Xy_S7069, Xy_S7068, Xy_S7064], axis=0)\n",
    "Xy1 = Xy1.loc[(Xy1['brainstate'] != 2) & (Xy1['brainstate'] != 4)].reset_index() # disregard seizure and rem\n",
    "\n",
    "groups_train1 = Xy1.animal\n",
    "y_train1 = Xy1.brainstate.astype('int')\n",
    "X_train1 = Xy1.loc[:, ~Xy1.columns.isin(['animal', 'brainstate', 'index'])]"
   ]
  },
  {
   "cell_type": "code",
   "execution_count": 13,
   "id": "b1524dbf",
   "metadata": {},
   "outputs": [],
   "source": [
    "Xy_test1 = pd.concat([Xy_S7075, Xy_S7063], axis=0)\n",
    "\n",
    "Xy_test1 = Xy_test1.loc[(Xy_test1['brainstate'] != 4) & (Xy_test1['brainstate'] != 2)].reset_index() # disregard seizure and rem\n",
    "\n",
    "groups_test1 = Xy_test1.animal\n",
    "y_test1 = Xy_test1.brainstate.astype('int')\n",
    "X_test1 = Xy_test1.loc[:, ~Xy_test1.columns.isin(['animal', 'brainstate', 'index'])]"
   ]
  },
  {
   "cell_type": "markdown",
   "id": "d2d10782",
   "metadata": {},
   "source": [
    "### Naive Bayes\n",
    "#### GAUSSIAN NAIVE BAYES"
   ]
  },
  {
   "cell_type": "code",
   "execution_count": 14,
   "id": "1bb0f422",
   "metadata": {},
   "outputs": [
    {
     "data": {
      "text/plain": [
       "{'fit_time': array([0.04646397, 0.05125189, 0.04920602, 0.05743504, 0.05277801]),\n",
       " 'score_time': array([0.00802922, 0.00834799, 0.01137996, 0.00917411, 0.01206827]),\n",
       " 'test_score': array([0.57173716, 0.62724807, 0.55483547, 0.54790254, 0.49771414]),\n",
       " 'train_score': array([0.58978159, 0.58384095, 0.59589058, 0.60583758, 0.6174173 ])}"
      ]
     },
     "execution_count": 14,
     "metadata": {},
     "output_type": "execute_result"
    }
   ],
   "source": [
    "cross_validate(GaussianNB(), X_train1, y_train1, cv=5, scoring='accuracy', \n",
    "               groups=groups_train1, n_jobs=-1, return_train_score=True)"
   ]
  },
  {
   "cell_type": "code",
   "execution_count": 15,
   "id": "caa2549f",
   "metadata": {},
   "outputs": [
    {
     "name": "stdout",
     "output_type": "stream",
     "text": [
      "Accuracy: 0.5751383567475522\n",
      "Execution time: 0.05258893966674805\n"
     ]
    }
   ],
   "source": [
    "gnb = GaussianNB()\n",
    "start = time.time()\n",
    "gnb.fit(X_train1, y_train1)\n",
    "accuracy = gnb.score(X_test1, y_test1) # Baseline\n",
    "end = time.time()\n",
    "\n",
    "print(\"Accuracy: \" + str(accuracy))\n",
    "print(\"Execution time: \" + str(end-start))"
   ]
  },
  {
   "cell_type": "code",
   "execution_count": 16,
   "id": "f89e7445",
   "metadata": {},
   "outputs": [
    {
     "data": {
      "text/plain": [
       "{'fit_time': array([0.05279016, 0.04496384, 0.04433274, 0.0439322 , 0.047436  ]),\n",
       " 'score_time': array([0.00896788, 0.00929403, 0.00926828, 0.00922489, 0.01019907]),\n",
       " 'test_score': array([0.57173716, 0.62724807, 0.55483547, 0.54790254, 0.49771414]),\n",
       " 'train_score': array([0.58978159, 0.58384095, 0.59589058, 0.60583758, 0.6174173 ])}"
      ]
     },
     "execution_count": 16,
     "metadata": {},
     "output_type": "execute_result"
    }
   ],
   "source": [
    "# Standardize data mean=0 and stdev=1\n",
    "stand_scaler = StandardScaler()\n",
    "stand_X_train1 = stand_scaler.fit_transform(X_train1)\n",
    "stand_X_test1 = stand_scaler.transform(X_test1)\n",
    "\n",
    "cross_validate(GaussianNB(), stand_X_train1, y_train1, cv=5, scoring='accuracy', \n",
    "               groups=groups_train1, n_jobs=-1, return_train_score=True)"
   ]
  },
  {
   "cell_type": "code",
   "execution_count": 17,
   "id": "7da26cb0",
   "metadata": {},
   "outputs": [
    {
     "name": "stdout",
     "output_type": "stream",
     "text": [
      "Accuracy: 0.5751383567475522\n",
      "Execution time: 0.05446600914001465\n"
     ]
    }
   ],
   "source": [
    "gnb = GaussianNB()\n",
    "start = time.time()\n",
    "gnb.fit(stand_X_train1, y_train1)\n",
    "accuracy = gnb.score(stand_X_test1, y_test1) # Standardized\n",
    "end = time.time()\n",
    "\n",
    "print(\"Accuracy: \" + str(accuracy))\n",
    "print(\"Execution time: \" + str(end-start))"
   ]
  },
  {
   "cell_type": "code",
   "execution_count": 18,
   "id": "a8c0f8c7",
   "metadata": {},
   "outputs": [
    {
     "data": {
      "text/plain": [
       "{'fit_time': array([0.04018712, 0.057796  , 0.07470322, 0.09310102, 0.09149981]),\n",
       " 'score_time': array([0.00865602, 0.01492524, 0.01845503, 0.01224089, 0.0139823 ]),\n",
       " 'test_score': array([0.57173716, 0.62724807, 0.55483547, 0.54790254, 0.49771414]),\n",
       " 'train_score': array([0.58978159, 0.58384095, 0.59589058, 0.60583758, 0.6174173 ])}"
      ]
     },
     "execution_count": 18,
     "metadata": {},
     "output_type": "execute_result"
    }
   ],
   "source": [
    "# Normalize data between 0 and 1\n",
    "norm_scaler = MinMaxScaler()\n",
    "norm_X_train1 = norm_scaler.fit_transform(X_train1)\n",
    "norm_X_test1 = norm_scaler.transform(X_test1)\n",
    "\n",
    "cross_validate(GaussianNB(), norm_X_train1, y_train1, cv=5, scoring='accuracy', \n",
    "               groups=groups_train1, n_jobs=-1, return_train_score=True)"
   ]
  },
  {
   "cell_type": "code",
   "execution_count": 19,
   "id": "f0a1e4e3",
   "metadata": {},
   "outputs": [
    {
     "name": "stdout",
     "output_type": "stream",
     "text": [
      "Accuracy: 0.5751383567475522\n",
      "Execution time: 0.05717611312866211\n"
     ]
    }
   ],
   "source": [
    "gnb = GaussianNB()\n",
    "start = time.time()\n",
    "gnb.fit(norm_X_train1, y_train1)\n",
    "accuracy = gnb.score(norm_X_test1, y_test1) # Normalized\n",
    "end = time.time()\n",
    "\n",
    "print(\"Accuracy: \" + str(accuracy))\n",
    "print(\"Execution time: \" + str(end-start))"
   ]
  },
  {
   "cell_type": "code",
   "execution_count": 20,
   "id": "3e42d944",
   "metadata": {},
   "outputs": [],
   "source": [
    "# They all performed the same, greater accuracy than when PCA is not applied. "
   ]
  },
  {
   "cell_type": "markdown",
   "id": "d74c2d9c",
   "metadata": {},
   "source": [
    "#### COMPLEMENT NAIVE BAYES"
   ]
  },
  {
   "cell_type": "code",
   "execution_count": 21,
   "id": "9523d092",
   "metadata": {},
   "outputs": [
    {
     "data": {
      "text/plain": [
       "{'fit_time': array([0.03901291, 0.05075622, 0.04911304, 0.04667902, 0.02560115]),\n",
       " 'score_time': array([0.00434208, 0.00432181, 0.0038271 , 0.00463796, 0.00227785]),\n",
       " 'test_score': array([0.61499046, 0.70611876, 0.68073348, 0.48877167, 0.39155991]),\n",
       " 'train_score': array([0.59108778, 0.5880735 , 0.56724272, 0.60075105, 0.61828389])}"
      ]
     },
     "execution_count": 21,
     "metadata": {},
     "output_type": "execute_result"
    }
   ],
   "source": [
    "cross_validate(ComplementNB(), norm_X_train1, y_train1, cv=5, scoring='accuracy', \n",
    "               groups=groups_train1, n_jobs=-1, return_train_score=True)"
   ]
  },
  {
   "cell_type": "code",
   "execution_count": 22,
   "id": "6613a71d",
   "metadata": {},
   "outputs": [
    {
     "name": "stdout",
     "output_type": "stream",
     "text": [
      "Accuracy: 0.4926919256421172\n",
      "Execution time: 0.022960901260375977\n"
     ]
    }
   ],
   "source": [
    "cnb = ComplementNB()\n",
    "start = time.time()\n",
    "cnb.fit(norm_X_train1, y_train1)\n",
    "accuracy = cnb.score(norm_X_test1, y_test1) # Baseline\n",
    "end = time.time()\n",
    "\n",
    "print(\"Accuracy: \" + str(accuracy))\n",
    "print(\"Execution time: \" + str(end-start))"
   ]
  },
  {
   "cell_type": "code",
   "execution_count": 23,
   "id": "6e5b2fe9",
   "metadata": {},
   "outputs": [],
   "source": [
    "# Complement Naive Bayes performed worse than Gaussian Naive Bayes - interesting!\n",
    "# Less accuracy than when PCA is not applied.\n",
    "# Performed on normalized data. "
   ]
  },
  {
   "cell_type": "markdown",
   "id": "82cd0c9b",
   "metadata": {},
   "source": [
    "##### Hyperparameter Tuning"
   ]
  },
  {
   "cell_type": "code",
   "execution_count": 168,
   "id": "9c1a0023",
   "metadata": {},
   "outputs": [
    {
     "data": {
      "text/plain": [
       "{'priors': [0.6, 0.4], 'var_smoothing': 1000}"
      ]
     },
     "execution_count": 168,
     "metadata": {},
     "output_type": "execute_result"
    }
   ],
   "source": [
    "param_grid = dict()\n",
    "param_grid['priors'] = [[0.03,0.97], [0.4,0.6], [0.6,0.4], [0.999, 0.001]]\n",
    "param_grid['var_smoothing'] = [1000, 1010, 1100, 999, 2000, 3000, 10000]\n",
    "\n",
    "\n",
    "start = time.time()\n",
    "grd1 = GridSearchCV(GaussianNB(), param_grid, scoring='accuracy', n_jobs=-1, cv=5) # 5-fold stratified cv\n",
    "grd1.fit(norm_X_train1, y_train1)\n",
    "end = time.time()\n",
    "\n",
    "grd1.best_params_"
   ]
  },
  {
   "cell_type": "code",
   "execution_count": 169,
   "id": "46d07332",
   "metadata": {},
   "outputs": [
    {
     "name": "stdout",
     "output_type": "stream",
     "text": [
      "Hyperparameter tuning computation time: 3.1686630249023438\n"
     ]
    }
   ],
   "source": [
    "print(\"Hyperparameter tuning computation time: \" + str(end-start))"
   ]
  },
  {
   "cell_type": "code",
   "execution_count": 170,
   "id": "a819c373",
   "metadata": {},
   "outputs": [
    {
     "data": {
      "text/plain": [
       "{'fit_time': array([0.07246399, 0.07450128, 0.07227492, 0.07059503, 0.070122  ]),\n",
       " 'score_time': array([0.01016116, 0.01005578, 0.00962734, 0.0103209 , 0.00936007]),\n",
       " 'test_score': array([0.55741987, 0.55736964, 0.55739764, 0.55739764, 0.55739764]),\n",
       " 'train_score': array([0.55739064, 0.5574032 , 0.5573962 , 0.5573962 , 0.5573962 ])}"
      ]
     },
     "execution_count": 170,
     "metadata": {},
     "output_type": "execute_result"
    }
   ],
   "source": [
    "# Evaluation of the model\n",
    "cross_validate(grd1.best_estimator_, norm_X_train1, y_train1, cv=5, scoring='accuracy', \n",
    "               groups=groups_train1, n_jobs=-1, return_train_score=True)"
   ]
  },
  {
   "cell_type": "code",
   "execution_count": 171,
   "id": "5943b33e",
   "metadata": {},
   "outputs": [
    {
     "name": "stdout",
     "output_type": "stream",
     "text": [
      "Accuracy: 0.5959628210586065\n",
      "Execution time: 0.05389595031738281\n"
     ]
    }
   ],
   "source": [
    "gnb1 = grd1.best_estimator_\n",
    "start = time.time()\n",
    "gnb1.fit(norm_X_train1, y_train1)\n",
    "accuracy = gnb1.score(norm_X_test1, y_test1)\n",
    "end = time.time()\n",
    "\n",
    "print(\"Accuracy: \" + str(accuracy))\n",
    "print(\"Execution time: \" + str(end-start))"
   ]
  },
  {
   "cell_type": "code",
   "execution_count": 51,
   "id": "f77b01de",
   "metadata": {},
   "outputs": [],
   "source": [
    "# Increased from 0.5751383567475522"
   ]
  },
  {
   "cell_type": "markdown",
   "id": "f0e2edb6",
   "metadata": {},
   "source": [
    "### Random Forest"
   ]
  },
  {
   "cell_type": "code",
   "execution_count": 57,
   "id": "fb5506f6",
   "metadata": {},
   "outputs": [
    {
     "data": {
      "text/plain": [
       "{'fit_time': array([52.755126  , 52.16871119, 52.66960311, 50.8983047 , 51.52408504]),\n",
       " 'score_time': array([0.40487719, 0.43044472, 0.4305501 , 0.33252597, 0.40366387]),\n",
       " 'test_score': array([0.6466392 , 0.55430523, 0.61904044, 0.3162522 , 0.51228335]),\n",
       " 'train_score': array([1.        , 1.        , 1.        , 0.99997488, 0.99997488])}"
      ]
     },
     "execution_count": 57,
     "metadata": {},
     "output_type": "execute_result"
    }
   ],
   "source": [
    "cross_validate(RandomForestClassifier(random_state=42), X_train1, y_train1, cv=5, scoring='accuracy', \n",
    "               groups=groups_train1, n_jobs=-1, return_train_score=True)"
   ]
  },
  {
   "cell_type": "code",
   "execution_count": 58,
   "id": "cffa295e",
   "metadata": {},
   "outputs": [
    {
     "name": "stdout",
     "output_type": "stream",
     "text": [
      "Accuracy: 0.6371505605222081\n",
      "Execution time: 45.807706117630005\n"
     ]
    }
   ],
   "source": [
    "rf = RandomForestClassifier(random_state=42)\n",
    "start = time.time()\n",
    "rf.fit(X_train1, y_train1)\n",
    "accuracy = rf.score(X_test1, y_test1) # Baseline\n",
    "end = time.time()\n",
    "\n",
    "print(\"Accuracy: \" + str(accuracy))\n",
    "print(\"Execution time: \" + str(end-start))"
   ]
  },
  {
   "cell_type": "code",
   "execution_count": 59,
   "id": "1f158c8a",
   "metadata": {},
   "outputs": [
    {
     "data": {
      "text/plain": [
       "{'fit_time': array([47.52464008, 47.04049516, 47.48464203, 45.69700408, 46.580127  ]),\n",
       " 'score_time': array([0.31703687, 0.3376658 , 0.3317101 , 0.300488  , 0.3420496 ]),\n",
       " 'test_score': array([0.64432834, 0.554255  , 0.61597589, 0.31710625, 0.50936951]),\n",
       " 'train_score': array([1.        , 1.        , 0.99998744, 0.99998744, 0.99998744])}"
      ]
     },
     "execution_count": 59,
     "metadata": {},
     "output_type": "execute_result"
    }
   ],
   "source": [
    "cross_validate(RandomForestClassifier(random_state=42), norm_X_train1, y_train1, cv=5, scoring='accuracy', \n",
    "               groups=groups_train1, n_jobs=-1, return_train_score=True)"
   ]
  },
  {
   "cell_type": "code",
   "execution_count": 60,
   "id": "32eeab5b",
   "metadata": {},
   "outputs": [
    {
     "name": "stdout",
     "output_type": "stream",
     "text": [
      "Accuracy: 0.6424719738895984\n",
      "Execution time: 41.62802195549011\n"
     ]
    }
   ],
   "source": [
    "rf = RandomForestClassifier(random_state=42)\n",
    "start = time.time()\n",
    "rf.fit(norm_X_train1, y_train1)\n",
    "accuracy = rf.score(norm_X_test1, y_test1) # Normalized\n",
    "end = time.time()\n",
    "\n",
    "print(\"Accuracy: \" + str(accuracy))\n",
    "print(\"Execution time: \" + str(end-start))"
   ]
  },
  {
   "cell_type": "code",
   "execution_count": 61,
   "id": "dd6d81a5",
   "metadata": {},
   "outputs": [
    {
     "data": {
      "text/plain": [
       "{'fit_time': array([49.92816305, 49.4795692 , 50.00966001, 48.31471777, 49.12467909]),\n",
       " 'score_time': array([0.31939292, 0.33833289, 0.33270717, 0.27217937, 0.3319521 ]),\n",
       " 'test_score': array([0.64573495, 0.5549583 , 0.61929164, 0.3155991 , 0.51002261]),\n",
       " 'train_score': array([1.        , 1.        , 1.        , 0.99997488, 0.99997488])}"
      ]
     },
     "execution_count": 61,
     "metadata": {},
     "output_type": "execute_result"
    }
   ],
   "source": [
    "cross_validate(RandomForestClassifier(random_state=42), stand_X_train1, y_train1, cv=5, scoring='accuracy', \n",
    "               groups=groups_train1, n_jobs=-1, return_train_score=True)"
   ]
  },
  {
   "cell_type": "code",
   "execution_count": 62,
   "id": "f44628f8",
   "metadata": {},
   "outputs": [
    {
     "name": "stdout",
     "output_type": "stream",
     "text": [
      "Accuracy: 0.6395984106712076\n",
      "Execution time: 41.231635332107544\n"
     ]
    }
   ],
   "source": [
    "rf = RandomForestClassifier(random_state=42)\n",
    "start = time.time()\n",
    "rf.fit(stand_X_train1, y_train1)\n",
    "accuracy = rf.score(stand_X_test1, y_test1) # Standardized\n",
    "end = time.time()\n",
    "\n",
    "print(\"Accuracy: \" + str(accuracy))\n",
    "print(\"Execution time: \" + str(end-start))"
   ]
  },
  {
   "cell_type": "code",
   "execution_count": 63,
   "id": "69caa00c",
   "metadata": {},
   "outputs": [],
   "source": [
    "# Normalized data performed the best for RF. \n",
    "# RF performed better than NB. "
   ]
  },
  {
   "cell_type": "code",
   "execution_count": 64,
   "id": "8ff3cae8",
   "metadata": {},
   "outputs": [
    {
     "data": {
      "text/plain": [
       "{'bootstrap': True,\n",
       " 'ccp_alpha': 0.0,\n",
       " 'class_weight': None,\n",
       " 'criterion': 'gini',\n",
       " 'max_depth': None,\n",
       " 'max_features': 'sqrt',\n",
       " 'max_leaf_nodes': None,\n",
       " 'max_samples': None,\n",
       " 'min_impurity_decrease': 0.0,\n",
       " 'min_samples_leaf': 1,\n",
       " 'min_samples_split': 2,\n",
       " 'min_weight_fraction_leaf': 0.0,\n",
       " 'n_estimators': 100,\n",
       " 'n_jobs': None,\n",
       " 'oob_score': False,\n",
       " 'random_state': 42,\n",
       " 'verbose': 0,\n",
       " 'warm_start': False}"
      ]
     },
     "execution_count": 64,
     "metadata": {},
     "output_type": "execute_result"
    }
   ],
   "source": [
    "rf.get_params()"
   ]
  },
  {
   "cell_type": "code",
   "execution_count": 65,
   "id": "9aaecc8d",
   "metadata": {},
   "outputs": [
    {
     "data": {
      "text/plain": [
       "{'criterion': 'gini', 'random_state': 42}"
      ]
     },
     "execution_count": 65,
     "metadata": {},
     "output_type": "execute_result"
    }
   ],
   "source": [
    "param_grid = dict()\n",
    "#param_grid['n_estimators'] = [100,300] # 50\n",
    "param_grid['criterion'] = ['gini']\n",
    "#param_grid['max_depth'] = [2]\n",
    "#param_grid['min_samples_split'] = [10]\n",
    "#param_grid['min_samples_leaf'] = [10] # 60\n",
    "#param_grid['min_weight_fraction_leaf'] = [0.0, 2.0, 5.0]\n",
    "#param_grid['max_features'] = ['sqrt']\n",
    "#param_grid['max_leaf_nodes'] = [2, 5, 10]\n",
    "#param_grid['min_impurity_decrease'] = [0.0, 2.0, 5.0]\n",
    "#param_grid['bootstrap'] = [True]\n",
    "#param_grid['oob_score'] = [True, False]\n",
    "#param_grid['n_jobs'] = [-1]\n",
    "param_grid['random_state'] = [42]\n",
    "#param_grid['verbose'] = [0, 2, 5]\n",
    "#param_grid['warm_start'] = [True, False]\n",
    "#param_grid['class_weight'] = ['balanced_subsample']\n",
    "#param_grid['ccp_alpha'] = [0.0, 2.0]\n",
    "#param_grid['max_samples'] = [100, 10]\n",
    "\n",
    "start = time.time()\n",
    "grd1 = GridSearchCV(RandomForestClassifier(), param_grid, scoring='accuracy', n_jobs=-1, cv=5) # 5-fold stratified cv\n",
    "grd1.fit(norm_X_train1, y_train1)\n",
    "end = time.time()\n",
    "\n",
    "grd1.best_params_"
   ]
  },
  {
   "cell_type": "code",
   "execution_count": 66,
   "id": "3ef74693",
   "metadata": {},
   "outputs": [
    {
     "name": "stdout",
     "output_type": "stream",
     "text": [
      "Hyperparameter tuning computation time: 95.17246723175049\n"
     ]
    }
   ],
   "source": [
    "print(\"Hyperparameter tuning computation time: \" + str(end-start))"
   ]
  },
  {
   "cell_type": "code",
   "execution_count": 67,
   "id": "975bfaec",
   "metadata": {},
   "outputs": [
    {
     "data": {
      "text/plain": [
       "{'fit_time': array([45.40007591, 45.40521908, 45.95174718, 44.23207021, 44.3931849 ]),\n",
       " 'score_time': array([0.34907913, 0.3238399 , 0.33075976, 0.27129912, 0.33189106]),\n",
       " 'test_score': array([0.64432834, 0.554255  , 0.61597589, 0.31710625, 0.50936951]),\n",
       " 'train_score': array([1.        , 1.        , 0.99998744, 0.99998744, 0.99998744])}"
      ]
     },
     "execution_count": 67,
     "metadata": {},
     "output_type": "execute_result"
    }
   ],
   "source": [
    "# Evaluation of the model\n",
    "cross_validate(grd1.best_estimator_, norm_X_train1, y_train1, cv=5, scoring='accuracy', \n",
    "               groups=groups_train1, n_jobs=-1, return_train_score=True)"
   ]
  },
  {
   "cell_type": "code",
   "execution_count": 85,
   "id": "ea663470",
   "metadata": {},
   "outputs": [
    {
     "name": "stdout",
     "output_type": "stream",
     "text": [
      "Accuracy: 0.6607776358734213\n",
      "Execution time: 19.034257888793945\n"
     ]
    }
   ],
   "source": [
    "rf1 = RandomForestClassifier(random_state=42, min_samples_leaf=22, min_samples_split=70, max_depth=8)\n",
    "start = time.time()\n",
    "rf1.fit(norm_X_train1, y_train1)\n",
    "accuracy = rf1.score(norm_X_test1, y_test1) # Threshold\n",
    "end = time.time()\n",
    "\n",
    "print(\"Accuracy: \" + str(accuracy))\n",
    "print(\"Execution time: \" + str(end-start))"
   ]
  },
  {
   "cell_type": "code",
   "execution_count": 69,
   "id": "81eddf8c",
   "metadata": {},
   "outputs": [],
   "source": [
    "# Increased from 0.6424719738895984"
   ]
  },
  {
   "cell_type": "markdown",
   "id": "3bc6283c",
   "metadata": {},
   "source": [
    "## Introduce the third class"
   ]
  },
  {
   "cell_type": "code",
   "execution_count": 86,
   "id": "91ca76fc",
   "metadata": {},
   "outputs": [],
   "source": [
    "Xy2 = pd.concat([Xy_S7074, Xy_S7072, Xy_S7071, Xy_S7070, Xy_S7069, Xy_S7068, Xy_S7064], axis=0)\n",
    "Xy2 = Xy2.loc[(Xy2['brainstate'] != 4)].reset_index() # disregard seizure and rem\n",
    "\n",
    "groups_train2 = Xy2.animal\n",
    "y_train2 = Xy2.brainstate.astype('int')\n",
    "X_train2 = Xy2.loc[:, ~Xy2.columns.isin(['animal', 'brainstate', 'index'])]"
   ]
  },
  {
   "cell_type": "code",
   "execution_count": 87,
   "id": "e4902585",
   "metadata": {},
   "outputs": [],
   "source": [
    "Xy_test2 = pd.concat([Xy_S7075, Xy_S7063], axis=0)\n",
    "\n",
    "Xy_test2 = Xy_test2.loc[(Xy_test2['brainstate'] != 4)].reset_index() # disregard seizure and rem\n",
    "\n",
    "groups_test2 = Xy_test2.animal\n",
    "y_test2 = Xy_test2.brainstate.astype('int')\n",
    "X_test2 = Xy_test2.loc[:, ~Xy_test2.columns.isin(['animal', 'brainstate', 'index'])]"
   ]
  },
  {
   "cell_type": "markdown",
   "id": "e1b547ea",
   "metadata": {},
   "source": [
    "### Naive Bayes\n",
    "#### GAUSSIAN NAIVE BAYES"
   ]
  },
  {
   "cell_type": "code",
   "execution_count": 88,
   "id": "2fcb7980",
   "metadata": {},
   "outputs": [
    {
     "data": {
      "text/plain": [
       "{'fit_time': array([0.09020782, 0.08695912, 0.08694005, 0.08699274, 0.09164333]),\n",
       " 'score_time': array([0.01393819, 0.01258993, 0.01315284, 0.01407003, 0.01600885]),\n",
       " 'test_score': array([0.54811212, 0.60131002, 0.53128161, 0.52492414, 0.47286038]),\n",
       " 'train_score': array([0.56530848, 0.55967876, 0.57108112, 0.58007537, 0.59159814])}"
      ]
     },
     "execution_count": 88,
     "metadata": {},
     "output_type": "execute_result"
    }
   ],
   "source": [
    "cross_validate(GaussianNB(), X_train2, y_train2, cv=5, scoring='accuracy', \n",
    "               groups=groups_train2, n_jobs=-1, return_train_score=True)"
   ]
  },
  {
   "cell_type": "code",
   "execution_count": 89,
   "id": "2ba1e6d8",
   "metadata": {},
   "outputs": [
    {
     "name": "stdout",
     "output_type": "stream",
     "text": [
      "Accuracy: 0.5557764826876929\n",
      "Execution time: 0.05491900444030762\n"
     ]
    }
   ],
   "source": [
    "gnb = GaussianNB()\n",
    "start = time.time()\n",
    "gnb.fit(X_train2, y_train2)\n",
    "accuracy = gnb.score(X_test2, y_test2) # Baseline\n",
    "end = time.time()\n",
    "\n",
    "print(\"Accuracy: \" + str(accuracy))\n",
    "print(\"Execution time: \" + str(end-start))"
   ]
  },
  {
   "cell_type": "code",
   "execution_count": 90,
   "id": "aa916c26",
   "metadata": {},
   "outputs": [
    {
     "data": {
      "text/plain": [
       "{'fit_time': array([0.05035019, 0.0798471 , 0.07747889, 0.04976726, 0.07143927]),\n",
       " 'score_time': array([0.0098598 , 0.01336718, 0.01294804, 0.0111177 , 0.01343679]),\n",
       " 'test_score': array([0.54811212, 0.60131002, 0.53128161, 0.52492414, 0.47286038]),\n",
       " 'train_score': array([0.56530848, 0.55967876, 0.57108112, 0.58007537, 0.59159814])}"
      ]
     },
     "execution_count": 90,
     "metadata": {},
     "output_type": "execute_result"
    }
   ],
   "source": [
    "# Standardize data mean=0 and stdev=1\n",
    "stand_scaler = StandardScaler()\n",
    "stand_X_train2 = stand_scaler.fit_transform(X_train2)\n",
    "stand_X_test2 = stand_scaler.transform(X_test2)\n",
    "\n",
    "cross_validate(GaussianNB(), stand_X_train2, y_train2, cv=5, scoring='accuracy', \n",
    "               groups=groups_train2, n_jobs=-1, return_train_score=True)"
   ]
  },
  {
   "cell_type": "code",
   "execution_count": 91,
   "id": "f8393f41",
   "metadata": {},
   "outputs": [
    {
     "name": "stdout",
     "output_type": "stream",
     "text": [
      "Accuracy: 0.5557764826876929\n",
      "Execution time: 0.05368614196777344\n"
     ]
    }
   ],
   "source": [
    "gnb = GaussianNB()\n",
    "start = time.time()\n",
    "gnb.fit(stand_X_train2, y_train2)\n",
    "accuracy = gnb.score(stand_X_test2, y_test2) # Standardized\n",
    "end = time.time()\n",
    "\n",
    "print(\"Accuracy: \" + str(accuracy))\n",
    "print(\"Execution time: \" + str(end-start))"
   ]
  },
  {
   "cell_type": "code",
   "execution_count": 92,
   "id": "26334f8b",
   "metadata": {},
   "outputs": [
    {
     "data": {
      "text/plain": [
       "{'fit_time': array([0.04484129, 0.06020713, 0.06497002, 0.06525397, 0.06922412]),\n",
       " 'score_time': array([0.0091877 , 0.01260376, 0.01315594, 0.01295829, 0.01470375]),\n",
       " 'test_score': array([0.54811212, 0.60131002, 0.53128161, 0.52492414, 0.47286038]),\n",
       " 'train_score': array([0.56530848, 0.55967876, 0.57108112, 0.58007537, 0.59159814])}"
      ]
     },
     "execution_count": 92,
     "metadata": {},
     "output_type": "execute_result"
    }
   ],
   "source": [
    "# Normalize data between 0 and 1\n",
    "norm_scaler = MinMaxScaler()\n",
    "norm_X_train2 = norm_scaler.fit_transform(X_train2)\n",
    "norm_X_test2 = norm_scaler.transform(X_test2)\n",
    "\n",
    "cross_validate(GaussianNB(), norm_X_train2, y_train2, cv=5, scoring='accuracy', \n",
    "               groups=groups_train2, n_jobs=-1, return_train_score=True)"
   ]
  },
  {
   "cell_type": "code",
   "execution_count": 93,
   "id": "1fa11b3a",
   "metadata": {},
   "outputs": [
    {
     "name": "stdout",
     "output_type": "stream",
     "text": [
      "Accuracy: 0.5557764826876929\n",
      "Execution time: 0.05425000190734863\n"
     ]
    }
   ],
   "source": [
    "gnb = GaussianNB()\n",
    "start = time.time()\n",
    "gnb.fit(norm_X_train2, y_train2)\n",
    "accuracy = gnb.score(norm_X_test2, y_test2) # Normalized\n",
    "end = time.time()\n",
    "\n",
    "print(\"Accuracy: \" + str(accuracy))\n",
    "print(\"Execution time: \" + str(end-start))"
   ]
  },
  {
   "cell_type": "code",
   "execution_count": 94,
   "id": "09787258",
   "metadata": {},
   "outputs": [],
   "source": [
    "# They all performed the same."
   ]
  },
  {
   "cell_type": "markdown",
   "id": "a6a1c221",
   "metadata": {},
   "source": [
    "#### COMPLEMENT NAIVE BAYES"
   ]
  },
  {
   "cell_type": "code",
   "execution_count": 96,
   "id": "5ba13833",
   "metadata": {},
   "outputs": [
    {
     "data": {
      "text/plain": [
       "{'fit_time': array([0.04011083, 0.03957796, 0.03830123, 0.03839397, 0.0383842 ]),\n",
       " 'score_time': array([0.00255632, 0.00300694, 0.00321269, 0.00351501, 0.00279808]),\n",
       " 'test_score': array([0.5899634 , 0.67629919, 0.65250686, 0.47069306, 0.37557193]),\n",
       " 'train_score': array([0.56706642, 0.56336315, 0.54337592, 0.57633078, 0.59356074])}"
      ]
     },
     "execution_count": 96,
     "metadata": {},
     "output_type": "execute_result"
    }
   ],
   "source": [
    "cross_validate(ComplementNB(), norm_X_train2, y_train2, cv=5, scoring='accuracy', \n",
    "               groups=groups_train2, n_jobs=-1, return_train_score=True)"
   ]
  },
  {
   "cell_type": "code",
   "execution_count": 97,
   "id": "74ddc42e",
   "metadata": {},
   "outputs": [
    {
     "name": "stdout",
     "output_type": "stream",
     "text": [
      "Accuracy: 0.4768597874528625\n",
      "Execution time: 0.02470111846923828\n"
     ]
    }
   ],
   "source": [
    "cnb = ComplementNB()\n",
    "start = time.time()\n",
    "cnb.fit(norm_X_train2, y_train2)\n",
    "accuracy = cnb.score(norm_X_test2, y_test2) # Baseline\n",
    "end = time.time()\n",
    "\n",
    "print(\"Accuracy: \" + str(accuracy))\n",
    "print(\"Execution time: \" + str(end-start))"
   ]
  },
  {
   "cell_type": "code",
   "execution_count": 98,
   "id": "0485b80f",
   "metadata": {},
   "outputs": [],
   "source": [
    "# Complement NB performes worse than Gaussian NB. \n",
    "# Accuracy decreased when third class is introduced. "
   ]
  },
  {
   "cell_type": "markdown",
   "id": "3cc3c20d",
   "metadata": {},
   "source": [
    "##### Hyperparameter Tuning"
   ]
  },
  {
   "cell_type": "code",
   "execution_count": 176,
   "id": "101c147e",
   "metadata": {},
   "outputs": [
    {
     "data": {
      "text/plain": [
       "{'priors': [0.7, 0.15, 0.15], 'var_smoothing': 1000}"
      ]
     },
     "execution_count": 176,
     "metadata": {},
     "output_type": "execute_result"
    }
   ],
   "source": [
    "param_grid = dict()\n",
    "param_grid['priors'] = [[0.1, 0.3, 0.6], [0.7, 0.15, 0.15], [0.2, 0.6, 0.2]]\n",
    "param_grid['var_smoothing'] = [1000, 1010, 1100, 999, 2000, 3000, 10000]\n",
    "\n",
    "start = time.time()\n",
    "grd2 = GridSearchCV(GaussianNB(), param_grid, scoring='accuracy', n_jobs=-1, cv=5) # 5-fold stratified cv\n",
    "grd2.fit(norm_X_train2, y_train2)\n",
    "end = time.time()\n",
    "\n",
    "grd2.best_params_"
   ]
  },
  {
   "cell_type": "code",
   "execution_count": 177,
   "id": "98b61406",
   "metadata": {},
   "outputs": [
    {
     "name": "stdout",
     "output_type": "stream",
     "text": [
      "Hyperparameter tuning computation time: 1.76019287109375\n"
     ]
    }
   ],
   "source": [
    "print(\"Hyperparameter tuning computation time: \" + str(end-start))"
   ]
  },
  {
   "cell_type": "code",
   "execution_count": 178,
   "id": "681132b4",
   "metadata": {},
   "outputs": [
    {
     "data": {
      "text/plain": [
       "{'fit_time': array([0.06990004, 0.07154822, 0.06934595, 0.0702529 , 0.07125974]),\n",
       " 'score_time': array([0.0115881 , 0.01297998, 0.01054907, 0.01086497, 0.0112462 ]),\n",
       " 'test_score': array([0.53438644, 0.53436401, 0.53436401, 0.53436401, 0.53436401]),\n",
       " 'train_score': array([0.53436401, 0.53436962, 0.53436962, 0.53436962, 0.53436962])}"
      ]
     },
     "execution_count": 178,
     "metadata": {},
     "output_type": "execute_result"
    }
   ],
   "source": [
    "# Evaluation of the model\n",
    "cross_validate(grd2.best_estimator_, norm_X_train2, y_train2, cv=5, scoring='accuracy', \n",
    "               groups=groups_train2, n_jobs=-1, return_train_score=True)"
   ]
  },
  {
   "cell_type": "code",
   "execution_count": 179,
   "id": "f2a7b1e5",
   "metadata": {},
   "outputs": [
    {
     "name": "stdout",
     "output_type": "stream",
     "text": [
      "Accuracy: 0.5758998971546109\n",
      "Execution time: 0.04652214050292969\n"
     ]
    }
   ],
   "source": [
    "gnb2 = grd2.best_estimator_\n",
    "start = time.time()\n",
    "gnb2.fit(norm_X_train2, y_train2)\n",
    "accuracy = gnb2.score(norm_X_test2, y_test2) # Threshold\n",
    "end = time.time()\n",
    "\n",
    "y_predNB = gnb2.predict(norm_X_test2)\n",
    "\n",
    "print(\"Accuracy: \" + str(accuracy))\n",
    "print(\"Execution time: \" + str(end-start))"
   ]
  },
  {
   "cell_type": "code",
   "execution_count": 108,
   "id": "536590cc",
   "metadata": {},
   "outputs": [],
   "source": [
    "# Increased from 0.5557764826876929"
   ]
  },
  {
   "cell_type": "markdown",
   "id": "d07b8c5c",
   "metadata": {},
   "source": [
    "### Random Forest"
   ]
  },
  {
   "cell_type": "code",
   "execution_count": 109,
   "id": "bf87393e",
   "metadata": {},
   "outputs": [
    {
     "data": {
      "text/plain": [
       "{'fit_time': array([58.89412022, 58.49148798, 59.56182098, 57.15984082, 58.07124591]),\n",
       " 'score_time': array([0.52165198, 0.52130985, 0.46508908, 0.41478324, 0.43571305]),\n",
       " 'test_score': array([0.62247159, 0.53407504, 0.58695757, 0.3029909 , 0.479266  ]),\n",
       " 'train_score': array([1.        , 0.99996388, 0.99996388, 0.99998796, 0.99998796])}"
      ]
     },
     "execution_count": 109,
     "metadata": {},
     "output_type": "execute_result"
    }
   ],
   "source": [
    "cross_validate(RandomForestClassifier(random_state=42), X_train2, y_train2, cv=5, scoring='accuracy', \n",
    "               groups=groups_train2, n_jobs=-1, return_train_score=True)"
   ]
  },
  {
   "cell_type": "code",
   "execution_count": 110,
   "id": "8e959ddc",
   "metadata": {},
   "outputs": [
    {
     "name": "stdout",
     "output_type": "stream",
     "text": [
      "Accuracy: 0.6184436064449778\n",
      "Execution time: 48.637046813964844\n"
     ]
    }
   ],
   "source": [
    "rf = RandomForestClassifier(random_state=42)\n",
    "start = time.time()\n",
    "rf.fit(X_train2, y_train2)\n",
    "accuracy = rf.score(X_test2, y_test2) # Baseline\n",
    "end = time.time()\n",
    "\n",
    "print(\"Accuracy: \" + str(accuracy))\n",
    "print(\"Execution time: \" + str(end-start))"
   ]
  },
  {
   "cell_type": "code",
   "execution_count": 111,
   "id": "f06ec5ec",
   "metadata": {},
   "outputs": [
    {
     "data": {
      "text/plain": [
       "{'fit_time': array([52.54464006, 52.28343701, 53.04028106, 50.86460519, 51.56983995]),\n",
       " 'score_time': array([0.38089395, 0.38804102, 0.3736918 , 0.34111595, 0.38241816]),\n",
       " 'test_score': array([0.62391639, 0.53330444, 0.5849829 , 0.30409864, 0.48817608]),\n",
       " 'train_score': array([1.        , 0.99997592, 0.99996388, 0.99998796, 0.99997592])}"
      ]
     },
     "execution_count": 111,
     "metadata": {},
     "output_type": "execute_result"
    }
   ],
   "source": [
    "cross_validate(RandomForestClassifier(random_state=42), norm_X_train2, y_train2, cv=5, scoring='accuracy', \n",
    "               groups=groups_train2, n_jobs=-1, return_train_score=True)"
   ]
  },
  {
   "cell_type": "code",
   "execution_count": 112,
   "id": "ea1f4033",
   "metadata": {},
   "outputs": [
    {
     "name": "stdout",
     "output_type": "stream",
     "text": [
      "Accuracy: 0.6212889955433665\n",
      "Execution time: 44.9156060218811\n"
     ]
    }
   ],
   "source": [
    "rf = RandomForestClassifier(random_state=42)\n",
    "start = time.time()\n",
    "rf.fit(norm_X_train2, y_train2)\n",
    "accuracy = rf.score(norm_X_test2, y_test2) # Normalized\n",
    "end = time.time()\n",
    "\n",
    "print(\"Accuracy: \" + str(accuracy))\n",
    "print(\"Execution time: \" + str(end-start))"
   ]
  },
  {
   "cell_type": "code",
   "execution_count": 113,
   "id": "d5a01a35",
   "metadata": {},
   "outputs": [
    {
     "data": {
      "text/plain": [
       "{'fit_time': array([55.18361902, 54.85953999, 55.71529698, 53.56243038, 54.52077699]),\n",
       " 'score_time': array([0.38815427, 0.40559196, 0.375561  , 0.34652686, 0.37887526]),\n",
       " 'test_score': array([0.62242343, 0.53441218, 0.58695757, 0.30289457, 0.47892886]),\n",
       " 'train_score': array([1.        , 0.99996388, 0.99996388, 0.99998796, 0.99998796])}"
      ]
     },
     "execution_count": 113,
     "metadata": {},
     "output_type": "execute_result"
    }
   ],
   "source": [
    "cross_validate(RandomForestClassifier(random_state=42), stand_X_train2, y_train2, cv=5, scoring='accuracy', \n",
    "               groups=groups_train2, n_jobs=-1, return_train_score=True)"
   ]
  },
  {
   "cell_type": "code",
   "execution_count": 114,
   "id": "47d39bcb",
   "metadata": {},
   "outputs": [
    {
     "name": "stdout",
     "output_type": "stream",
     "text": [
      "Accuracy: 0.6180322248885841\n",
      "Execution time: 44.69790720939636\n"
     ]
    }
   ],
   "source": [
    "rf = RandomForestClassifier(random_state=42)\n",
    "start = time.time()\n",
    "rf.fit(stand_X_train2, y_train2)\n",
    "accuracy = rf.score(stand_X_test2, y_test2) # Standardized\n",
    "end = time.time()\n",
    "\n",
    "print(\"Accuracy: \" + str(accuracy))\n",
    "print(\"Execution time: \" + str(end-start))"
   ]
  },
  {
   "cell_type": "code",
   "execution_count": 115,
   "id": "7b066548",
   "metadata": {},
   "outputs": [],
   "source": [
    "# Normalized data performed the best for RF. \n",
    "# RF performed better than NB. \n",
    "# Accuracy decreased when third class is introduced. "
   ]
  },
  {
   "cell_type": "code",
   "execution_count": 116,
   "id": "9e24ff8c",
   "metadata": {},
   "outputs": [
    {
     "data": {
      "text/plain": [
       "{'bootstrap': True,\n",
       " 'ccp_alpha': 0.0,\n",
       " 'class_weight': None,\n",
       " 'criterion': 'gini',\n",
       " 'max_depth': None,\n",
       " 'max_features': 'sqrt',\n",
       " 'max_leaf_nodes': None,\n",
       " 'max_samples': None,\n",
       " 'min_impurity_decrease': 0.0,\n",
       " 'min_samples_leaf': 1,\n",
       " 'min_samples_split': 2,\n",
       " 'min_weight_fraction_leaf': 0.0,\n",
       " 'n_estimators': 100,\n",
       " 'n_jobs': None,\n",
       " 'oob_score': False,\n",
       " 'random_state': 42,\n",
       " 'verbose': 0,\n",
       " 'warm_start': False}"
      ]
     },
     "execution_count": 116,
     "metadata": {},
     "output_type": "execute_result"
    }
   ],
   "source": [
    "rf.get_params()"
   ]
  },
  {
   "cell_type": "markdown",
   "id": "652d9c86",
   "metadata": {},
   "source": [
    "##### Hyperparameter Tuning"
   ]
  },
  {
   "cell_type": "code",
   "execution_count": 118,
   "id": "47e20a8f",
   "metadata": {},
   "outputs": [
    {
     "data": {
      "text/plain": [
       "{'class_weight': 'balanced_subsample',\n",
       " 'min_samples_split': 2,\n",
       " 'n_estimators': 500,\n",
       " 'random_state': 42}"
      ]
     },
     "execution_count": 118,
     "metadata": {},
     "output_type": "execute_result"
    }
   ],
   "source": [
    "param_grid = dict()\n",
    "param_grid['n_estimators'] = [500, 100] # 1000  \n",
    "#param_grid['criterion'] = ['gini']\n",
    "#param_grid['max_depth'] = [20]\n",
    "param_grid['min_samples_split'] = [2, 5]\n",
    "#param_grid['min_samples_leaf'] = [50]\n",
    "#param_grid['min_weight_fraction_leaf'] = [0.0, 2.0, 5.0]\n",
    "#param_grid['max_features'] = ['sqrt']\n",
    "#param_grid['max_leaf_nodes'] = [2, 5, 10]\n",
    "#param_grid['min_impurity_decrease'] = [0.0, 2.0, 5.0]\n",
    "#param_grid['bootstrap'] = [True, False]\n",
    "#param_grid['oob_score'] = [True, False]\n",
    "#param_grid['n_jobs'] = [-1]\n",
    "param_grid['random_state'] = [42]\n",
    "#param_grid['verbose'] = [0, 2, 5]\n",
    "#param_grid['warm_start'] = [True, False]\n",
    "param_grid['class_weight'] = ['balanced_subsample'] #[{0: 0.75, 1: 1.2, 2: 2.5}, {0: 5, 1: 0.03, 2: 100}]\n",
    "#param_grid['ccp_alpha'] = [0.0, 2.0]\n",
    "#param_grid['max_samples'] = [100, 10]\n",
    "\n",
    "start = time.time()\n",
    "grd2 = GridSearchCV(RandomForestClassifier(), param_grid, scoring='accuracy', n_jobs=-1, cv=5) # 5-fold stratified cv\n",
    "grd2.fit(norm_X_train2, y_train2)\n",
    "end = time.time()\n",
    "\n",
    "grd2.best_params_"
   ]
  },
  {
   "cell_type": "code",
   "execution_count": 119,
   "id": "720121a9",
   "metadata": {},
   "outputs": [
    {
     "name": "stdout",
     "output_type": "stream",
     "text": [
      "Hyperparameter tuning computation time: 835.7212522029877\n"
     ]
    }
   ],
   "source": [
    "print(\"Hyperparameter tuning computation time: \" + str(end-start))"
   ]
  },
  {
   "cell_type": "code",
   "execution_count": 120,
   "id": "b2fe748a",
   "metadata": {},
   "outputs": [
    {
     "data": {
      "text/plain": [
       "{'fit_time': array([255.43436313, 262.78173113, 263.75345302, 251.02629685,\n",
       "        250.28355098]),\n",
       " 'score_time': array([2.06416392, 1.72264194, 1.68344498, 1.75522518, 1.93168187]),\n",
       " 'test_score': array([0.62743209, 0.54486346, 0.59673458, 0.30785532, 0.50455137]),\n",
       " 'train_score': array([1., 1., 1., 1., 1.])}"
      ]
     },
     "execution_count": 120,
     "metadata": {},
     "output_type": "execute_result"
    }
   ],
   "source": [
    "# Evaluation of the model\n",
    "cross_validate(grd2.best_estimator_, norm_X_train2, y_train2, cv=5, scoring='accuracy', \n",
    "               groups=groups_train2, n_jobs=-1, return_train_score=True)"
   ]
  },
  {
   "cell_type": "code",
   "execution_count": 148,
   "id": "dd16631d",
   "metadata": {},
   "outputs": [
    {
     "name": "stdout",
     "output_type": "stream",
     "text": [
      "Accuracy: 0.644429208090504\n",
      "Execution time: 17.05029582977295\n"
     ]
    }
   ],
   "source": [
    "rf2 = RandomForestClassifier(random_state=42, min_samples_leaf=10, min_samples_split=58, max_depth=6)\n",
    "start = time.time()\n",
    "rf2.fit(norm_X_train2, y_train2)\n",
    "accuracy = rf2.score(norm_X_test2, y_test2) # Threshold\n",
    "end = time.time()\n",
    "\n",
    "y_predRF = rf2.predict(norm_X_test2)\n",
    "\n",
    "print(\"Accuracy: \" + str(accuracy))\n",
    "print(\"Execution time: \" + str(end-start))"
   ]
  },
  {
   "cell_type": "code",
   "execution_count": 149,
   "id": "f53cda22",
   "metadata": {},
   "outputs": [],
   "source": [
    "# Increased from 0.6212889955433665"
   ]
  },
  {
   "cell_type": "markdown",
   "id": "dc5e8460",
   "metadata": {},
   "source": [
    "#### RF Confusion Matrix"
   ]
  },
  {
   "cell_type": "code",
   "execution_count": 150,
   "id": "7f0d6bfa",
   "metadata": {},
   "outputs": [
    {
     "data": {
      "image/png": "[encoded data removed]",
      "text/plain": [
       "<Figure size 432x288 with 2 Axes>"
      ]
     },
     "metadata": {
      "needs_background": "light"
     },
     "output_type": "display_data"
    }
   ],
   "source": [
    "cm = metrics.confusion_matrix(y_test2, y_predRF)\n",
    "cm_display = metrics.ConfusionMatrixDisplay(confusion_matrix = cm, display_labels = ['0','1','2'])\n",
    "cm_display.plot()\n",
    "plt.show()"
   ]
  },
  {
   "cell_type": "code",
   "execution_count": 151,
   "id": "83182b56",
   "metadata": {},
   "outputs": [
    {
     "name": "stdout",
     "output_type": "stream",
     "text": [
      "              precision    recall  f1-score   support\n",
      "\n",
      "           0       0.66      0.82      0.73     16799\n",
      "           1       0.60      0.44      0.51     11389\n",
      "           2       0.00      0.00      0.00       982\n",
      "\n",
      "    accuracy                           0.64     29170\n",
      "   macro avg       0.42      0.42      0.41     29170\n",
      "weighted avg       0.62      0.64      0.62     29170\n",
      "\n"
     ]
    },
    {
     "name": "stderr",
     "output_type": "stream",
     "text": [
      "/Library/Frameworks/Python.framework/Versions/3.9/lib/python3.9/site-packages/sklearn/metrics/_classification.py:1344: UndefinedMetricWarning: Precision and F-score are ill-defined and being set to 0.0 in labels with no predicted samples. Use `zero_division` parameter to control this behavior.\n",
      "  _warn_prf(average, modifier, msg_start, len(result))\n",
      "/Library/Frameworks/Python.framework/Versions/3.9/lib/python3.9/site-packages/sklearn/metrics/_classification.py:1344: UndefinedMetricWarning: Precision and F-score are ill-defined and being set to 0.0 in labels with no predicted samples. Use `zero_division` parameter to control this behavior.\n",
      "  _warn_prf(average, modifier, msg_start, len(result))\n",
      "/Library/Frameworks/Python.framework/Versions/3.9/lib/python3.9/site-packages/sklearn/metrics/_classification.py:1344: UndefinedMetricWarning: Precision and F-score are ill-defined and being set to 0.0 in labels with no predicted samples. Use `zero_division` parameter to control this behavior.\n",
      "  _warn_prf(average, modifier, msg_start, len(result))\n"
     ]
    }
   ],
   "source": [
    "print(classification_report(y_test2, y_predRF, target_names=['0', '1', '2']))"
   ]
  },
  {
   "cell_type": "code",
   "execution_count": 152,
   "id": "28f37d49",
   "metadata": {},
   "outputs": [
    {
     "name": "stderr",
     "output_type": "stream",
     "text": [
      "/Library/Frameworks/Python.framework/Versions/3.9/lib/python3.9/site-packages/sklearn/metrics/_classification.py:1344: UndefinedMetricWarning: Precision and F-score are ill-defined and being set to 0.0 in labels with no predicted samples. Use `zero_division` parameter to control this behavior.\n",
      "  _warn_prf(average, modifier, msg_start, len(result))\n"
     ]
    },
    {
     "data": {
      "text/plain": [
       "(0.42163394632445006, 0.4205691749122295, 0.41414672378605233, None)"
      ]
     },
     "execution_count": 152,
     "metadata": {},
     "output_type": "execute_result"
    }
   ],
   "source": [
    "precision_recall_fscore_support(y_test2, y_predRF, average='macro')"
   ]
  },
  {
   "cell_type": "code",
   "execution_count": 153,
   "id": "d3a73018",
   "metadata": {},
   "outputs": [
    {
     "data": {
      "text/plain": [
       "(0.644429208090504, 0.644429208090504, 0.644429208090504, None)"
      ]
     },
     "execution_count": 153,
     "metadata": {},
     "output_type": "execute_result"
    }
   ],
   "source": [
    "precision_recall_fscore_support(y_test2, y_predRF, average='micro')"
   ]
  },
  {
   "cell_type": "code",
   "execution_count": 154,
   "id": "f02666a1",
   "metadata": {},
   "outputs": [
    {
     "name": "stderr",
     "output_type": "stream",
     "text": [
      "/Library/Frameworks/Python.framework/Versions/3.9/lib/python3.9/site-packages/sklearn/metrics/_classification.py:1344: UndefinedMetricWarning: Precision and F-score are ill-defined and being set to 0.0 in labels with no predicted samples. Use `zero_division` parameter to control this behavior.\n",
      "  _warn_prf(average, modifier, msg_start, len(result))\n"
     ]
    },
    {
     "data": {
      "text/plain": [
       "(0.6163563091471885, 0.644429208090504, 0.6206795412849844, None)"
      ]
     },
     "execution_count": 154,
     "metadata": {},
     "output_type": "execute_result"
    }
   ],
   "source": [
    "precision_recall_fscore_support(y_test2, y_predRF, average='weighted')"
   ]
  },
  {
   "cell_type": "code",
   "execution_count": 155,
   "id": "6a246bd5",
   "metadata": {},
   "outputs": [
    {
     "name": "stderr",
     "output_type": "stream",
     "text": [
      "/Library/Frameworks/Python.framework/Versions/3.9/lib/python3.9/site-packages/sklearn/metrics/_classification.py:1344: UndefinedMetricWarning: Precision and F-score are ill-defined and being set to 0.0 in labels with no predicted samples. Use `zero_division` parameter to control this behavior.\n",
      "  _warn_prf(average, modifier, msg_start, len(result))\n"
     ]
    },
    {
     "data": {
      "text/plain": [
       "(array([0.6604707 , 0.60443114, 0.        ]),\n",
       " array([0.81856063, 0.4431469 , 0.        ]),\n",
       " array([0.73106675, 0.51137342, 0.        ]),\n",
       " array([16799, 11389,   982]))"
      ]
     },
     "execution_count": 155,
     "metadata": {},
     "output_type": "execute_result"
    }
   ],
   "source": [
    "precision_recall_fscore_support(y_test2, y_predRF, average=None, labels=[0,1,2]) # for each class "
   ]
  },
  {
   "cell_type": "code",
   "execution_count": 156,
   "id": "abc6200d",
   "metadata": {},
   "outputs": [
    {
     "name": "stderr",
     "output_type": "stream",
     "text": [
      "/var/folders/3n/6bmtx14d2m39gg0wnxmz4h500000gn/T/ipykernel_21829/3650387924.py:22: RuntimeWarning: invalid value encountered in long_scalars\n",
      "  d[label]['Precision'] = tp[i]/(tp[i]+fp[i]) # TP / TP+FP\n"
     ]
    },
    {
     "data": {
      "text/plain": [
       "{'0': {'TP': 13751,\n",
       "  'TN': 5302,\n",
       "  'FP': 7069,\n",
       "  'FN': 3048,\n",
       "  'Accuracy': 0.653171066163867,\n",
       "  'Recall': 0.8185606286088458,\n",
       "  'Precision': 0.6604707012487993,\n",
       "  'F1': 0.7310667481857571,\n",
       "  'Specificity': 0.42858297631557674},\n",
       " '1': {'TP': 5047,\n",
       "  'TN': 14478,\n",
       "  'FP': 3303,\n",
       "  'FN': 6342,\n",
       "  'Accuracy': 0.6693520740486801,\n",
       "  'Recall': 0.44314689612784264,\n",
       "  'Precision': 0.6044311377245509,\n",
       "  'F1': 0.5113734231723999,\n",
       "  'Specificity': 0.8142399190146786},\n",
       " '2': {'TP': 0,\n",
       "  'TN': 28188,\n",
       "  'FP': 0,\n",
       "  'FN': 982,\n",
       "  'Accuracy': 0.9663352759684607,\n",
       "  'Recall': 0.0,\n",
       "  'Precision': nan,\n",
       "  'F1': nan,\n",
       "  'Specificity': 1.0}}"
      ]
     },
     "execution_count": 156,
     "metadata": {},
     "output_type": "execute_result"
    }
   ],
   "source": [
    "mcm = multilabel_confusion_matrix(y_test2, y_predRF)\n",
    "\n",
    "tn = mcm[:, 0, 0]\n",
    "tp = mcm[:, 1, 1]\n",
    "fn = mcm[:, 1, 0]\n",
    "fp = mcm[:, 0, 1]\n",
    "recall = tp / (tp + fn) # true positive rate or sensitivity\n",
    "specificity = tn / (tn + fp) # ture negative rate\n",
    "fallout = fp / (fp + tn) # false positive rate\n",
    "missrate = fn / (fn + tp) #false negative rate\n",
    "\n",
    "d = {}\n",
    "for label in ['0', '1', '2']:\n",
    "    i = int(label)\n",
    "    d[label] = dict()\n",
    "    d[label]['TP'] = tp[i]\n",
    "    d[label]['TN'] = tn[i]\n",
    "    d[label]['FP'] = fp[i]\n",
    "    d[label]['FN'] = fn[i]\n",
    "    d[label]['Accuracy'] = (tp[i]+tn[i])/(tp[i]+tn[i]+fn[i]+fp[i]) # TP+TN / TP+TN+FP+FN\n",
    "    d[label]['Recall'] = tp[i]/(tp[i]+fn[i]) # TP / TP+FN\n",
    "    d[label]['Precision'] = tp[i]/(tp[i]+fp[i]) # TP / TP+FP\n",
    "    d[label]['F1'] = (2*d[label]['Precision']*d[label]['Recall'])/(d[label]['Precision']+d[label]['Recall'])\n",
    "    d[label]['Specificity'] = tn[i]/(tn[i]+fp[i]) # TN / TN+FP\n",
    "    #d[label]['Fallout'] = fp[i]/(fp[i]+tn[i]) # FP /FP+TN\n",
    "    #d[label]['Missrate'] = fn[i]/(fn[i]+tp[i]) # FN / FN+TP\n",
    "d"
   ]
  },
  {
   "cell_type": "code",
   "execution_count": 157,
   "id": "d2f84ea0",
   "metadata": {},
   "outputs": [],
   "source": [
    "# Class 2 is not being classified!"
   ]
  },
  {
   "cell_type": "markdown",
   "id": "0f61afe3",
   "metadata": {},
   "source": [
    "## Oversampling and Undersampling"
   ]
  },
  {
   "cell_type": "code",
   "execution_count": 192,
   "id": "4b037701",
   "metadata": {},
   "outputs": [],
   "source": [
    "from imblearn.over_sampling import SMOTE\n",
    "from imblearn.under_sampling import RandomUnderSampler\n",
    "from imblearn.pipeline import Pipeline\n",
    "from collections import Counter\n",
    "from imblearn.over_sampling import RandomOverSampler"
   ]
  },
  {
   "cell_type": "code",
   "execution_count": 193,
   "id": "7c5ba14f",
   "metadata": {},
   "outputs": [
    {
     "data": {
      "text/plain": [
       "Counter({0: 55476, 1: 44051, 2: 4289})"
      ]
     },
     "execution_count": 193,
     "metadata": {},
     "output_type": "execute_result"
    }
   ],
   "source": [
    "counter = Counter(y_train2)\n",
    "counter"
   ]
  },
  {
   "cell_type": "code",
   "execution_count": 194,
   "id": "ff3aa736",
   "metadata": {},
   "outputs": [
    {
     "name": "stdout",
     "output_type": "stream",
     "text": [
      "Class 0: 53% of X_train2\n",
      "Class 1: 42% of X_train2\n",
      "Class 2: 4% of X_train2\n"
     ]
    }
   ],
   "source": [
    "print(\"Class 0: \" + str(round(100*counter.get(0)/(counter.get(0)+counter.get(1)+counter.get(2))))+\"% of X_train2\")\n",
    "print(\"Class 1: \" + str(round(100*counter.get(1)/(counter.get(0)+counter.get(1)+counter.get(2))))+\"% of X_train2\")\n",
    "print(\"Class 2: \" + str(round(100*counter.get(2)/(counter.get(0)+counter.get(1)+counter.get(2))))+\"% of X_train2\")"
   ]
  },
  {
   "cell_type": "code",
   "execution_count": 195,
   "id": "00b3d2ed",
   "metadata": {},
   "outputs": [],
   "source": [
    "# Current class distribution (0,1,2)\n",
    "# 0 : 53% of the data (/3)\n",
    "# 1 : 42% of the data (/2)\n",
    "# 2 : 4% of the data (*4)\n",
    "\n",
    "# Oversampling - overfit\n",
    "# Undersampling - information loss"
   ]
  },
  {
   "cell_type": "code",
   "execution_count": 197,
   "id": "61d6c5fa",
   "metadata": {},
   "outputs": [
    {
     "data": {
      "text/plain": [
       "Counter({0: 22000, 1: 18000, 2: 15000})"
      ]
     },
     "execution_count": 197,
     "metadata": {},
     "output_type": "execute_result"
    }
   ],
   "source": [
    "over = SMOTE(sampling_strategy={0: 55476, 1: 44051, 2: 15000})\n",
    "under = RandomUnderSampler(sampling_strategy={0: 22000, 1: 18000, 2: 15000})\n",
    "\n",
    "sampler_pipeline = Pipeline([('o', over), ('u', under)])\n",
    "\n",
    "X_sampled, y_sampled = sampler_pipeline.fit_resample(X_train2, y_train2)\n",
    "\n",
    "counter = Counter(y_sampled)\n",
    "counter"
   ]
  },
  {
   "cell_type": "code",
   "execution_count": 198,
   "id": "3bb61401",
   "metadata": {},
   "outputs": [
    {
     "name": "stdout",
     "output_type": "stream",
     "text": [
      "Class 0: 40% of X_train2\n",
      "Class 1: 33% of X_train2\n",
      "Class 2: 27% of X_train2\n"
     ]
    }
   ],
   "source": [
    "print(\"Class 0: \" + str(round(100*counter.get(0)/(counter.get(0)+counter.get(1)+counter.get(2))))+\"% of X_train2\")\n",
    "print(\"Class 1: \" + str(round(100*counter.get(1)/(counter.get(0)+counter.get(1)+counter.get(2))))+\"% of X_train2\")\n",
    "print(\"Class 2: \" + str(round(100*counter.get(2)/(counter.get(0)+counter.get(1)+counter.get(2))))+\"% of X_train2\")"
   ]
  },
  {
   "cell_type": "code",
   "execution_count": 199,
   "id": "b2a5052e",
   "metadata": {},
   "outputs": [],
   "source": [
    "# Normalize the sampled data\n",
    "norm_scaler = MinMaxScaler()\n",
    "norm_X_sampled = norm_scaler.fit_transform(X_sampled)\n",
    "norm_X_test3 = norm_scaler.transform(X_test2)"
   ]
  },
  {
   "cell_type": "markdown",
   "id": "fa37a3b4",
   "metadata": {},
   "source": [
    "###### Gaussian Naive Bayes"
   ]
  },
  {
   "cell_type": "code",
   "execution_count": 200,
   "id": "a7b1e4fc",
   "metadata": {},
   "outputs": [
    {
     "data": {
      "text/plain": [
       "{'fit_time': array([0.03882694, 0.04307318, 0.0418961 , 0.03780103, 0.04156685]),\n",
       " 'score_time': array([0.01199389, 0.01031494, 0.01149392, 0.00959206, 0.00347328]),\n",
       " 'test_score': array([0.4, 0.4, 0.4, 0.4, 0.4])}"
      ]
     },
     "execution_count": 200,
     "metadata": {},
     "output_type": "execute_result"
    }
   ],
   "source": [
    "# Hyperparameter tuned model\n",
    "gnb = GaussianNB(priors=[0.7, 0.15, 0.15], var_smoothing=1000)\n",
    "\n",
    "# Performence evaluation\n",
    "cross_validate(gnb, norm_X_sampled, y_sampled, cv=5, scoring='accuracy', n_jobs=-1)"
   ]
  },
  {
   "cell_type": "code",
   "execution_count": 201,
   "id": "c957aa6d",
   "metadata": {},
   "outputs": [
    {
     "name": "stdout",
     "output_type": "stream",
     "text": [
      "Accuracy: 0.5758998971546109\n",
      "Execution time: 0.03197288513183594\n"
     ]
    }
   ],
   "source": [
    "start = time.time()\n",
    "gnb.fit(norm_X_sampled, y_sampled)\n",
    "accuracy = gnb.score(norm_X_test3, y_test2) \n",
    "end = time.time()\n",
    "\n",
    "y_pred = gnb.predict(norm_X_test3)\n",
    "\n",
    "print(\"Accuracy: \" + str(accuracy))\n",
    "print(\"Execution time: \" + str(end-start))"
   ]
  },
  {
   "cell_type": "code",
   "execution_count": 202,
   "id": "f851589b",
   "metadata": {},
   "outputs": [],
   "source": [
    "# Accuracy is the same 0.5758998971546109 - interesting!"
   ]
  },
  {
   "cell_type": "markdown",
   "id": "504e2ec5",
   "metadata": {},
   "source": [
    "###### Random Forest"
   ]
  },
  {
   "cell_type": "code",
   "execution_count": 203,
   "id": "52fa108f",
   "metadata": {},
   "outputs": [
    {
     "data": {
      "text/plain": [
       "{'fit_time': array([10.54960108, 10.5037508 , 10.561239  , 10.56107426, 10.58213186]),\n",
       " 'score_time': array([0.09563494, 0.09472728, 0.0824852 , 0.08774996, 0.07402611]),\n",
       " 'test_score': array([0.53236364, 0.539     , 0.53172727, 0.53109091, 0.53872727])}"
      ]
     },
     "execution_count": 203,
     "metadata": {},
     "output_type": "execute_result"
    }
   ],
   "source": [
    "# Hyperparameter tuned model\n",
    "rf = RandomForestClassifier(random_state=42, min_samples_leaf=10, min_samples_split=58, max_depth=6)\n",
    "\n",
    "# Performence evaluation\n",
    "cross_validate(rf, norm_X_sampled, y_sampled, cv=5, scoring='accuracy', n_jobs=-1)"
   ]
  },
  {
   "cell_type": "code",
   "execution_count": 204,
   "id": "b1731336",
   "metadata": {},
   "outputs": [
    {
     "name": "stdout",
     "output_type": "stream",
     "text": [
      "Accuracy: 0.5876585533081934\n",
      "Execution time: 8.964096784591675\n"
     ]
    }
   ],
   "source": [
    "start = time.time()\n",
    "rf.fit(norm_X_sampled, y_sampled)\n",
    "accuracy = rf.score(norm_X_test3, y_test2) \n",
    "end = time.time()\n",
    "\n",
    "y_pred = rf.predict(norm_X_test3)\n",
    "\n",
    "print(\"Accuracy: \" + str(accuracy))\n",
    "print(\"Execution time: \" + str(end-start))"
   ]
  },
  {
   "cell_type": "code",
   "execution_count": 205,
   "id": "c7ab807b",
   "metadata": {},
   "outputs": [],
   "source": [
    "# Accuracy reduced from 0.644429208090504"
   ]
  },
  {
   "cell_type": "markdown",
   "id": "cd2ecd60",
   "metadata": {},
   "source": [
    "###### RF Confusion Matrix"
   ]
  },
  {
   "cell_type": "code",
   "execution_count": 206,
   "id": "a8dfff88",
   "metadata": {},
   "outputs": [
    {
     "data": {
      "image/png": "[encoded data removed]",
      "text/plain": [
       "<Figure size 432x288 with 2 Axes>"
      ]
     },
     "metadata": {
      "needs_background": "light"
     },
     "output_type": "display_data"
    }
   ],
   "source": [
    "cm = metrics.confusion_matrix(y_test2, y_pred)\n",
    "cm_display = metrics.ConfusionMatrixDisplay(confusion_matrix = cm, display_labels = ['0','1','2'])\n",
    "cm_display.plot()\n",
    "plt.show()"
   ]
  },
  {
   "cell_type": "code",
   "execution_count": 207,
   "id": "436cfaa2",
   "metadata": {},
   "outputs": [
    {
     "name": "stdout",
     "output_type": "stream",
     "text": [
      "              precision    recall  f1-score   support\n",
      "\n",
      "           0       0.64      0.77      0.70     16799\n",
      "           1       0.60      0.37      0.46     11389\n",
      "           2       0.04      0.08      0.05       982\n",
      "\n",
      "    accuracy                           0.59     29170\n",
      "   macro avg       0.43      0.40      0.40     29170\n",
      "weighted avg       0.60      0.59      0.58     29170\n",
      "\n"
     ]
    }
   ],
   "source": [
    "print(classification_report(y_test2, y_pred, target_names=['0', '1', '2']))"
   ]
  },
  {
   "cell_type": "code",
   "execution_count": 208,
   "id": "0c28863c",
   "metadata": {},
   "outputs": [
    {
     "data": {
      "text/plain": [
       "(array([0.6386038 , 0.59916941, 0.03865213]),\n",
       " array([0.7667123 , 0.36737203, 0.07942974]),\n",
       " array([0.69681887, 0.45547572, 0.052     ]),\n",
       " array([16799, 11389,   982]))"
      ]
     },
     "execution_count": 208,
     "metadata": {},
     "output_type": "execute_result"
    }
   ],
   "source": [
    "precision_recall_fscore_support(y_test2, y_pred, average='macro')\n",
    "precision_recall_fscore_support(y_test2, y_pred, average='micro')\n",
    "precision_recall_fscore_support(y_test2, y_pred, average='weighted')\n",
    "precision_recall_fscore_support(y_test2, y_pred, average=None, labels=[0,1,2]) # for each class "
   ]
  },
  {
   "cell_type": "code",
   "execution_count": 209,
   "id": "7ea43823",
   "metadata": {},
   "outputs": [
    {
     "data": {
      "text/plain": [
       "{'0': {'TP': 12880,\n",
       "  'TN': 5082,\n",
       "  'FP': 7289,\n",
       "  'FN': 3919,\n",
       "  'Accuracy': 0.6157696263284196,\n",
       "  'Recall': 0.7667123043038276,\n",
       "  'Precision': 0.6386037979076801,\n",
       "  'F1': 0.6968188703743778,\n",
       "  'Specificity': 0.4107994503273785},\n",
       " '1': {'TP': 4184,\n",
       "  'TN': 14982,\n",
       "  'FP': 2799,\n",
       "  'FN': 7205,\n",
       "  'Accuracy': 0.6570449091532397,\n",
       "  'Recall': 0.36737202563877425,\n",
       "  'Precision': 0.5991694114277532,\n",
       "  'F1': 0.4554757239277161,\n",
       "  'Specificity': 0.8425847815083516},\n",
       " '2': {'TP': 78,\n",
       "  'TN': 26248,\n",
       "  'FP': 1940,\n",
       "  'FN': 904,\n",
       "  'Accuracy': 0.9025025711347274,\n",
       "  'Recall': 0.07942973523421588,\n",
       "  'Precision': 0.03865213082259663,\n",
       "  'F1': 0.052000000000000005,\n",
       "  'Specificity': 0.9311763871150844}}"
      ]
     },
     "execution_count": 209,
     "metadata": {},
     "output_type": "execute_result"
    }
   ],
   "source": [
    "mcm = multilabel_confusion_matrix(y_test2, y_pred)\n",
    "\n",
    "tn = mcm[:, 0, 0]\n",
    "tp = mcm[:, 1, 1]\n",
    "fn = mcm[:, 1, 0]\n",
    "fp = mcm[:, 0, 1]\n",
    "recall = tp / (tp + fn) # true positive rate or sensitivity\n",
    "specificity = tn / (tn + fp) # ture negative rate\n",
    "fallout = fp / (fp + tn) # false positive rate\n",
    "missrate = fn / (fn + tp) #false negative rate\n",
    "\n",
    "d = {}\n",
    "for label in ['0', '1', '2']:\n",
    "    i = int(label)\n",
    "    d[label] = dict()\n",
    "    d[label]['TP'] = tp[i]\n",
    "    d[label]['TN'] = tn[i]\n",
    "    d[label]['FP'] = fp[i]\n",
    "    d[label]['FN'] = fn[i]\n",
    "    d[label]['Accuracy'] = (tp[i]+tn[i])/(tp[i]+tn[i]+fn[i]+fp[i]) # TP+TN / TP+TN+FP+FN\n",
    "    d[label]['Recall'] = tp[i]/(tp[i]+fn[i]) # TP / TP+FN\n",
    "    d[label]['Precision'] = tp[i]/(tp[i]+fp[i]) # TP / TP+FP\n",
    "    d[label]['F1'] = (2*d[label]['Precision']*d[label]['Recall'])/(d[label]['Precision']+d[label]['Recall'])\n",
    "    d[label]['Specificity'] = tn[i]/(tn[i]+fp[i]) # TN / TN+FP\n",
    "    #d[label]['Fallout'] = fp[i]/(fp[i]+tn[i]) # FP /FP+TN\n",
    "    #d[label]['Missrate'] = fn[i]/(fn[i]+tp[i]) # FN / FN+TP\n",
    "d"
   ]
  },
  {
   "cell_type": "code",
   "execution_count": 210,
   "id": "3cc73231",
   "metadata": {},
   "outputs": [],
   "source": [
    "# Before over/under sampling\n",
    "# 2': {'TP': 0,\n",
    "#  'TN': 28188,\n",
    "#  'FP': 0,\n",
    "#  'FN': 982,\n",
    "#  'Accuracy': 0.9663352759684607,\n",
    "#  'Recall': 0.0,\n",
    "#  'Precision': nan,\n",
    "#  'F1': nan,\n",
    "#  'Specificity': 1.0}\n",
    "\n",
    "\n",
    "# TP and FP increased\n",
    "# TN and FN decreased\n",
    "# Accuracy and specificity decreased BUT recall, precision and F1 increased!\n",
    "\n",
    "# Class 2 is not being classified unles I resample the data!"
   ]
  },
  {
   "cell_type": "markdown",
   "id": "e5676776",
   "metadata": {},
   "source": [
    "### TRYING SOME DIFFERENT METHODS  \n",
    "https://machinelearningmastery.com/bagging-and-random-forest-for-imbalanced-classification/  \n",
    "- Skewed class weights"
   ]
  },
  {
   "cell_type": "code",
   "execution_count": 211,
   "id": "5fc82f8c",
   "metadata": {},
   "outputs": [
    {
     "data": {
      "text/plain": [
       "{'fit_time': array([144.9062593 , 144.63927007, 143.761971  , 145.44327402,\n",
       "        144.0692668 ]),\n",
       " 'score_time': array([0.56210589, 0.5656178 , 0.62305999, 0.55386114, 0.61293411]),\n",
       " 'test_score': array([0.69263636, 0.69181818, 0.68818182, 0.68754545, 0.68645455])}"
      ]
     },
     "execution_count": 211,
     "metadata": {},
     "output_type": "execute_result"
    }
   ],
   "source": [
    "rf = RandomForestClassifier(random_state=42, class_weight={0: 0.2, 1: 0.005, 2: 100})\n",
    "\n",
    "cross_validate(rf, norm_X_sampled, y_sampled, cv=5, scoring='accuracy', n_jobs=-1)"
   ]
  },
  {
   "cell_type": "code",
   "execution_count": 212,
   "id": "eb362f97",
   "metadata": {},
   "outputs": [
    {
     "name": "stdout",
     "output_type": "stream",
     "text": [
      "Accuracy: 0.571169009256085\n"
     ]
    }
   ],
   "source": [
    "rf.fit(norm_X_sampled, y_sampled)\n",
    "accuracy = rf.score(norm_X_test3, y_test2) \n",
    "y_pred = rf.predict(norm_X_test3)\n",
    "\n",
    "print(\"Accuracy: \" + str(accuracy))"
   ]
  },
  {
   "cell_type": "code",
   "execution_count": 213,
   "id": "3cd3d1cd",
   "metadata": {},
   "outputs": [
    {
     "data": {
      "text/plain": [
       "(array([0.62967251, 0.48329334, 0.02020202]),\n",
       " array([0.6798619 , 0.45974186, 0.00407332]),\n",
       " array([0.65380542, 0.47122351, 0.00677966]),\n",
       " array([16799, 11389,   982]))"
      ]
     },
     "execution_count": 213,
     "metadata": {},
     "output_type": "execute_result"
    }
   ],
   "source": [
    "precision_recall_fscore_support(y_test2, y_pred, average=None, labels=[0,1,2]) # for each class"
   ]
  },
  {
   "cell_type": "markdown",
   "id": "bbd9fde0",
   "metadata": {},
   "source": [
    "- Bagging classifier"
   ]
  },
  {
   "cell_type": "code",
   "execution_count": 214,
   "id": "f829757a",
   "metadata": {},
   "outputs": [
    {
     "data": {
      "text/plain": [
       "{'fit_time': array([12.63988709, 12.84943628, 12.8422401 , 12.90819812, 12.92396116]),\n",
       " 'score_time': array([0.03163099, 0.03878498, 0.03601408, 0.03366089, 0.03214383]),\n",
       " 'test_score': array([0.66436364, 0.66490909, 0.66427273, 0.66245455, 0.66372727])}"
      ]
     },
     "execution_count": 214,
     "metadata": {},
     "output_type": "execute_result"
    }
   ],
   "source": [
    "from imblearn.ensemble import BalancedBaggingClassifier\n",
    "\n",
    "model = BalancedBaggingClassifier(random_state=42)\n",
    "\n",
    "cross_validate(model, norm_X_sampled, y_sampled, cv=5, scoring='accuracy', n_jobs=-1)"
   ]
  },
  {
   "cell_type": "code",
   "execution_count": 215,
   "id": "9ccc1f68",
   "metadata": {},
   "outputs": [
    {
     "name": "stdout",
     "output_type": "stream",
     "text": [
      "Accuracy: 0.5189235515941035\n"
     ]
    }
   ],
   "source": [
    "model.fit(norm_X_sampled, y_sampled)\n",
    "accuracy = model.score(norm_X_test3, y_test2) \n",
    "y_pred = model.predict(norm_X_test3)\n",
    "\n",
    "print(\"Accuracy: \" + str(accuracy))"
   ]
  },
  {
   "cell_type": "code",
   "execution_count": 216,
   "id": "e8195bc7",
   "metadata": {},
   "outputs": [
    {
     "data": {
      "text/plain": [
       "(array([0.63374198, 0.47920811, 0.03519164]),\n",
       " array([0.5939044 , 0.44420054, 0.10285132]),\n",
       " array([0.61317682, 0.46104074, 0.05244029]),\n",
       " array([16799, 11389,   982]))"
      ]
     },
     "execution_count": 216,
     "metadata": {},
     "output_type": "execute_result"
    }
   ],
   "source": [
    "precision_recall_fscore_support(y_test2, y_pred, average=None, labels=[0,1,2]) # for each class "
   ]
  },
  {
   "cell_type": "markdown",
   "id": "615e1981",
   "metadata": {},
   "source": [
    "- Balanced subsample on non-resampled data"
   ]
  },
  {
   "cell_type": "code",
   "execution_count": 217,
   "id": "874e7990",
   "metadata": {},
   "outputs": [
    {
     "data": {
      "text/plain": [
       "{'fit_time': array([30.01626706, 29.80081487, 29.79166389, 29.77054214, 29.80442715]),\n",
       " 'score_time': array([0.26991487, 0.29626298, 0.24559903, 0.24976611, 0.2863729 ]),\n",
       " 'test_score': array([0.72054545, 0.72136364, 0.71490909, 0.712     , 0.71181818])}"
      ]
     },
     "execution_count": 217,
     "metadata": {},
     "output_type": "execute_result"
    }
   ],
   "source": [
    "model = RandomForestClassifier(random_state=42, class_weight='balanced_subsample')\n",
    "\n",
    "cross_validate(model, norm_X_sampled, y_sampled, cv=5, scoring='accuracy', n_jobs=-1)"
   ]
  },
  {
   "cell_type": "code",
   "execution_count": 218,
   "id": "9dee2ebe",
   "metadata": {},
   "outputs": [
    {
     "name": "stdout",
     "output_type": "stream",
     "text": [
      "Accuracy: 0.6070620500514227\n"
     ]
    }
   ],
   "source": [
    "model.fit(norm_X_sampled, y_sampled)\n",
    "accuracy = model.score(norm_X_test3, y_test2) \n",
    "y_pred = model.predict(norm_X_test3)\n",
    "\n",
    "print(\"Accuracy: \" + str(accuracy))"
   ]
  },
  {
   "cell_type": "code",
   "execution_count": 219,
   "id": "01204999",
   "metadata": {},
   "outputs": [
    {
     "data": {
      "text/plain": [
       "(array([0.63386383, 0.55098855, 0.04098361]),\n",
       " array([0.80135722, 0.37193783, 0.0101833 ]),\n",
       " array([0.70783711, 0.44409498, 0.01631321]),\n",
       " array([16799, 11389,   982]))"
      ]
     },
     "execution_count": 219,
     "metadata": {},
     "output_type": "execute_result"
    }
   ],
   "source": [
    "precision_recall_fscore_support(y_test2, y_pred, average=None, labels=[0,1,2]) # for each class "
   ]
  },
  {
   "cell_type": "markdown",
   "id": "c3e06288",
   "metadata": {},
   "source": [
    "- XGBoost"
   ]
  },
  {
   "cell_type": "code",
   "execution_count": 221,
   "id": "d444389d",
   "metadata": {},
   "outputs": [
    {
     "data": {
      "text/plain": [
       "{'fit_time': array([55.41993713, 55.47517991, 55.72489095, 55.70011711, 55.70988011]),\n",
       " 'score_time': array([0.08458591, 0.08263493, 0.07423997, 0.07518625, 0.0754571 ]),\n",
       " 'test_score': array([0.55154545, 0.55390909, 0.55090909, 0.54836364, 0.55063636])}"
      ]
     },
     "execution_count": 221,
     "metadata": {},
     "output_type": "execute_result"
    }
   ],
   "source": [
    "import xgboost as xgb\n",
    "model = xgb.XGBRFClassifier()\n",
    "cross_validate(model, norm_X_sampled, y_sampled, cv=5, scoring='accuracy', n_jobs=-1)"
   ]
  },
  {
   "cell_type": "code",
   "execution_count": 222,
   "id": "f1f4f4ca",
   "metadata": {},
   "outputs": [
    {
     "name": "stdout",
     "output_type": "stream",
     "text": [
      "Accuracy: 0.5203291052451149\n",
      "Execution time: 13.693474054336548\n"
     ]
    }
   ],
   "source": [
    "start = time.time()\n",
    "model.fit(norm_X_sampled, y_sampled)\n",
    "accuracy = model.score(norm_X_test3, y_test2) \n",
    "end = time.time()\n",
    "y_pred = model.predict(norm_X_test3)\n",
    "\n",
    "print(\"Accuracy: \" + str(accuracy))\n",
    "print(\"Execution time: \" + str(end-start))"
   ]
  },
  {
   "cell_type": "code",
   "execution_count": 223,
   "id": "d1178535",
   "metadata": {},
   "outputs": [
    {
     "data": {
      "text/plain": [
       "(array([0.62653835, 0.5289604 , 0.04106464]),\n",
       " array([0.63944282, 0.37527439, 0.16496945]),\n",
       " array([0.63292482, 0.43905696, 0.0657601 ]),\n",
       " array([16799, 11389,   982]))"
      ]
     },
     "execution_count": 223,
     "metadata": {},
     "output_type": "execute_result"
    }
   ],
   "source": [
    "precision_recall_fscore_support(y_test2, y_pred, average=None, labels=[0,1,2]) # for each class "
   ]
  },
  {
   "cell_type": "code",
   "execution_count": 224,
   "id": "ecbb1adf",
   "metadata": {},
   "outputs": [],
   "source": [
    "# No significant improvement. "
   ]
  },
  {
   "cell_type": "code",
   "execution_count": null,
   "id": "5ed08de4",
   "metadata": {},
   "outputs": [],
   "source": []
  }
 ],
 "metadata": {
  "kernelspec": {
   "display_name": "Python 3 (ipykernel)",
   "language": "python",
   "name": "python3"
  },
  "language_info": {
   "codemirror_mode": {
    "name": "ipython",
    "version": 3
   },
   "file_extension": ".py",
   "mimetype": "text/x-python",
   "name": "python",
   "nbconvert_exporter": "python",
   "pygments_lexer": "ipython3",
   "version": "3.9.0"
  }
 },
 "nbformat": 4,
 "nbformat_minor": 5
}
